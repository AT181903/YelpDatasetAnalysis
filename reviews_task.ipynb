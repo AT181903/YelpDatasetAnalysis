{
 "cells": [
  {
   "cell_type": "markdown",
   "source": [
    "# Task: Riconoscimento automatico di una review positiva o negativa;"
   ],
   "metadata": {
    "id": "uqcmt-OC9zM4",
    "pycharm": {
     "name": "#%% md\n"
    }
   }
  },
  {
   "cell_type": "code",
   "execution_count": 203,
   "outputs": [],
   "source": [
    "import pandas as pd\n",
    "import numpy as np\n",
    "import matplotlib.pyplot as plt\n",
    "import json\n",
    "import os"
   ],
   "metadata": {
    "collapsed": false,
    "pycharm": {
     "name": "#%%\n"
    }
   }
  },
  {
   "cell_type": "markdown",
   "source": [
    "## Get reviews dataset"
   ],
   "metadata": {
    "id": "c5FpP1XwEJ2q",
    "pycharm": {
     "name": "#%% md\n"
    }
   }
  },
  {
   "cell_type": "code",
   "source": [
    "df_review = pd.read_csv('./dataset/review_dropped.csv')"
   ],
   "metadata": {
    "id": "hqsr6U4UV1FW",
    "pycharm": {
     "name": "#%%\n"
    }
   },
   "execution_count": 204,
   "outputs": []
  },
  {
   "cell_type": "code",
   "source": [
    "# review_id // string, 22 character unique review id\n",
    "# user_id // string, 22 character unique user id, maps to the user in user.json\n",
    "# business_id // string, 22 character business id, maps to business in business.json\n",
    "# stars // integer, star rating\n",
    "# date // string, date formatted YYYY-MM-DD\n",
    "# text // string, the review itself\n",
    "# useful // integer, number of useful votes received by review\n",
    "# funny // integer, number of funny votes received by review\n",
    "# cool // integer, number of cool votes received by review"
   ],
   "metadata": {
    "id": "Dwm6apGn8z86",
    "pycharm": {
     "name": "#%%\n"
    }
   },
   "execution_count": 205,
   "outputs": []
  },
  {
   "cell_type": "code",
   "execution_count": 206,
   "outputs": [
    {
     "data": {
      "text/plain": "   level_0  Unnamed: 0    index               review_id  \\\n0   499000      499000  6989282  NIukhO8BR2wACBztNSRDbQ   \n1   499001      499001  6989283  H_-EZhZAZqginAR8EkKxIw   \n2   499002      499002  6989284  aeNMLPf1XGedxQLyTwS8Bg   \n3   499003      499003  6989285  oDrDjpgNDUXAmrYWU6Q1bQ   \n4   499004      499004  6989286  jbSsvlNW1VGc-o8b3WBjDw   \n\n                  user_id             business_id  stars  useful  funny  cool  \\\n0  Ta9o6-WIRDn5KDvZy8XPNA  jMStvE-tQzSpRCAO0nAE6g    1.0     0.0    0.0   0.0   \n1  k0qcNly5aTjjr__iNdPKBw  beSgKHecMsEyz6iy7gm-9w    5.0     0.0    0.0   0.0   \n2  _0EhXpz__Bs5qNckMW8IEw  Meww6RIE4cFL_kG0aRlbAA    5.0     2.0    0.0   1.0   \n3  tfxcBBdKo28s6OAYNJDM6A  mY4i1N0Hm2fjIgU0Eyn11Q    1.0     2.0    0.0   0.0   \n4  q6CU8yNwSs2ErfhX3DqaNQ  GxlUXBXe-yw6B5Fqf8kgig    3.0     2.0    1.0   1.0   \n\n                                                text                 date  \n0  Do not eat there! Horrible management, staff a...  2019-05-16 03:34:49  \n1  What a great find! Celebrated out anniversary ...  2021-05-17 01:19:06  \n2  Great happy hour & great food. I had a great t...  2021-05-09 11:23:03  \n3  I've been dining here for years, but a recent ...  2021-05-17 22:45:45  \n4  Food was pretty good. Had the southern fried c...  2016-09-19 23:52:02  ",
      "text/html": "<div>\n<style scoped>\n    .dataframe tbody tr th:only-of-type {\n        vertical-align: middle;\n    }\n\n    .dataframe tbody tr th {\n        vertical-align: top;\n    }\n\n    .dataframe thead th {\n        text-align: right;\n    }\n</style>\n<table border=\"1\" class=\"dataframe\">\n  <thead>\n    <tr style=\"text-align: right;\">\n      <th></th>\n      <th>level_0</th>\n      <th>Unnamed: 0</th>\n      <th>index</th>\n      <th>review_id</th>\n      <th>user_id</th>\n      <th>business_id</th>\n      <th>stars</th>\n      <th>useful</th>\n      <th>funny</th>\n      <th>cool</th>\n      <th>text</th>\n      <th>date</th>\n    </tr>\n  </thead>\n  <tbody>\n    <tr>\n      <th>0</th>\n      <td>499000</td>\n      <td>499000</td>\n      <td>6989282</td>\n      <td>NIukhO8BR2wACBztNSRDbQ</td>\n      <td>Ta9o6-WIRDn5KDvZy8XPNA</td>\n      <td>jMStvE-tQzSpRCAO0nAE6g</td>\n      <td>1.0</td>\n      <td>0.0</td>\n      <td>0.0</td>\n      <td>0.0</td>\n      <td>Do not eat there! Horrible management, staff a...</td>\n      <td>2019-05-16 03:34:49</td>\n    </tr>\n    <tr>\n      <th>1</th>\n      <td>499001</td>\n      <td>499001</td>\n      <td>6989283</td>\n      <td>H_-EZhZAZqginAR8EkKxIw</td>\n      <td>k0qcNly5aTjjr__iNdPKBw</td>\n      <td>beSgKHecMsEyz6iy7gm-9w</td>\n      <td>5.0</td>\n      <td>0.0</td>\n      <td>0.0</td>\n      <td>0.0</td>\n      <td>What a great find! Celebrated out anniversary ...</td>\n      <td>2021-05-17 01:19:06</td>\n    </tr>\n    <tr>\n      <th>2</th>\n      <td>499002</td>\n      <td>499002</td>\n      <td>6989284</td>\n      <td>aeNMLPf1XGedxQLyTwS8Bg</td>\n      <td>_0EhXpz__Bs5qNckMW8IEw</td>\n      <td>Meww6RIE4cFL_kG0aRlbAA</td>\n      <td>5.0</td>\n      <td>2.0</td>\n      <td>0.0</td>\n      <td>1.0</td>\n      <td>Great happy hour &amp; great food. I had a great t...</td>\n      <td>2021-05-09 11:23:03</td>\n    </tr>\n    <tr>\n      <th>3</th>\n      <td>499003</td>\n      <td>499003</td>\n      <td>6989285</td>\n      <td>oDrDjpgNDUXAmrYWU6Q1bQ</td>\n      <td>tfxcBBdKo28s6OAYNJDM6A</td>\n      <td>mY4i1N0Hm2fjIgU0Eyn11Q</td>\n      <td>1.0</td>\n      <td>2.0</td>\n      <td>0.0</td>\n      <td>0.0</td>\n      <td>I've been dining here for years, but a recent ...</td>\n      <td>2021-05-17 22:45:45</td>\n    </tr>\n    <tr>\n      <th>4</th>\n      <td>499004</td>\n      <td>499004</td>\n      <td>6989286</td>\n      <td>jbSsvlNW1VGc-o8b3WBjDw</td>\n      <td>q6CU8yNwSs2ErfhX3DqaNQ</td>\n      <td>GxlUXBXe-yw6B5Fqf8kgig</td>\n      <td>3.0</td>\n      <td>2.0</td>\n      <td>1.0</td>\n      <td>1.0</td>\n      <td>Food was pretty good. Had the southern fried c...</td>\n      <td>2016-09-19 23:52:02</td>\n    </tr>\n  </tbody>\n</table>\n</div>"
     },
     "execution_count": 206,
     "metadata": {},
     "output_type": "execute_result"
    }
   ],
   "source": [
    "# Drop some rows in order to increment performances\n",
    "\n",
    "# df_review = df_review.iloc[460000:, :]\n",
    "df_review = df_review.iloc[499000:, :]\n",
    "df_review = df_review.reset_index()\n",
    "\n",
    "df_review.head(5)"
   ],
   "metadata": {
    "pycharm": {
     "name": "#%%\n"
    },
    "colab": {
     "base_uri": "https://localhost:8080/",
     "height": 248
    },
    "id": "Mfe2YSoQIlDM",
    "outputId": "8092e73b-1616-4db6-9558-b96665fd5e12"
   }
  },
  {
   "cell_type": "markdown",
   "source": [
    "### Add boolean positive_review to dataset in order to recognize positive review (>= 4 stars)\n"
   ],
   "metadata": {
    "id": "Hoew0pJ1ENE4",
    "pycharm": {
     "name": "#%% md\n"
    }
   }
  },
  {
   "cell_type": "code",
   "source": [
    "df_review['review_rating'] = np.where(df_review['stars'] >= 4, 1, 0)\n",
    "\n",
    "df_review.head(5)\n"
   ],
   "metadata": {
    "colab": {
     "base_uri": "https://localhost:8080/",
     "height": 333
    },
    "id": "APy011LzB8mN",
    "outputId": "42524750-17c8-4048-a690-9c36657c0f2f",
    "pycharm": {
     "name": "#%%\n"
    }
   },
   "execution_count": 207,
   "outputs": [
    {
     "data": {
      "text/plain": "   level_0  Unnamed: 0    index               review_id  \\\n0   499000      499000  6989282  NIukhO8BR2wACBztNSRDbQ   \n1   499001      499001  6989283  H_-EZhZAZqginAR8EkKxIw   \n2   499002      499002  6989284  aeNMLPf1XGedxQLyTwS8Bg   \n3   499003      499003  6989285  oDrDjpgNDUXAmrYWU6Q1bQ   \n4   499004      499004  6989286  jbSsvlNW1VGc-o8b3WBjDw   \n\n                  user_id             business_id  stars  useful  funny  cool  \\\n0  Ta9o6-WIRDn5KDvZy8XPNA  jMStvE-tQzSpRCAO0nAE6g    1.0     0.0    0.0   0.0   \n1  k0qcNly5aTjjr__iNdPKBw  beSgKHecMsEyz6iy7gm-9w    5.0     0.0    0.0   0.0   \n2  _0EhXpz__Bs5qNckMW8IEw  Meww6RIE4cFL_kG0aRlbAA    5.0     2.0    0.0   1.0   \n3  tfxcBBdKo28s6OAYNJDM6A  mY4i1N0Hm2fjIgU0Eyn11Q    1.0     2.0    0.0   0.0   \n4  q6CU8yNwSs2ErfhX3DqaNQ  GxlUXBXe-yw6B5Fqf8kgig    3.0     2.0    1.0   1.0   \n\n                                                text                 date  \\\n0  Do not eat there! Horrible management, staff a...  2019-05-16 03:34:49   \n1  What a great find! Celebrated out anniversary ...  2021-05-17 01:19:06   \n2  Great happy hour & great food. I had a great t...  2021-05-09 11:23:03   \n3  I've been dining here for years, but a recent ...  2021-05-17 22:45:45   \n4  Food was pretty good. Had the southern fried c...  2016-09-19 23:52:02   \n\n   review_rating  \n0              0  \n1              1  \n2              1  \n3              0  \n4              0  ",
      "text/html": "<div>\n<style scoped>\n    .dataframe tbody tr th:only-of-type {\n        vertical-align: middle;\n    }\n\n    .dataframe tbody tr th {\n        vertical-align: top;\n    }\n\n    .dataframe thead th {\n        text-align: right;\n    }\n</style>\n<table border=\"1\" class=\"dataframe\">\n  <thead>\n    <tr style=\"text-align: right;\">\n      <th></th>\n      <th>level_0</th>\n      <th>Unnamed: 0</th>\n      <th>index</th>\n      <th>review_id</th>\n      <th>user_id</th>\n      <th>business_id</th>\n      <th>stars</th>\n      <th>useful</th>\n      <th>funny</th>\n      <th>cool</th>\n      <th>text</th>\n      <th>date</th>\n      <th>review_rating</th>\n    </tr>\n  </thead>\n  <tbody>\n    <tr>\n      <th>0</th>\n      <td>499000</td>\n      <td>499000</td>\n      <td>6989282</td>\n      <td>NIukhO8BR2wACBztNSRDbQ</td>\n      <td>Ta9o6-WIRDn5KDvZy8XPNA</td>\n      <td>jMStvE-tQzSpRCAO0nAE6g</td>\n      <td>1.0</td>\n      <td>0.0</td>\n      <td>0.0</td>\n      <td>0.0</td>\n      <td>Do not eat there! Horrible management, staff a...</td>\n      <td>2019-05-16 03:34:49</td>\n      <td>0</td>\n    </tr>\n    <tr>\n      <th>1</th>\n      <td>499001</td>\n      <td>499001</td>\n      <td>6989283</td>\n      <td>H_-EZhZAZqginAR8EkKxIw</td>\n      <td>k0qcNly5aTjjr__iNdPKBw</td>\n      <td>beSgKHecMsEyz6iy7gm-9w</td>\n      <td>5.0</td>\n      <td>0.0</td>\n      <td>0.0</td>\n      <td>0.0</td>\n      <td>What a great find! Celebrated out anniversary ...</td>\n      <td>2021-05-17 01:19:06</td>\n      <td>1</td>\n    </tr>\n    <tr>\n      <th>2</th>\n      <td>499002</td>\n      <td>499002</td>\n      <td>6989284</td>\n      <td>aeNMLPf1XGedxQLyTwS8Bg</td>\n      <td>_0EhXpz__Bs5qNckMW8IEw</td>\n      <td>Meww6RIE4cFL_kG0aRlbAA</td>\n      <td>5.0</td>\n      <td>2.0</td>\n      <td>0.0</td>\n      <td>1.0</td>\n      <td>Great happy hour &amp; great food. I had a great t...</td>\n      <td>2021-05-09 11:23:03</td>\n      <td>1</td>\n    </tr>\n    <tr>\n      <th>3</th>\n      <td>499003</td>\n      <td>499003</td>\n      <td>6989285</td>\n      <td>oDrDjpgNDUXAmrYWU6Q1bQ</td>\n      <td>tfxcBBdKo28s6OAYNJDM6A</td>\n      <td>mY4i1N0Hm2fjIgU0Eyn11Q</td>\n      <td>1.0</td>\n      <td>2.0</td>\n      <td>0.0</td>\n      <td>0.0</td>\n      <td>I've been dining here for years, but a recent ...</td>\n      <td>2021-05-17 22:45:45</td>\n      <td>0</td>\n    </tr>\n    <tr>\n      <th>4</th>\n      <td>499004</td>\n      <td>499004</td>\n      <td>6989286</td>\n      <td>jbSsvlNW1VGc-o8b3WBjDw</td>\n      <td>q6CU8yNwSs2ErfhX3DqaNQ</td>\n      <td>GxlUXBXe-yw6B5Fqf8kgig</td>\n      <td>3.0</td>\n      <td>2.0</td>\n      <td>1.0</td>\n      <td>1.0</td>\n      <td>Food was pretty good. Had the southern fried c...</td>\n      <td>2016-09-19 23:52:02</td>\n      <td>0</td>\n    </tr>\n  </tbody>\n</table>\n</div>"
     },
     "execution_count": 207,
     "metadata": {},
     "output_type": "execute_result"
    }
   ]
  },
  {
   "cell_type": "markdown",
   "source": [
    "### Plot reviews"
   ],
   "metadata": {
    "id": "bl1GWpEUNZxf",
    "pycharm": {
     "name": "#%% md\n"
    }
   }
  },
  {
   "cell_type": "code",
   "source": [
    "positive_count = (df_review['review_rating'] == 1).sum()\n",
    "negative_count = (df_review['review_rating'] == 0).sum()\n",
    "\n",
    "print(\"Positive reviews:\", positive_count)\n",
    "\n",
    "print(\"Negative reviews:\", negative_count)\n",
    "\n",
    "objects = ('Positive', 'Negative')\n",
    "performance = [positive_count, negative_count]\n",
    "y_pos = np.arange(len(objects))\n",
    "\n",
    "plt.bar(y_pos, performance, align='center', alpha=0.5)\n",
    "plt.xticks(y_pos, objects)\n",
    "plt.ylabel('Count')\n",
    "plt.title('Rating reviews')\n",
    "\n",
    "plt.show()\n",
    "\n"
   ],
   "metadata": {
    "colab": {
     "base_uri": "https://localhost:8080/",
     "height": 315
    },
    "id": "GRwhyhLOFmLX",
    "outputId": "919e6e07-768a-4bd2-83ca-532d7e2f950a",
    "pycharm": {
     "name": "#%%\n"
    }
   },
   "execution_count": 208,
   "outputs": [
    {
     "name": "stdout",
     "output_type": "stream",
     "text": [
      "Positive reviews: 653\n",
      "Negative reviews: 347\n"
     ]
    },
    {
     "data": {
      "text/plain": "<Figure size 432x288 with 1 Axes>",
      "image/png": "[encoded data removed]"
     },
     "metadata": {
      "needs_background": "light"
     },
     "output_type": "display_data"
    }
   ]
  },
  {
   "cell_type": "markdown",
   "source": [
    "# Text preprocessing\n"
   ],
   "metadata": {
    "id": "Ik5qtSqkEef-",
    "pycharm": {
     "name": "#%% md\n"
    }
   }
  },
  {
   "cell_type": "code",
   "execution_count": 209,
   "outputs": [
    {
     "name": "stderr",
     "output_type": "stream",
     "text": [
      "[nltk_data] Downloading package punkt to\n",
      "[nltk_data]     C:\\Users\\giuli\\AppData\\Roaming\\nltk_data...\n",
      "[nltk_data]   Package punkt is already up-to-date!\n",
      "[nltk_data] Downloading package wordnet to\n",
      "[nltk_data]     C:\\Users\\giuli\\AppData\\Roaming\\nltk_data...\n",
      "[nltk_data]   Package wordnet is already up-to-date!\n",
      "[nltk_data] Downloading package omw-1.4 to\n",
      "[nltk_data]     C:\\Users\\giuli\\AppData\\Roaming\\nltk_data...\n",
      "[nltk_data]   Package omw-1.4 is already up-to-date!\n"
     ]
    },
    {
     "data": {
      "text/plain": "True"
     },
     "execution_count": 209,
     "metadata": {},
     "output_type": "execute_result"
    }
   ],
   "source": [
    "import nltk\n",
    "import contractions\n",
    "from nltk.tokenize import word_tokenize\n",
    "nltk.download('punkt')\n",
    "from nltk.stem import PorterStemmer\n",
    "from nltk.stem.wordnet import WordNetLemmatizer\n",
    "nltk.download('wordnet')\n",
    "nltk.download('omw-1.4')\n",
    "# from nltk.corpus import stopwords\n",
    "# nltk.download('stopwords')"
   ],
   "metadata": {
    "collapsed": false,
    "pycharm": {
     "name": "#%%\n"
    }
   }
  },
  {
   "cell_type": "code",
   "execution_count": 210,
   "outputs": [],
   "source": [
    "df_review_text_rating = df_review[['text', 'review_rating']].copy()"
   ],
   "metadata": {
    "collapsed": false,
    "pycharm": {
     "name": "#%%\n"
    }
   }
  },
  {
   "cell_type": "markdown",
   "source": [
    "## Normalization"
   ],
   "metadata": {
    "id": "p_NyM9T6Nx_5",
    "pycharm": {
     "name": "#%% md\n"
    }
   }
  },
  {
   "cell_type": "markdown",
   "source": [
    "### Expand English contractions"
   ],
   "metadata": {
    "collapsed": false,
    "pycharm": {
     "name": "#%% md\n"
    }
   }
  },
  {
   "cell_type": "code",
   "source": [
    "def expand_english_contractions(data_frame):\n",
    "\n",
    "    def expand(row):\n",
    "        expanded_words = []\n",
    "        for word in row['text'].split():\n",
    "            expanded_words.append(contractions.fix(word))\n",
    "        return ' '.join(expanded_words)\n",
    "\n",
    "    data_frame['expanded_text'] = data_frame.apply(expand, axis=1)"
   ],
   "metadata": {
    "colab": {
     "base_uri": "https://localhost:8080/",
     "height": 232
    },
    "id": "OAFZy6BbNeH1",
    "outputId": "d6dee067-bd23-4195-8c8a-13fe22ca0e96",
    "pycharm": {
     "name": "#%%\n"
    }
   },
   "execution_count": 211,
   "outputs": []
  },
  {
   "cell_type": "markdown",
   "source": [
    "## Tokenize"
   ],
   "metadata": {
    "collapsed": false,
    "pycharm": {
     "name": "#%% md\n"
    }
   }
  },
  {
   "cell_type": "code",
   "execution_count": 212,
   "outputs": [],
   "source": [
    "def tokenize_text(data_frame):\n",
    "\n",
    "    def tokenize(row):\n",
    "        return word_tokenize(row['expanded_text'])\n",
    "\n",
    "    data_frame['tokenized_text'] = data_frame.apply(tokenize, axis=1)"
   ],
   "metadata": {
    "collapsed": false,
    "pycharm": {
     "name": "#%%\n"
    }
   }
  },
  {
   "cell_type": "markdown",
   "source": [
    "## Remove puncts"
   ],
   "metadata": {
    "collapsed": false,
    "pycharm": {
     "name": "#%% md\n"
    }
   }
  },
  {
   "cell_type": "code",
   "execution_count": 213,
   "outputs": [],
   "source": [
    "def remove_punct_from_text(data_frame):\n",
    "\n",
    "    def remove_punct(row):\n",
    "        return [word for word in row['tokenized_text'] if word.isalpha()]\n",
    "\n",
    "    data_frame['no_punct_text'] = data_frame.apply(remove_punct, axis=1)"
   ],
   "metadata": {
    "collapsed": false,
    "pycharm": {
     "name": "#%%\n"
    }
   }
  },
  {
   "cell_type": "markdown",
   "source": [
    "## Stemming"
   ],
   "metadata": {
    "collapsed": false,
    "pycharm": {
     "name": "#%% md\n"
    }
   }
  },
  {
   "cell_type": "code",
   "execution_count": 214,
   "outputs": [],
   "source": [
    "def stem_text(data_frame):\n",
    "\n",
    "    ps = PorterStemmer()\n",
    "    def stemming(row):\n",
    "        return [ps.stem(word) for word in row['no_punct_text']]\n",
    "\n",
    "    data_frame['stemmed_text'] = data_frame.apply(stemming, axis=1)"
   ],
   "metadata": {
    "collapsed": false,
    "pycharm": {
     "name": "#%%\n"
    }
   }
  },
  {
   "cell_type": "markdown",
   "source": [
    "## Lemmatization"
   ],
   "metadata": {
    "collapsed": false,
    "pycharm": {
     "name": "#%% md\n"
    }
   }
  },
  {
   "cell_type": "code",
   "execution_count": 215,
   "outputs": [],
   "source": [
    "def lemm_text(data_frame):\n",
    "\n",
    "    lemmatizer = WordNetLemmatizer()\n",
    "    def lemmatization(row):\n",
    "        return [lemmatizer.lemmatize(word) for word in row['stemmed_text']]\n",
    "\n",
    "    data_frame['lemmatized_text'] = data_frame.apply(lemmatization, axis=1)"
   ],
   "metadata": {
    "collapsed": false,
    "pycharm": {
     "name": "#%%\n"
    }
   }
  },
  {
   "cell_type": "markdown",
   "source": [
    "## Remove stopwords"
   ],
   "metadata": {
    "collapsed": false,
    "pycharm": {
     "name": "#%% md\n"
    }
   }
  },
  {
   "cell_type": "code",
   "execution_count": 216,
   "outputs": [],
   "source": [
    "# def stop_word_text(data_frame):\n",
    "\n",
    "#     def remove_stopwords(row):\n",
    "#       return [word for word in row['lemmatized_text'] if not word in stopwords.words()]\n",
    "#\n",
    "#     data_frame['no_stopwords'] = data_frame.apply(remove_stopwords, axis=1)"
   ],
   "metadata": {
    "collapsed": false,
    "pycharm": {
     "name": "#%%\n"
    }
   }
  },
  {
   "cell_type": "markdown",
   "source": [
    "## Rejoin words after processing"
   ],
   "metadata": {
    "collapsed": false,
    "pycharm": {
     "name": "#%% md\n"
    }
   }
  },
  {
   "cell_type": "code",
   "execution_count": 217,
   "outputs": [],
   "source": [
    "def rejoin_sentences(data_frame):\n",
    "    def join_words(row):\n",
    "        return \" \".join(row['lemmatized_text'])\n",
    "\n",
    "    data_frame['processed_text'] = data_frame.apply(join_words, axis=1)"
   ],
   "metadata": {
    "collapsed": false,
    "pycharm": {
     "name": "#%%\n"
    }
   }
  },
  {
   "cell_type": "markdown",
   "source": [
    "## Process Text"
   ],
   "metadata": {
    "collapsed": false,
    "pycharm": {
     "name": "#%% md\n"
    }
   }
  },
  {
   "cell_type": "code",
   "execution_count": 218,
   "outputs": [],
   "source": [
    "def process_text(data_frame):\n",
    "    expand_english_contractions(data_frame)\n",
    "    tokenize_text(data_frame)\n",
    "    remove_punct_from_text(data_frame)\n",
    "    stem_text(data_frame)\n",
    "    lemm_text(data_frame)\n",
    "    rejoin_sentences(data_frame)"
   ],
   "metadata": {
    "collapsed": false,
    "pycharm": {
     "name": "#%%\n"
    }
   }
  },
  {
   "cell_type": "code",
   "execution_count": 219,
   "outputs": [
    {
     "data": {
      "text/plain": "                                                text  review_rating  \\\n0  Do not eat there! Horrible management, staff a...              0   \n1  What a great find! Celebrated out anniversary ...              1   \n2  Great happy hour & great food. I had a great t...              1   \n3  I've been dining here for years, but a recent ...              0   \n4  Food was pretty good. Had the southern fried c...              0   \n\n                                       expanded_text  \\\n0  Do not eat there! Horrible management, staff a...   \n1  What a great find! Celebrated out anniversary ...   \n2  Great happy hour & great food. I had a great t...   \n3  I have been dining here for years, but a recen...   \n4  Food was pretty good. Had the southern fried c...   \n\n                                      tokenized_text  \\\n0  [Do, not, eat, there, !, Horrible, management,...   \n1  [What, a, great, find, !, Celebrated, out, ann...   \n2  [Great, happy, hour, &, great, food, ., I, had...   \n3  [I, have, been, dining, here, for, years, ,, b...   \n4  [Food, was, pretty, good, ., Had, the, souther...   \n\n                                       no_punct_text  \\\n0  [Do, not, eat, there, Horrible, management, st...   \n1  [What, a, great, find, Celebrated, out, annive...   \n2  [Great, happy, hour, great, food, I, had, a, g...   \n3  [I, have, been, dining, here, for, years, but,...   \n4  [Food, was, pretty, good, Had, the, southern, ...   \n\n                                        stemmed_text  \\\n0  [do, not, eat, there, horribl, manag, staff, a...   \n1  [what, a, great, find, celebr, out, anniversar...   \n2  [great, happi, hour, great, food, i, had, a, g...   \n3  [i, have, been, dine, here, for, year, but, a,...   \n4  [food, wa, pretti, good, had, the, southern, f...   \n\n                                     lemmatized_text  \\\n0  [do, not, eat, there, horribl, manag, staff, a...   \n1  [what, a, great, find, celebr, out, anniversar...   \n2  [great, happi, hour, great, food, i, had, a, g...   \n3  [i, have, been, dine, here, for, year, but, a,...   \n4  [food, wa, pretti, good, had, the, southern, f...   \n\n                                      processed_text  \n0  do not eat there horribl manag staff and food ...  \n1  what a great find celebr out anniversari and t...  \n2  great happi hour great food i had a great time...  \n3  i have been dine here for year but a recent ho...  \n4  food wa pretti good had the southern fri chick...  ",
      "text/html": "<div>\n<style scoped>\n    .dataframe tbody tr th:only-of-type {\n        vertical-align: middle;\n    }\n\n    .dataframe tbody tr th {\n        vertical-align: top;\n    }\n\n    .dataframe thead th {\n        text-align: right;\n    }\n</style>\n<table border=\"1\" class=\"dataframe\">\n  <thead>\n    <tr style=\"text-align: right;\">\n      <th></th>\n      <th>text</th>\n      <th>review_rating</th>\n      <th>expanded_text</th>\n      <th>tokenized_text</th>\n      <th>no_punct_text</th>\n      <th>stemmed_text</th>\n      <th>lemmatized_text</th>\n      <th>processed_text</th>\n    </tr>\n  </thead>\n  <tbody>\n    <tr>\n      <th>0</th>\n      <td>Do not eat there! Horrible management, staff a...</td>\n      <td>0</td>\n      <td>Do not eat there! Horrible management, staff a...</td>\n      <td>[Do, not, eat, there, !, Horrible, management,...</td>\n      <td>[Do, not, eat, there, Horrible, management, st...</td>\n      <td>[do, not, eat, there, horribl, manag, staff, a...</td>\n      <td>[do, not, eat, there, horribl, manag, staff, a...</td>\n      <td>do not eat there horribl manag staff and food ...</td>\n    </tr>\n    <tr>\n      <th>1</th>\n      <td>What a great find! Celebrated out anniversary ...</td>\n      <td>1</td>\n      <td>What a great find! Celebrated out anniversary ...</td>\n      <td>[What, a, great, find, !, Celebrated, out, ann...</td>\n      <td>[What, a, great, find, Celebrated, out, annive...</td>\n      <td>[what, a, great, find, celebr, out, anniversar...</td>\n      <td>[what, a, great, find, celebr, out, anniversar...</td>\n      <td>what a great find celebr out anniversari and t...</td>\n    </tr>\n    <tr>\n      <th>2</th>\n      <td>Great happy hour &amp; great food. I had a great t...</td>\n      <td>1</td>\n      <td>Great happy hour &amp; great food. I had a great t...</td>\n      <td>[Great, happy, hour, &amp;, great, food, ., I, had...</td>\n      <td>[Great, happy, hour, great, food, I, had, a, g...</td>\n      <td>[great, happi, hour, great, food, i, had, a, g...</td>\n      <td>[great, happi, hour, great, food, i, had, a, g...</td>\n      <td>great happi hour great food i had a great time...</td>\n    </tr>\n    <tr>\n      <th>3</th>\n      <td>I've been dining here for years, but a recent ...</td>\n      <td>0</td>\n      <td>I have been dining here for years, but a recen...</td>\n      <td>[I, have, been, dining, here, for, years, ,, b...</td>\n      <td>[I, have, been, dining, here, for, years, but,...</td>\n      <td>[i, have, been, dine, here, for, year, but, a,...</td>\n      <td>[i, have, been, dine, here, for, year, but, a,...</td>\n      <td>i have been dine here for year but a recent ho...</td>\n    </tr>\n    <tr>\n      <th>4</th>\n      <td>Food was pretty good. Had the southern fried c...</td>\n      <td>0</td>\n      <td>Food was pretty good. Had the southern fried c...</td>\n      <td>[Food, was, pretty, good, ., Had, the, souther...</td>\n      <td>[Food, was, pretty, good, Had, the, southern, ...</td>\n      <td>[food, wa, pretti, good, had, the, southern, f...</td>\n      <td>[food, wa, pretti, good, had, the, southern, f...</td>\n      <td>food wa pretti good had the southern fri chick...</td>\n    </tr>\n  </tbody>\n</table>\n</div>"
     },
     "execution_count": 219,
     "metadata": {},
     "output_type": "execute_result"
    }
   ],
   "source": [
    "process_text(df_review_text_rating)\n",
    "df_review_text_rating.head(5)"
   ],
   "metadata": {
    "collapsed": false,
    "pycharm": {
     "name": "#%%\n"
    }
   }
  },
  {
   "cell_type": "markdown",
   "source": [
    "# Split dataframe in training_set and test_set"
   ],
   "metadata": {
    "collapsed": false,
    "pycharm": {
     "name": "#%% md\n"
    }
   }
  },
  {
   "cell_type": "code",
   "execution_count": 220,
   "outputs": [],
   "source": [
    "from sklearn.feature_extraction.text import CountVectorizer\n",
    "from sklearn.model_selection import train_test_split\n",
    "from sklearn.feature_extraction.text import TfidfVectorizer"
   ],
   "metadata": {
    "collapsed": false,
    "pycharm": {
     "name": "#%%\n"
    }
   }
  },
  {
   "cell_type": "code",
   "execution_count": 221,
   "outputs": [],
   "source": [
    "X = df_review_text_rating[\"processed_text\"]\n",
    "y = df_review_text_rating[\"review_rating\"]\n",
    "\n",
    "# Training set = 80%\n",
    "# Test set = 20%\n",
    "X_train, X_test, y_train, y_test = train_test_split(X, y, test_size=0.2, random_state=4)"
   ],
   "metadata": {
    "collapsed": false,
    "pycharm": {
     "name": "#%%\n"
    }
   }
  },
  {
   "cell_type": "code",
   "execution_count": 222,
   "outputs": [],
   "source": [
    "# Initialize\n",
    "vectorizer = TfidfVectorizer()\n",
    "X_train_vectorizer = vectorizer.fit_transform(X_train)\n",
    "X_test_vectorizer = vectorizer.transform(X_test)\n",
    "\n",
    "X_train_df = pd.DataFrame(columns=vectorizer.get_feature_names_out(), data=X_train_vectorizer.toarray())\n",
    "X_test_df = pd.DataFrame(columns=vectorizer.get_feature_names_out(), data=X_test_vectorizer.toarray())"
   ],
   "metadata": {
    "collapsed": false,
    "pycharm": {
     "name": "#%%\n"
    }
   }
  },
  {
   "cell_type": "code",
   "execution_count": 223,
   "outputs": [
    {
     "data": {
      "text/plain": "   abe  abid  abil  abita       abl  about  abov  abrupt  abruptli  absolut  \\\n0  0.0   0.0   0.0    0.0  0.000000    0.0   0.0     0.0       0.0      0.0   \n1  0.0   0.0   0.0    0.0  0.000000    0.0   0.0     0.0       0.0      0.0   \n2  0.0   0.0   0.0    0.0  0.000000    0.0   0.0     0.0       0.0      0.0   \n3  0.0   0.0   0.0    0.0  0.072876    0.0   0.0     0.0       0.0      0.0   \n4  0.0   0.0   0.0    0.0  0.000000    0.0   0.0     0.0       0.0      0.0   \n\n   ...  zero  zest  zip  ziplock  zlt  zoal  zucchini  zumba  zushipok  ànd  \n0  ...   0.0   0.0  0.0      0.0  0.0   0.0       0.0    0.0       0.0  0.0  \n1  ...   0.0   0.0  0.0      0.0  0.0   0.0       0.0    0.0       0.0  0.0  \n2  ...   0.0   0.0  0.0      0.0  0.0   0.0       0.0    0.0       0.0  0.0  \n3  ...   0.0   0.0  0.0      0.0  0.0   0.0       0.0    0.0       0.0  0.0  \n4  ...   0.0   0.0  0.0      0.0  0.0   0.0       0.0    0.0       0.0  0.0  \n\n[5 rows x 5819 columns]",
      "text/html": "<div>\n<style scoped>\n    .dataframe tbody tr th:only-of-type {\n        vertical-align: middle;\n    }\n\n    .dataframe tbody tr th {\n        vertical-align: top;\n    }\n\n    .dataframe thead th {\n        text-align: right;\n    }\n</style>\n<table border=\"1\" class=\"dataframe\">\n  <thead>\n    <tr style=\"text-align: right;\">\n      <th></th>\n      <th>abe</th>\n      <th>abid</th>\n      <th>abil</th>\n      <th>abita</th>\n      <th>abl</th>\n      <th>about</th>\n      <th>abov</th>\n      <th>abrupt</th>\n      <th>abruptli</th>\n      <th>absolut</th>\n      <th>...</th>\n      <th>zero</th>\n      <th>zest</th>\n      <th>zip</th>\n      <th>ziplock</th>\n      <th>zlt</th>\n      <th>zoal</th>\n      <th>zucchini</th>\n      <th>zumba</th>\n      <th>zushipok</th>\n      <th>ànd</th>\n    </tr>\n  </thead>\n  <tbody>\n    <tr>\n      <th>0</th>\n      <td>0.0</td>\n      <td>0.0</td>\n      <td>0.0</td>\n      <td>0.0</td>\n      <td>0.000000</td>\n      <td>0.0</td>\n      <td>0.0</td>\n      <td>0.0</td>\n      <td>0.0</td>\n      <td>0.0</td>\n      <td>...</td>\n      <td>0.0</td>\n      <td>0.0</td>\n      <td>0.0</td>\n      <td>0.0</td>\n      <td>0.0</td>\n      <td>0.0</td>\n      <td>0.0</td>\n      <td>0.0</td>\n      <td>0.0</td>\n      <td>0.0</td>\n    </tr>\n    <tr>\n      <th>1</th>\n      <td>0.0</td>\n      <td>0.0</td>\n      <td>0.0</td>\n      <td>0.0</td>\n      <td>0.000000</td>\n      <td>0.0</td>\n      <td>0.0</td>\n      <td>0.0</td>\n      <td>0.0</td>\n      <td>0.0</td>\n      <td>...</td>\n      <td>0.0</td>\n      <td>0.0</td>\n      <td>0.0</td>\n      <td>0.0</td>\n      <td>0.0</td>\n      <td>0.0</td>\n      <td>0.0</td>\n      <td>0.0</td>\n      <td>0.0</td>\n      <td>0.0</td>\n    </tr>\n    <tr>\n      <th>2</th>\n      <td>0.0</td>\n      <td>0.0</td>\n      <td>0.0</td>\n      <td>0.0</td>\n      <td>0.000000</td>\n      <td>0.0</td>\n      <td>0.0</td>\n      <td>0.0</td>\n      <td>0.0</td>\n      <td>0.0</td>\n      <td>...</td>\n      <td>0.0</td>\n      <td>0.0</td>\n      <td>0.0</td>\n      <td>0.0</td>\n      <td>0.0</td>\n      <td>0.0</td>\n      <td>0.0</td>\n      <td>0.0</td>\n      <td>0.0</td>\n      <td>0.0</td>\n    </tr>\n    <tr>\n      <th>3</th>\n      <td>0.0</td>\n      <td>0.0</td>\n      <td>0.0</td>\n      <td>0.0</td>\n      <td>0.072876</td>\n      <td>0.0</td>\n      <td>0.0</td>\n      <td>0.0</td>\n      <td>0.0</td>\n      <td>0.0</td>\n      <td>...</td>\n      <td>0.0</td>\n      <td>0.0</td>\n      <td>0.0</td>\n      <td>0.0</td>\n      <td>0.0</td>\n      <td>0.0</td>\n      <td>0.0</td>\n      <td>0.0</td>\n      <td>0.0</td>\n      <td>0.0</td>\n    </tr>\n    <tr>\n      <th>4</th>\n      <td>0.0</td>\n      <td>0.0</td>\n      <td>0.0</td>\n      <td>0.0</td>\n      <td>0.000000</td>\n      <td>0.0</td>\n      <td>0.0</td>\n      <td>0.0</td>\n      <td>0.0</td>\n      <td>0.0</td>\n      <td>...</td>\n      <td>0.0</td>\n      <td>0.0</td>\n      <td>0.0</td>\n      <td>0.0</td>\n      <td>0.0</td>\n      <td>0.0</td>\n      <td>0.0</td>\n      <td>0.0</td>\n      <td>0.0</td>\n      <td>0.0</td>\n    </tr>\n  </tbody>\n</table>\n<p>5 rows × 5819 columns</p>\n</div>"
     },
     "execution_count": 223,
     "metadata": {},
     "output_type": "execute_result"
    }
   ],
   "source": [
    "X_train_df.head(5)"
   ],
   "metadata": {
    "collapsed": false,
    "pycharm": {
     "name": "#%%\n"
    }
   }
  },
  {
   "cell_type": "code",
   "execution_count": 224,
   "outputs": [
    {
     "data": {
      "text/plain": "   abe  abid  abil  abita  abl     about  abov  abrupt  abruptli  absolut  \\\n0  0.0   0.0   0.0    0.0  0.0  0.000000   0.0     0.0       0.0      0.0   \n1  0.0   0.0   0.0    0.0  0.0  0.064824   0.0     0.0       0.0      0.0   \n2  0.0   0.0   0.0    0.0  0.0  0.000000   0.0     0.0       0.0      0.0   \n3  0.0   0.0   0.0    0.0  0.0  0.000000   0.0     0.0       0.0      0.0   \n4  0.0   0.0   0.0    0.0  0.0  0.000000   0.0     0.0       0.0      0.0   \n\n   ...  zero  zest  zip  ziplock  zlt  zoal  zucchini  zumba  zushipok  ànd  \n0  ...   0.0   0.0  0.0      0.0  0.0   0.0       0.0    0.0       0.0  0.0  \n1  ...   0.0   0.0  0.0      0.0  0.0   0.0       0.0    0.0       0.0  0.0  \n2  ...   0.0   0.0  0.0      0.0  0.0   0.0       0.0    0.0       0.0  0.0  \n3  ...   0.0   0.0  0.0      0.0  0.0   0.0       0.0    0.0       0.0  0.0  \n4  ...   0.0   0.0  0.0      0.0  0.0   0.0       0.0    0.0       0.0  0.0  \n\n[5 rows x 5819 columns]",
      "text/html": "<div>\n<style scoped>\n    .dataframe tbody tr th:only-of-type {\n        vertical-align: middle;\n    }\n\n    .dataframe tbody tr th {\n        vertical-align: top;\n    }\n\n    .dataframe thead th {\n        text-align: right;\n    }\n</style>\n<table border=\"1\" class=\"dataframe\">\n  <thead>\n    <tr style=\"text-align: right;\">\n      <th></th>\n      <th>abe</th>\n      <th>abid</th>\n      <th>abil</th>\n      <th>abita</th>\n      <th>abl</th>\n      <th>about</th>\n      <th>abov</th>\n      <th>abrupt</th>\n      <th>abruptli</th>\n      <th>absolut</th>\n      <th>...</th>\n      <th>zero</th>\n      <th>zest</th>\n      <th>zip</th>\n      <th>ziplock</th>\n      <th>zlt</th>\n      <th>zoal</th>\n      <th>zucchini</th>\n      <th>zumba</th>\n      <th>zushipok</th>\n      <th>ànd</th>\n    </tr>\n  </thead>\n  <tbody>\n    <tr>\n      <th>0</th>\n      <td>0.0</td>\n      <td>0.0</td>\n      <td>0.0</td>\n      <td>0.0</td>\n      <td>0.0</td>\n      <td>0.000000</td>\n      <td>0.0</td>\n      <td>0.0</td>\n      <td>0.0</td>\n      <td>0.0</td>\n      <td>...</td>\n      <td>0.0</td>\n      <td>0.0</td>\n      <td>0.0</td>\n      <td>0.0</td>\n      <td>0.0</td>\n      <td>0.0</td>\n      <td>0.0</td>\n      <td>0.0</td>\n      <td>0.0</td>\n      <td>0.0</td>\n    </tr>\n    <tr>\n      <th>1</th>\n      <td>0.0</td>\n      <td>0.0</td>\n      <td>0.0</td>\n      <td>0.0</td>\n      <td>0.0</td>\n      <td>0.064824</td>\n      <td>0.0</td>\n      <td>0.0</td>\n      <td>0.0</td>\n      <td>0.0</td>\n      <td>...</td>\n      <td>0.0</td>\n      <td>0.0</td>\n      <td>0.0</td>\n      <td>0.0</td>\n      <td>0.0</td>\n      <td>0.0</td>\n      <td>0.0</td>\n      <td>0.0</td>\n      <td>0.0</td>\n      <td>0.0</td>\n    </tr>\n    <tr>\n      <th>2</th>\n      <td>0.0</td>\n      <td>0.0</td>\n      <td>0.0</td>\n      <td>0.0</td>\n      <td>0.0</td>\n      <td>0.000000</td>\n      <td>0.0</td>\n      <td>0.0</td>\n      <td>0.0</td>\n      <td>0.0</td>\n      <td>...</td>\n      <td>0.0</td>\n      <td>0.0</td>\n      <td>0.0</td>\n      <td>0.0</td>\n      <td>0.0</td>\n      <td>0.0</td>\n      <td>0.0</td>\n      <td>0.0</td>\n      <td>0.0</td>\n      <td>0.0</td>\n    </tr>\n    <tr>\n      <th>3</th>\n      <td>0.0</td>\n      <td>0.0</td>\n      <td>0.0</td>\n      <td>0.0</td>\n      <td>0.0</td>\n      <td>0.000000</td>\n      <td>0.0</td>\n      <td>0.0</td>\n      <td>0.0</td>\n      <td>0.0</td>\n      <td>...</td>\n      <td>0.0</td>\n      <td>0.0</td>\n      <td>0.0</td>\n      <td>0.0</td>\n      <td>0.0</td>\n      <td>0.0</td>\n      <td>0.0</td>\n      <td>0.0</td>\n      <td>0.0</td>\n      <td>0.0</td>\n    </tr>\n    <tr>\n      <th>4</th>\n      <td>0.0</td>\n      <td>0.0</td>\n      <td>0.0</td>\n      <td>0.0</td>\n      <td>0.0</td>\n      <td>0.000000</td>\n      <td>0.0</td>\n      <td>0.0</td>\n      <td>0.0</td>\n      <td>0.0</td>\n      <td>...</td>\n      <td>0.0</td>\n      <td>0.0</td>\n      <td>0.0</td>\n      <td>0.0</td>\n      <td>0.0</td>\n      <td>0.0</td>\n      <td>0.0</td>\n      <td>0.0</td>\n      <td>0.0</td>\n      <td>0.0</td>\n    </tr>\n  </tbody>\n</table>\n<p>5 rows × 5819 columns</p>\n</div>"
     },
     "execution_count": 224,
     "metadata": {},
     "output_type": "execute_result"
    }
   ],
   "source": [
    "X_test_df.head(5)"
   ],
   "metadata": {
    "collapsed": false,
    "pycharm": {
     "name": "#%%\n"
    }
   }
  },
  {
   "cell_type": "markdown",
   "source": [
    "# Algorithms"
   ],
   "metadata": {
    "collapsed": false,
    "pycharm": {
     "name": "#%% md\n"
    }
   }
  },
  {
   "cell_type": "code",
   "execution_count": 225,
   "outputs": [],
   "source": [
    "from sklearn.neighbors import KNeighborsClassifier\n",
    "from sklearn.linear_model import LogisticRegression\n",
    "from sklearn.tree import DecisionTreeClassifier\n",
    "from sklearn.svm import SVC\n",
    "from sklearn.naive_bayes import GaussianNB\n",
    "from sklearn.ensemble import RandomForestClassifier, AdaBoostClassifier\n",
    "from sklearn.model_selection import GridSearchCV\n",
    "from sklearn.pipeline import Pipeline\n",
    "from sklearn.metrics import classification_report\n",
    "from sklearn.metrics import confusion_matrix\n",
    "#from IPython.core.display_functions import display\n",
    "import seaborn as sns"
   ],
   "metadata": {
    "collapsed": false,
    "pycharm": {
     "name": "#%%\n"
    }
   }
  },
  {
   "cell_type": "code",
   "execution_count": 226,
   "outputs": [],
   "source": [
    "# Features as Array\n",
    "# features = np.array(vectorizer.get_feature_names_out())\n",
    "\n",
    "# array_X_train = X_train_vectorizer.toarray()\n",
    "# array_X_test = X_test_vectorizer.toarray()"
   ],
   "metadata": {
    "collapsed": false,
    "pycharm": {
     "name": "#%%\n"
    }
   }
  },
  {
   "cell_type": "markdown",
   "source": [
    "### Get best parameters"
   ],
   "metadata": {
    "collapsed": false,
    "pycharm": {
     "name": "#%% md\n"
    }
   }
  },
  {
   "cell_type": "code",
   "execution_count": 227,
   "outputs": [],
   "source": [
    "def get_best_parameters(algorithm, algorithm_parameters):\n",
    "    gs_algorithm = GridSearchCV(algorithm, algorithm_parameters, verbose=3, scoring='f1', n_jobs=-1)\n",
    "\n",
    "    gs_algorithm.fit(X_train_df, y_train)\n",
    "\n",
    "    print(gs_algorithm.best_params_)\n",
    "\n",
    "    # Find best model score\n",
    "    print(gs_algorithm.score(X_train_df, y_train))"
   ],
   "metadata": {
    "collapsed": false,
    "pycharm": {
     "name": "#%%\n"
    }
   }
  },
  {
   "cell_type": "markdown",
   "source": [
    "### Execute algorithm"
   ],
   "metadata": {
    "collapsed": false,
    "pycharm": {
     "name": "#%% md\n"
    }
   }
  },
  {
   "cell_type": "code",
   "execution_count": 228,
   "outputs": [],
   "source": [
    "def fit_and_predict(algorithm):\n",
    "\n",
    "    # Training model\n",
    "    algorithm.fit(X_train_df, y_train)\n",
    "\n",
    "    # Predicting the test set results\n",
    "    y_pred_algorithm = algorithm.predict(X_test_df)\n",
    "\n",
    "    # Training score\n",
    "    print(f\"Score on training set: {algorithm.score(X_train_df, y_train)}\")\n",
    "    print(f\"Score on test set: {algorithm.score(X_test_df, y_test)}\")\n",
    "\n",
    "    test_set_score = algorithm.score(X_test_df, y_test) * 100\n",
    "\n",
    "    return y_pred_algorithm, test_set_score"
   ],
   "metadata": {
    "collapsed": false,
    "pycharm": {
     "name": "#%%\n"
    }
   }
  },
  {
   "cell_type": "markdown",
   "source": [
    "### Confusion Matrix"
   ],
   "metadata": {
    "collapsed": false,
    "pycharm": {
     "name": "#%% md\n"
    }
   }
  },
  {
   "cell_type": "code",
   "execution_count": 229,
   "outputs": [],
   "source": [
    "def confusion_matrix_plot(algorithm_name, y_pred_algorithm):\n",
    "    confusion_matrix_algorithm = confusion_matrix(y_test, y_pred_algorithm)\n",
    "    df_confusion_matrix = pd.DataFrame(confusion_matrix_algorithm, columns=['Predicted 0', 'Predicted 1'],\n",
    "                                           index=['True 0', 'True 1'])\n",
    "    # display(df_confusion_matrix_gnb)\n",
    "\n",
    "    sns.heatmap(df_confusion_matrix, annot=True, fmt='d')\n",
    "    plt.title(algorithm_name + \" confusion matrix\")\n",
    "    plt.figure(figsize=(24, 14), dpi=100)\n",
    "    plt.close()"
   ],
   "metadata": {
    "collapsed": false,
    "pycharm": {
     "name": "#%%\n"
    }
   }
  },
  {
   "cell_type": "markdown",
   "source": [
    "### Performance metrics"
   ],
   "metadata": {
    "collapsed": false,
    "pycharm": {
     "name": "#%% md\n"
    }
   }
  },
  {
   "cell_type": "code",
   "execution_count": 230,
   "outputs": [],
   "source": [
    "def classification_report_plot(algorithm_name, y_pred_algorithm):\n",
    "    classification_report_algorithm = classification_report(y_test, y_pred_algorithm, output_dict=True)\n",
    "    df_algorithm_report = pd.DataFrame(classification_report_algorithm).transpose()\n",
    "\n",
    "    df_algorithm_report.iloc[:3, :3].plot(kind='bar', title= algorithm_name + 'classification report', rot=0)\n",
    "\n",
    "    print(df_algorithm_report)"
   ],
   "metadata": {
    "collapsed": false,
    "pycharm": {
     "name": "#%%\n"
    }
   }
  },
  {
   "cell_type": "code",
   "execution_count": 231,
   "outputs": [],
   "source": [
    "# return score, confusion matrix, classification report\n",
    "def get_test_set_score(algorithm, algorithm_name, X_train_param, X_test_param):\n",
    "    y_pred_algorithm, test_set_score_algorithm = fit_and_predict(algorithm)\n",
    "    confusion_matrix_plot(algorithm_name, y_pred_algorithm)\n",
    "    classification_report_plot(algorithm_name, y_pred_algorithm)\n",
    "    return test_set_score_algorithm"
   ],
   "metadata": {
    "collapsed": false,
    "pycharm": {
     "name": "#%%\n"
    }
   }
  },
  {
   "cell_type": "markdown",
   "source": [
    "## AdaBoostClassifier"
   ],
   "metadata": {
    "collapsed": false,
    "pycharm": {
     "name": "#%% md\n"
    }
   }
  },
  {
   "cell_type": "code",
   "execution_count": 232,
   "outputs": [],
   "source": [
    "ada_name = 'ADA'"
   ],
   "metadata": {
    "collapsed": false,
    "pycharm": {
     "name": "#%%\n"
    }
   }
  },
  {
   "cell_type": "code",
   "execution_count": 233,
   "outputs": [],
   "source": [
    "# ada_parameters = {'n_estimators': [10, 50, 100, 250, 500],\n",
    "#               'learning_rate': [0.01, 0.1],\n",
    "#               'algorithm': ['SAMME', 'SAMME.R']}\n",
    "#\n",
    "# get_best_parameters(AdaBoostClassifier(), ada_parameters)\n"
   ],
   "metadata": {
    "collapsed": false,
    "pycharm": {
     "name": "#%%\n"
    }
   }
  },
  {
   "cell_type": "code",
   "execution_count": 234,
   "outputs": [
    {
     "name": "stdout",
     "output_type": "stream",
     "text": [
      "Score on training set: 0.955\n",
      "Score on test set: 0.85\n"
     ]
    }
   ],
   "source": [
    "ada = AdaBoostClassifier(n_estimators=250, learning_rate=0.1, algorithm='SAMME.R')\n",
    "\n",
    "y_pred_ada, test_set_score_ada = fit_and_predict(ada)"
   ],
   "metadata": {
    "collapsed": false,
    "pycharm": {
     "name": "#%%\n"
    }
   }
  },
  {
   "cell_type": "code",
   "execution_count": 235,
   "outputs": [
    {
     "data": {
      "text/plain": "<Figure size 432x288 with 2 Axes>",
      "image/png": "[encoded data removed]"
     },
     "metadata": {
      "needs_background": "light"
     },
     "output_type": "display_data"
    }
   ],
   "source": [
    "confusion_matrix_plot(ada_name, y_pred_ada)"
   ],
   "metadata": {
    "collapsed": false,
    "pycharm": {
     "name": "#%%\n"
    }
   }
  },
  {
   "cell_type": "code",
   "execution_count": 236,
   "outputs": [
    {
     "name": "stdout",
     "output_type": "stream",
     "text": [
      "              precision    recall  f1-score  support\n",
      "0              0.854545  0.681159  0.758065    69.00\n",
      "1              0.848276  0.938931  0.891304   131.00\n",
      "accuracy       0.850000  0.850000  0.850000     0.85\n",
      "macro avg      0.851411  0.810045  0.824684   200.00\n",
      "weighted avg   0.850439  0.850000  0.845337   200.00\n"
     ]
    },
    {
     "data": {
      "text/plain": "<Figure size 432x288 with 1 Axes>",
      "image/png": "[encoded data removed]"
     },
     "metadata": {
      "needs_background": "light"
     },
     "output_type": "display_data"
    }
   ],
   "source": [
    "classification_report_plot(ada_name, y_pred_ada)"
   ],
   "metadata": {
    "collapsed": false,
    "pycharm": {
     "name": "#%%\n"
    }
   }
  },
  {
   "cell_type": "markdown",
   "source": [
    "## GaussianNB"
   ],
   "metadata": {
    "collapsed": false,
    "pycharm": {
     "name": "#%% md\n"
    }
   }
  },
  {
   "cell_type": "code",
   "execution_count": 237,
   "outputs": [],
   "source": [
    "gnb_name = 'GNB'"
   ],
   "metadata": {
    "collapsed": false,
    "pycharm": {
     "name": "#%%\n"
    }
   }
  },
  {
   "cell_type": "code",
   "execution_count": 238,
   "outputs": [],
   "source": [
    "# gnb_parameters = {'var_smoothing' : np.logspace(0,-9, num=100)}\n",
    "#\n",
    "# get_best_parameters(GaussianNB(), gnb_parameters)"
   ],
   "metadata": {
    "collapsed": false,
    "pycharm": {
     "name": "#%%\n"
    }
   }
  },
  {
   "cell_type": "code",
   "execution_count": 239,
   "outputs": [
    {
     "name": "stdout",
     "output_type": "stream",
     "text": [
      "Score on training set: 0.985\n",
      "Score on test set: 0.67\n"
     ]
    }
   ],
   "source": [
    "gnb = GaussianNB(var_smoothing=0.0008111308307896872)\n",
    "\n",
    "y_pred_gnb, test_set_score_gnb = fit_and_predict(gnb)\n"
   ],
   "metadata": {
    "collapsed": false,
    "pycharm": {
     "name": "#%%\n"
    }
   }
  },
  {
   "cell_type": "code",
   "execution_count": 240,
   "outputs": [
    {
     "data": {
      "text/plain": "<Figure size 432x288 with 2 Axes>",
      "image/png": "[encoded data removed]"
     },
     "metadata": {
      "needs_background": "light"
     },
     "output_type": "display_data"
    }
   ],
   "source": [
    "confusion_matrix_plot(gnb_name, y_pred_gnb)"
   ],
   "metadata": {
    "collapsed": false,
    "pycharm": {
     "name": "#%%\n"
    }
   }
  },
  {
   "cell_type": "code",
   "execution_count": 241,
   "outputs": [
    {
     "name": "stdout",
     "output_type": "stream",
     "text": [
      "              precision    recall  f1-score  support\n",
      "0              0.526316  0.434783  0.476190    69.00\n",
      "1              0.727273  0.793893  0.759124   131.00\n",
      "accuracy       0.670000  0.670000  0.670000     0.67\n",
      "macro avg      0.626794  0.614338  0.617657   200.00\n",
      "weighted avg   0.657943  0.670000  0.661512   200.00\n"
     ]
    },
    {
     "data": {
      "text/plain": "<Figure size 432x288 with 1 Axes>",
      "image/png": "[encoded data removed]"
     },
     "metadata": {
      "needs_background": "light"
     },
     "output_type": "display_data"
    }
   ],
   "source": [
    "classification_report_plot(gnb_name, y_pred_gnb)"
   ],
   "metadata": {
    "collapsed": false,
    "pycharm": {
     "name": "#%%\n"
    }
   }
  },
  {
   "cell_type": "markdown",
   "source": [],
   "metadata": {
    "collapsed": false,
    "pycharm": {
     "name": "#%% md\n"
    }
   }
  },
  {
   "cell_type": "markdown",
   "source": [
    "## DecisionTreeClassifier"
   ],
   "metadata": {
    "collapsed": false,
    "pycharm": {
     "name": "#%% md\n"
    }
   }
  },
  {
   "cell_type": "code",
   "execution_count": 242,
   "outputs": [],
   "source": [
    "dtc_name = 'DTC'"
   ],
   "metadata": {
    "collapsed": false,
    "pycharm": {
     "name": "#%%\n"
    }
   }
  },
  {
   "cell_type": "code",
   "execution_count": 243,
   "outputs": [],
   "source": [
    "# dtc_parameters = {'splitter': ['best', 'random'],\n",
    "#                   'max_features': ['auto', 'sqrt', 'log2', None],\n",
    "#                   'random_state': [7, 42, 101]}\n",
    "#\n",
    "# get_best_parameters(DecisionTreeClassifier(), dtc_parameters)"
   ],
   "metadata": {
    "collapsed": false,
    "pycharm": {
     "name": "#%%\n"
    }
   }
  },
  {
   "cell_type": "code",
   "execution_count": 244,
   "outputs": [
    {
     "name": "stdout",
     "output_type": "stream",
     "text": [
      "Score on training set: 1.0\n",
      "Score on test set: 0.81\n"
     ]
    }
   ],
   "source": [
    "dtc = DecisionTreeClassifier(splitter='random', max_features=None, random_state=7)\n",
    "\n",
    "y_pred_dtc, test_set_score_dtc = fit_and_predict(dtc)\n"
   ],
   "metadata": {
    "collapsed": false,
    "pycharm": {
     "name": "#%%\n"
    }
   }
  },
  {
   "cell_type": "code",
   "execution_count": 245,
   "outputs": [
    {
     "data": {
      "text/plain": "<Figure size 432x288 with 2 Axes>",
      "image/png": "[encoded data removed]"
     },
     "metadata": {
      "needs_background": "light"
     },
     "output_type": "display_data"
    }
   ],
   "source": [
    "confusion_matrix_plot(dtc_name, y_pred_dtc)"
   ],
   "metadata": {
    "collapsed": false,
    "pycharm": {
     "name": "#%%\n"
    }
   }
  },
  {
   "cell_type": "code",
   "execution_count": 246,
   "outputs": [
    {
     "name": "stdout",
     "output_type": "stream",
     "text": [
      "              precision    recall  f1-score  support\n",
      "0              0.738462  0.695652  0.716418    69.00\n",
      "1              0.844444  0.870229  0.857143   131.00\n",
      "accuracy       0.810000  0.810000  0.810000     0.81\n",
      "macro avg      0.791453  0.782941  0.786780   200.00\n",
      "weighted avg   0.807880  0.810000  0.808593   200.00\n"
     ]
    },
    {
     "data": {
      "text/plain": "<Figure size 432x288 with 1 Axes>",
      "image/png": "[encoded data removed]"
     },
     "metadata": {
      "needs_background": "light"
     },
     "output_type": "display_data"
    }
   ],
   "source": [
    "classification_report_plot(dtc_name, y_pred_dtc)"
   ],
   "metadata": {
    "collapsed": false,
    "pycharm": {
     "name": "#%%\n"
    }
   }
  },
  {
   "cell_type": "markdown",
   "source": [
    "## LogisticRegression"
   ],
   "metadata": {
    "collapsed": false,
    "pycharm": {
     "name": "#%% md\n"
    }
   }
  },
  {
   "cell_type": "code",
   "execution_count": 247,
   "outputs": [],
   "source": [
    "lr_name = 'LR'"
   ],
   "metadata": {
    "collapsed": false,
    "pycharm": {
     "name": "#%%\n"
    }
   }
  },
  {
   "cell_type": "code",
   "execution_count": 248,
   "outputs": [],
   "source": [
    "# lr_parameters = {'C': [0.001, 0.01, 0.1, 1.0],\n",
    "#               'solver': ['liblinear', 'newton-cg', 'lbfgs', 'saga'],\n",
    "#               'random_state': [7, 42, 101]}\n",
    "#\n",
    "# get_best_parameters(LogisticRegression(), lr_parameters)"
   ],
   "metadata": {
    "collapsed": false,
    "pycharm": {
     "name": "#%%\n"
    }
   }
  },
  {
   "cell_type": "code",
   "execution_count": 249,
   "outputs": [
    {
     "name": "stdout",
     "output_type": "stream",
     "text": [
      "Score on training set: 0.91125\n",
      "Score on test set: 0.81\n"
     ]
    }
   ],
   "source": [
    "lr = LogisticRegression(C=1.0, solver='newton-cg', random_state=7)\n",
    "\n",
    "y_pred_lr, test_set_score_lr = fit_and_predict(lr)"
   ],
   "metadata": {
    "collapsed": false,
    "pycharm": {
     "name": "#%%\n"
    }
   }
  },
  {
   "cell_type": "code",
   "execution_count": 250,
   "outputs": [
    {
     "data": {
      "text/plain": "<Figure size 432x288 with 2 Axes>",
      "image/png": "[encoded data removed]"
     },
     "metadata": {
      "needs_background": "light"
     },
     "output_type": "display_data"
    }
   ],
   "source": [
    "confusion_matrix_plot(lr_name, y_pred_lr)"
   ],
   "metadata": {
    "collapsed": false,
    "pycharm": {
     "name": "#%%\n"
    }
   }
  },
  {
   "cell_type": "code",
   "execution_count": 251,
   "outputs": [
    {
     "name": "stdout",
     "output_type": "stream",
     "text": [
      "              precision    recall  f1-score  support\n",
      "0              0.942857  0.478261  0.634615    69.00\n",
      "1              0.781818  0.984733  0.871622   131.00\n",
      "accuracy       0.810000  0.810000  0.810000     0.81\n",
      "macro avg      0.862338  0.731497  0.753119   200.00\n",
      "weighted avg   0.837377  0.810000  0.789854   200.00\n"
     ]
    },
    {
     "data": {
      "text/plain": "<Figure size 432x288 with 1 Axes>",
      "image/png": "[encoded data removed]"
     },
     "metadata": {
      "needs_background": "light"
     },
     "output_type": "display_data"
    }
   ],
   "source": [
    "classification_report_plot(lr_name, y_pred_lr)"
   ],
   "metadata": {
    "collapsed": false,
    "pycharm": {
     "name": "#%%\n"
    }
   }
  },
  {
   "cell_type": "markdown",
   "source": [
    "## KNeighborsClassifier"
   ],
   "metadata": {
    "collapsed": false,
    "pycharm": {
     "name": "#%% md\n"
    }
   }
  },
  {
   "cell_type": "code",
   "execution_count": 252,
   "outputs": [],
   "source": [
    "knc_name = 'KNC'"
   ],
   "metadata": {
    "collapsed": false,
    "pycharm": {
     "name": "#%%\n"
    }
   }
  },
  {
   "cell_type": "code",
   "execution_count": 253,
   "outputs": [],
   "source": [
    "# knc_parameters = {'n_neighbors': [5, 6, 7, 8, 9, 10, 11, 12, 13, 14, 15, 16, 17, 18, 19, 20, 21, 22, 23, 24, 25, 26, 27, 28, 29, 30, 31],\n",
    "#               'algorithm': ['ball_tree']}\n",
    "#\n",
    "# get_best_parameters(KNeighborsClassifier(n_jobs=-1), knc_parameters)"
   ],
   "metadata": {
    "collapsed": false,
    "pycharm": {
     "name": "#%%\n"
    }
   }
  },
  {
   "cell_type": "code",
   "execution_count": 254,
   "outputs": [
    {
     "name": "stdout",
     "output_type": "stream",
     "text": [
      "Score on training set: 0.80375\n",
      "Score on test set: 0.75\n"
     ]
    }
   ],
   "source": [
    "knc = KNeighborsClassifier(algorithm='ball_tree', n_neighbors=31, weights='uniform', n_jobs=-1)\n",
    "\n",
    "y_pred_knc, test_set_score_knc = fit_and_predict(knc)"
   ],
   "metadata": {
    "collapsed": false,
    "pycharm": {
     "name": "#%%\n"
    }
   }
  },
  {
   "cell_type": "code",
   "execution_count": 255,
   "outputs": [
    {
     "data": {
      "text/plain": "<Figure size 432x288 with 2 Axes>",
      "image/png": "[encoded data removed]"
     },
     "metadata": {
      "needs_background": "light"
     },
     "output_type": "display_data"
    }
   ],
   "source": [
    "confusion_matrix_plot(knc_name, y_pred_knc)"
   ],
   "metadata": {
    "collapsed": false,
    "pycharm": {
     "name": "#%%\n"
    }
   }
  },
  {
   "cell_type": "code",
   "execution_count": 256,
   "outputs": [
    {
     "name": "stdout",
     "output_type": "stream",
     "text": [
      "              precision    recall  f1-score  support\n",
      "0              0.633803  0.652174  0.642857    69.00\n",
      "1              0.813953  0.801527  0.807692   131.00\n",
      "accuracy       0.750000  0.750000  0.750000     0.75\n",
      "macro avg      0.723878  0.726850  0.725275   200.00\n",
      "weighted avg   0.751802  0.750000  0.750824   200.00\n"
     ]
    },
    {
     "data": {
      "text/plain": "<Figure size 432x288 with 1 Axes>",
      "image/png": "[encoded data removed]"
     },
     "metadata": {
      "needs_background": "light"
     },
     "output_type": "display_data"
    }
   ],
   "source": [
    "classification_report_plot(knc_name, y_pred_knc)"
   ],
   "metadata": {
    "collapsed": false,
    "pycharm": {
     "name": "#%%\n"
    }
   }
  },
  {
   "cell_type": "markdown",
   "source": [
    "## Support Vector Machine"
   ],
   "metadata": {
    "collapsed": false,
    "pycharm": {
     "name": "#%% md\n"
    }
   }
  },
  {
   "cell_type": "code",
   "execution_count": 257,
   "outputs": [],
   "source": [
    "svc_name = 'SVC'"
   ],
   "metadata": {
    "collapsed": false,
    "pycharm": {
     "name": "#%%\n"
    }
   }
  },
  {
   "cell_type": "code",
   "execution_count": 258,
   "outputs": [],
   "source": [
    "# svc_parameters = {'C': [0.001, 0.01, 0.1, 1.0],\n",
    "#               'kernel': ['linear', 'rbf', 'sigmoid', 'poly'],\n",
    "#               'decision_function_shape': ['ovo', 'ovr']}\n",
    "#\n",
    "# get_best_parameters(SVC(), svc_parameters)"
   ],
   "metadata": {
    "collapsed": false,
    "pycharm": {
     "name": "#%%\n"
    }
   }
  },
  {
   "cell_type": "code",
   "execution_count": 259,
   "outputs": [
    {
     "name": "stdout",
     "output_type": "stream",
     "text": [
      "Score on training set: 0.985\n",
      "Score on test set: 0.87\n"
     ]
    }
   ],
   "source": [
    "svc = SVC(C=1.0, kernel='linear', decision_function_shape='ovo')\n",
    "\n",
    "y_pred_svc, test_set_score_svc = fit_and_predict(svc)"
   ],
   "metadata": {
    "collapsed": false,
    "pycharm": {
     "name": "#%%\n"
    }
   }
  },
  {
   "cell_type": "code",
   "execution_count": 260,
   "outputs": [
    {
     "data": {
      "text/plain": "<Figure size 432x288 with 2 Axes>",
      "image/png": "[encoded data removed]"
     },
     "metadata": {
      "needs_background": "light"
     },
     "output_type": "display_data"
    }
   ],
   "source": [
    "confusion_matrix_plot(svc_name, y_pred_svc)"
   ],
   "metadata": {
    "collapsed": false,
    "pycharm": {
     "name": "#%%\n"
    }
   }
  },
  {
   "cell_type": "code",
   "execution_count": 261,
   "outputs": [
    {
     "name": "stdout",
     "output_type": "stream",
     "text": [
      "              precision    recall  f1-score  support\n",
      "0              0.890909  0.710145  0.790323    69.00\n",
      "1              0.862069  0.954198  0.905797   131.00\n",
      "accuracy       0.870000  0.870000  0.870000     0.87\n",
      "macro avg      0.876489  0.832172  0.848060   200.00\n",
      "weighted avg   0.872019  0.870000  0.865958   200.00\n"
     ]
    },
    {
     "data": {
      "text/plain": "<Figure size 432x288 with 1 Axes>",
      "image/png": "[encoded data removed]"
     },
     "metadata": {
      "needs_background": "light"
     },
     "output_type": "display_data"
    }
   ],
   "source": [
    "classification_report_plot(svc_name, y_pred_svc)"
   ],
   "metadata": {
    "collapsed": false,
    "pycharm": {
     "name": "#%%\n"
    }
   }
  },
  {
   "cell_type": "markdown",
   "source": [
    "## RandomForestClassifier"
   ],
   "metadata": {
    "collapsed": false,
    "pycharm": {
     "name": "#%% md\n"
    }
   }
  },
  {
   "cell_type": "code",
   "execution_count": 262,
   "outputs": [],
   "source": [
    "rfc_name = 'RFC'"
   ],
   "metadata": {
    "collapsed": false,
    "pycharm": {
     "name": "#%%\n"
    }
   }
  },
  {
   "cell_type": "code",
   "execution_count": 263,
   "outputs": [],
   "source": [
    "# rfc_parameters = {'n_estimators': [10, 50, 100, 250, 500],\n",
    "#               'random_state': [7, 42, 101]}\n",
    "#\n",
    "# get_best_parameters(RandomForestClassifier(), rfc_parameters)"
   ],
   "metadata": {
    "collapsed": false,
    "pycharm": {
     "name": "#%%\n"
    }
   }
  },
  {
   "cell_type": "code",
   "execution_count": 264,
   "outputs": [
    {
     "name": "stdout",
     "output_type": "stream",
     "text": [
      "Score on training set: 1.0\n",
      "Score on test set: 0.795\n"
     ]
    }
   ],
   "source": [
    "rfc = RandomForestClassifier(n_estimators=100, n_jobs=-1, random_state=42)\n",
    "\n",
    "y_pred_rfc, test_set_score_rfc = fit_and_predict(rfc)"
   ],
   "metadata": {
    "collapsed": false,
    "pycharm": {
     "name": "#%%\n"
    }
   }
  },
  {
   "cell_type": "code",
   "execution_count": 265,
   "outputs": [
    {
     "data": {
      "text/plain": "<Figure size 432x288 with 2 Axes>",
      "image/png": "[encoded data removed]"
     },
     "metadata": {
      "needs_background": "light"
     },
     "output_type": "display_data"
    }
   ],
   "source": [
    "confusion_matrix_plot(rfc_name, y_pred_rfc)"
   ],
   "metadata": {
    "collapsed": false,
    "pycharm": {
     "name": "#%%\n"
    }
   }
  },
  {
   "cell_type": "code",
   "execution_count": 266,
   "outputs": [
    {
     "name": "stdout",
     "output_type": "stream",
     "text": [
      "              precision    recall  f1-score  support\n",
      "0              1.000000  0.405797  0.577320   69.000\n",
      "1              0.761628  1.000000  0.864686  131.000\n",
      "accuracy       0.795000  0.795000  0.795000    0.795\n",
      "macro avg      0.880814  0.702899  0.721003  200.000\n",
      "weighted avg   0.843866  0.795000  0.765545  200.000\n"
     ]
    },
    {
     "data": {
      "text/plain": "<Figure size 432x288 with 1 Axes>",
      "image/png": "[encoded data removed]"
     },
     "metadata": {
      "needs_background": "light"
     },
     "output_type": "display_data"
    }
   ],
   "source": [
    "classification_report_plot(rfc_name, y_pred_rfc)"
   ],
   "metadata": {
    "collapsed": false,
    "pycharm": {
     "name": "#%%\n"
    }
   }
  },
  {
   "cell_type": "markdown",
   "source": [
    "## Plot algorithm accuracy"
   ],
   "metadata": {
    "collapsed": false,
    "pycharm": {
     "name": "#%% md\n"
    }
   }
  },
  {
   "cell_type": "code",
   "execution_count": 267,
   "outputs": [
    {
     "data": {
      "text/plain": "<Figure size 432x288 with 1 Axes>",
      "image/png": "[encoded data removed]"
     },
     "metadata": {
      "needs_background": "light"
     },
     "output_type": "display_data"
    }
   ],
   "source": [
    "labels = [ada_name, gnb_name, dtc_name, lr_name, knc_name, svc_name, rfc_name]\n",
    "score_values = [test_set_score_ada, test_set_score_gnb, test_set_score_dtc, test_set_score_lr, test_set_score_knc, test_set_score_svc, test_set_score_rfc]\n",
    "\n",
    "x = np.arange(len(labels))  # the label locations\n",
    "width = 0.35  # the width of the space between bar\n",
    "width_bar = 0.50\n",
    "\n",
    "fig, ax = plt.subplots()\n",
    "rects1 = ax.bar(x - width/2, score_values, width_bar, label='accuracy')\n",
    "\n",
    "# Add some text for labels, title and custom x-axis tick labels, etc.\n",
    "ax.set_ylabel('Scores')\n",
    "ax.set_title('Algorithm accuracy')\n",
    "ax.set_xticks(x - width/2, labels)\n",
    "ax.legend()\n",
    "\n",
    "ax.bar_label(rects1)\n",
    "\n",
    "fig.tight_layout()\n",
    "\n",
    "plt.show()"
   ],
   "metadata": {
    "collapsed": false,
    "pycharm": {
     "name": "#%%\n"
    }
   }
  },
  {
   "cell_type": "markdown",
   "source": [
    "# Predict Review"
   ],
   "metadata": {
    "collapsed": false,
    "pycharm": {
     "name": "#%% md\n"
    }
   }
  },
  {
   "cell_type": "code",
   "execution_count": 268,
   "outputs": [],
   "source": [
    "def predict_review(review):\n",
    "    df_final = pd.DataFrame([review], columns=['text'])\n",
    "    process_text(df_final)\n",
    "\n",
    "    vectorized_review = pd.DataFrame(columns=vectorizer.get_feature_names_out(), data=vectorizer.transform(df_final[\"processed_text\"]).toarray())\n",
    "\n",
    "    review_prediction = svc.predict(vectorized_review)\n",
    "\n",
    "    return review_prediction"
   ],
   "metadata": {
    "collapsed": false,
    "pycharm": {
     "name": "#%%\n"
    }
   }
  },
  {
   "cell_type": "code",
   "execution_count": 269,
   "outputs": [
    {
     "name": "stdout",
     "output_type": "stream",
     "text": [
      "[1]\n"
     ]
    }
   ],
   "source": [
    "print(predict_review(\"This restaurant is very very good and beautiful!\"))"
   ],
   "metadata": {
    "collapsed": false,
    "pycharm": {
     "name": "#%%\n"
    }
   }
  },
  {
   "cell_type": "markdown",
   "source": [],
   "metadata": {
    "collapsed": false,
    "pycharm": {
     "name": "#%% md\n"
    }
   }
  }
 ],
 "metadata": {
  "kernelspec": {
   "display_name": "Python 3",
   "language": "python",
   "name": "python3"
  },
  "language_info": {
   "codemirror_mode": {
    "name": "ipython",
    "version": 2
   },
   "file_extension": ".py",
   "mimetype": "text/x-python",
   "name": "python",
   "nbconvert_exporter": "python",
   "pygments_lexer": "ipython2",
   "version": "2.7.6"
  },
  "colab": {
   "name": "Reviews.ipynb",
   "provenance": [],
   "collapsed_sections": []
  }
 },
 "nbformat": 4,
 "nbformat_minor": 0
}