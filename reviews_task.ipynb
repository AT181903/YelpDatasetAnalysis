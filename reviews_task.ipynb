{
 "cells": [
  {
   "cell_type": "markdown",
   "source": [
    "# Task: Riconoscimento automatico di una review positiva o negativa;"
   ],
   "metadata": {
    "id": "uqcmt-OC9zM4"
   }
  },
  {
   "cell_type": "code",
   "execution_count": 702,
   "outputs": [],
   "source": [
    "import pandas as pd\n",
    "import numpy as np\n",
    "import matplotlib.pyplot as plt\n",
    "import json\n",
    "import os"
   ],
   "metadata": {
    "collapsed": false,
    "pycharm": {
     "name": "#%%\n"
    }
   }
  },
  {
   "cell_type": "markdown",
   "source": [
    "## Get reviews dataset"
   ],
   "metadata": {
    "id": "c5FpP1XwEJ2q"
   }
  },
  {
   "cell_type": "code",
   "source": [
    "df_review = pd.read_csv('./dataset/review_dropped.csv')"
   ],
   "metadata": {
    "id": "hqsr6U4UV1FW"
   },
   "execution_count": 703,
   "outputs": []
  },
  {
   "cell_type": "code",
   "source": [
    "# review_id // string, 22 character unique review id\n",
    "# user_id // string, 22 character unique user id, maps to the user in user.json\n",
    "# business_id // string, 22 character business id, maps to business in business.json\n",
    "# stars // integer, star rating\n",
    "# date // string, date formatted YYYY-MM-DD\n",
    "# text // string, the review itself\n",
    "# useful // integer, number of useful votes received by review\n",
    "# funny // integer, number of funny votes received by review\n",
    "# cool // integer, number of cool votes received by review"
   ],
   "metadata": {
    "id": "Dwm6apGn8z86"
   },
   "execution_count": 704,
   "outputs": []
  },
  {
   "cell_type": "code",
   "execution_count": 705,
   "outputs": [
    {
     "data": {
      "text/plain": "   level_0  Unnamed: 0    index               review_id  \\\n0   499000      499000  6989282  NIukhO8BR2wACBztNSRDbQ   \n1   499001      499001  6989283  H_-EZhZAZqginAR8EkKxIw   \n2   499002      499002  6989284  aeNMLPf1XGedxQLyTwS8Bg   \n3   499003      499003  6989285  oDrDjpgNDUXAmrYWU6Q1bQ   \n4   499004      499004  6989286  jbSsvlNW1VGc-o8b3WBjDw   \n\n                  user_id             business_id  stars  useful  funny  cool  \\\n0  Ta9o6-WIRDn5KDvZy8XPNA  jMStvE-tQzSpRCAO0nAE6g    1.0     0.0    0.0   0.0   \n1  k0qcNly5aTjjr__iNdPKBw  beSgKHecMsEyz6iy7gm-9w    5.0     0.0    0.0   0.0   \n2  _0EhXpz__Bs5qNckMW8IEw  Meww6RIE4cFL_kG0aRlbAA    5.0     2.0    0.0   1.0   \n3  tfxcBBdKo28s6OAYNJDM6A  mY4i1N0Hm2fjIgU0Eyn11Q    1.0     2.0    0.0   0.0   \n4  q6CU8yNwSs2ErfhX3DqaNQ  GxlUXBXe-yw6B5Fqf8kgig    3.0     2.0    1.0   1.0   \n\n                                                text                 date  \n0  Do not eat there! Horrible management, staff a...  2019-05-16 03:34:49  \n1  What a great find! Celebrated out anniversary ...  2021-05-17 01:19:06  \n2  Great happy hour & great food. I had a great t...  2021-05-09 11:23:03  \n3  I've been dining here for years, but a recent ...  2021-05-17 22:45:45  \n4  Food was pretty good. Had the southern fried c...  2016-09-19 23:52:02  ",
      "text/html": "<div>\n<style scoped>\n    .dataframe tbody tr th:only-of-type {\n        vertical-align: middle;\n    }\n\n    .dataframe tbody tr th {\n        vertical-align: top;\n    }\n\n    .dataframe thead th {\n        text-align: right;\n    }\n</style>\n<table border=\"1\" class=\"dataframe\">\n  <thead>\n    <tr style=\"text-align: right;\">\n      <th></th>\n      <th>level_0</th>\n      <th>Unnamed: 0</th>\n      <th>index</th>\n      <th>review_id</th>\n      <th>user_id</th>\n      <th>business_id</th>\n      <th>stars</th>\n      <th>useful</th>\n      <th>funny</th>\n      <th>cool</th>\n      <th>text</th>\n      <th>date</th>\n    </tr>\n  </thead>\n  <tbody>\n    <tr>\n      <th>0</th>\n      <td>499000</td>\n      <td>499000</td>\n      <td>6989282</td>\n      <td>NIukhO8BR2wACBztNSRDbQ</td>\n      <td>Ta9o6-WIRDn5KDvZy8XPNA</td>\n      <td>jMStvE-tQzSpRCAO0nAE6g</td>\n      <td>1.0</td>\n      <td>0.0</td>\n      <td>0.0</td>\n      <td>0.0</td>\n      <td>Do not eat there! Horrible management, staff a...</td>\n      <td>2019-05-16 03:34:49</td>\n    </tr>\n    <tr>\n      <th>1</th>\n      <td>499001</td>\n      <td>499001</td>\n      <td>6989283</td>\n      <td>H_-EZhZAZqginAR8EkKxIw</td>\n      <td>k0qcNly5aTjjr__iNdPKBw</td>\n      <td>beSgKHecMsEyz6iy7gm-9w</td>\n      <td>5.0</td>\n      <td>0.0</td>\n      <td>0.0</td>\n      <td>0.0</td>\n      <td>What a great find! Celebrated out anniversary ...</td>\n      <td>2021-05-17 01:19:06</td>\n    </tr>\n    <tr>\n      <th>2</th>\n      <td>499002</td>\n      <td>499002</td>\n      <td>6989284</td>\n      <td>aeNMLPf1XGedxQLyTwS8Bg</td>\n      <td>_0EhXpz__Bs5qNckMW8IEw</td>\n      <td>Meww6RIE4cFL_kG0aRlbAA</td>\n      <td>5.0</td>\n      <td>2.0</td>\n      <td>0.0</td>\n      <td>1.0</td>\n      <td>Great happy hour &amp; great food. I had a great t...</td>\n      <td>2021-05-09 11:23:03</td>\n    </tr>\n    <tr>\n      <th>3</th>\n      <td>499003</td>\n      <td>499003</td>\n      <td>6989285</td>\n      <td>oDrDjpgNDUXAmrYWU6Q1bQ</td>\n      <td>tfxcBBdKo28s6OAYNJDM6A</td>\n      <td>mY4i1N0Hm2fjIgU0Eyn11Q</td>\n      <td>1.0</td>\n      <td>2.0</td>\n      <td>0.0</td>\n      <td>0.0</td>\n      <td>I've been dining here for years, but a recent ...</td>\n      <td>2021-05-17 22:45:45</td>\n    </tr>\n    <tr>\n      <th>4</th>\n      <td>499004</td>\n      <td>499004</td>\n      <td>6989286</td>\n      <td>jbSsvlNW1VGc-o8b3WBjDw</td>\n      <td>q6CU8yNwSs2ErfhX3DqaNQ</td>\n      <td>GxlUXBXe-yw6B5Fqf8kgig</td>\n      <td>3.0</td>\n      <td>2.0</td>\n      <td>1.0</td>\n      <td>1.0</td>\n      <td>Food was pretty good. Had the southern fried c...</td>\n      <td>2016-09-19 23:52:02</td>\n    </tr>\n  </tbody>\n</table>\n</div>"
     },
     "execution_count": 705,
     "metadata": {},
     "output_type": "execute_result"
    }
   ],
   "source": [
    "# Drop some rows in order to increment performances\n",
    "\n",
    "# df_review = df_review.iloc[460000:, :]\n",
    "df_review = df_review.iloc[499000:, :]\n",
    "df_review = df_review.reset_index()\n",
    "\n",
    "df_review.head(5)"
   ],
   "metadata": {
    "pycharm": {
     "name": "#%%\n"
    },
    "colab": {
     "base_uri": "https://localhost:8080/",
     "height": 248
    },
    "id": "Mfe2YSoQIlDM",
    "outputId": "8092e73b-1616-4db6-9558-b96665fd5e12"
   }
  },
  {
   "cell_type": "markdown",
   "source": [
    "### Add boolean positive_review to dataset in order to recognize positive review (>= 4 stars)\n"
   ],
   "metadata": {
    "id": "Hoew0pJ1ENE4"
   }
  },
  {
   "cell_type": "code",
   "source": [
    "df_review['review_rating'] = np.where(df_review['stars'] >= 4, 1, 0)\n",
    "\n",
    "df_review.head(5)\n"
   ],
   "metadata": {
    "colab": {
     "base_uri": "https://localhost:8080/",
     "height": 333
    },
    "id": "APy011LzB8mN",
    "outputId": "42524750-17c8-4048-a690-9c36657c0f2f"
   },
   "execution_count": 706,
   "outputs": [
    {
     "data": {
      "text/plain": "   level_0  Unnamed: 0    index               review_id  \\\n0   499000      499000  6989282  NIukhO8BR2wACBztNSRDbQ   \n1   499001      499001  6989283  H_-EZhZAZqginAR8EkKxIw   \n2   499002      499002  6989284  aeNMLPf1XGedxQLyTwS8Bg   \n3   499003      499003  6989285  oDrDjpgNDUXAmrYWU6Q1bQ   \n4   499004      499004  6989286  jbSsvlNW1VGc-o8b3WBjDw   \n\n                  user_id             business_id  stars  useful  funny  cool  \\\n0  Ta9o6-WIRDn5KDvZy8XPNA  jMStvE-tQzSpRCAO0nAE6g    1.0     0.0    0.0   0.0   \n1  k0qcNly5aTjjr__iNdPKBw  beSgKHecMsEyz6iy7gm-9w    5.0     0.0    0.0   0.0   \n2  _0EhXpz__Bs5qNckMW8IEw  Meww6RIE4cFL_kG0aRlbAA    5.0     2.0    0.0   1.0   \n3  tfxcBBdKo28s6OAYNJDM6A  mY4i1N0Hm2fjIgU0Eyn11Q    1.0     2.0    0.0   0.0   \n4  q6CU8yNwSs2ErfhX3DqaNQ  GxlUXBXe-yw6B5Fqf8kgig    3.0     2.0    1.0   1.0   \n\n                                                text                 date  \\\n0  Do not eat there! Horrible management, staff a...  2019-05-16 03:34:49   \n1  What a great find! Celebrated out anniversary ...  2021-05-17 01:19:06   \n2  Great happy hour & great food. I had a great t...  2021-05-09 11:23:03   \n3  I've been dining here for years, but a recent ...  2021-05-17 22:45:45   \n4  Food was pretty good. Had the southern fried c...  2016-09-19 23:52:02   \n\n   review_rating  \n0              0  \n1              1  \n2              1  \n3              0  \n4              0  ",
      "text/html": "<div>\n<style scoped>\n    .dataframe tbody tr th:only-of-type {\n        vertical-align: middle;\n    }\n\n    .dataframe tbody tr th {\n        vertical-align: top;\n    }\n\n    .dataframe thead th {\n        text-align: right;\n    }\n</style>\n<table border=\"1\" class=\"dataframe\">\n  <thead>\n    <tr style=\"text-align: right;\">\n      <th></th>\n      <th>level_0</th>\n      <th>Unnamed: 0</th>\n      <th>index</th>\n      <th>review_id</th>\n      <th>user_id</th>\n      <th>business_id</th>\n      <th>stars</th>\n      <th>useful</th>\n      <th>funny</th>\n      <th>cool</th>\n      <th>text</th>\n      <th>date</th>\n      <th>review_rating</th>\n    </tr>\n  </thead>\n  <tbody>\n    <tr>\n      <th>0</th>\n      <td>499000</td>\n      <td>499000</td>\n      <td>6989282</td>\n      <td>NIukhO8BR2wACBztNSRDbQ</td>\n      <td>Ta9o6-WIRDn5KDvZy8XPNA</td>\n      <td>jMStvE-tQzSpRCAO0nAE6g</td>\n      <td>1.0</td>\n      <td>0.0</td>\n      <td>0.0</td>\n      <td>0.0</td>\n      <td>Do not eat there! Horrible management, staff a...</td>\n      <td>2019-05-16 03:34:49</td>\n      <td>0</td>\n    </tr>\n    <tr>\n      <th>1</th>\n      <td>499001</td>\n      <td>499001</td>\n      <td>6989283</td>\n      <td>H_-EZhZAZqginAR8EkKxIw</td>\n      <td>k0qcNly5aTjjr__iNdPKBw</td>\n      <td>beSgKHecMsEyz6iy7gm-9w</td>\n      <td>5.0</td>\n      <td>0.0</td>\n      <td>0.0</td>\n      <td>0.0</td>\n      <td>What a great find! Celebrated out anniversary ...</td>\n      <td>2021-05-17 01:19:06</td>\n      <td>1</td>\n    </tr>\n    <tr>\n      <th>2</th>\n      <td>499002</td>\n      <td>499002</td>\n      <td>6989284</td>\n      <td>aeNMLPf1XGedxQLyTwS8Bg</td>\n      <td>_0EhXpz__Bs5qNckMW8IEw</td>\n      <td>Meww6RIE4cFL_kG0aRlbAA</td>\n      <td>5.0</td>\n      <td>2.0</td>\n      <td>0.0</td>\n      <td>1.0</td>\n      <td>Great happy hour &amp; great food. I had a great t...</td>\n      <td>2021-05-09 11:23:03</td>\n      <td>1</td>\n    </tr>\n    <tr>\n      <th>3</th>\n      <td>499003</td>\n      <td>499003</td>\n      <td>6989285</td>\n      <td>oDrDjpgNDUXAmrYWU6Q1bQ</td>\n      <td>tfxcBBdKo28s6OAYNJDM6A</td>\n      <td>mY4i1N0Hm2fjIgU0Eyn11Q</td>\n      <td>1.0</td>\n      <td>2.0</td>\n      <td>0.0</td>\n      <td>0.0</td>\n      <td>I've been dining here for years, but a recent ...</td>\n      <td>2021-05-17 22:45:45</td>\n      <td>0</td>\n    </tr>\n    <tr>\n      <th>4</th>\n      <td>499004</td>\n      <td>499004</td>\n      <td>6989286</td>\n      <td>jbSsvlNW1VGc-o8b3WBjDw</td>\n      <td>q6CU8yNwSs2ErfhX3DqaNQ</td>\n      <td>GxlUXBXe-yw6B5Fqf8kgig</td>\n      <td>3.0</td>\n      <td>2.0</td>\n      <td>1.0</td>\n      <td>1.0</td>\n      <td>Food was pretty good. Had the southern fried c...</td>\n      <td>2016-09-19 23:52:02</td>\n      <td>0</td>\n    </tr>\n  </tbody>\n</table>\n</div>"
     },
     "execution_count": 706,
     "metadata": {},
     "output_type": "execute_result"
    }
   ]
  },
  {
   "cell_type": "markdown",
   "source": [
    "### Plot reviews"
   ],
   "metadata": {
    "id": "bl1GWpEUNZxf"
   }
  },
  {
   "cell_type": "code",
   "source": [
    "positive_count = (df_review['review_rating'] == 1).sum()\n",
    "negative_count = (df_review['review_rating'] == 0).sum()\n",
    "\n",
    "print(\"Positive reviews:\", positive_count)\n",
    "\n",
    "print(\"Negative reviews:\", negative_count)\n",
    "\n",
    "objects = ('Positive', 'Negative')\n",
    "performance = [positive_count, negative_count]\n",
    "y_pos = np.arange(len(objects))\n",
    "\n",
    "plt.bar(y_pos, performance, align='center', alpha=0.5)\n",
    "plt.xticks(y_pos, objects)\n",
    "plt.ylabel('Count')\n",
    "plt.title('Rating reviews')\n",
    "\n",
    "plt.show()\n",
    "\n"
   ],
   "metadata": {
    "colab": {
     "base_uri": "https://localhost:8080/",
     "height": 315
    },
    "id": "GRwhyhLOFmLX",
    "outputId": "919e6e07-768a-4bd2-83ca-532d7e2f950a"
   },
   "execution_count": 707,
   "outputs": [
    {
     "name": "stdout",
     "output_type": "stream",
     "text": [
      "Positive reviews: 653\n",
      "Negative reviews: 347\n"
     ]
    },
    {
     "data": {
      "text/plain": "<Figure size 432x288 with 1 Axes>",
      "image/png": "[encoded data removed]"
     },
     "metadata": {
      "needs_background": "light"
     },
     "output_type": "display_data"
    }
   ]
  },
  {
   "cell_type": "markdown",
   "source": [
    "# Text preprocessing\n"
   ],
   "metadata": {
    "id": "Ik5qtSqkEef-"
   }
  },
  {
   "cell_type": "markdown",
   "source": [
    "#### Create working df"
   ],
   "metadata": {
    "collapsed": false
   }
  },
  {
   "cell_type": "code",
   "execution_count": 708,
   "outputs": [],
   "source": [
    "df_review_text_rating = df_review[['text', 'review_rating']].copy()"
   ],
   "metadata": {
    "collapsed": false,
    "pycharm": {
     "name": "#%%\n"
    }
   }
  },
  {
   "cell_type": "code",
   "execution_count": 709,
   "outputs": [],
   "source": [
    "import nltk"
   ],
   "metadata": {
    "collapsed": false,
    "pycharm": {
     "name": "#%%\n"
    }
   }
  },
  {
   "cell_type": "markdown",
   "source": [
    "## Normalization"
   ],
   "metadata": {
    "id": "p_NyM9T6Nx_5"
   }
  },
  {
   "cell_type": "markdown",
   "source": [
    "### Expand English contractions"
   ],
   "metadata": {
    "collapsed": false
   }
  },
  {
   "cell_type": "code",
   "execution_count": 710,
   "outputs": [],
   "source": [
    "import contractions"
   ],
   "metadata": {
    "collapsed": false,
    "pycharm": {
     "name": "#%%\n"
    }
   }
  },
  {
   "cell_type": "code",
   "source": [
    "def expand(row):\n",
    "    expanded_words = []\n",
    "    for word in row['text'].split():\n",
    "        expanded_words.append(contractions.fix(word))\n",
    "    return ' '.join(expanded_words)\n",
    "\n",
    "\n",
    "df_review_text_rating['expanded_text'] = df_review_text_rating.apply(expand, axis=1)"
   ],
   "metadata": {
    "colab": {
     "base_uri": "https://localhost:8080/",
     "height": 232
    },
    "id": "OAFZy6BbNeH1",
    "outputId": "d6dee067-bd23-4195-8c8a-13fe22ca0e96"
   },
   "execution_count": 711,
   "outputs": []
  },
  {
   "cell_type": "code",
   "execution_count": 712,
   "outputs": [
    {
     "data": {
      "text/plain": "                                                text  review_rating  \\\n0  Do not eat there! Horrible management, staff a...              0   \n1  What a great find! Celebrated out anniversary ...              1   \n2  Great happy hour & great food. I had a great t...              1   \n3  I've been dining here for years, but a recent ...              0   \n4  Food was pretty good. Had the southern fried c...              0   \n\n                                       expanded_text  \n0  Do not eat there! Horrible management, staff a...  \n1  What a great find! Celebrated out anniversary ...  \n2  Great happy hour & great food. I had a great t...  \n3  I have been dining here for years, but a recen...  \n4  Food was pretty good. Had the southern fried c...  ",
      "text/html": "<div>\n<style scoped>\n    .dataframe tbody tr th:only-of-type {\n        vertical-align: middle;\n    }\n\n    .dataframe tbody tr th {\n        vertical-align: top;\n    }\n\n    .dataframe thead th {\n        text-align: right;\n    }\n</style>\n<table border=\"1\" class=\"dataframe\">\n  <thead>\n    <tr style=\"text-align: right;\">\n      <th></th>\n      <th>text</th>\n      <th>review_rating</th>\n      <th>expanded_text</th>\n    </tr>\n  </thead>\n  <tbody>\n    <tr>\n      <th>0</th>\n      <td>Do not eat there! Horrible management, staff a...</td>\n      <td>0</td>\n      <td>Do not eat there! Horrible management, staff a...</td>\n    </tr>\n    <tr>\n      <th>1</th>\n      <td>What a great find! Celebrated out anniversary ...</td>\n      <td>1</td>\n      <td>What a great find! Celebrated out anniversary ...</td>\n    </tr>\n    <tr>\n      <th>2</th>\n      <td>Great happy hour &amp; great food. I had a great t...</td>\n      <td>1</td>\n      <td>Great happy hour &amp; great food. I had a great t...</td>\n    </tr>\n    <tr>\n      <th>3</th>\n      <td>I've been dining here for years, but a recent ...</td>\n      <td>0</td>\n      <td>I have been dining here for years, but a recen...</td>\n    </tr>\n    <tr>\n      <th>4</th>\n      <td>Food was pretty good. Had the southern fried c...</td>\n      <td>0</td>\n      <td>Food was pretty good. Had the southern fried c...</td>\n    </tr>\n  </tbody>\n</table>\n</div>"
     },
     "execution_count": 712,
     "metadata": {},
     "output_type": "execute_result"
    }
   ],
   "source": [
    "df_review_text_rating.head(5)"
   ],
   "metadata": {
    "collapsed": false,
    "pycharm": {
     "name": "#%%\n"
    }
   }
  },
  {
   "cell_type": "markdown",
   "source": [
    "## Tokenize"
   ],
   "metadata": {
    "collapsed": false
   }
  },
  {
   "cell_type": "code",
   "execution_count": 713,
   "outputs": [],
   "source": [
    "from nltk.tokenize import word_tokenize"
   ],
   "metadata": {
    "collapsed": false,
    "pycharm": {
     "name": "#%%\n"
    }
   }
  },
  {
   "cell_type": "code",
   "execution_count": 714,
   "outputs": [],
   "source": [
    "def tokenize(row):\n",
    "    return word_tokenize(row['expanded_text'])\n",
    "\n",
    "\n",
    "df_review_text_rating['tokenized_text'] = df_review_text_rating.apply(tokenize, axis=1)"
   ],
   "metadata": {
    "collapsed": false,
    "pycharm": {
     "name": "#%%\n"
    }
   }
  },
  {
   "cell_type": "code",
   "execution_count": 715,
   "outputs": [
    {
     "data": {
      "text/plain": "                                                text  review_rating  \\\n0  Do not eat there! Horrible management, staff a...              0   \n1  What a great find! Celebrated out anniversary ...              1   \n2  Great happy hour & great food. I had a great t...              1   \n3  I've been dining here for years, but a recent ...              0   \n4  Food was pretty good. Had the southern fried c...              0   \n\n                                       expanded_text  \\\n0  Do not eat there! Horrible management, staff a...   \n1  What a great find! Celebrated out anniversary ...   \n2  Great happy hour & great food. I had a great t...   \n3  I have been dining here for years, but a recen...   \n4  Food was pretty good. Had the southern fried c...   \n\n                                      tokenized_text  \n0  [Do, not, eat, there, !, Horrible, management,...  \n1  [What, a, great, find, !, Celebrated, out, ann...  \n2  [Great, happy, hour, &, great, food, ., I, had...  \n3  [I, have, been, dining, here, for, years, ,, b...  \n4  [Food, was, pretty, good, ., Had, the, souther...  ",
      "text/html": "<div>\n<style scoped>\n    .dataframe tbody tr th:only-of-type {\n        vertical-align: middle;\n    }\n\n    .dataframe tbody tr th {\n        vertical-align: top;\n    }\n\n    .dataframe thead th {\n        text-align: right;\n    }\n</style>\n<table border=\"1\" class=\"dataframe\">\n  <thead>\n    <tr style=\"text-align: right;\">\n      <th></th>\n      <th>text</th>\n      <th>review_rating</th>\n      <th>expanded_text</th>\n      <th>tokenized_text</th>\n    </tr>\n  </thead>\n  <tbody>\n    <tr>\n      <th>0</th>\n      <td>Do not eat there! Horrible management, staff a...</td>\n      <td>0</td>\n      <td>Do not eat there! Horrible management, staff a...</td>\n      <td>[Do, not, eat, there, !, Horrible, management,...</td>\n    </tr>\n    <tr>\n      <th>1</th>\n      <td>What a great find! Celebrated out anniversary ...</td>\n      <td>1</td>\n      <td>What a great find! Celebrated out anniversary ...</td>\n      <td>[What, a, great, find, !, Celebrated, out, ann...</td>\n    </tr>\n    <tr>\n      <th>2</th>\n      <td>Great happy hour &amp; great food. I had a great t...</td>\n      <td>1</td>\n      <td>Great happy hour &amp; great food. I had a great t...</td>\n      <td>[Great, happy, hour, &amp;, great, food, ., I, had...</td>\n    </tr>\n    <tr>\n      <th>3</th>\n      <td>I've been dining here for years, but a recent ...</td>\n      <td>0</td>\n      <td>I have been dining here for years, but a recen...</td>\n      <td>[I, have, been, dining, here, for, years, ,, b...</td>\n    </tr>\n    <tr>\n      <th>4</th>\n      <td>Food was pretty good. Had the southern fried c...</td>\n      <td>0</td>\n      <td>Food was pretty good. Had the southern fried c...</td>\n      <td>[Food, was, pretty, good, ., Had, the, souther...</td>\n    </tr>\n  </tbody>\n</table>\n</div>"
     },
     "execution_count": 715,
     "metadata": {},
     "output_type": "execute_result"
    }
   ],
   "source": [
    "df_review_text_rating.head(5)"
   ],
   "metadata": {
    "collapsed": false,
    "pycharm": {
     "name": "#%%\n"
    }
   }
  },
  {
   "cell_type": "markdown",
   "source": [
    "## Remove puncts"
   ],
   "metadata": {
    "collapsed": false
   }
  },
  {
   "cell_type": "code",
   "execution_count": 716,
   "outputs": [
    {
     "name": "stderr",
     "output_type": "stream",
     "text": [
      "[nltk_data] Downloading package punkt to /Users/at181903/nltk_data...\n",
      "[nltk_data]   Package punkt is already up-to-date!\n"
     ]
    },
    {
     "data": {
      "text/plain": "True"
     },
     "execution_count": 716,
     "metadata": {},
     "output_type": "execute_result"
    }
   ],
   "source": [
    "nltk.download('punkt')"
   ],
   "metadata": {
    "collapsed": false,
    "pycharm": {
     "name": "#%%\n"
    }
   }
  },
  {
   "cell_type": "code",
   "execution_count": 717,
   "outputs": [],
   "source": [
    "def remove_punct(row):\n",
    "    return [word for word in row['tokenized_text'] if word.isalpha()]\n",
    "\n",
    "\n",
    "df_review_text_rating['no_punct_text'] = df_review_text_rating.apply(remove_punct, axis=1)"
   ],
   "metadata": {
    "collapsed": false,
    "pycharm": {
     "name": "#%%\n"
    }
   }
  },
  {
   "cell_type": "code",
   "execution_count": 718,
   "outputs": [
    {
     "data": {
      "text/plain": "                                                text  review_rating  \\\n0  Do not eat there! Horrible management, staff a...              0   \n1  What a great find! Celebrated out anniversary ...              1   \n2  Great happy hour & great food. I had a great t...              1   \n3  I've been dining here for years, but a recent ...              0   \n4  Food was pretty good. Had the southern fried c...              0   \n\n                                       expanded_text  \\\n0  Do not eat there! Horrible management, staff a...   \n1  What a great find! Celebrated out anniversary ...   \n2  Great happy hour & great food. I had a great t...   \n3  I have been dining here for years, but a recen...   \n4  Food was pretty good. Had the southern fried c...   \n\n                                      tokenized_text  \\\n0  [Do, not, eat, there, !, Horrible, management,...   \n1  [What, a, great, find, !, Celebrated, out, ann...   \n2  [Great, happy, hour, &, great, food, ., I, had...   \n3  [I, have, been, dining, here, for, years, ,, b...   \n4  [Food, was, pretty, good, ., Had, the, souther...   \n\n                                       no_punct_text  \n0  [Do, not, eat, there, Horrible, management, st...  \n1  [What, a, great, find, Celebrated, out, annive...  \n2  [Great, happy, hour, great, food, I, had, a, g...  \n3  [I, have, been, dining, here, for, years, but,...  \n4  [Food, was, pretty, good, Had, the, southern, ...  ",
      "text/html": "<div>\n<style scoped>\n    .dataframe tbody tr th:only-of-type {\n        vertical-align: middle;\n    }\n\n    .dataframe tbody tr th {\n        vertical-align: top;\n    }\n\n    .dataframe thead th {\n        text-align: right;\n    }\n</style>\n<table border=\"1\" class=\"dataframe\">\n  <thead>\n    <tr style=\"text-align: right;\">\n      <th></th>\n      <th>text</th>\n      <th>review_rating</th>\n      <th>expanded_text</th>\n      <th>tokenized_text</th>\n      <th>no_punct_text</th>\n    </tr>\n  </thead>\n  <tbody>\n    <tr>\n      <th>0</th>\n      <td>Do not eat there! Horrible management, staff a...</td>\n      <td>0</td>\n      <td>Do not eat there! Horrible management, staff a...</td>\n      <td>[Do, not, eat, there, !, Horrible, management,...</td>\n      <td>[Do, not, eat, there, Horrible, management, st...</td>\n    </tr>\n    <tr>\n      <th>1</th>\n      <td>What a great find! Celebrated out anniversary ...</td>\n      <td>1</td>\n      <td>What a great find! Celebrated out anniversary ...</td>\n      <td>[What, a, great, find, !, Celebrated, out, ann...</td>\n      <td>[What, a, great, find, Celebrated, out, annive...</td>\n    </tr>\n    <tr>\n      <th>2</th>\n      <td>Great happy hour &amp; great food. I had a great t...</td>\n      <td>1</td>\n      <td>Great happy hour &amp; great food. I had a great t...</td>\n      <td>[Great, happy, hour, &amp;, great, food, ., I, had...</td>\n      <td>[Great, happy, hour, great, food, I, had, a, g...</td>\n    </tr>\n    <tr>\n      <th>3</th>\n      <td>I've been dining here for years, but a recent ...</td>\n      <td>0</td>\n      <td>I have been dining here for years, but a recen...</td>\n      <td>[I, have, been, dining, here, for, years, ,, b...</td>\n      <td>[I, have, been, dining, here, for, years, but,...</td>\n    </tr>\n    <tr>\n      <th>4</th>\n      <td>Food was pretty good. Had the southern fried c...</td>\n      <td>0</td>\n      <td>Food was pretty good. Had the southern fried c...</td>\n      <td>[Food, was, pretty, good, ., Had, the, souther...</td>\n      <td>[Food, was, pretty, good, Had, the, southern, ...</td>\n    </tr>\n  </tbody>\n</table>\n</div>"
     },
     "execution_count": 718,
     "metadata": {},
     "output_type": "execute_result"
    }
   ],
   "source": [
    "df_review_text_rating.head(5)"
   ],
   "metadata": {
    "collapsed": false,
    "pycharm": {
     "name": "#%%\n"
    }
   }
  },
  {
   "cell_type": "markdown",
   "source": [
    "## Stemming"
   ],
   "metadata": {
    "collapsed": false
   }
  },
  {
   "cell_type": "code",
   "execution_count": 719,
   "outputs": [],
   "source": [
    "from nltk.stem import PorterStemmer\n",
    "\n",
    "ps = PorterStemmer()"
   ],
   "metadata": {
    "collapsed": false,
    "pycharm": {
     "name": "#%%\n"
    }
   }
  },
  {
   "cell_type": "code",
   "execution_count": 720,
   "outputs": [],
   "source": [
    "def stemming(row):\n",
    "    return [ps.stem(word) for word in row['no_punct_text']]\n",
    "\n",
    "\n",
    "df_review_text_rating['stemmed_text'] = df_review_text_rating.apply(stemming, axis=1)"
   ],
   "metadata": {
    "collapsed": false,
    "pycharm": {
     "name": "#%%\n"
    }
   }
  },
  {
   "cell_type": "code",
   "execution_count": 721,
   "outputs": [
    {
     "data": {
      "text/plain": "                                                text  review_rating  \\\n0  Do not eat there! Horrible management, staff a...              0   \n1  What a great find! Celebrated out anniversary ...              1   \n2  Great happy hour & great food. I had a great t...              1   \n3  I've been dining here for years, but a recent ...              0   \n4  Food was pretty good. Had the southern fried c...              0   \n\n                                       expanded_text  \\\n0  Do not eat there! Horrible management, staff a...   \n1  What a great find! Celebrated out anniversary ...   \n2  Great happy hour & great food. I had a great t...   \n3  I have been dining here for years, but a recen...   \n4  Food was pretty good. Had the southern fried c...   \n\n                                      tokenized_text  \\\n0  [Do, not, eat, there, !, Horrible, management,...   \n1  [What, a, great, find, !, Celebrated, out, ann...   \n2  [Great, happy, hour, &, great, food, ., I, had...   \n3  [I, have, been, dining, here, for, years, ,, b...   \n4  [Food, was, pretty, good, ., Had, the, souther...   \n\n                                       no_punct_text  \\\n0  [Do, not, eat, there, Horrible, management, st...   \n1  [What, a, great, find, Celebrated, out, annive...   \n2  [Great, happy, hour, great, food, I, had, a, g...   \n3  [I, have, been, dining, here, for, years, but,...   \n4  [Food, was, pretty, good, Had, the, southern, ...   \n\n                                        stemmed_text  \n0  [do, not, eat, there, horribl, manag, staff, a...  \n1  [what, a, great, find, celebr, out, anniversar...  \n2  [great, happi, hour, great, food, i, had, a, g...  \n3  [i, have, been, dine, here, for, year, but, a,...  \n4  [food, wa, pretti, good, had, the, southern, f...  ",
      "text/html": "<div>\n<style scoped>\n    .dataframe tbody tr th:only-of-type {\n        vertical-align: middle;\n    }\n\n    .dataframe tbody tr th {\n        vertical-align: top;\n    }\n\n    .dataframe thead th {\n        text-align: right;\n    }\n</style>\n<table border=\"1\" class=\"dataframe\">\n  <thead>\n    <tr style=\"text-align: right;\">\n      <th></th>\n      <th>text</th>\n      <th>review_rating</th>\n      <th>expanded_text</th>\n      <th>tokenized_text</th>\n      <th>no_punct_text</th>\n      <th>stemmed_text</th>\n    </tr>\n  </thead>\n  <tbody>\n    <tr>\n      <th>0</th>\n      <td>Do not eat there! Horrible management, staff a...</td>\n      <td>0</td>\n      <td>Do not eat there! Horrible management, staff a...</td>\n      <td>[Do, not, eat, there, !, Horrible, management,...</td>\n      <td>[Do, not, eat, there, Horrible, management, st...</td>\n      <td>[do, not, eat, there, horribl, manag, staff, a...</td>\n    </tr>\n    <tr>\n      <th>1</th>\n      <td>What a great find! Celebrated out anniversary ...</td>\n      <td>1</td>\n      <td>What a great find! Celebrated out anniversary ...</td>\n      <td>[What, a, great, find, !, Celebrated, out, ann...</td>\n      <td>[What, a, great, find, Celebrated, out, annive...</td>\n      <td>[what, a, great, find, celebr, out, anniversar...</td>\n    </tr>\n    <tr>\n      <th>2</th>\n      <td>Great happy hour &amp; great food. I had a great t...</td>\n      <td>1</td>\n      <td>Great happy hour &amp; great food. I had a great t...</td>\n      <td>[Great, happy, hour, &amp;, great, food, ., I, had...</td>\n      <td>[Great, happy, hour, great, food, I, had, a, g...</td>\n      <td>[great, happi, hour, great, food, i, had, a, g...</td>\n    </tr>\n    <tr>\n      <th>3</th>\n      <td>I've been dining here for years, but a recent ...</td>\n      <td>0</td>\n      <td>I have been dining here for years, but a recen...</td>\n      <td>[I, have, been, dining, here, for, years, ,, b...</td>\n      <td>[I, have, been, dining, here, for, years, but,...</td>\n      <td>[i, have, been, dine, here, for, year, but, a,...</td>\n    </tr>\n    <tr>\n      <th>4</th>\n      <td>Food was pretty good. Had the southern fried c...</td>\n      <td>0</td>\n      <td>Food was pretty good. Had the southern fried c...</td>\n      <td>[Food, was, pretty, good, ., Had, the, souther...</td>\n      <td>[Food, was, pretty, good, Had, the, southern, ...</td>\n      <td>[food, wa, pretti, good, had, the, southern, f...</td>\n    </tr>\n  </tbody>\n</table>\n</div>"
     },
     "execution_count": 721,
     "metadata": {},
     "output_type": "execute_result"
    }
   ],
   "source": [
    "df_review_text_rating.head(5)"
   ],
   "metadata": {
    "collapsed": false,
    "pycharm": {
     "name": "#%%\n"
    }
   }
  },
  {
   "cell_type": "markdown",
   "source": [
    "## Lemmatization"
   ],
   "metadata": {
    "collapsed": false
   }
  },
  {
   "cell_type": "code",
   "execution_count": 722,
   "outputs": [
    {
     "name": "stderr",
     "output_type": "stream",
     "text": [
      "[nltk_data] Downloading package wordnet to\n",
      "[nltk_data]     /Users/at181903/nltk_data...\n",
      "[nltk_data]   Package wordnet is already up-to-date!\n",
      "[nltk_data] Downloading package omw-1.4 to\n",
      "[nltk_data]     /Users/at181903/nltk_data...\n",
      "[nltk_data]   Package omw-1.4 is already up-to-date!\n"
     ]
    }
   ],
   "source": [
    "from nltk.stem.wordnet import WordNetLemmatizer\n",
    "\n",
    "nltk.download('wordnet')\n",
    "nltk.download('omw-1.4')\n",
    "\n",
    "lemmatizer = WordNetLemmatizer()"
   ],
   "metadata": {
    "collapsed": false,
    "pycharm": {
     "name": "#%%\n"
    }
   }
  },
  {
   "cell_type": "code",
   "execution_count": 723,
   "outputs": [],
   "source": [
    "def lemmatization(row):\n",
    "    return [lemmatizer.lemmatize(word) for word in row['stemmed_text']]\n",
    "\n",
    "\n",
    "df_review_text_rating['lemmatized_text'] = df_review_text_rating.apply(lemmatization, axis=1)"
   ],
   "metadata": {
    "collapsed": false,
    "pycharm": {
     "name": "#%%\n"
    }
   }
  },
  {
   "cell_type": "code",
   "execution_count": 724,
   "outputs": [
    {
     "data": {
      "text/plain": "                                                text  review_rating  \\\n0  Do not eat there! Horrible management, staff a...              0   \n1  What a great find! Celebrated out anniversary ...              1   \n2  Great happy hour & great food. I had a great t...              1   \n3  I've been dining here for years, but a recent ...              0   \n4  Food was pretty good. Had the southern fried c...              0   \n\n                                       expanded_text  \\\n0  Do not eat there! Horrible management, staff a...   \n1  What a great find! Celebrated out anniversary ...   \n2  Great happy hour & great food. I had a great t...   \n3  I have been dining here for years, but a recen...   \n4  Food was pretty good. Had the southern fried c...   \n\n                                      tokenized_text  \\\n0  [Do, not, eat, there, !, Horrible, management,...   \n1  [What, a, great, find, !, Celebrated, out, ann...   \n2  [Great, happy, hour, &, great, food, ., I, had...   \n3  [I, have, been, dining, here, for, years, ,, b...   \n4  [Food, was, pretty, good, ., Had, the, souther...   \n\n                                       no_punct_text  \\\n0  [Do, not, eat, there, Horrible, management, st...   \n1  [What, a, great, find, Celebrated, out, annive...   \n2  [Great, happy, hour, great, food, I, had, a, g...   \n3  [I, have, been, dining, here, for, years, but,...   \n4  [Food, was, pretty, good, Had, the, southern, ...   \n\n                                        stemmed_text  \\\n0  [do, not, eat, there, horribl, manag, staff, a...   \n1  [what, a, great, find, celebr, out, anniversar...   \n2  [great, happi, hour, great, food, i, had, a, g...   \n3  [i, have, been, dine, here, for, year, but, a,...   \n4  [food, wa, pretti, good, had, the, southern, f...   \n\n                                     lemmatized_text  \n0  [do, not, eat, there, horribl, manag, staff, a...  \n1  [what, a, great, find, celebr, out, anniversar...  \n2  [great, happi, hour, great, food, i, had, a, g...  \n3  [i, have, been, dine, here, for, year, but, a,...  \n4  [food, wa, pretti, good, had, the, southern, f...  ",
      "text/html": "<div>\n<style scoped>\n    .dataframe tbody tr th:only-of-type {\n        vertical-align: middle;\n    }\n\n    .dataframe tbody tr th {\n        vertical-align: top;\n    }\n\n    .dataframe thead th {\n        text-align: right;\n    }\n</style>\n<table border=\"1\" class=\"dataframe\">\n  <thead>\n    <tr style=\"text-align: right;\">\n      <th></th>\n      <th>text</th>\n      <th>review_rating</th>\n      <th>expanded_text</th>\n      <th>tokenized_text</th>\n      <th>no_punct_text</th>\n      <th>stemmed_text</th>\n      <th>lemmatized_text</th>\n    </tr>\n  </thead>\n  <tbody>\n    <tr>\n      <th>0</th>\n      <td>Do not eat there! Horrible management, staff a...</td>\n      <td>0</td>\n      <td>Do not eat there! Horrible management, staff a...</td>\n      <td>[Do, not, eat, there, !, Horrible, management,...</td>\n      <td>[Do, not, eat, there, Horrible, management, st...</td>\n      <td>[do, not, eat, there, horribl, manag, staff, a...</td>\n      <td>[do, not, eat, there, horribl, manag, staff, a...</td>\n    </tr>\n    <tr>\n      <th>1</th>\n      <td>What a great find! Celebrated out anniversary ...</td>\n      <td>1</td>\n      <td>What a great find! Celebrated out anniversary ...</td>\n      <td>[What, a, great, find, !, Celebrated, out, ann...</td>\n      <td>[What, a, great, find, Celebrated, out, annive...</td>\n      <td>[what, a, great, find, celebr, out, anniversar...</td>\n      <td>[what, a, great, find, celebr, out, anniversar...</td>\n    </tr>\n    <tr>\n      <th>2</th>\n      <td>Great happy hour &amp; great food. I had a great t...</td>\n      <td>1</td>\n      <td>Great happy hour &amp; great food. I had a great t...</td>\n      <td>[Great, happy, hour, &amp;, great, food, ., I, had...</td>\n      <td>[Great, happy, hour, great, food, I, had, a, g...</td>\n      <td>[great, happi, hour, great, food, i, had, a, g...</td>\n      <td>[great, happi, hour, great, food, i, had, a, g...</td>\n    </tr>\n    <tr>\n      <th>3</th>\n      <td>I've been dining here for years, but a recent ...</td>\n      <td>0</td>\n      <td>I have been dining here for years, but a recen...</td>\n      <td>[I, have, been, dining, here, for, years, ,, b...</td>\n      <td>[I, have, been, dining, here, for, years, but,...</td>\n      <td>[i, have, been, dine, here, for, year, but, a,...</td>\n      <td>[i, have, been, dine, here, for, year, but, a,...</td>\n    </tr>\n    <tr>\n      <th>4</th>\n      <td>Food was pretty good. Had the southern fried c...</td>\n      <td>0</td>\n      <td>Food was pretty good. Had the southern fried c...</td>\n      <td>[Food, was, pretty, good, ., Had, the, souther...</td>\n      <td>[Food, was, pretty, good, Had, the, southern, ...</td>\n      <td>[food, wa, pretti, good, had, the, southern, f...</td>\n      <td>[food, wa, pretti, good, had, the, southern, f...</td>\n    </tr>\n  </tbody>\n</table>\n</div>"
     },
     "execution_count": 724,
     "metadata": {},
     "output_type": "execute_result"
    }
   ],
   "source": [
    "df_review_text_rating.head(5)"
   ],
   "metadata": {
    "collapsed": false,
    "pycharm": {
     "name": "#%%\n"
    }
   }
  },
  {
   "cell_type": "markdown",
   "source": [
    "## Remove stopwords"
   ],
   "metadata": {
    "collapsed": false
   }
  },
  {
   "cell_type": "code",
   "execution_count": 725,
   "outputs": [],
   "source": [
    "# from nltk.corpus import stopwords\n",
    "# nltk.download('stopwords')"
   ],
   "metadata": {
    "collapsed": false,
    "pycharm": {
     "name": "#%%\n"
    }
   }
  },
  {
   "cell_type": "code",
   "execution_count": 726,
   "outputs": [],
   "source": [
    "# df_review_text_no_stopwords = df_review_text_lemmatized\n",
    "#\n",
    "# def remove_stopwords(row):\n",
    "#   return [word for word in row['lemmatized_text'] if not word in stopwords.words()]\n",
    "#\n",
    "# df_review_text_no_stopwords['no_stopwords'] = df_review_text_no_stopwords.apply(remove_stopwords, axis=1)"
   ],
   "metadata": {
    "collapsed": false,
    "pycharm": {
     "name": "#%%\n"
    }
   }
  },
  {
   "cell_type": "code",
   "execution_count": 727,
   "outputs": [],
   "source": [
    "# df_review_text_no_stopwords.head(5)"
   ],
   "metadata": {
    "collapsed": false,
    "pycharm": {
     "name": "#%%\n"
    }
   }
  },
  {
   "cell_type": "markdown",
   "source": [
    "## Rejoin words after processing"
   ],
   "metadata": {
    "collapsed": false
   }
  },
  {
   "cell_type": "code",
   "execution_count": 728,
   "outputs": [
    {
     "data": {
      "text/plain": "                                                  text  review_rating  \\\n0    Do not eat there! Horrible management, staff a...              0   \n1    What a great find! Celebrated out anniversary ...              1   \n2    Great happy hour & great food. I had a great t...              1   \n3    I've been dining here for years, but a recent ...              0   \n4    Food was pretty good. Had the southern fried c...              0   \n..                                                 ...            ...   \n995  Latest addition to services from ICCU is Apple...              1   \n996  This spot offers a great, affordable east week...              1   \n997  This Home Depot won me over when I needed to g...              1   \n998  For when I'm feeling like ignoring my calorie-...              1   \n999  Located in the 'Walking District' in Nashville...              0   \n\n                                         expanded_text  \\\n0    Do not eat there! Horrible management, staff a...   \n1    What a great find! Celebrated out anniversary ...   \n2    Great happy hour & great food. I had a great t...   \n3    I have been dining here for years, but a recen...   \n4    Food was pretty good. Had the southern fried c...   \n..                                                 ...   \n995  Latest addition to services from ICCU is Apple...   \n996  This spot offers a great, affordable east week...   \n997  This Home Depot won me over when I needed to g...   \n998  For when I am feeling like ignoring my calorie...   \n999  Located in the 'Walking District' in Nashville...   \n\n                                        tokenized_text  \\\n0    [Do, not, eat, there, !, Horrible, management,...   \n1    [What, a, great, find, !, Celebrated, out, ann...   \n2    [Great, happy, hour, &, great, food, ., I, had...   \n3    [I, have, been, dining, here, for, years, ,, b...   \n4    [Food, was, pretty, good, ., Had, the, souther...   \n..                                                 ...   \n995  [Latest, addition, to, services, from, ICCU, i...   \n996  [This, spot, offers, a, great, ,, affordable, ...   \n997  [This, Home, Depot, won, me, over, when, I, ne...   \n998  [For, when, I, am, feeling, like, ignoring, my...   \n999  [Located, in, the, 'Walking, District, ', in, ...   \n\n                                         no_punct_text  \\\n0    [Do, not, eat, there, Horrible, management, st...   \n1    [What, a, great, find, Celebrated, out, annive...   \n2    [Great, happy, hour, great, food, I, had, a, g...   \n3    [I, have, been, dining, here, for, years, but,...   \n4    [Food, was, pretty, good, Had, the, southern, ...   \n..                                                 ...   \n995  [Latest, addition, to, services, from, ICCU, i...   \n996  [This, spot, offers, a, great, affordable, eas...   \n997  [This, Home, Depot, won, me, over, when, I, ne...   \n998  [For, when, I, am, feeling, like, ignoring, my...   \n999  [Located, in, the, District, in, Nashville, it...   \n\n                                          stemmed_text  \\\n0    [do, not, eat, there, horribl, manag, staff, a...   \n1    [what, a, great, find, celebr, out, anniversar...   \n2    [great, happi, hour, great, food, i, had, a, g...   \n3    [i, have, been, dine, here, for, year, but, a,...   \n4    [food, wa, pretti, good, had, the, southern, f...   \n..                                                 ...   \n995  [latest, addit, to, servic, from, iccu, is, ap...   \n996  [thi, spot, offer, a, great, afford, east, wee...   \n997  [thi, home, depot, won, me, over, when, i, nee...   \n998  [for, when, i, am, feel, like, ignor, my, and,...   \n999  [locat, in, the, district, in, nashvil, it, is...   \n\n                                       lemmatized_text  \\\n0    [do, not, eat, there, horribl, manag, staff, a...   \n1    [what, a, great, find, celebr, out, anniversar...   \n2    [great, happi, hour, great, food, i, had, a, g...   \n3    [i, have, been, dine, here, for, year, but, a,...   \n4    [food, wa, pretti, good, had, the, southern, f...   \n..                                                 ...   \n995  [latest, addit, to, servic, from, iccu, is, ap...   \n996  [thi, spot, offer, a, great, afford, east, wee...   \n997  [thi, home, depot, won, me, over, when, i, nee...   \n998  [for, when, i, am, feel, like, ignor, my, and,...   \n999  [locat, in, the, district, in, nashvil, it, is...   \n\n                                        processed_text  \n0    do not eat there horribl manag staff and food ...  \n1    what a great find celebr out anniversari and t...  \n2    great happi hour great food i had a great time...  \n3    i have been dine here for year but a recent ho...  \n4    food wa pretti good had the southern fri chick...  \n..                                                 ...  \n995  latest addit to servic from iccu is appl pay f...  \n996  thi spot offer a great afford east weekend pad...  \n997  thi home depot won me over when i need to get ...  \n998  for when i am feel like ignor my and indulg in...  \n999  locat in the district in nashvil it is wa a bi...  \n\n[1000 rows x 8 columns]",
      "text/html": "<div>\n<style scoped>\n    .dataframe tbody tr th:only-of-type {\n        vertical-align: middle;\n    }\n\n    .dataframe tbody tr th {\n        vertical-align: top;\n    }\n\n    .dataframe thead th {\n        text-align: right;\n    }\n</style>\n<table border=\"1\" class=\"dataframe\">\n  <thead>\n    <tr style=\"text-align: right;\">\n      <th></th>\n      <th>text</th>\n      <th>review_rating</th>\n      <th>expanded_text</th>\n      <th>tokenized_text</th>\n      <th>no_punct_text</th>\n      <th>stemmed_text</th>\n      <th>lemmatized_text</th>\n      <th>processed_text</th>\n    </tr>\n  </thead>\n  <tbody>\n    <tr>\n      <th>0</th>\n      <td>Do not eat there! Horrible management, staff a...</td>\n      <td>0</td>\n      <td>Do not eat there! Horrible management, staff a...</td>\n      <td>[Do, not, eat, there, !, Horrible, management,...</td>\n      <td>[Do, not, eat, there, Horrible, management, st...</td>\n      <td>[do, not, eat, there, horribl, manag, staff, a...</td>\n      <td>[do, not, eat, there, horribl, manag, staff, a...</td>\n      <td>do not eat there horribl manag staff and food ...</td>\n    </tr>\n    <tr>\n      <th>1</th>\n      <td>What a great find! Celebrated out anniversary ...</td>\n      <td>1</td>\n      <td>What a great find! Celebrated out anniversary ...</td>\n      <td>[What, a, great, find, !, Celebrated, out, ann...</td>\n      <td>[What, a, great, find, Celebrated, out, annive...</td>\n      <td>[what, a, great, find, celebr, out, anniversar...</td>\n      <td>[what, a, great, find, celebr, out, anniversar...</td>\n      <td>what a great find celebr out anniversari and t...</td>\n    </tr>\n    <tr>\n      <th>2</th>\n      <td>Great happy hour &amp; great food. I had a great t...</td>\n      <td>1</td>\n      <td>Great happy hour &amp; great food. I had a great t...</td>\n      <td>[Great, happy, hour, &amp;, great, food, ., I, had...</td>\n      <td>[Great, happy, hour, great, food, I, had, a, g...</td>\n      <td>[great, happi, hour, great, food, i, had, a, g...</td>\n      <td>[great, happi, hour, great, food, i, had, a, g...</td>\n      <td>great happi hour great food i had a great time...</td>\n    </tr>\n    <tr>\n      <th>3</th>\n      <td>I've been dining here for years, but a recent ...</td>\n      <td>0</td>\n      <td>I have been dining here for years, but a recen...</td>\n      <td>[I, have, been, dining, here, for, years, ,, b...</td>\n      <td>[I, have, been, dining, here, for, years, but,...</td>\n      <td>[i, have, been, dine, here, for, year, but, a,...</td>\n      <td>[i, have, been, dine, here, for, year, but, a,...</td>\n      <td>i have been dine here for year but a recent ho...</td>\n    </tr>\n    <tr>\n      <th>4</th>\n      <td>Food was pretty good. Had the southern fried c...</td>\n      <td>0</td>\n      <td>Food was pretty good. Had the southern fried c...</td>\n      <td>[Food, was, pretty, good, ., Had, the, souther...</td>\n      <td>[Food, was, pretty, good, Had, the, southern, ...</td>\n      <td>[food, wa, pretti, good, had, the, southern, f...</td>\n      <td>[food, wa, pretti, good, had, the, southern, f...</td>\n      <td>food wa pretti good had the southern fri chick...</td>\n    </tr>\n    <tr>\n      <th>...</th>\n      <td>...</td>\n      <td>...</td>\n      <td>...</td>\n      <td>...</td>\n      <td>...</td>\n      <td>...</td>\n      <td>...</td>\n      <td>...</td>\n    </tr>\n    <tr>\n      <th>995</th>\n      <td>Latest addition to services from ICCU is Apple...</td>\n      <td>1</td>\n      <td>Latest addition to services from ICCU is Apple...</td>\n      <td>[Latest, addition, to, services, from, ICCU, i...</td>\n      <td>[Latest, addition, to, services, from, ICCU, i...</td>\n      <td>[latest, addit, to, servic, from, iccu, is, ap...</td>\n      <td>[latest, addit, to, servic, from, iccu, is, ap...</td>\n      <td>latest addit to servic from iccu is appl pay f...</td>\n    </tr>\n    <tr>\n      <th>996</th>\n      <td>This spot offers a great, affordable east week...</td>\n      <td>1</td>\n      <td>This spot offers a great, affordable east week...</td>\n      <td>[This, spot, offers, a, great, ,, affordable, ...</td>\n      <td>[This, spot, offers, a, great, affordable, eas...</td>\n      <td>[thi, spot, offer, a, great, afford, east, wee...</td>\n      <td>[thi, spot, offer, a, great, afford, east, wee...</td>\n      <td>thi spot offer a great afford east weekend pad...</td>\n    </tr>\n    <tr>\n      <th>997</th>\n      <td>This Home Depot won me over when I needed to g...</td>\n      <td>1</td>\n      <td>This Home Depot won me over when I needed to g...</td>\n      <td>[This, Home, Depot, won, me, over, when, I, ne...</td>\n      <td>[This, Home, Depot, won, me, over, when, I, ne...</td>\n      <td>[thi, home, depot, won, me, over, when, i, nee...</td>\n      <td>[thi, home, depot, won, me, over, when, i, nee...</td>\n      <td>thi home depot won me over when i need to get ...</td>\n    </tr>\n    <tr>\n      <th>998</th>\n      <td>For when I'm feeling like ignoring my calorie-...</td>\n      <td>1</td>\n      <td>For when I am feeling like ignoring my calorie...</td>\n      <td>[For, when, I, am, feeling, like, ignoring, my...</td>\n      <td>[For, when, I, am, feeling, like, ignoring, my...</td>\n      <td>[for, when, i, am, feel, like, ignor, my, and,...</td>\n      <td>[for, when, i, am, feel, like, ignor, my, and,...</td>\n      <td>for when i am feel like ignor my and indulg in...</td>\n    </tr>\n    <tr>\n      <th>999</th>\n      <td>Located in the 'Walking District' in Nashville...</td>\n      <td>0</td>\n      <td>Located in the 'Walking District' in Nashville...</td>\n      <td>[Located, in, the, 'Walking, District, ', in, ...</td>\n      <td>[Located, in, the, District, in, Nashville, it...</td>\n      <td>[locat, in, the, district, in, nashvil, it, is...</td>\n      <td>[locat, in, the, district, in, nashvil, it, is...</td>\n      <td>locat in the district in nashvil it is wa a bi...</td>\n    </tr>\n  </tbody>\n</table>\n<p>1000 rows × 8 columns</p>\n</div>"
     },
     "execution_count": 728,
     "metadata": {},
     "output_type": "execute_result"
    }
   ],
   "source": [
    "def join_words(row):\n",
    "    return \" \".join(row['lemmatized_text'])\n",
    "\n",
    "\n",
    "df_review_text_rating['processed_text'] = df_review_text_rating.apply(join_words, axis=1)\n",
    "\n",
    "df_review_text_rating"
   ],
   "metadata": {
    "collapsed": false,
    "pycharm": {
     "name": "#%%\n"
    }
   }
  },
  {
   "cell_type": "markdown",
   "source": [
    "## Split dataframe in training_set and test_set"
   ],
   "metadata": {
    "collapsed": false
   }
  },
  {
   "cell_type": "code",
   "execution_count": 729,
   "outputs": [],
   "source": [
    "from sklearn.feature_extraction.text import CountVectorizer\n",
    "from sklearn.model_selection import train_test_split\n",
    "from sklearn.feature_extraction.text import TfidfVectorizer"
   ],
   "metadata": {
    "collapsed": false,
    "pycharm": {
     "name": "#%%\n"
    }
   }
  },
  {
   "cell_type": "code",
   "execution_count": 730,
   "outputs": [],
   "source": [
    "X = df_review_text_rating[\"processed_text\"]\n",
    "y = df_review_text_rating[\"review_rating\"]\n",
    "\n",
    "# Training set = 80%\n",
    "# Test set = 20%\n",
    "X_train, X_test, y_train, y_test = train_test_split(X, y, test_size=0.2, random_state=4)"
   ],
   "metadata": {
    "collapsed": false,
    "pycharm": {
     "name": "#%%\n"
    }
   }
  },
  {
   "cell_type": "code",
   "execution_count": 737,
   "outputs": [],
   "source": [
    "# Initialize\n",
    "vectorizer = TfidfVectorizer()\n",
    "X_train_vectorizer = vectorizer.fit_transform(X_train)\n",
    "X_test_vectorizer = vectorizer.transform(X_test)\n",
    "\n",
    "X_train_df = pd.DataFrame(columns=vectorizer.get_feature_names_out(), data=X_train_vectorizer.toarray())\n",
    "X_test_df = pd.DataFrame(columns=vectorizer.get_feature_names_out(), data=X_test_vectorizer.toarray())"
   ],
   "metadata": {
    "collapsed": false,
    "pycharm": {
     "name": "#%%\n"
    }
   }
  },
  {
   "cell_type": "code",
   "execution_count": 738,
   "outputs": [
    {
     "data": {
      "text/plain": "   abe  abid  abil  abita       abl  about  abov  abrupt  abruptli  absolut  \\\n0  0.0   0.0   0.0    0.0  0.000000    0.0   0.0     0.0       0.0      0.0   \n1  0.0   0.0   0.0    0.0  0.000000    0.0   0.0     0.0       0.0      0.0   \n2  0.0   0.0   0.0    0.0  0.000000    0.0   0.0     0.0       0.0      0.0   \n3  0.0   0.0   0.0    0.0  0.072876    0.0   0.0     0.0       0.0      0.0   \n4  0.0   0.0   0.0    0.0  0.000000    0.0   0.0     0.0       0.0      0.0   \n\n   ...  zero  zest  zip  ziplock  zlt  zoal  zucchini  zumba  zushipok  ànd  \n0  ...   0.0   0.0  0.0      0.0  0.0   0.0       0.0    0.0       0.0  0.0  \n1  ...   0.0   0.0  0.0      0.0  0.0   0.0       0.0    0.0       0.0  0.0  \n2  ...   0.0   0.0  0.0      0.0  0.0   0.0       0.0    0.0       0.0  0.0  \n3  ...   0.0   0.0  0.0      0.0  0.0   0.0       0.0    0.0       0.0  0.0  \n4  ...   0.0   0.0  0.0      0.0  0.0   0.0       0.0    0.0       0.0  0.0  \n\n[5 rows x 5819 columns]",
      "text/html": "<div>\n<style scoped>\n    .dataframe tbody tr th:only-of-type {\n        vertical-align: middle;\n    }\n\n    .dataframe tbody tr th {\n        vertical-align: top;\n    }\n\n    .dataframe thead th {\n        text-align: right;\n    }\n</style>\n<table border=\"1\" class=\"dataframe\">\n  <thead>\n    <tr style=\"text-align: right;\">\n      <th></th>\n      <th>abe</th>\n      <th>abid</th>\n      <th>abil</th>\n      <th>abita</th>\n      <th>abl</th>\n      <th>about</th>\n      <th>abov</th>\n      <th>abrupt</th>\n      <th>abruptli</th>\n      <th>absolut</th>\n      <th>...</th>\n      <th>zero</th>\n      <th>zest</th>\n      <th>zip</th>\n      <th>ziplock</th>\n      <th>zlt</th>\n      <th>zoal</th>\n      <th>zucchini</th>\n      <th>zumba</th>\n      <th>zushipok</th>\n      <th>ànd</th>\n    </tr>\n  </thead>\n  <tbody>\n    <tr>\n      <th>0</th>\n      <td>0.0</td>\n      <td>0.0</td>\n      <td>0.0</td>\n      <td>0.0</td>\n      <td>0.000000</td>\n      <td>0.0</td>\n      <td>0.0</td>\n      <td>0.0</td>\n      <td>0.0</td>\n      <td>0.0</td>\n      <td>...</td>\n      <td>0.0</td>\n      <td>0.0</td>\n      <td>0.0</td>\n      <td>0.0</td>\n      <td>0.0</td>\n      <td>0.0</td>\n      <td>0.0</td>\n      <td>0.0</td>\n      <td>0.0</td>\n      <td>0.0</td>\n    </tr>\n    <tr>\n      <th>1</th>\n      <td>0.0</td>\n      <td>0.0</td>\n      <td>0.0</td>\n      <td>0.0</td>\n      <td>0.000000</td>\n      <td>0.0</td>\n      <td>0.0</td>\n      <td>0.0</td>\n      <td>0.0</td>\n      <td>0.0</td>\n      <td>...</td>\n      <td>0.0</td>\n      <td>0.0</td>\n      <td>0.0</td>\n      <td>0.0</td>\n      <td>0.0</td>\n      <td>0.0</td>\n      <td>0.0</td>\n      <td>0.0</td>\n      <td>0.0</td>\n      <td>0.0</td>\n    </tr>\n    <tr>\n      <th>2</th>\n      <td>0.0</td>\n      <td>0.0</td>\n      <td>0.0</td>\n      <td>0.0</td>\n      <td>0.000000</td>\n      <td>0.0</td>\n      <td>0.0</td>\n      <td>0.0</td>\n      <td>0.0</td>\n      <td>0.0</td>\n      <td>...</td>\n      <td>0.0</td>\n      <td>0.0</td>\n      <td>0.0</td>\n      <td>0.0</td>\n      <td>0.0</td>\n      <td>0.0</td>\n      <td>0.0</td>\n      <td>0.0</td>\n      <td>0.0</td>\n      <td>0.0</td>\n    </tr>\n    <tr>\n      <th>3</th>\n      <td>0.0</td>\n      <td>0.0</td>\n      <td>0.0</td>\n      <td>0.0</td>\n      <td>0.072876</td>\n      <td>0.0</td>\n      <td>0.0</td>\n      <td>0.0</td>\n      <td>0.0</td>\n      <td>0.0</td>\n      <td>...</td>\n      <td>0.0</td>\n      <td>0.0</td>\n      <td>0.0</td>\n      <td>0.0</td>\n      <td>0.0</td>\n      <td>0.0</td>\n      <td>0.0</td>\n      <td>0.0</td>\n      <td>0.0</td>\n      <td>0.0</td>\n    </tr>\n    <tr>\n      <th>4</th>\n      <td>0.0</td>\n      <td>0.0</td>\n      <td>0.0</td>\n      <td>0.0</td>\n      <td>0.000000</td>\n      <td>0.0</td>\n      <td>0.0</td>\n      <td>0.0</td>\n      <td>0.0</td>\n      <td>0.0</td>\n      <td>...</td>\n      <td>0.0</td>\n      <td>0.0</td>\n      <td>0.0</td>\n      <td>0.0</td>\n      <td>0.0</td>\n      <td>0.0</td>\n      <td>0.0</td>\n      <td>0.0</td>\n      <td>0.0</td>\n      <td>0.0</td>\n    </tr>\n  </tbody>\n</table>\n<p>5 rows × 5819 columns</p>\n</div>"
     },
     "execution_count": 738,
     "metadata": {},
     "output_type": "execute_result"
    }
   ],
   "source": [
    "X_train_df.head(5)"
   ],
   "metadata": {
    "collapsed": false,
    "pycharm": {
     "name": "#%%\n"
    }
   }
  },
  {
   "cell_type": "code",
   "execution_count": 739,
   "outputs": [
    {
     "data": {
      "text/plain": "   abe  abid  abil  abita  abl     about  abov  abrupt  abruptli  absolut  \\\n0  0.0   0.0   0.0    0.0  0.0  0.000000   0.0     0.0       0.0      0.0   \n1  0.0   0.0   0.0    0.0  0.0  0.064824   0.0     0.0       0.0      0.0   \n2  0.0   0.0   0.0    0.0  0.0  0.000000   0.0     0.0       0.0      0.0   \n3  0.0   0.0   0.0    0.0  0.0  0.000000   0.0     0.0       0.0      0.0   \n4  0.0   0.0   0.0    0.0  0.0  0.000000   0.0     0.0       0.0      0.0   \n\n   ...  zero  zest  zip  ziplock  zlt  zoal  zucchini  zumba  zushipok  ànd  \n0  ...   0.0   0.0  0.0      0.0  0.0   0.0       0.0    0.0       0.0  0.0  \n1  ...   0.0   0.0  0.0      0.0  0.0   0.0       0.0    0.0       0.0  0.0  \n2  ...   0.0   0.0  0.0      0.0  0.0   0.0       0.0    0.0       0.0  0.0  \n3  ...   0.0   0.0  0.0      0.0  0.0   0.0       0.0    0.0       0.0  0.0  \n4  ...   0.0   0.0  0.0      0.0  0.0   0.0       0.0    0.0       0.0  0.0  \n\n[5 rows x 5819 columns]",
      "text/html": "<div>\n<style scoped>\n    .dataframe tbody tr th:only-of-type {\n        vertical-align: middle;\n    }\n\n    .dataframe tbody tr th {\n        vertical-align: top;\n    }\n\n    .dataframe thead th {\n        text-align: right;\n    }\n</style>\n<table border=\"1\" class=\"dataframe\">\n  <thead>\n    <tr style=\"text-align: right;\">\n      <th></th>\n      <th>abe</th>\n      <th>abid</th>\n      <th>abil</th>\n      <th>abita</th>\n      <th>abl</th>\n      <th>about</th>\n      <th>abov</th>\n      <th>abrupt</th>\n      <th>abruptli</th>\n      <th>absolut</th>\n      <th>...</th>\n      <th>zero</th>\n      <th>zest</th>\n      <th>zip</th>\n      <th>ziplock</th>\n      <th>zlt</th>\n      <th>zoal</th>\n      <th>zucchini</th>\n      <th>zumba</th>\n      <th>zushipok</th>\n      <th>ànd</th>\n    </tr>\n  </thead>\n  <tbody>\n    <tr>\n      <th>0</th>\n      <td>0.0</td>\n      <td>0.0</td>\n      <td>0.0</td>\n      <td>0.0</td>\n      <td>0.0</td>\n      <td>0.000000</td>\n      <td>0.0</td>\n      <td>0.0</td>\n      <td>0.0</td>\n      <td>0.0</td>\n      <td>...</td>\n      <td>0.0</td>\n      <td>0.0</td>\n      <td>0.0</td>\n      <td>0.0</td>\n      <td>0.0</td>\n      <td>0.0</td>\n      <td>0.0</td>\n      <td>0.0</td>\n      <td>0.0</td>\n      <td>0.0</td>\n    </tr>\n    <tr>\n      <th>1</th>\n      <td>0.0</td>\n      <td>0.0</td>\n      <td>0.0</td>\n      <td>0.0</td>\n      <td>0.0</td>\n      <td>0.064824</td>\n      <td>0.0</td>\n      <td>0.0</td>\n      <td>0.0</td>\n      <td>0.0</td>\n      <td>...</td>\n      <td>0.0</td>\n      <td>0.0</td>\n      <td>0.0</td>\n      <td>0.0</td>\n      <td>0.0</td>\n      <td>0.0</td>\n      <td>0.0</td>\n      <td>0.0</td>\n      <td>0.0</td>\n      <td>0.0</td>\n    </tr>\n    <tr>\n      <th>2</th>\n      <td>0.0</td>\n      <td>0.0</td>\n      <td>0.0</td>\n      <td>0.0</td>\n      <td>0.0</td>\n      <td>0.000000</td>\n      <td>0.0</td>\n      <td>0.0</td>\n      <td>0.0</td>\n      <td>0.0</td>\n      <td>...</td>\n      <td>0.0</td>\n      <td>0.0</td>\n      <td>0.0</td>\n      <td>0.0</td>\n      <td>0.0</td>\n      <td>0.0</td>\n      <td>0.0</td>\n      <td>0.0</td>\n      <td>0.0</td>\n      <td>0.0</td>\n    </tr>\n    <tr>\n      <th>3</th>\n      <td>0.0</td>\n      <td>0.0</td>\n      <td>0.0</td>\n      <td>0.0</td>\n      <td>0.0</td>\n      <td>0.000000</td>\n      <td>0.0</td>\n      <td>0.0</td>\n      <td>0.0</td>\n      <td>0.0</td>\n      <td>...</td>\n      <td>0.0</td>\n      <td>0.0</td>\n      <td>0.0</td>\n      <td>0.0</td>\n      <td>0.0</td>\n      <td>0.0</td>\n      <td>0.0</td>\n      <td>0.0</td>\n      <td>0.0</td>\n      <td>0.0</td>\n    </tr>\n    <tr>\n      <th>4</th>\n      <td>0.0</td>\n      <td>0.0</td>\n      <td>0.0</td>\n      <td>0.0</td>\n      <td>0.0</td>\n      <td>0.000000</td>\n      <td>0.0</td>\n      <td>0.0</td>\n      <td>0.0</td>\n      <td>0.0</td>\n      <td>...</td>\n      <td>0.0</td>\n      <td>0.0</td>\n      <td>0.0</td>\n      <td>0.0</td>\n      <td>0.0</td>\n      <td>0.0</td>\n      <td>0.0</td>\n      <td>0.0</td>\n      <td>0.0</td>\n      <td>0.0</td>\n    </tr>\n  </tbody>\n</table>\n<p>5 rows × 5819 columns</p>\n</div>"
     },
     "execution_count": 739,
     "metadata": {},
     "output_type": "execute_result"
    }
   ],
   "source": [
    "X_test_df.head(5)"
   ],
   "metadata": {
    "collapsed": false,
    "pycharm": {
     "name": "#%%\n"
    }
   }
  },
  {
   "cell_type": "markdown",
   "source": [
    "# Algorithms"
   ],
   "metadata": {
    "collapsed": false
   }
  },
  {
   "cell_type": "code",
   "execution_count": null,
   "outputs": [],
   "source": [
    "# Features as Array\n",
    "# features = np.array(vectorizer.get_feature_names_out())"
   ],
   "metadata": {
    "collapsed": false,
    "pycharm": {
     "name": "#%%\n"
    }
   }
  },
  {
   "cell_type": "code",
   "execution_count": 741,
   "outputs": [],
   "source": [
    "from sklearn.neighbors import KNeighborsClassifier\n",
    "from sklearn.linear_model import LogisticRegression\n",
    "from sklearn.tree import DecisionTreeClassifier\n",
    "from sklearn.svm import SVC\n",
    "from sklearn.naive_bayes import GaussianNB\n",
    "from sklearn.ensemble import RandomForestClassifier, AdaBoostClassifier\n",
    "from sklearn.model_selection import GridSearchCV\n",
    "from sklearn.pipeline import Pipeline"
   ],
   "metadata": {
    "collapsed": false,
    "pycharm": {
     "name": "#%%\n"
    }
   }
  },
  {
   "cell_type": "markdown",
   "source": [
    "## AdaBoostClassifier"
   ],
   "metadata": {
    "collapsed": false
   }
  },
  {
   "cell_type": "code",
   "execution_count": 756,
   "outputs": [
    {
     "name": "stdout",
     "output_type": "stream",
     "text": [
      "Fitting 5 folds for each of 20 candidates, totalling 100 fits\n",
      "{'algorithm': 'SAMME.R', 'learning_rate': 0.1, 'n_estimators': 250}\n"
     ]
    },
    {
     "data": {
      "text/plain": "0.9663551401869159"
     },
     "execution_count": 756,
     "metadata": {},
     "output_type": "execute_result"
    }
   ],
   "source": [
    "parameters = {'n_estimators':[10,50,100,250,500],\n",
    "              'learning_rate':[0.01,0.1],\n",
    "              'algorithm' : ['SAMME', 'SAMME.R']}\n",
    "\n",
    "gs_ada = GridSearchCV(AdaBoostClassifier(), parameters,verbose=3,scoring='f1',n_jobs=-1)\n",
    "\n",
    "gs_ada.fit(X_train_vectorizer,y_train)\n",
    "\n",
    "print(gs_ada.best_params_)\n",
    "\n",
    "# Find best model score\n",
    "gs_ada.score(X_train_vectorizer, y_train)"
   ],
   "metadata": {
    "collapsed": false,
    "pycharm": {
     "name": "#%%\n"
    }
   }
  },
  {
   "cell_type": "code",
   "execution_count": 758,
   "outputs": [
    {
     "name": "stdout",
     "output_type": "stream",
     "text": [
      "Score on training set: 0.955\n",
      "Score on test set: 0.85\n"
     ]
    }
   ],
   "source": [
    "ada = AdaBoostClassifier(n_estimators=250, learning_rate=0.1, algorithm='SAMME.R')\n",
    "\n",
    "# Training model\n",
    "ada.fit(X_train_vectorizer, y_train)\n",
    "\n",
    "# Predicting the test set results\n",
    "y_pred_ada = ada.predict(X_test_vectorizer)\n",
    "\n",
    "# Training score\n",
    "print(f\"Score on training set: {ada.score(X_train_vectorizer,y_train)}\")\n",
    "print(f\"Score on test set: {ada.score(X_test_vectorizer,y_test)}\")"
   ],
   "metadata": {
    "collapsed": false,
    "pycharm": {
     "name": "#%%\n"
    }
   }
  },
  {
   "cell_type": "markdown",
   "source": [
    "## GaussianNB"
   ],
   "metadata": {
    "collapsed": false
   }
  },
  {
   "cell_type": "code",
   "execution_count": null,
   "outputs": [],
   "source": [],
   "metadata": {
    "collapsed": false,
    "pycharm": {
     "name": "#%%\n"
    }
   }
  },
  {
   "cell_type": "markdown",
   "source": [
    "## DecisionTreeClassifier"
   ],
   "metadata": {
    "collapsed": false
   }
  },
  {
   "cell_type": "code",
   "execution_count": null,
   "outputs": [],
   "source": [],
   "metadata": {
    "collapsed": false,
    "pycharm": {
     "name": "#%%\n"
    }
   }
  },
  {
   "cell_type": "markdown",
   "source": [
    "## LogisticRegression"
   ],
   "metadata": {
    "collapsed": false
   }
  },
  {
   "cell_type": "code",
   "execution_count": null,
   "outputs": [],
   "source": [],
   "metadata": {
    "collapsed": false,
    "pycharm": {
     "name": "#%%\n"
    }
   }
  },
  {
   "cell_type": "markdown",
   "source": [
    "## KNeighborsClassifier"
   ],
   "metadata": {
    "collapsed": false
   }
  },
  {
   "cell_type": "code",
   "execution_count": null,
   "outputs": [],
   "source": [],
   "metadata": {
    "collapsed": false,
    "pycharm": {
     "name": "#%%\n"
    }
   }
  },
  {
   "cell_type": "markdown",
   "source": [
    "## Support Vector Machine"
   ],
   "metadata": {
    "collapsed": false
   }
  },
  {
   "cell_type": "code",
   "execution_count": null,
   "outputs": [],
   "source": [],
   "metadata": {
    "collapsed": false,
    "pycharm": {
     "name": "#%%\n"
    }
   }
  },
  {
   "cell_type": "markdown",
   "source": [
    "## RandomForestClassifier"
   ],
   "metadata": {
    "collapsed": false
   }
  },
  {
   "cell_type": "code",
   "execution_count": null,
   "outputs": [],
   "source": [],
   "metadata": {
    "collapsed": false,
    "pycharm": {
     "name": "#%%\n"
    }
   }
  }
 ],
 "metadata": {
  "kernelspec": {
   "display_name": "Python 3",
   "language": "python",
   "name": "python3"
  },
  "language_info": {
   "codemirror_mode": {
    "name": "ipython",
    "version": 2
   },
   "file_extension": ".py",
   "mimetype": "text/x-python",
   "name": "python",
   "nbconvert_exporter": "python",
   "pygments_lexer": "ipython2",
   "version": "2.7.6"
  },
  "colab": {
   "name": "Reviews.ipynb",
   "provenance": [],
   "collapsed_sections": []
  }
 },
 "nbformat": 4,
 "nbformat_minor": 0
}