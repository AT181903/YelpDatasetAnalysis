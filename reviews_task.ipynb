{
 "cells": [
  {
   "cell_type": "markdown",
   "source": [
    "# Task: Riconoscimento automatico di una review positiva o negativa;"
   ],
   "metadata": {
    "id": "uqcmt-OC9zM4",
    "pycharm": {
     "name": "#%% md\n"
    }
   }
  },
  {
   "cell_type": "code",
   "execution_count": 1,
   "outputs": [],
   "source": [
    "import pandas as pd\n",
    "import numpy as np\n",
    "import matplotlib.pyplot as plt\n",
    "import json\n",
    "import os"
   ],
   "metadata": {
    "collapsed": false,
    "pycharm": {
     "name": "#%%\n"
    }
   }
  },
  {
   "cell_type": "markdown",
   "source": [
    "## Get reviews dataset"
   ],
   "metadata": {
    "id": "c5FpP1XwEJ2q",
    "pycharm": {
     "name": "#%% md\n"
    }
   }
  },
  {
   "cell_type": "code",
   "source": [
    "df_review = pd.read_csv('./dataset/review_dropped.csv')"
   ],
   "metadata": {
    "id": "hqsr6U4UV1FW",
    "pycharm": {
     "name": "#%%\n"
    }
   },
   "execution_count": 2,
   "outputs": []
  },
  {
   "cell_type": "code",
   "source": [
    "# review_id // string, 22 character unique review id\n",
    "# user_id // string, 22 character unique user id, maps to the user in user.json\n",
    "# business_id // string, 22 character business id, maps to business in business.json\n",
    "# stars // integer, star rating\n",
    "# date // string, date formatted YYYY-MM-DD\n",
    "# text // string, the review itself\n",
    "# useful // integer, number of useful votes received by review\n",
    "# funny // integer, number of funny votes received by review\n",
    "# cool // integer, number of cool votes received by review"
   ],
   "metadata": {
    "id": "Dwm6apGn8z86",
    "pycharm": {
     "name": "#%%\n"
    }
   },
   "execution_count": 3,
   "outputs": []
  },
  {
   "cell_type": "code",
   "execution_count": 4,
   "outputs": [
    {
     "data": {
      "text/plain": "   level_0  Unnamed: 0    index               review_id  \\\n0   499000      499000  6989282  NIukhO8BR2wACBztNSRDbQ   \n1   499001      499001  6989283  H_-EZhZAZqginAR8EkKxIw   \n2   499002      499002  6989284  aeNMLPf1XGedxQLyTwS8Bg   \n3   499003      499003  6989285  oDrDjpgNDUXAmrYWU6Q1bQ   \n4   499004      499004  6989286  jbSsvlNW1VGc-o8b3WBjDw   \n\n                  user_id             business_id  stars  useful  funny  cool  \\\n0  Ta9o6-WIRDn5KDvZy8XPNA  jMStvE-tQzSpRCAO0nAE6g    1.0     0.0    0.0   0.0   \n1  k0qcNly5aTjjr__iNdPKBw  beSgKHecMsEyz6iy7gm-9w    5.0     0.0    0.0   0.0   \n2  _0EhXpz__Bs5qNckMW8IEw  Meww6RIE4cFL_kG0aRlbAA    5.0     2.0    0.0   1.0   \n3  tfxcBBdKo28s6OAYNJDM6A  mY4i1N0Hm2fjIgU0Eyn11Q    1.0     2.0    0.0   0.0   \n4  q6CU8yNwSs2ErfhX3DqaNQ  GxlUXBXe-yw6B5Fqf8kgig    3.0     2.0    1.0   1.0   \n\n                                                text                 date  \n0  Do not eat there! Horrible management, staff a...  2019-05-16 03:34:49  \n1  What a great find! Celebrated out anniversary ...  2021-05-17 01:19:06  \n2  Great happy hour & great food. I had a great t...  2021-05-09 11:23:03  \n3  I've been dining here for years, but a recent ...  2021-05-17 22:45:45  \n4  Food was pretty good. Had the southern fried c...  2016-09-19 23:52:02  ",
      "text/html": "<div>\n<style scoped>\n    .dataframe tbody tr th:only-of-type {\n        vertical-align: middle;\n    }\n\n    .dataframe tbody tr th {\n        vertical-align: top;\n    }\n\n    .dataframe thead th {\n        text-align: right;\n    }\n</style>\n<table border=\"1\" class=\"dataframe\">\n  <thead>\n    <tr style=\"text-align: right;\">\n      <th></th>\n      <th>level_0</th>\n      <th>Unnamed: 0</th>\n      <th>index</th>\n      <th>review_id</th>\n      <th>user_id</th>\n      <th>business_id</th>\n      <th>stars</th>\n      <th>useful</th>\n      <th>funny</th>\n      <th>cool</th>\n      <th>text</th>\n      <th>date</th>\n    </tr>\n  </thead>\n  <tbody>\n    <tr>\n      <th>0</th>\n      <td>499000</td>\n      <td>499000</td>\n      <td>6989282</td>\n      <td>NIukhO8BR2wACBztNSRDbQ</td>\n      <td>Ta9o6-WIRDn5KDvZy8XPNA</td>\n      <td>jMStvE-tQzSpRCAO0nAE6g</td>\n      <td>1.0</td>\n      <td>0.0</td>\n      <td>0.0</td>\n      <td>0.0</td>\n      <td>Do not eat there! Horrible management, staff a...</td>\n      <td>2019-05-16 03:34:49</td>\n    </tr>\n    <tr>\n      <th>1</th>\n      <td>499001</td>\n      <td>499001</td>\n      <td>6989283</td>\n      <td>H_-EZhZAZqginAR8EkKxIw</td>\n      <td>k0qcNly5aTjjr__iNdPKBw</td>\n      <td>beSgKHecMsEyz6iy7gm-9w</td>\n      <td>5.0</td>\n      <td>0.0</td>\n      <td>0.0</td>\n      <td>0.0</td>\n      <td>What a great find! Celebrated out anniversary ...</td>\n      <td>2021-05-17 01:19:06</td>\n    </tr>\n    <tr>\n      <th>2</th>\n      <td>499002</td>\n      <td>499002</td>\n      <td>6989284</td>\n      <td>aeNMLPf1XGedxQLyTwS8Bg</td>\n      <td>_0EhXpz__Bs5qNckMW8IEw</td>\n      <td>Meww6RIE4cFL_kG0aRlbAA</td>\n      <td>5.0</td>\n      <td>2.0</td>\n      <td>0.0</td>\n      <td>1.0</td>\n      <td>Great happy hour &amp; great food. I had a great t...</td>\n      <td>2021-05-09 11:23:03</td>\n    </tr>\n    <tr>\n      <th>3</th>\n      <td>499003</td>\n      <td>499003</td>\n      <td>6989285</td>\n      <td>oDrDjpgNDUXAmrYWU6Q1bQ</td>\n      <td>tfxcBBdKo28s6OAYNJDM6A</td>\n      <td>mY4i1N0Hm2fjIgU0Eyn11Q</td>\n      <td>1.0</td>\n      <td>2.0</td>\n      <td>0.0</td>\n      <td>0.0</td>\n      <td>I've been dining here for years, but a recent ...</td>\n      <td>2021-05-17 22:45:45</td>\n    </tr>\n    <tr>\n      <th>4</th>\n      <td>499004</td>\n      <td>499004</td>\n      <td>6989286</td>\n      <td>jbSsvlNW1VGc-o8b3WBjDw</td>\n      <td>q6CU8yNwSs2ErfhX3DqaNQ</td>\n      <td>GxlUXBXe-yw6B5Fqf8kgig</td>\n      <td>3.0</td>\n      <td>2.0</td>\n      <td>1.0</td>\n      <td>1.0</td>\n      <td>Food was pretty good. Had the southern fried c...</td>\n      <td>2016-09-19 23:52:02</td>\n    </tr>\n  </tbody>\n</table>\n</div>"
     },
     "execution_count": 4,
     "metadata": {},
     "output_type": "execute_result"
    }
   ],
   "source": [
    "# Drop some rows in order to increment performances\n",
    "\n",
    "# df_review = df_review.iloc[460000:, :]\n",
    "df_review = df_review.iloc[499000:, :]\n",
    "df_review = df_review.reset_index()\n",
    "\n",
    "df_review.head(5)"
   ],
   "metadata": {
    "pycharm": {
     "name": "#%%\n"
    },
    "colab": {
     "base_uri": "https://localhost:8080/",
     "height": 248
    },
    "id": "Mfe2YSoQIlDM",
    "outputId": "8092e73b-1616-4db6-9558-b96665fd5e12"
   }
  },
  {
   "cell_type": "markdown",
   "source": [
    "### Add boolean positive_review to dataset in order to recognize positive review (>= 4 stars)\n"
   ],
   "metadata": {
    "id": "Hoew0pJ1ENE4",
    "pycharm": {
     "name": "#%% md\n"
    }
   }
  },
  {
   "cell_type": "code",
   "source": [
    "df_review['review_rating'] = np.where(df_review['stars'] >= 4, 1, 0)\n",
    "\n",
    "df_review.head(5)\n"
   ],
   "metadata": {
    "colab": {
     "base_uri": "https://localhost:8080/",
     "height": 333
    },
    "id": "APy011LzB8mN",
    "outputId": "42524750-17c8-4048-a690-9c36657c0f2f",
    "pycharm": {
     "name": "#%%\n"
    }
   },
   "execution_count": 5,
   "outputs": [
    {
     "data": {
      "text/plain": "   level_0  Unnamed: 0    index               review_id  \\\n0   499000      499000  6989282  NIukhO8BR2wACBztNSRDbQ   \n1   499001      499001  6989283  H_-EZhZAZqginAR8EkKxIw   \n2   499002      499002  6989284  aeNMLPf1XGedxQLyTwS8Bg   \n3   499003      499003  6989285  oDrDjpgNDUXAmrYWU6Q1bQ   \n4   499004      499004  6989286  jbSsvlNW1VGc-o8b3WBjDw   \n\n                  user_id             business_id  stars  useful  funny  cool  \\\n0  Ta9o6-WIRDn5KDvZy8XPNA  jMStvE-tQzSpRCAO0nAE6g    1.0     0.0    0.0   0.0   \n1  k0qcNly5aTjjr__iNdPKBw  beSgKHecMsEyz6iy7gm-9w    5.0     0.0    0.0   0.0   \n2  _0EhXpz__Bs5qNckMW8IEw  Meww6RIE4cFL_kG0aRlbAA    5.0     2.0    0.0   1.0   \n3  tfxcBBdKo28s6OAYNJDM6A  mY4i1N0Hm2fjIgU0Eyn11Q    1.0     2.0    0.0   0.0   \n4  q6CU8yNwSs2ErfhX3DqaNQ  GxlUXBXe-yw6B5Fqf8kgig    3.0     2.0    1.0   1.0   \n\n                                                text                 date  \\\n0  Do not eat there! Horrible management, staff a...  2019-05-16 03:34:49   \n1  What a great find! Celebrated out anniversary ...  2021-05-17 01:19:06   \n2  Great happy hour & great food. I had a great t...  2021-05-09 11:23:03   \n3  I've been dining here for years, but a recent ...  2021-05-17 22:45:45   \n4  Food was pretty good. Had the southern fried c...  2016-09-19 23:52:02   \n\n   review_rating  \n0              0  \n1              1  \n2              1  \n3              0  \n4              0  ",
      "text/html": "<div>\n<style scoped>\n    .dataframe tbody tr th:only-of-type {\n        vertical-align: middle;\n    }\n\n    .dataframe tbody tr th {\n        vertical-align: top;\n    }\n\n    .dataframe thead th {\n        text-align: right;\n    }\n</style>\n<table border=\"1\" class=\"dataframe\">\n  <thead>\n    <tr style=\"text-align: right;\">\n      <th></th>\n      <th>level_0</th>\n      <th>Unnamed: 0</th>\n      <th>index</th>\n      <th>review_id</th>\n      <th>user_id</th>\n      <th>business_id</th>\n      <th>stars</th>\n      <th>useful</th>\n      <th>funny</th>\n      <th>cool</th>\n      <th>text</th>\n      <th>date</th>\n      <th>review_rating</th>\n    </tr>\n  </thead>\n  <tbody>\n    <tr>\n      <th>0</th>\n      <td>499000</td>\n      <td>499000</td>\n      <td>6989282</td>\n      <td>NIukhO8BR2wACBztNSRDbQ</td>\n      <td>Ta9o6-WIRDn5KDvZy8XPNA</td>\n      <td>jMStvE-tQzSpRCAO0nAE6g</td>\n      <td>1.0</td>\n      <td>0.0</td>\n      <td>0.0</td>\n      <td>0.0</td>\n      <td>Do not eat there! Horrible management, staff a...</td>\n      <td>2019-05-16 03:34:49</td>\n      <td>0</td>\n    </tr>\n    <tr>\n      <th>1</th>\n      <td>499001</td>\n      <td>499001</td>\n      <td>6989283</td>\n      <td>H_-EZhZAZqginAR8EkKxIw</td>\n      <td>k0qcNly5aTjjr__iNdPKBw</td>\n      <td>beSgKHecMsEyz6iy7gm-9w</td>\n      <td>5.0</td>\n      <td>0.0</td>\n      <td>0.0</td>\n      <td>0.0</td>\n      <td>What a great find! Celebrated out anniversary ...</td>\n      <td>2021-05-17 01:19:06</td>\n      <td>1</td>\n    </tr>\n    <tr>\n      <th>2</th>\n      <td>499002</td>\n      <td>499002</td>\n      <td>6989284</td>\n      <td>aeNMLPf1XGedxQLyTwS8Bg</td>\n      <td>_0EhXpz__Bs5qNckMW8IEw</td>\n      <td>Meww6RIE4cFL_kG0aRlbAA</td>\n      <td>5.0</td>\n      <td>2.0</td>\n      <td>0.0</td>\n      <td>1.0</td>\n      <td>Great happy hour &amp; great food. I had a great t...</td>\n      <td>2021-05-09 11:23:03</td>\n      <td>1</td>\n    </tr>\n    <tr>\n      <th>3</th>\n      <td>499003</td>\n      <td>499003</td>\n      <td>6989285</td>\n      <td>oDrDjpgNDUXAmrYWU6Q1bQ</td>\n      <td>tfxcBBdKo28s6OAYNJDM6A</td>\n      <td>mY4i1N0Hm2fjIgU0Eyn11Q</td>\n      <td>1.0</td>\n      <td>2.0</td>\n      <td>0.0</td>\n      <td>0.0</td>\n      <td>I've been dining here for years, but a recent ...</td>\n      <td>2021-05-17 22:45:45</td>\n      <td>0</td>\n    </tr>\n    <tr>\n      <th>4</th>\n      <td>499004</td>\n      <td>499004</td>\n      <td>6989286</td>\n      <td>jbSsvlNW1VGc-o8b3WBjDw</td>\n      <td>q6CU8yNwSs2ErfhX3DqaNQ</td>\n      <td>GxlUXBXe-yw6B5Fqf8kgig</td>\n      <td>3.0</td>\n      <td>2.0</td>\n      <td>1.0</td>\n      <td>1.0</td>\n      <td>Food was pretty good. Had the southern fried c...</td>\n      <td>2016-09-19 23:52:02</td>\n      <td>0</td>\n    </tr>\n  </tbody>\n</table>\n</div>"
     },
     "execution_count": 5,
     "metadata": {},
     "output_type": "execute_result"
    }
   ]
  },
  {
   "cell_type": "markdown",
   "source": [
    "### Plot reviews"
   ],
   "metadata": {
    "id": "bl1GWpEUNZxf",
    "pycharm": {
     "name": "#%% md\n"
    }
   }
  },
  {
   "cell_type": "code",
   "source": [
    "positive_count = (df_review['review_rating'] == 1).sum()\n",
    "negative_count = (df_review['review_rating'] == 0).sum()\n",
    "\n",
    "print(\"Positive reviews:\", positive_count)\n",
    "\n",
    "print(\"Negative reviews:\", negative_count)\n",
    "\n",
    "objects = ('Positive', 'Negative')\n",
    "performance = [positive_count, negative_count]\n",
    "y_pos = np.arange(len(objects))\n",
    "\n",
    "plt.bar(y_pos, performance, align='center', alpha=0.5)\n",
    "plt.xticks(y_pos, objects)\n",
    "plt.ylabel('Count')\n",
    "plt.title('Rating reviews')\n",
    "\n",
    "plt.show()\n",
    "\n"
   ],
   "metadata": {
    "colab": {
     "base_uri": "https://localhost:8080/",
     "height": 315
    },
    "id": "GRwhyhLOFmLX",
    "outputId": "919e6e07-768a-4bd2-83ca-532d7e2f950a",
    "pycharm": {
     "name": "#%%\n"
    }
   },
   "execution_count": 6,
   "outputs": [
    {
     "name": "stdout",
     "output_type": "stream",
     "text": [
      "Positive reviews: 653\n",
      "Negative reviews: 347\n"
     ]
    },
    {
     "data": {
      "text/plain": "<Figure size 432x288 with 1 Axes>",
      "image/png": "[encoded data removed]"
     },
     "metadata": {
      "needs_background": "light"
     },
     "output_type": "display_data"
    }
   ]
  },
  {
   "cell_type": "markdown",
   "source": [
    "# Text preprocessing\n"
   ],
   "metadata": {
    "id": "Ik5qtSqkEef-",
    "pycharm": {
     "name": "#%% md\n"
    }
   }
  },
  {
   "cell_type": "markdown",
   "source": [
    "#### Create working df"
   ],
   "metadata": {
    "collapsed": false,
    "pycharm": {
     "name": "#%% md\n"
    }
   }
  },
  {
   "cell_type": "code",
   "execution_count": 7,
   "outputs": [],
   "source": [
    "df_review_text_rating = df_review[['text', 'review_rating']].copy()"
   ],
   "metadata": {
    "collapsed": false,
    "pycharm": {
     "name": "#%%\n"
    }
   }
  },
  {
   "cell_type": "code",
   "execution_count": 8,
   "outputs": [],
   "source": [
    "import nltk"
   ],
   "metadata": {
    "collapsed": false,
    "pycharm": {
     "name": "#%%\n"
    }
   }
  },
  {
   "cell_type": "markdown",
   "source": [
    "## Normalization"
   ],
   "metadata": {
    "id": "p_NyM9T6Nx_5",
    "pycharm": {
     "name": "#%% md\n"
    }
   }
  },
  {
   "cell_type": "markdown",
   "source": [
    "### Expand English contractions"
   ],
   "metadata": {
    "collapsed": false,
    "pycharm": {
     "name": "#%% md\n"
    }
   }
  },
  {
   "cell_type": "code",
   "execution_count": 9,
   "outputs": [],
   "source": [
    "import contractions"
   ],
   "metadata": {
    "collapsed": false,
    "pycharm": {
     "name": "#%%\n"
    }
   }
  },
  {
   "cell_type": "code",
   "source": [
    "def expand(row):\n",
    "    expanded_words = []\n",
    "    for word in row['text'].split():\n",
    "        expanded_words.append(contractions.fix(word))\n",
    "    return ' '.join(expanded_words)\n",
    "\n",
    "\n",
    "df_review_text_rating['expanded_text'] = df_review_text_rating.apply(expand, axis=1)"
   ],
   "metadata": {
    "colab": {
     "base_uri": "https://localhost:8080/",
     "height": 232
    },
    "id": "OAFZy6BbNeH1",
    "outputId": "d6dee067-bd23-4195-8c8a-13fe22ca0e96",
    "pycharm": {
     "name": "#%%\n"
    }
   },
   "execution_count": 10,
   "outputs": []
  },
  {
   "cell_type": "code",
   "execution_count": 11,
   "outputs": [
    {
     "data": {
      "text/plain": "                                                text  review_rating  \\\n0  Do not eat there! Horrible management, staff a...              0   \n1  What a great find! Celebrated out anniversary ...              1   \n2  Great happy hour & great food. I had a great t...              1   \n3  I've been dining here for years, but a recent ...              0   \n4  Food was pretty good. Had the southern fried c...              0   \n\n                                       expanded_text  \n0  Do not eat there! Horrible management, staff a...  \n1  What a great find! Celebrated out anniversary ...  \n2  Great happy hour & great food. I had a great t...  \n3  I have been dining here for years, but a recen...  \n4  Food was pretty good. Had the southern fried c...  ",
      "text/html": "<div>\n<style scoped>\n    .dataframe tbody tr th:only-of-type {\n        vertical-align: middle;\n    }\n\n    .dataframe tbody tr th {\n        vertical-align: top;\n    }\n\n    .dataframe thead th {\n        text-align: right;\n    }\n</style>\n<table border=\"1\" class=\"dataframe\">\n  <thead>\n    <tr style=\"text-align: right;\">\n      <th></th>\n      <th>text</th>\n      <th>review_rating</th>\n      <th>expanded_text</th>\n    </tr>\n  </thead>\n  <tbody>\n    <tr>\n      <th>0</th>\n      <td>Do not eat there! Horrible management, staff a...</td>\n      <td>0</td>\n      <td>Do not eat there! Horrible management, staff a...</td>\n    </tr>\n    <tr>\n      <th>1</th>\n      <td>What a great find! Celebrated out anniversary ...</td>\n      <td>1</td>\n      <td>What a great find! Celebrated out anniversary ...</td>\n    </tr>\n    <tr>\n      <th>2</th>\n      <td>Great happy hour &amp; great food. I had a great t...</td>\n      <td>1</td>\n      <td>Great happy hour &amp; great food. I had a great t...</td>\n    </tr>\n    <tr>\n      <th>3</th>\n      <td>I've been dining here for years, but a recent ...</td>\n      <td>0</td>\n      <td>I have been dining here for years, but a recen...</td>\n    </tr>\n    <tr>\n      <th>4</th>\n      <td>Food was pretty good. Had the southern fried c...</td>\n      <td>0</td>\n      <td>Food was pretty good. Had the southern fried c...</td>\n    </tr>\n  </tbody>\n</table>\n</div>"
     },
     "execution_count": 11,
     "metadata": {},
     "output_type": "execute_result"
    }
   ],
   "source": [
    "df_review_text_rating.head(5)"
   ],
   "metadata": {
    "collapsed": false,
    "pycharm": {
     "name": "#%%\n"
    }
   }
  },
  {
   "cell_type": "markdown",
   "source": [
    "## Tokenize"
   ],
   "metadata": {
    "collapsed": false,
    "pycharm": {
     "name": "#%% md\n"
    }
   }
  },
  {
   "cell_type": "code",
   "execution_count": 12,
   "outputs": [],
   "source": [
    "from nltk.tokenize import word_tokenize"
   ],
   "metadata": {
    "collapsed": false,
    "pycharm": {
     "name": "#%%\n"
    }
   }
  },
  {
   "cell_type": "code",
   "execution_count": 13,
   "outputs": [],
   "source": [
    "def tokenize(row):\n",
    "    return word_tokenize(row['expanded_text'])\n",
    "\n",
    "\n",
    "df_review_text_rating['tokenized_text'] = df_review_text_rating.apply(tokenize, axis=1)"
   ],
   "metadata": {
    "collapsed": false,
    "pycharm": {
     "name": "#%%\n"
    }
   }
  },
  {
   "cell_type": "code",
   "execution_count": 14,
   "outputs": [
    {
     "data": {
      "text/plain": "                                                text  review_rating  \\\n0  Do not eat there! Horrible management, staff a...              0   \n1  What a great find! Celebrated out anniversary ...              1   \n2  Great happy hour & great food. I had a great t...              1   \n3  I've been dining here for years, but a recent ...              0   \n4  Food was pretty good. Had the southern fried c...              0   \n\n                                       expanded_text  \\\n0  Do not eat there! Horrible management, staff a...   \n1  What a great find! Celebrated out anniversary ...   \n2  Great happy hour & great food. I had a great t...   \n3  I have been dining here for years, but a recen...   \n4  Food was pretty good. Had the southern fried c...   \n\n                                      tokenized_text  \n0  [Do, not, eat, there, !, Horrible, management,...  \n1  [What, a, great, find, !, Celebrated, out, ann...  \n2  [Great, happy, hour, &, great, food, ., I, had...  \n3  [I, have, been, dining, here, for, years, ,, b...  \n4  [Food, was, pretty, good, ., Had, the, souther...  ",
      "text/html": "<div>\n<style scoped>\n    .dataframe tbody tr th:only-of-type {\n        vertical-align: middle;\n    }\n\n    .dataframe tbody tr th {\n        vertical-align: top;\n    }\n\n    .dataframe thead th {\n        text-align: right;\n    }\n</style>\n<table border=\"1\" class=\"dataframe\">\n  <thead>\n    <tr style=\"text-align: right;\">\n      <th></th>\n      <th>text</th>\n      <th>review_rating</th>\n      <th>expanded_text</th>\n      <th>tokenized_text</th>\n    </tr>\n  </thead>\n  <tbody>\n    <tr>\n      <th>0</th>\n      <td>Do not eat there! Horrible management, staff a...</td>\n      <td>0</td>\n      <td>Do not eat there! Horrible management, staff a...</td>\n      <td>[Do, not, eat, there, !, Horrible, management,...</td>\n    </tr>\n    <tr>\n      <th>1</th>\n      <td>What a great find! Celebrated out anniversary ...</td>\n      <td>1</td>\n      <td>What a great find! Celebrated out anniversary ...</td>\n      <td>[What, a, great, find, !, Celebrated, out, ann...</td>\n    </tr>\n    <tr>\n      <th>2</th>\n      <td>Great happy hour &amp; great food. I had a great t...</td>\n      <td>1</td>\n      <td>Great happy hour &amp; great food. I had a great t...</td>\n      <td>[Great, happy, hour, &amp;, great, food, ., I, had...</td>\n    </tr>\n    <tr>\n      <th>3</th>\n      <td>I've been dining here for years, but a recent ...</td>\n      <td>0</td>\n      <td>I have been dining here for years, but a recen...</td>\n      <td>[I, have, been, dining, here, for, years, ,, b...</td>\n    </tr>\n    <tr>\n      <th>4</th>\n      <td>Food was pretty good. Had the southern fried c...</td>\n      <td>0</td>\n      <td>Food was pretty good. Had the southern fried c...</td>\n      <td>[Food, was, pretty, good, ., Had, the, souther...</td>\n    </tr>\n  </tbody>\n</table>\n</div>"
     },
     "execution_count": 14,
     "metadata": {},
     "output_type": "execute_result"
    }
   ],
   "source": [
    "df_review_text_rating.head(5)"
   ],
   "metadata": {
    "collapsed": false,
    "pycharm": {
     "name": "#%%\n"
    }
   }
  },
  {
   "cell_type": "markdown",
   "source": [
    "## Remove puncts"
   ],
   "metadata": {
    "collapsed": false,
    "pycharm": {
     "name": "#%% md\n"
    }
   }
  },
  {
   "cell_type": "code",
   "execution_count": 15,
   "outputs": [
    {
     "name": "stderr",
     "output_type": "stream",
     "text": [
      "[nltk_data] Downloading package punkt to\n",
      "[nltk_data]     C:\\Users\\giuli\\AppData\\Roaming\\nltk_data...\n",
      "[nltk_data]   Package punkt is already up-to-date!\n"
     ]
    },
    {
     "data": {
      "text/plain": "True"
     },
     "execution_count": 15,
     "metadata": {},
     "output_type": "execute_result"
    }
   ],
   "source": [
    "nltk.download('punkt')"
   ],
   "metadata": {
    "collapsed": false,
    "pycharm": {
     "name": "#%%\n"
    }
   }
  },
  {
   "cell_type": "code",
   "execution_count": 16,
   "outputs": [],
   "source": [
    "def remove_punct(row):\n",
    "    return [word for word in row['tokenized_text'] if word.isalpha()]\n",
    "\n",
    "\n",
    "df_review_text_rating['no_punct_text'] = df_review_text_rating.apply(remove_punct, axis=1)"
   ],
   "metadata": {
    "collapsed": false,
    "pycharm": {
     "name": "#%%\n"
    }
   }
  },
  {
   "cell_type": "code",
   "execution_count": 17,
   "outputs": [
    {
     "data": {
      "text/plain": "                                                text  review_rating  \\\n0  Do not eat there! Horrible management, staff a...              0   \n1  What a great find! Celebrated out anniversary ...              1   \n2  Great happy hour & great food. I had a great t...              1   \n3  I've been dining here for years, but a recent ...              0   \n4  Food was pretty good. Had the southern fried c...              0   \n\n                                       expanded_text  \\\n0  Do not eat there! Horrible management, staff a...   \n1  What a great find! Celebrated out anniversary ...   \n2  Great happy hour & great food. I had a great t...   \n3  I have been dining here for years, but a recen...   \n4  Food was pretty good. Had the southern fried c...   \n\n                                      tokenized_text  \\\n0  [Do, not, eat, there, !, Horrible, management,...   \n1  [What, a, great, find, !, Celebrated, out, ann...   \n2  [Great, happy, hour, &, great, food, ., I, had...   \n3  [I, have, been, dining, here, for, years, ,, b...   \n4  [Food, was, pretty, good, ., Had, the, souther...   \n\n                                       no_punct_text  \n0  [Do, not, eat, there, Horrible, management, st...  \n1  [What, a, great, find, Celebrated, out, annive...  \n2  [Great, happy, hour, great, food, I, had, a, g...  \n3  [I, have, been, dining, here, for, years, but,...  \n4  [Food, was, pretty, good, Had, the, southern, ...  ",
      "text/html": "<div>\n<style scoped>\n    .dataframe tbody tr th:only-of-type {\n        vertical-align: middle;\n    }\n\n    .dataframe tbody tr th {\n        vertical-align: top;\n    }\n\n    .dataframe thead th {\n        text-align: right;\n    }\n</style>\n<table border=\"1\" class=\"dataframe\">\n  <thead>\n    <tr style=\"text-align: right;\">\n      <th></th>\n      <th>text</th>\n      <th>review_rating</th>\n      <th>expanded_text</th>\n      <th>tokenized_text</th>\n      <th>no_punct_text</th>\n    </tr>\n  </thead>\n  <tbody>\n    <tr>\n      <th>0</th>\n      <td>Do not eat there! Horrible management, staff a...</td>\n      <td>0</td>\n      <td>Do not eat there! Horrible management, staff a...</td>\n      <td>[Do, not, eat, there, !, Horrible, management,...</td>\n      <td>[Do, not, eat, there, Horrible, management, st...</td>\n    </tr>\n    <tr>\n      <th>1</th>\n      <td>What a great find! Celebrated out anniversary ...</td>\n      <td>1</td>\n      <td>What a great find! Celebrated out anniversary ...</td>\n      <td>[What, a, great, find, !, Celebrated, out, ann...</td>\n      <td>[What, a, great, find, Celebrated, out, annive...</td>\n    </tr>\n    <tr>\n      <th>2</th>\n      <td>Great happy hour &amp; great food. I had a great t...</td>\n      <td>1</td>\n      <td>Great happy hour &amp; great food. I had a great t...</td>\n      <td>[Great, happy, hour, &amp;, great, food, ., I, had...</td>\n      <td>[Great, happy, hour, great, food, I, had, a, g...</td>\n    </tr>\n    <tr>\n      <th>3</th>\n      <td>I've been dining here for years, but a recent ...</td>\n      <td>0</td>\n      <td>I have been dining here for years, but a recen...</td>\n      <td>[I, have, been, dining, here, for, years, ,, b...</td>\n      <td>[I, have, been, dining, here, for, years, but,...</td>\n    </tr>\n    <tr>\n      <th>4</th>\n      <td>Food was pretty good. Had the southern fried c...</td>\n      <td>0</td>\n      <td>Food was pretty good. Had the southern fried c...</td>\n      <td>[Food, was, pretty, good, ., Had, the, souther...</td>\n      <td>[Food, was, pretty, good, Had, the, southern, ...</td>\n    </tr>\n  </tbody>\n</table>\n</div>"
     },
     "execution_count": 17,
     "metadata": {},
     "output_type": "execute_result"
    }
   ],
   "source": [
    "df_review_text_rating.head(5)"
   ],
   "metadata": {
    "collapsed": false,
    "pycharm": {
     "name": "#%%\n"
    }
   }
  },
  {
   "cell_type": "markdown",
   "source": [
    "## Stemming"
   ],
   "metadata": {
    "collapsed": false,
    "pycharm": {
     "name": "#%% md\n"
    }
   }
  },
  {
   "cell_type": "code",
   "execution_count": 18,
   "outputs": [],
   "source": [
    "from nltk.stem import PorterStemmer\n",
    "\n",
    "ps = PorterStemmer()"
   ],
   "metadata": {
    "collapsed": false,
    "pycharm": {
     "name": "#%%\n"
    }
   }
  },
  {
   "cell_type": "code",
   "execution_count": 19,
   "outputs": [],
   "source": [
    "def stemming(row):\n",
    "    return [ps.stem(word) for word in row['no_punct_text']]\n",
    "\n",
    "\n",
    "df_review_text_rating['stemmed_text'] = df_review_text_rating.apply(stemming, axis=1)"
   ],
   "metadata": {
    "collapsed": false,
    "pycharm": {
     "name": "#%%\n"
    }
   }
  },
  {
   "cell_type": "code",
   "execution_count": 20,
   "outputs": [
    {
     "data": {
      "text/plain": "                                                text  review_rating  \\\n0  Do not eat there! Horrible management, staff a...              0   \n1  What a great find! Celebrated out anniversary ...              1   \n2  Great happy hour & great food. I had a great t...              1   \n3  I've been dining here for years, but a recent ...              0   \n4  Food was pretty good. Had the southern fried c...              0   \n\n                                       expanded_text  \\\n0  Do not eat there! Horrible management, staff a...   \n1  What a great find! Celebrated out anniversary ...   \n2  Great happy hour & great food. I had a great t...   \n3  I have been dining here for years, but a recen...   \n4  Food was pretty good. Had the southern fried c...   \n\n                                      tokenized_text  \\\n0  [Do, not, eat, there, !, Horrible, management,...   \n1  [What, a, great, find, !, Celebrated, out, ann...   \n2  [Great, happy, hour, &, great, food, ., I, had...   \n3  [I, have, been, dining, here, for, years, ,, b...   \n4  [Food, was, pretty, good, ., Had, the, souther...   \n\n                                       no_punct_text  \\\n0  [Do, not, eat, there, Horrible, management, st...   \n1  [What, a, great, find, Celebrated, out, annive...   \n2  [Great, happy, hour, great, food, I, had, a, g...   \n3  [I, have, been, dining, here, for, years, but,...   \n4  [Food, was, pretty, good, Had, the, southern, ...   \n\n                                        stemmed_text  \n0  [do, not, eat, there, horribl, manag, staff, a...  \n1  [what, a, great, find, celebr, out, anniversar...  \n2  [great, happi, hour, great, food, i, had, a, g...  \n3  [i, have, been, dine, here, for, year, but, a,...  \n4  [food, wa, pretti, good, had, the, southern, f...  ",
      "text/html": "<div>\n<style scoped>\n    .dataframe tbody tr th:only-of-type {\n        vertical-align: middle;\n    }\n\n    .dataframe tbody tr th {\n        vertical-align: top;\n    }\n\n    .dataframe thead th {\n        text-align: right;\n    }\n</style>\n<table border=\"1\" class=\"dataframe\">\n  <thead>\n    <tr style=\"text-align: right;\">\n      <th></th>\n      <th>text</th>\n      <th>review_rating</th>\n      <th>expanded_text</th>\n      <th>tokenized_text</th>\n      <th>no_punct_text</th>\n      <th>stemmed_text</th>\n    </tr>\n  </thead>\n  <tbody>\n    <tr>\n      <th>0</th>\n      <td>Do not eat there! Horrible management, staff a...</td>\n      <td>0</td>\n      <td>Do not eat there! Horrible management, staff a...</td>\n      <td>[Do, not, eat, there, !, Horrible, management,...</td>\n      <td>[Do, not, eat, there, Horrible, management, st...</td>\n      <td>[do, not, eat, there, horribl, manag, staff, a...</td>\n    </tr>\n    <tr>\n      <th>1</th>\n      <td>What a great find! Celebrated out anniversary ...</td>\n      <td>1</td>\n      <td>What a great find! Celebrated out anniversary ...</td>\n      <td>[What, a, great, find, !, Celebrated, out, ann...</td>\n      <td>[What, a, great, find, Celebrated, out, annive...</td>\n      <td>[what, a, great, find, celebr, out, anniversar...</td>\n    </tr>\n    <tr>\n      <th>2</th>\n      <td>Great happy hour &amp; great food. I had a great t...</td>\n      <td>1</td>\n      <td>Great happy hour &amp; great food. I had a great t...</td>\n      <td>[Great, happy, hour, &amp;, great, food, ., I, had...</td>\n      <td>[Great, happy, hour, great, food, I, had, a, g...</td>\n      <td>[great, happi, hour, great, food, i, had, a, g...</td>\n    </tr>\n    <tr>\n      <th>3</th>\n      <td>I've been dining here for years, but a recent ...</td>\n      <td>0</td>\n      <td>I have been dining here for years, but a recen...</td>\n      <td>[I, have, been, dining, here, for, years, ,, b...</td>\n      <td>[I, have, been, dining, here, for, years, but,...</td>\n      <td>[i, have, been, dine, here, for, year, but, a,...</td>\n    </tr>\n    <tr>\n      <th>4</th>\n      <td>Food was pretty good. Had the southern fried c...</td>\n      <td>0</td>\n      <td>Food was pretty good. Had the southern fried c...</td>\n      <td>[Food, was, pretty, good, ., Had, the, souther...</td>\n      <td>[Food, was, pretty, good, Had, the, southern, ...</td>\n      <td>[food, wa, pretti, good, had, the, southern, f...</td>\n    </tr>\n  </tbody>\n</table>\n</div>"
     },
     "execution_count": 20,
     "metadata": {},
     "output_type": "execute_result"
    }
   ],
   "source": [
    "df_review_text_rating.head(5)"
   ],
   "metadata": {
    "collapsed": false,
    "pycharm": {
     "name": "#%%\n"
    }
   }
  },
  {
   "cell_type": "markdown",
   "source": [
    "## Lemmatization"
   ],
   "metadata": {
    "collapsed": false,
    "pycharm": {
     "name": "#%% md\n"
    }
   }
  },
  {
   "cell_type": "code",
   "execution_count": 21,
   "outputs": [
    {
     "name": "stderr",
     "output_type": "stream",
     "text": [
      "[nltk_data] Downloading package wordnet to\n",
      "[nltk_data]     C:\\Users\\giuli\\AppData\\Roaming\\nltk_data...\n",
      "[nltk_data]   Package wordnet is already up-to-date!\n",
      "[nltk_data] Downloading package omw-1.4 to\n",
      "[nltk_data]     C:\\Users\\giuli\\AppData\\Roaming\\nltk_data...\n",
      "[nltk_data]   Package omw-1.4 is already up-to-date!\n"
     ]
    }
   ],
   "source": [
    "from nltk.stem.wordnet import WordNetLemmatizer\n",
    "\n",
    "nltk.download('wordnet')\n",
    "nltk.download('omw-1.4')\n",
    "\n",
    "lemmatizer = WordNetLemmatizer()"
   ],
   "metadata": {
    "collapsed": false,
    "pycharm": {
     "name": "#%%\n"
    }
   }
  },
  {
   "cell_type": "code",
   "execution_count": 22,
   "outputs": [],
   "source": [
    "def lemmatization(row):\n",
    "    return [lemmatizer.lemmatize(word) for word in row['stemmed_text']]\n",
    "\n",
    "\n",
    "df_review_text_rating['lemmatized_text'] = df_review_text_rating.apply(lemmatization, axis=1)"
   ],
   "metadata": {
    "collapsed": false,
    "pycharm": {
     "name": "#%%\n"
    }
   }
  },
  {
   "cell_type": "code",
   "execution_count": 23,
   "outputs": [
    {
     "data": {
      "text/plain": "                                                text  review_rating  \\\n0  Do not eat there! Horrible management, staff a...              0   \n1  What a great find! Celebrated out anniversary ...              1   \n2  Great happy hour & great food. I had a great t...              1   \n3  I've been dining here for years, but a recent ...              0   \n4  Food was pretty good. Had the southern fried c...              0   \n\n                                       expanded_text  \\\n0  Do not eat there! Horrible management, staff a...   \n1  What a great find! Celebrated out anniversary ...   \n2  Great happy hour & great food. I had a great t...   \n3  I have been dining here for years, but a recen...   \n4  Food was pretty good. Had the southern fried c...   \n\n                                      tokenized_text  \\\n0  [Do, not, eat, there, !, Horrible, management,...   \n1  [What, a, great, find, !, Celebrated, out, ann...   \n2  [Great, happy, hour, &, great, food, ., I, had...   \n3  [I, have, been, dining, here, for, years, ,, b...   \n4  [Food, was, pretty, good, ., Had, the, souther...   \n\n                                       no_punct_text  \\\n0  [Do, not, eat, there, Horrible, management, st...   \n1  [What, a, great, find, Celebrated, out, annive...   \n2  [Great, happy, hour, great, food, I, had, a, g...   \n3  [I, have, been, dining, here, for, years, but,...   \n4  [Food, was, pretty, good, Had, the, southern, ...   \n\n                                        stemmed_text  \\\n0  [do, not, eat, there, horribl, manag, staff, a...   \n1  [what, a, great, find, celebr, out, anniversar...   \n2  [great, happi, hour, great, food, i, had, a, g...   \n3  [i, have, been, dine, here, for, year, but, a,...   \n4  [food, wa, pretti, good, had, the, southern, f...   \n\n                                     lemmatized_text  \n0  [do, not, eat, there, horribl, manag, staff, a...  \n1  [what, a, great, find, celebr, out, anniversar...  \n2  [great, happi, hour, great, food, i, had, a, g...  \n3  [i, have, been, dine, here, for, year, but, a,...  \n4  [food, wa, pretti, good, had, the, southern, f...  ",
      "text/html": "<div>\n<style scoped>\n    .dataframe tbody tr th:only-of-type {\n        vertical-align: middle;\n    }\n\n    .dataframe tbody tr th {\n        vertical-align: top;\n    }\n\n    .dataframe thead th {\n        text-align: right;\n    }\n</style>\n<table border=\"1\" class=\"dataframe\">\n  <thead>\n    <tr style=\"text-align: right;\">\n      <th></th>\n      <th>text</th>\n      <th>review_rating</th>\n      <th>expanded_text</th>\n      <th>tokenized_text</th>\n      <th>no_punct_text</th>\n      <th>stemmed_text</th>\n      <th>lemmatized_text</th>\n    </tr>\n  </thead>\n  <tbody>\n    <tr>\n      <th>0</th>\n      <td>Do not eat there! Horrible management, staff a...</td>\n      <td>0</td>\n      <td>Do not eat there! Horrible management, staff a...</td>\n      <td>[Do, not, eat, there, !, Horrible, management,...</td>\n      <td>[Do, not, eat, there, Horrible, management, st...</td>\n      <td>[do, not, eat, there, horribl, manag, staff, a...</td>\n      <td>[do, not, eat, there, horribl, manag, staff, a...</td>\n    </tr>\n    <tr>\n      <th>1</th>\n      <td>What a great find! Celebrated out anniversary ...</td>\n      <td>1</td>\n      <td>What a great find! Celebrated out anniversary ...</td>\n      <td>[What, a, great, find, !, Celebrated, out, ann...</td>\n      <td>[What, a, great, find, Celebrated, out, annive...</td>\n      <td>[what, a, great, find, celebr, out, anniversar...</td>\n      <td>[what, a, great, find, celebr, out, anniversar...</td>\n    </tr>\n    <tr>\n      <th>2</th>\n      <td>Great happy hour &amp; great food. I had a great t...</td>\n      <td>1</td>\n      <td>Great happy hour &amp; great food. I had a great t...</td>\n      <td>[Great, happy, hour, &amp;, great, food, ., I, had...</td>\n      <td>[Great, happy, hour, great, food, I, had, a, g...</td>\n      <td>[great, happi, hour, great, food, i, had, a, g...</td>\n      <td>[great, happi, hour, great, food, i, had, a, g...</td>\n    </tr>\n    <tr>\n      <th>3</th>\n      <td>I've been dining here for years, but a recent ...</td>\n      <td>0</td>\n      <td>I have been dining here for years, but a recen...</td>\n      <td>[I, have, been, dining, here, for, years, ,, b...</td>\n      <td>[I, have, been, dining, here, for, years, but,...</td>\n      <td>[i, have, been, dine, here, for, year, but, a,...</td>\n      <td>[i, have, been, dine, here, for, year, but, a,...</td>\n    </tr>\n    <tr>\n      <th>4</th>\n      <td>Food was pretty good. Had the southern fried c...</td>\n      <td>0</td>\n      <td>Food was pretty good. Had the southern fried c...</td>\n      <td>[Food, was, pretty, good, ., Had, the, souther...</td>\n      <td>[Food, was, pretty, good, Had, the, southern, ...</td>\n      <td>[food, wa, pretti, good, had, the, southern, f...</td>\n      <td>[food, wa, pretti, good, had, the, southern, f...</td>\n    </tr>\n  </tbody>\n</table>\n</div>"
     },
     "execution_count": 23,
     "metadata": {},
     "output_type": "execute_result"
    }
   ],
   "source": [
    "df_review_text_rating.head(5)"
   ],
   "metadata": {
    "collapsed": false,
    "pycharm": {
     "name": "#%%\n"
    }
   }
  },
  {
   "cell_type": "markdown",
   "source": [
    "## Remove stopwords"
   ],
   "metadata": {
    "collapsed": false,
    "pycharm": {
     "name": "#%% md\n"
    }
   }
  },
  {
   "cell_type": "code",
   "execution_count": 24,
   "outputs": [],
   "source": [
    "# from nltk.corpus import stopwords\n",
    "# nltk.download('stopwords')"
   ],
   "metadata": {
    "collapsed": false,
    "pycharm": {
     "name": "#%%\n"
    }
   }
  },
  {
   "cell_type": "code",
   "execution_count": 25,
   "outputs": [],
   "source": [
    "# df_review_text_no_stopwords = df_review_text_lemmatized\n",
    "#\n",
    "# def remove_stopwords(row):\n",
    "#   return [word for word in row['lemmatized_text'] if not word in stopwords.words()]\n",
    "#\n",
    "# df_review_text_no_stopwords['no_stopwords'] = df_review_text_no_stopwords.apply(remove_stopwords, axis=1)"
   ],
   "metadata": {
    "collapsed": false,
    "pycharm": {
     "name": "#%%\n"
    }
   }
  },
  {
   "cell_type": "code",
   "execution_count": 26,
   "outputs": [],
   "source": [
    "# df_review_text_no_stopwords.head(5)"
   ],
   "metadata": {
    "collapsed": false,
    "pycharm": {
     "name": "#%%\n"
    }
   }
  },
  {
   "cell_type": "markdown",
   "source": [
    "## Rejoin words after processing"
   ],
   "metadata": {
    "collapsed": false,
    "pycharm": {
     "name": "#%% md\n"
    }
   }
  },
  {
   "cell_type": "code",
   "execution_count": 27,
   "outputs": [
    {
     "data": {
      "text/plain": "                                                  text  review_rating  \\\n0    Do not eat there! Horrible management, staff a...              0   \n1    What a great find! Celebrated out anniversary ...              1   \n2    Great happy hour & great food. I had a great t...              1   \n3    I've been dining here for years, but a recent ...              0   \n4    Food was pretty good. Had the southern fried c...              0   \n..                                                 ...            ...   \n995  Latest addition to services from ICCU is Apple...              1   \n996  This spot offers a great, affordable east week...              1   \n997  This Home Depot won me over when I needed to g...              1   \n998  For when I'm feeling like ignoring my calorie-...              1   \n999  Located in the 'Walking District' in Nashville...              0   \n\n                                         expanded_text  \\\n0    Do not eat there! Horrible management, staff a...   \n1    What a great find! Celebrated out anniversary ...   \n2    Great happy hour & great food. I had a great t...   \n3    I have been dining here for years, but a recen...   \n4    Food was pretty good. Had the southern fried c...   \n..                                                 ...   \n995  Latest addition to services from ICCU is Apple...   \n996  This spot offers a great, affordable east week...   \n997  This Home Depot won me over when I needed to g...   \n998  For when I am feeling like ignoring my calorie...   \n999  Located in the 'Walking District' in Nashville...   \n\n                                        tokenized_text  \\\n0    [Do, not, eat, there, !, Horrible, management,...   \n1    [What, a, great, find, !, Celebrated, out, ann...   \n2    [Great, happy, hour, &, great, food, ., I, had...   \n3    [I, have, been, dining, here, for, years, ,, b...   \n4    [Food, was, pretty, good, ., Had, the, souther...   \n..                                                 ...   \n995  [Latest, addition, to, services, from, ICCU, i...   \n996  [This, spot, offers, a, great, ,, affordable, ...   \n997  [This, Home, Depot, won, me, over, when, I, ne...   \n998  [For, when, I, am, feeling, like, ignoring, my...   \n999  [Located, in, the, 'Walking, District, ', in, ...   \n\n                                         no_punct_text  \\\n0    [Do, not, eat, there, Horrible, management, st...   \n1    [What, a, great, find, Celebrated, out, annive...   \n2    [Great, happy, hour, great, food, I, had, a, g...   \n3    [I, have, been, dining, here, for, years, but,...   \n4    [Food, was, pretty, good, Had, the, southern, ...   \n..                                                 ...   \n995  [Latest, addition, to, services, from, ICCU, i...   \n996  [This, spot, offers, a, great, affordable, eas...   \n997  [This, Home, Depot, won, me, over, when, I, ne...   \n998  [For, when, I, am, feeling, like, ignoring, my...   \n999  [Located, in, the, District, in, Nashville, it...   \n\n                                          stemmed_text  \\\n0    [do, not, eat, there, horribl, manag, staff, a...   \n1    [what, a, great, find, celebr, out, anniversar...   \n2    [great, happi, hour, great, food, i, had, a, g...   \n3    [i, have, been, dine, here, for, year, but, a,...   \n4    [food, wa, pretti, good, had, the, southern, f...   \n..                                                 ...   \n995  [latest, addit, to, servic, from, iccu, is, ap...   \n996  [thi, spot, offer, a, great, afford, east, wee...   \n997  [thi, home, depot, won, me, over, when, i, nee...   \n998  [for, when, i, am, feel, like, ignor, my, and,...   \n999  [locat, in, the, district, in, nashvil, it, is...   \n\n                                       lemmatized_text  \\\n0    [do, not, eat, there, horribl, manag, staff, a...   \n1    [what, a, great, find, celebr, out, anniversar...   \n2    [great, happi, hour, great, food, i, had, a, g...   \n3    [i, have, been, dine, here, for, year, but, a,...   \n4    [food, wa, pretti, good, had, the, southern, f...   \n..                                                 ...   \n995  [latest, addit, to, servic, from, iccu, is, ap...   \n996  [thi, spot, offer, a, great, afford, east, wee...   \n997  [thi, home, depot, won, me, over, when, i, nee...   \n998  [for, when, i, am, feel, like, ignor, my, and,...   \n999  [locat, in, the, district, in, nashvil, it, is...   \n\n                                        processed_text  \n0    do not eat there horribl manag staff and food ...  \n1    what a great find celebr out anniversari and t...  \n2    great happi hour great food i had a great time...  \n3    i have been dine here for year but a recent ho...  \n4    food wa pretti good had the southern fri chick...  \n..                                                 ...  \n995  latest addit to servic from iccu is appl pay f...  \n996  thi spot offer a great afford east weekend pad...  \n997  thi home depot won me over when i need to get ...  \n998  for when i am feel like ignor my and indulg in...  \n999  locat in the district in nashvil it is wa a bi...  \n\n[1000 rows x 8 columns]",
      "text/html": "<div>\n<style scoped>\n    .dataframe tbody tr th:only-of-type {\n        vertical-align: middle;\n    }\n\n    .dataframe tbody tr th {\n        vertical-align: top;\n    }\n\n    .dataframe thead th {\n        text-align: right;\n    }\n</style>\n<table border=\"1\" class=\"dataframe\">\n  <thead>\n    <tr style=\"text-align: right;\">\n      <th></th>\n      <th>text</th>\n      <th>review_rating</th>\n      <th>expanded_text</th>\n      <th>tokenized_text</th>\n      <th>no_punct_text</th>\n      <th>stemmed_text</th>\n      <th>lemmatized_text</th>\n      <th>processed_text</th>\n    </tr>\n  </thead>\n  <tbody>\n    <tr>\n      <th>0</th>\n      <td>Do not eat there! Horrible management, staff a...</td>\n      <td>0</td>\n      <td>Do not eat there! Horrible management, staff a...</td>\n      <td>[Do, not, eat, there, !, Horrible, management,...</td>\n      <td>[Do, not, eat, there, Horrible, management, st...</td>\n      <td>[do, not, eat, there, horribl, manag, staff, a...</td>\n      <td>[do, not, eat, there, horribl, manag, staff, a...</td>\n      <td>do not eat there horribl manag staff and food ...</td>\n    </tr>\n    <tr>\n      <th>1</th>\n      <td>What a great find! Celebrated out anniversary ...</td>\n      <td>1</td>\n      <td>What a great find! Celebrated out anniversary ...</td>\n      <td>[What, a, great, find, !, Celebrated, out, ann...</td>\n      <td>[What, a, great, find, Celebrated, out, annive...</td>\n      <td>[what, a, great, find, celebr, out, anniversar...</td>\n      <td>[what, a, great, find, celebr, out, anniversar...</td>\n      <td>what a great find celebr out anniversari and t...</td>\n    </tr>\n    <tr>\n      <th>2</th>\n      <td>Great happy hour &amp; great food. I had a great t...</td>\n      <td>1</td>\n      <td>Great happy hour &amp; great food. I had a great t...</td>\n      <td>[Great, happy, hour, &amp;, great, food, ., I, had...</td>\n      <td>[Great, happy, hour, great, food, I, had, a, g...</td>\n      <td>[great, happi, hour, great, food, i, had, a, g...</td>\n      <td>[great, happi, hour, great, food, i, had, a, g...</td>\n      <td>great happi hour great food i had a great time...</td>\n    </tr>\n    <tr>\n      <th>3</th>\n      <td>I've been dining here for years, but a recent ...</td>\n      <td>0</td>\n      <td>I have been dining here for years, but a recen...</td>\n      <td>[I, have, been, dining, here, for, years, ,, b...</td>\n      <td>[I, have, been, dining, here, for, years, but,...</td>\n      <td>[i, have, been, dine, here, for, year, but, a,...</td>\n      <td>[i, have, been, dine, here, for, year, but, a,...</td>\n      <td>i have been dine here for year but a recent ho...</td>\n    </tr>\n    <tr>\n      <th>4</th>\n      <td>Food was pretty good. Had the southern fried c...</td>\n      <td>0</td>\n      <td>Food was pretty good. Had the southern fried c...</td>\n      <td>[Food, was, pretty, good, ., Had, the, souther...</td>\n      <td>[Food, was, pretty, good, Had, the, southern, ...</td>\n      <td>[food, wa, pretti, good, had, the, southern, f...</td>\n      <td>[food, wa, pretti, good, had, the, southern, f...</td>\n      <td>food wa pretti good had the southern fri chick...</td>\n    </tr>\n    <tr>\n      <th>...</th>\n      <td>...</td>\n      <td>...</td>\n      <td>...</td>\n      <td>...</td>\n      <td>...</td>\n      <td>...</td>\n      <td>...</td>\n      <td>...</td>\n    </tr>\n    <tr>\n      <th>995</th>\n      <td>Latest addition to services from ICCU is Apple...</td>\n      <td>1</td>\n      <td>Latest addition to services from ICCU is Apple...</td>\n      <td>[Latest, addition, to, services, from, ICCU, i...</td>\n      <td>[Latest, addition, to, services, from, ICCU, i...</td>\n      <td>[latest, addit, to, servic, from, iccu, is, ap...</td>\n      <td>[latest, addit, to, servic, from, iccu, is, ap...</td>\n      <td>latest addit to servic from iccu is appl pay f...</td>\n    </tr>\n    <tr>\n      <th>996</th>\n      <td>This spot offers a great, affordable east week...</td>\n      <td>1</td>\n      <td>This spot offers a great, affordable east week...</td>\n      <td>[This, spot, offers, a, great, ,, affordable, ...</td>\n      <td>[This, spot, offers, a, great, affordable, eas...</td>\n      <td>[thi, spot, offer, a, great, afford, east, wee...</td>\n      <td>[thi, spot, offer, a, great, afford, east, wee...</td>\n      <td>thi spot offer a great afford east weekend pad...</td>\n    </tr>\n    <tr>\n      <th>997</th>\n      <td>This Home Depot won me over when I needed to g...</td>\n      <td>1</td>\n      <td>This Home Depot won me over when I needed to g...</td>\n      <td>[This, Home, Depot, won, me, over, when, I, ne...</td>\n      <td>[This, Home, Depot, won, me, over, when, I, ne...</td>\n      <td>[thi, home, depot, won, me, over, when, i, nee...</td>\n      <td>[thi, home, depot, won, me, over, when, i, nee...</td>\n      <td>thi home depot won me over when i need to get ...</td>\n    </tr>\n    <tr>\n      <th>998</th>\n      <td>For when I'm feeling like ignoring my calorie-...</td>\n      <td>1</td>\n      <td>For when I am feeling like ignoring my calorie...</td>\n      <td>[For, when, I, am, feeling, like, ignoring, my...</td>\n      <td>[For, when, I, am, feeling, like, ignoring, my...</td>\n      <td>[for, when, i, am, feel, like, ignor, my, and,...</td>\n      <td>[for, when, i, am, feel, like, ignor, my, and,...</td>\n      <td>for when i am feel like ignor my and indulg in...</td>\n    </tr>\n    <tr>\n      <th>999</th>\n      <td>Located in the 'Walking District' in Nashville...</td>\n      <td>0</td>\n      <td>Located in the 'Walking District' in Nashville...</td>\n      <td>[Located, in, the, 'Walking, District, ', in, ...</td>\n      <td>[Located, in, the, District, in, Nashville, it...</td>\n      <td>[locat, in, the, district, in, nashvil, it, is...</td>\n      <td>[locat, in, the, district, in, nashvil, it, is...</td>\n      <td>locat in the district in nashvil it is wa a bi...</td>\n    </tr>\n  </tbody>\n</table>\n<p>1000 rows × 8 columns</p>\n</div>"
     },
     "execution_count": 27,
     "metadata": {},
     "output_type": "execute_result"
    }
   ],
   "source": [
    "def join_words(row):\n",
    "    return \" \".join(row['lemmatized_text'])\n",
    "\n",
    "\n",
    "df_review_text_rating['processed_text'] = df_review_text_rating.apply(join_words, axis=1)\n",
    "\n",
    "df_review_text_rating"
   ],
   "metadata": {
    "collapsed": false,
    "pycharm": {
     "name": "#%%\n"
    }
   }
  },
  {
   "cell_type": "markdown",
   "source": [
    "## Split dataframe in training_set and test_set"
   ],
   "metadata": {
    "collapsed": false,
    "pycharm": {
     "name": "#%% md\n"
    }
   }
  },
  {
   "cell_type": "code",
   "execution_count": 28,
   "outputs": [],
   "source": [
    "from sklearn.feature_extraction.text import CountVectorizer\n",
    "from sklearn.model_selection import train_test_split\n",
    "from sklearn.feature_extraction.text import TfidfVectorizer"
   ],
   "metadata": {
    "collapsed": false,
    "pycharm": {
     "name": "#%%\n"
    }
   }
  },
  {
   "cell_type": "code",
   "execution_count": 29,
   "outputs": [],
   "source": [
    "X = df_review_text_rating[\"processed_text\"]\n",
    "y = df_review_text_rating[\"review_rating\"]\n",
    "\n",
    "# Training set = 80%\n",
    "# Test set = 20%\n",
    "X_train, X_test, y_train, y_test = train_test_split(X, y, test_size=0.2, random_state=4)"
   ],
   "metadata": {
    "collapsed": false,
    "pycharm": {
     "name": "#%%\n"
    }
   }
  },
  {
   "cell_type": "code",
   "execution_count": 30,
   "outputs": [],
   "source": [
    "# Initialize\n",
    "vectorizer = TfidfVectorizer()\n",
    "X_train_vectorizer = vectorizer.fit_transform(X_train)\n",
    "X_test_vectorizer = vectorizer.transform(X_test)\n",
    "\n",
    "X_train_df = pd.DataFrame(columns=vectorizer.get_feature_names_out(), data=X_train_vectorizer.toarray())\n",
    "X_test_df = pd.DataFrame(columns=vectorizer.get_feature_names_out(), data=X_test_vectorizer.toarray())"
   ],
   "metadata": {
    "collapsed": false,
    "pycharm": {
     "name": "#%%\n"
    }
   }
  },
  {
   "cell_type": "code",
   "execution_count": 31,
   "outputs": [
    {
     "data": {
      "text/plain": "   abe  abid  abil  abita       abl  about  abov  abrupt  abruptli  absolut  \\\n0  0.0   0.0   0.0    0.0  0.000000    0.0   0.0     0.0       0.0      0.0   \n1  0.0   0.0   0.0    0.0  0.000000    0.0   0.0     0.0       0.0      0.0   \n2  0.0   0.0   0.0    0.0  0.000000    0.0   0.0     0.0       0.0      0.0   \n3  0.0   0.0   0.0    0.0  0.072876    0.0   0.0     0.0       0.0      0.0   \n4  0.0   0.0   0.0    0.0  0.000000    0.0   0.0     0.0       0.0      0.0   \n\n   ...  zero  zest  zip  ziplock  zlt  zoal  zucchini  zumba  zushipok  ànd  \n0  ...   0.0   0.0  0.0      0.0  0.0   0.0       0.0    0.0       0.0  0.0  \n1  ...   0.0   0.0  0.0      0.0  0.0   0.0       0.0    0.0       0.0  0.0  \n2  ...   0.0   0.0  0.0      0.0  0.0   0.0       0.0    0.0       0.0  0.0  \n3  ...   0.0   0.0  0.0      0.0  0.0   0.0       0.0    0.0       0.0  0.0  \n4  ...   0.0   0.0  0.0      0.0  0.0   0.0       0.0    0.0       0.0  0.0  \n\n[5 rows x 5819 columns]",
      "text/html": "<div>\n<style scoped>\n    .dataframe tbody tr th:only-of-type {\n        vertical-align: middle;\n    }\n\n    .dataframe tbody tr th {\n        vertical-align: top;\n    }\n\n    .dataframe thead th {\n        text-align: right;\n    }\n</style>\n<table border=\"1\" class=\"dataframe\">\n  <thead>\n    <tr style=\"text-align: right;\">\n      <th></th>\n      <th>abe</th>\n      <th>abid</th>\n      <th>abil</th>\n      <th>abita</th>\n      <th>abl</th>\n      <th>about</th>\n      <th>abov</th>\n      <th>abrupt</th>\n      <th>abruptli</th>\n      <th>absolut</th>\n      <th>...</th>\n      <th>zero</th>\n      <th>zest</th>\n      <th>zip</th>\n      <th>ziplock</th>\n      <th>zlt</th>\n      <th>zoal</th>\n      <th>zucchini</th>\n      <th>zumba</th>\n      <th>zushipok</th>\n      <th>ànd</th>\n    </tr>\n  </thead>\n  <tbody>\n    <tr>\n      <th>0</th>\n      <td>0.0</td>\n      <td>0.0</td>\n      <td>0.0</td>\n      <td>0.0</td>\n      <td>0.000000</td>\n      <td>0.0</td>\n      <td>0.0</td>\n      <td>0.0</td>\n      <td>0.0</td>\n      <td>0.0</td>\n      <td>...</td>\n      <td>0.0</td>\n      <td>0.0</td>\n      <td>0.0</td>\n      <td>0.0</td>\n      <td>0.0</td>\n      <td>0.0</td>\n      <td>0.0</td>\n      <td>0.0</td>\n      <td>0.0</td>\n      <td>0.0</td>\n    </tr>\n    <tr>\n      <th>1</th>\n      <td>0.0</td>\n      <td>0.0</td>\n      <td>0.0</td>\n      <td>0.0</td>\n      <td>0.000000</td>\n      <td>0.0</td>\n      <td>0.0</td>\n      <td>0.0</td>\n      <td>0.0</td>\n      <td>0.0</td>\n      <td>...</td>\n      <td>0.0</td>\n      <td>0.0</td>\n      <td>0.0</td>\n      <td>0.0</td>\n      <td>0.0</td>\n      <td>0.0</td>\n      <td>0.0</td>\n      <td>0.0</td>\n      <td>0.0</td>\n      <td>0.0</td>\n    </tr>\n    <tr>\n      <th>2</th>\n      <td>0.0</td>\n      <td>0.0</td>\n      <td>0.0</td>\n      <td>0.0</td>\n      <td>0.000000</td>\n      <td>0.0</td>\n      <td>0.0</td>\n      <td>0.0</td>\n      <td>0.0</td>\n      <td>0.0</td>\n      <td>...</td>\n      <td>0.0</td>\n      <td>0.0</td>\n      <td>0.0</td>\n      <td>0.0</td>\n      <td>0.0</td>\n      <td>0.0</td>\n      <td>0.0</td>\n      <td>0.0</td>\n      <td>0.0</td>\n      <td>0.0</td>\n    </tr>\n    <tr>\n      <th>3</th>\n      <td>0.0</td>\n      <td>0.0</td>\n      <td>0.0</td>\n      <td>0.0</td>\n      <td>0.072876</td>\n      <td>0.0</td>\n      <td>0.0</td>\n      <td>0.0</td>\n      <td>0.0</td>\n      <td>0.0</td>\n      <td>...</td>\n      <td>0.0</td>\n      <td>0.0</td>\n      <td>0.0</td>\n      <td>0.0</td>\n      <td>0.0</td>\n      <td>0.0</td>\n      <td>0.0</td>\n      <td>0.0</td>\n      <td>0.0</td>\n      <td>0.0</td>\n    </tr>\n    <tr>\n      <th>4</th>\n      <td>0.0</td>\n      <td>0.0</td>\n      <td>0.0</td>\n      <td>0.0</td>\n      <td>0.000000</td>\n      <td>0.0</td>\n      <td>0.0</td>\n      <td>0.0</td>\n      <td>0.0</td>\n      <td>0.0</td>\n      <td>...</td>\n      <td>0.0</td>\n      <td>0.0</td>\n      <td>0.0</td>\n      <td>0.0</td>\n      <td>0.0</td>\n      <td>0.0</td>\n      <td>0.0</td>\n      <td>0.0</td>\n      <td>0.0</td>\n      <td>0.0</td>\n    </tr>\n  </tbody>\n</table>\n<p>5 rows × 5819 columns</p>\n</div>"
     },
     "execution_count": 31,
     "metadata": {},
     "output_type": "execute_result"
    }
   ],
   "source": [
    "X_train_df.head(5)"
   ],
   "metadata": {
    "collapsed": false,
    "pycharm": {
     "name": "#%%\n"
    }
   }
  },
  {
   "cell_type": "code",
   "execution_count": 32,
   "outputs": [
    {
     "data": {
      "text/plain": "   abe  abid  abil  abita  abl     about  abov  abrupt  abruptli  absolut  \\\n0  0.0   0.0   0.0    0.0  0.0  0.000000   0.0     0.0       0.0      0.0   \n1  0.0   0.0   0.0    0.0  0.0  0.064824   0.0     0.0       0.0      0.0   \n2  0.0   0.0   0.0    0.0  0.0  0.000000   0.0     0.0       0.0      0.0   \n3  0.0   0.0   0.0    0.0  0.0  0.000000   0.0     0.0       0.0      0.0   \n4  0.0   0.0   0.0    0.0  0.0  0.000000   0.0     0.0       0.0      0.0   \n\n   ...  zero  zest  zip  ziplock  zlt  zoal  zucchini  zumba  zushipok  ànd  \n0  ...   0.0   0.0  0.0      0.0  0.0   0.0       0.0    0.0       0.0  0.0  \n1  ...   0.0   0.0  0.0      0.0  0.0   0.0       0.0    0.0       0.0  0.0  \n2  ...   0.0   0.0  0.0      0.0  0.0   0.0       0.0    0.0       0.0  0.0  \n3  ...   0.0   0.0  0.0      0.0  0.0   0.0       0.0    0.0       0.0  0.0  \n4  ...   0.0   0.0  0.0      0.0  0.0   0.0       0.0    0.0       0.0  0.0  \n\n[5 rows x 5819 columns]",
      "text/html": "<div>\n<style scoped>\n    .dataframe tbody tr th:only-of-type {\n        vertical-align: middle;\n    }\n\n    .dataframe tbody tr th {\n        vertical-align: top;\n    }\n\n    .dataframe thead th {\n        text-align: right;\n    }\n</style>\n<table border=\"1\" class=\"dataframe\">\n  <thead>\n    <tr style=\"text-align: right;\">\n      <th></th>\n      <th>abe</th>\n      <th>abid</th>\n      <th>abil</th>\n      <th>abita</th>\n      <th>abl</th>\n      <th>about</th>\n      <th>abov</th>\n      <th>abrupt</th>\n      <th>abruptli</th>\n      <th>absolut</th>\n      <th>...</th>\n      <th>zero</th>\n      <th>zest</th>\n      <th>zip</th>\n      <th>ziplock</th>\n      <th>zlt</th>\n      <th>zoal</th>\n      <th>zucchini</th>\n      <th>zumba</th>\n      <th>zushipok</th>\n      <th>ànd</th>\n    </tr>\n  </thead>\n  <tbody>\n    <tr>\n      <th>0</th>\n      <td>0.0</td>\n      <td>0.0</td>\n      <td>0.0</td>\n      <td>0.0</td>\n      <td>0.0</td>\n      <td>0.000000</td>\n      <td>0.0</td>\n      <td>0.0</td>\n      <td>0.0</td>\n      <td>0.0</td>\n      <td>...</td>\n      <td>0.0</td>\n      <td>0.0</td>\n      <td>0.0</td>\n      <td>0.0</td>\n      <td>0.0</td>\n      <td>0.0</td>\n      <td>0.0</td>\n      <td>0.0</td>\n      <td>0.0</td>\n      <td>0.0</td>\n    </tr>\n    <tr>\n      <th>1</th>\n      <td>0.0</td>\n      <td>0.0</td>\n      <td>0.0</td>\n      <td>0.0</td>\n      <td>0.0</td>\n      <td>0.064824</td>\n      <td>0.0</td>\n      <td>0.0</td>\n      <td>0.0</td>\n      <td>0.0</td>\n      <td>...</td>\n      <td>0.0</td>\n      <td>0.0</td>\n      <td>0.0</td>\n      <td>0.0</td>\n      <td>0.0</td>\n      <td>0.0</td>\n      <td>0.0</td>\n      <td>0.0</td>\n      <td>0.0</td>\n      <td>0.0</td>\n    </tr>\n    <tr>\n      <th>2</th>\n      <td>0.0</td>\n      <td>0.0</td>\n      <td>0.0</td>\n      <td>0.0</td>\n      <td>0.0</td>\n      <td>0.000000</td>\n      <td>0.0</td>\n      <td>0.0</td>\n      <td>0.0</td>\n      <td>0.0</td>\n      <td>...</td>\n      <td>0.0</td>\n      <td>0.0</td>\n      <td>0.0</td>\n      <td>0.0</td>\n      <td>0.0</td>\n      <td>0.0</td>\n      <td>0.0</td>\n      <td>0.0</td>\n      <td>0.0</td>\n      <td>0.0</td>\n    </tr>\n    <tr>\n      <th>3</th>\n      <td>0.0</td>\n      <td>0.0</td>\n      <td>0.0</td>\n      <td>0.0</td>\n      <td>0.0</td>\n      <td>0.000000</td>\n      <td>0.0</td>\n      <td>0.0</td>\n      <td>0.0</td>\n      <td>0.0</td>\n      <td>...</td>\n      <td>0.0</td>\n      <td>0.0</td>\n      <td>0.0</td>\n      <td>0.0</td>\n      <td>0.0</td>\n      <td>0.0</td>\n      <td>0.0</td>\n      <td>0.0</td>\n      <td>0.0</td>\n      <td>0.0</td>\n    </tr>\n    <tr>\n      <th>4</th>\n      <td>0.0</td>\n      <td>0.0</td>\n      <td>0.0</td>\n      <td>0.0</td>\n      <td>0.0</td>\n      <td>0.000000</td>\n      <td>0.0</td>\n      <td>0.0</td>\n      <td>0.0</td>\n      <td>0.0</td>\n      <td>...</td>\n      <td>0.0</td>\n      <td>0.0</td>\n      <td>0.0</td>\n      <td>0.0</td>\n      <td>0.0</td>\n      <td>0.0</td>\n      <td>0.0</td>\n      <td>0.0</td>\n      <td>0.0</td>\n      <td>0.0</td>\n    </tr>\n  </tbody>\n</table>\n<p>5 rows × 5819 columns</p>\n</div>"
     },
     "execution_count": 32,
     "metadata": {},
     "output_type": "execute_result"
    }
   ],
   "source": [
    "X_test_df.head(5)"
   ],
   "metadata": {
    "collapsed": false,
    "pycharm": {
     "name": "#%%\n"
    }
   }
  },
  {
   "cell_type": "markdown",
   "source": [
    "# Algorithms"
   ],
   "metadata": {
    "collapsed": false,
    "pycharm": {
     "name": "#%% md\n"
    }
   }
  },
  {
   "cell_type": "code",
   "execution_count": 122,
   "outputs": [],
   "source": [
    "# Features as Array\n",
    "# features = np.array(vectorizer.get_feature_names_out())\n",
    "\n",
    "array_X_train = X_train_vectorizer.toarray()\n",
    "array_X_test = X_test_vectorizer.toarray()"
   ],
   "metadata": {
    "collapsed": false,
    "pycharm": {
     "name": "#%%\n"
    }
   }
  },
  {
   "cell_type": "code",
   "execution_count": 34,
   "outputs": [],
   "source": [
    "from sklearn.neighbors import KNeighborsClassifier\n",
    "from sklearn.linear_model import LogisticRegression\n",
    "from sklearn.tree import DecisionTreeClassifier\n",
    "from sklearn.svm import SVC\n",
    "from sklearn.naive_bayes import GaussianNB\n",
    "from sklearn.ensemble import RandomForestClassifier, AdaBoostClassifier\n",
    "from sklearn.model_selection import GridSearchCV\n",
    "from sklearn.pipeline import Pipeline"
   ],
   "metadata": {
    "collapsed": false,
    "pycharm": {
     "name": "#%%\n"
    }
   }
  },
  {
   "cell_type": "markdown",
   "source": [
    "### Get best parameters"
   ],
   "metadata": {
    "collapsed": false,
    "pycharm": {
     "name": "#%% md\n"
    }
   }
  },
  {
   "cell_type": "code",
   "execution_count": null,
   "outputs": [],
   "source": [
    "def get_best_parameters(algorithm, algorithm_parameters, X_train_param):\n",
    "    gs_algorithm = GridSearchCV(algorithm, algorithm_parameters, verbose=3, scoring='f1', n_jobs=-1)\n",
    "\n",
    "    gs_algorithm.fit(X_train_param, y_train)\n",
    "\n",
    "    print(gs_algorithm.best_params_)\n",
    "\n",
    "    # Find best model score\n",
    "    gs_algorithm.score(X_train_param, y_train)"
   ],
   "metadata": {
    "collapsed": false,
    "pycharm": {
     "name": "#%%\n"
    }
   }
  },
  {
   "cell_type": "markdown",
   "source": [
    "### Execute algorithm"
   ],
   "metadata": {
    "collapsed": false,
    "pycharm": {
     "name": "#%% md\n"
    }
   }
  },
  {
   "cell_type": "code",
   "execution_count": null,
   "outputs": [],
   "source": [
    "def fit_and_predict(algorithm, X_train_param, X_test_param):\n",
    "\n",
    "    # Training model\n",
    "    algorithm.fit(X_train_param, y_train)\n",
    "\n",
    "    # Predicting the test set results\n",
    "    y_pred = algorithm.predict(X_test_param)\n",
    "\n",
    "    # Training score\n",
    "    print(f\"Score on training set: {algorithm.score(X_train_param, y_train)}\")\n",
    "    print(f\"Score on test set: {algorithm.score(X_train_param, y_test)}\")\n",
    "\n",
    "    test_set_score = algorithm.score(X_test_param, y_test) * 100\n",
    "\n",
    "    return y_pred, test_set_score"
   ],
   "metadata": {
    "collapsed": false,
    "pycharm": {
     "name": "#%%\n"
    }
   }
  },
  {
   "cell_type": "markdown",
   "source": [
    "### Confusion Matrix"
   ],
   "metadata": {
    "collapsed": false,
    "pycharm": {
     "name": "#%% md\n"
    }
   }
  },
  {
   "cell_type": "code",
   "execution_count": null,
   "outputs": [],
   "source": [
    "def confusion_matrix_plot(algorithm_name, y_pred_algorithm):\n",
    "    confunsion_matrix_algorithm = confusion_matrix(y_test, y_pred_algorithm)\n",
    "    df_confusion_matrix = pd.DataFrame(confunsion_matrix_algorithm, columns=['Predicted 0', 'Predicted 1'],\n",
    "                                           index=['True 0', 'True 1'])\n",
    "    # display(df_confusion_matrix_gnb)\n",
    "\n",
    "    sns.heatmap(df_confusion_matrix, annot=True, fmt='d')\n",
    "    plt.title(algorithm_name, \"confusion matrix\")\n",
    "    plt.figure(figsize=(24, 14), dpi=100)\n",
    "    plt.close()"
   ],
   "metadata": {
    "collapsed": false,
    "pycharm": {
     "name": "#%%\n"
    }
   }
  },
  {
   "cell_type": "markdown",
   "source": [
    "### Performance metrics"
   ],
   "metadata": {
    "collapsed": false,
    "pycharm": {
     "name": "#%% md\n"
    }
   }
  },
  {
   "cell_type": "code",
   "execution_count": null,
   "outputs": [],
   "source": [
    "def classification_report_plot(algorithm_name, y_pred_algorithm):\n",
    "    classification_report_algorithm = classification_report(y_test, y_pred_algorithm, output_dict=True)\n",
    "    df_algorithm_report = pd.DataFrame(classification_report_algorithm).transpose()\n",
    "\n",
    "    df_algorithm_report.iloc[:3, :3].plot(kind='bar', title= algorithm_name + 'classification report', rot=0)\n",
    "\n",
    "    print(df_algorithm_report)"
   ],
   "metadata": {
    "collapsed": false,
    "pycharm": {
     "name": "#%%\n"
    }
   }
  },
  {
   "cell_type": "markdown",
   "source": [
    "## AdaBoostClassifier"
   ],
   "metadata": {
    "collapsed": false,
    "pycharm": {
     "name": "#%% md\n"
    }
   }
  },
  {
   "cell_type": "markdown",
   "source": [
    "### Get best parameters"
   ],
   "metadata": {
    "collapsed": false,
    "pycharm": {
     "name": "#%% md\n"
    }
   }
  },
  {
   "cell_type": "code",
   "execution_count": 35,
   "outputs": [
    {
     "name": "stdout",
     "output_type": "stream",
     "text": [
      "Fitting 5 folds for each of 20 candidates, totalling 100 fits\n",
      "{'algorithm': 'SAMME.R', 'learning_rate': 0.1, 'n_estimators': 250}\n"
     ]
    },
    {
     "data": {
      "text/plain": "0.9663551401869159"
     },
     "execution_count": 35,
     "metadata": {},
     "output_type": "execute_result"
    }
   ],
   "source": [
    "# parameters = {'n_estimators': [10, 50, 100, 250, 500],\n",
    "#               'learning_rate': [0.01, 0.1],\n",
    "#               'algorithm': ['SAMME', 'SAMME.R']}\n",
    "#\n",
    "# gs_ada = GridSearchCV(AdaBoostClassifier(), parameters, verbose=3, scoring='f1', n_jobs=-1)\n",
    "#\n",
    "# gs_ada.fit(X_train_vectorizer, y_train)\n",
    "#\n",
    "# print(gs_ada.best_params_)\n",
    "#\n",
    "# # Find best model score\n",
    "# gs_ada.score(X_train_vectorizer, y_train)\n",
    "\n",
    "\n",
    "\n",
    "\n"
   ],
   "metadata": {
    "collapsed": false,
    "pycharm": {
     "name": "#%%\n"
    }
   }
  },
  {
   "cell_type": "markdown",
   "source": [
    "### Execute algorithm"
   ],
   "metadata": {
    "collapsed": false,
    "pycharm": {
     "name": "#%% md\n"
    }
   }
  },
  {
   "cell_type": "code",
   "execution_count": 121,
   "outputs": [
    {
     "name": "stdout",
     "output_type": "stream",
     "text": [
      "Score on training set: 0.955\n",
      "Score on test set: 0.85\n"
     ]
    }
   ],
   "source": [
    "ada = AdaBoostClassifier(n_estimators=250, learning_rate=0.1, algorithm='SAMME.R')\n",
    "\n",
    "# Training model\n",
    "ada.fit(X_train_vectorizer, y_train)\n",
    "\n",
    "# Predicting the test set results\n",
    "y_pred_ada = ada.predict(X_test_vectorizer)\n",
    "\n",
    "# Training score\n",
    "print(f\"Score on training set: {ada.score(X_train_vectorizer, y_train)}\")\n",
    "print(f\"Score on test set: {ada.score(X_test_vectorizer, y_test)}\")\n",
    "\n",
    "test_set_score_ada = ada.score(X_test_vectorizer, y_test) * 100"
   ],
   "metadata": {
    "collapsed": false,
    "pycharm": {
     "name": "#%%\n"
    }
   }
  },
  {
   "cell_type": "markdown",
   "source": [
    "### Confusion Matrix"
   ],
   "metadata": {
    "collapsed": false,
    "pycharm": {
     "name": "#%% md\n"
    }
   }
  },
  {
   "cell_type": "code",
   "execution_count": 37,
   "outputs": [],
   "source": [
    "from sklearn.metrics import classification_report\n",
    "from sklearn.metrics import confusion_matrix\n",
    "#from IPython.core.display_functions import display\n",
    "import seaborn as sns"
   ],
   "metadata": {
    "collapsed": false,
    "pycharm": {
     "name": "#%%\n"
    }
   }
  },
  {
   "cell_type": "code",
   "execution_count": 38,
   "outputs": [
    {
     "data": {
      "text/plain": "<Figure size 432x288 with 2 Axes>",
      "image/png": "[encoded data removed]"
     },
     "metadata": {
      "needs_background": "light"
     },
     "output_type": "display_data"
    }
   ],
   "source": [
    "confunsion_matrix_ada = confusion_matrix(y_test, y_pred_ada)\n",
    "df_confusion_matrix_ada = pd.DataFrame(confunsion_matrix_ada, columns=['Predicted 0', 'Predicted 1'],\n",
    "                                       index=['True 0', 'True 1'])\n",
    "# display(df_confusion_matrix_ada)\n",
    "\n",
    "sns.heatmap(df_confusion_matrix_ada, annot=True, fmt='d')\n",
    "plt.title(\"ADA confusion matrix\")\n",
    "plt.figure(figsize=(24, 14), dpi=100)\n",
    "plt.close()"
   ],
   "metadata": {
    "collapsed": false,
    "pycharm": {
     "name": "#%%\n"
    }
   }
  },
  {
   "cell_type": "markdown",
   "source": [
    "### Performance metrics"
   ],
   "metadata": {
    "collapsed": false,
    "pycharm": {
     "name": "#%% md\n"
    }
   }
  },
  {
   "cell_type": "code",
   "execution_count": 39,
   "outputs": [
    {
     "data": {
      "text/plain": "              precision    recall  f1-score  support\n0              0.854545  0.681159  0.758065    69.00\n1              0.848276  0.938931  0.891304   131.00\naccuracy       0.850000  0.850000  0.850000     0.85\nmacro avg      0.851411  0.810045  0.824684   200.00\nweighted avg   0.850439  0.850000  0.845337   200.00",
      "text/html": "<div>\n<style scoped>\n    .dataframe tbody tr th:only-of-type {\n        vertical-align: middle;\n    }\n\n    .dataframe tbody tr th {\n        vertical-align: top;\n    }\n\n    .dataframe thead th {\n        text-align: right;\n    }\n</style>\n<table border=\"1\" class=\"dataframe\">\n  <thead>\n    <tr style=\"text-align: right;\">\n      <th></th>\n      <th>precision</th>\n      <th>recall</th>\n      <th>f1-score</th>\n      <th>support</th>\n    </tr>\n  </thead>\n  <tbody>\n    <tr>\n      <th>0</th>\n      <td>0.854545</td>\n      <td>0.681159</td>\n      <td>0.758065</td>\n      <td>69.00</td>\n    </tr>\n    <tr>\n      <th>1</th>\n      <td>0.848276</td>\n      <td>0.938931</td>\n      <td>0.891304</td>\n      <td>131.00</td>\n    </tr>\n    <tr>\n      <th>accuracy</th>\n      <td>0.850000</td>\n      <td>0.850000</td>\n      <td>0.850000</td>\n      <td>0.85</td>\n    </tr>\n    <tr>\n      <th>macro avg</th>\n      <td>0.851411</td>\n      <td>0.810045</td>\n      <td>0.824684</td>\n      <td>200.00</td>\n    </tr>\n    <tr>\n      <th>weighted avg</th>\n      <td>0.850439</td>\n      <td>0.850000</td>\n      <td>0.845337</td>\n      <td>200.00</td>\n    </tr>\n  </tbody>\n</table>\n</div>"
     },
     "execution_count": 39,
     "metadata": {},
     "output_type": "execute_result"
    },
    {
     "data": {
      "text/plain": "<Figure size 432x288 with 1 Axes>",
      "image/png": "[encoded data removed]"
     },
     "metadata": {
      "needs_background": "light"
     },
     "output_type": "display_data"
    }
   ],
   "source": [
    "classification_report_ada = classification_report(y_test, y_pred_ada, output_dict=True)\n",
    "df_ada_report = pd.DataFrame(classification_report_ada).transpose()\n",
    "\n",
    "df_ada_report.iloc[:3, :3].plot(kind='bar', title='ADA classification report', rot=0)\n",
    "\n",
    "df_ada_report"
   ],
   "metadata": {
    "collapsed": false,
    "pycharm": {
     "name": "#%%\n"
    }
   }
  },
  {
   "cell_type": "markdown",
   "source": [
    "## GaussianNB"
   ],
   "metadata": {
    "collapsed": false,
    "pycharm": {
     "name": "#%% md\n"
    }
   }
  },
  {
   "cell_type": "markdown",
   "source": [
    "### Get best parameters"
   ],
   "metadata": {
    "collapsed": false,
    "pycharm": {
     "name": "#%% md\n"
    }
   }
  },
  {
   "cell_type": "code",
   "execution_count": 44,
   "outputs": [
    {
     "name": "stdout",
     "output_type": "stream",
     "text": [
      "Fitting 5 folds for each of 100 candidates, totalling 500 fits\n",
      "{'var_smoothing': 0.0008111308307896872}\n"
     ]
    },
    {
     "data": {
      "text/plain": "0.9883720930232558"
     },
     "execution_count": 44,
     "metadata": {},
     "output_type": "execute_result"
    }
   ],
   "source": [
    "# parameters = {'var_smoothing' : np.logspace(0,-9, num=100)}\n",
    "#\n",
    "# gs_gnb = GridSearchCV(GaussianNB(), parameters, verbose=3, scoring='f1', n_jobs=-1)\n",
    "#\n",
    "# gs_gnb.fit(array_X_train, y_train)\n",
    "#\n",
    "# print(gs_gnb.best_params_)\n",
    "#\n",
    "# # Find best model score\n",
    "# gs_gnb.score(array_X_train, y_train)"
   ],
   "metadata": {
    "collapsed": false,
    "pycharm": {
     "name": "#%%\n"
    }
   }
  },
  {
   "cell_type": "markdown",
   "source": [
    "### Execute algorithm\n"
   ],
   "metadata": {
    "collapsed": false,
    "pycharm": {
     "name": "#%% md\n"
    }
   }
  },
  {
   "cell_type": "code",
   "execution_count": 99,
   "outputs": [
    {
     "name": "stdout",
     "output_type": "stream",
     "text": [
      "Score on training set: 0.985\n",
      "Score on test set: 0.67\n"
     ]
    }
   ],
   "source": [
    "gnb = GaussianNB(var_smoothing=0.0008111308307896872)\n",
    "\n",
    "# Training model\n",
    "gnb.fit(array_X_train, y_train)\n",
    "\n",
    "# Predicting the test set results\n",
    "y_pred_gnb = gnb.predict(array_X_test)\n",
    "\n",
    "# Training score\n",
    "print(f\"Score on training set: {gnb.score(array_X_train, y_train)}\")\n",
    "print(f\"Score on test set: {gnb.score(array_X_test, y_test)}\")\n",
    "\n",
    "test_set_score_gnb = gnb.score(array_X_test, y_test) * 100"
   ],
   "metadata": {
    "collapsed": false,
    "pycharm": {
     "name": "#%%\n"
    }
   }
  },
  {
   "cell_type": "markdown",
   "source": [
    "### Confusion Matrix"
   ],
   "metadata": {
    "collapsed": false,
    "pycharm": {
     "name": "#%% md\n"
    }
   }
  },
  {
   "cell_type": "code",
   "execution_count": 52,
   "outputs": [
    {
     "data": {
      "text/plain": "<Figure size 432x288 with 2 Axes>",
      "image/png": "[encoded data removed]"
     },
     "metadata": {
      "needs_background": "light"
     },
     "output_type": "display_data"
    }
   ],
   "source": [
    "confunsion_matrix_gnb = confusion_matrix(y_test, y_pred_gnb)\n",
    "df_confusion_matrix_gnb = pd.DataFrame(confunsion_matrix_gnb, columns=['Predicted 0', 'Predicted 1'],\n",
    "                                       index=['True 0', 'True 1'])\n",
    "# display(df_confusion_matrix_gnb)\n",
    "\n",
    "sns.heatmap(df_confusion_matrix_gnb, annot=True, fmt='d')\n",
    "plt.title(\"GNB confusion matrix\")\n",
    "plt.figure(figsize=(24, 14), dpi=100)\n",
    "plt.close()"
   ],
   "metadata": {
    "collapsed": false,
    "pycharm": {
     "name": "#%%\n"
    }
   }
  },
  {
   "cell_type": "markdown",
   "source": [
    "### Performance metrics\n"
   ],
   "metadata": {
    "collapsed": false,
    "pycharm": {
     "name": "#%% md\n"
    }
   }
  },
  {
   "cell_type": "code",
   "execution_count": 53,
   "outputs": [
    {
     "data": {
      "text/plain": "              precision    recall  f1-score  support\n0              0.526316  0.434783  0.476190    69.00\n1              0.727273  0.793893  0.759124   131.00\naccuracy       0.670000  0.670000  0.670000     0.67\nmacro avg      0.626794  0.614338  0.617657   200.00\nweighted avg   0.657943  0.670000  0.661512   200.00",
      "text/html": "<div>\n<style scoped>\n    .dataframe tbody tr th:only-of-type {\n        vertical-align: middle;\n    }\n\n    .dataframe tbody tr th {\n        vertical-align: top;\n    }\n\n    .dataframe thead th {\n        text-align: right;\n    }\n</style>\n<table border=\"1\" class=\"dataframe\">\n  <thead>\n    <tr style=\"text-align: right;\">\n      <th></th>\n      <th>precision</th>\n      <th>recall</th>\n      <th>f1-score</th>\n      <th>support</th>\n    </tr>\n  </thead>\n  <tbody>\n    <tr>\n      <th>0</th>\n      <td>0.526316</td>\n      <td>0.434783</td>\n      <td>0.476190</td>\n      <td>69.00</td>\n    </tr>\n    <tr>\n      <th>1</th>\n      <td>0.727273</td>\n      <td>0.793893</td>\n      <td>0.759124</td>\n      <td>131.00</td>\n    </tr>\n    <tr>\n      <th>accuracy</th>\n      <td>0.670000</td>\n      <td>0.670000</td>\n      <td>0.670000</td>\n      <td>0.67</td>\n    </tr>\n    <tr>\n      <th>macro avg</th>\n      <td>0.626794</td>\n      <td>0.614338</td>\n      <td>0.617657</td>\n      <td>200.00</td>\n    </tr>\n    <tr>\n      <th>weighted avg</th>\n      <td>0.657943</td>\n      <td>0.670000</td>\n      <td>0.661512</td>\n      <td>200.00</td>\n    </tr>\n  </tbody>\n</table>\n</div>"
     },
     "execution_count": 53,
     "metadata": {},
     "output_type": "execute_result"
    },
    {
     "data": {
      "text/plain": "<Figure size 432x288 with 1 Axes>",
      "image/png": "[encoded data removed]"
     },
     "metadata": {
      "needs_background": "light"
     },
     "output_type": "display_data"
    }
   ],
   "source": [
    "classification_report_gnb = classification_report(y_test, y_pred_gnb, output_dict=True)\n",
    "df_gnb_report = pd.DataFrame(classification_report_gnb).transpose()\n",
    "\n",
    "df_gnb_report.iloc[:3, :3].plot(kind='bar', title='GNB classification report', rot=0)\n",
    "\n",
    "df_gnb_report"
   ],
   "metadata": {
    "collapsed": false,
    "pycharm": {
     "name": "#%%\n"
    }
   }
  },
  {
   "cell_type": "markdown",
   "source": [],
   "metadata": {
    "collapsed": false,
    "pycharm": {
     "name": "#%% md\n"
    }
   }
  },
  {
   "cell_type": "markdown",
   "source": [
    "## DecisionTreeClassifier"
   ],
   "metadata": {
    "collapsed": false,
    "pycharm": {
     "name": "#%% md\n"
    }
   }
  },
  {
   "cell_type": "markdown",
   "source": [
    "### Get best parameters"
   ],
   "metadata": {
    "collapsed": false,
    "pycharm": {
     "name": "#%% md\n"
    }
   }
  },
  {
   "cell_type": "code",
   "execution_count": 49,
   "outputs": [
    {
     "name": "stdout",
     "output_type": "stream",
     "text": [
      "Fitting 5 folds for each of 8 candidates, totalling 40 fits\n",
      "{'max_features': None, 'splitter': 'random'}\n"
     ]
    },
    {
     "data": {
      "text/plain": "1.0"
     },
     "execution_count": 49,
     "metadata": {},
     "output_type": "execute_result"
    }
   ],
   "source": [
    "parameters = {'splitter': ['best', 'random'],\n",
    "              'max_features': ['auto', 'sqrt', 'log2', None]}\n",
    "\n",
    "gs_dtc = GridSearchCV(DecisionTreeClassifier(), parameters, verbose=3, scoring='f1', n_jobs=-1)\n",
    "\n",
    "gs_dtc.fit(array_X_train, y_train)\n",
    "\n",
    "print(gs_dtc.best_params_)\n",
    "\n",
    "# Find best model score\n",
    "gs_dtc.score(array_X_train, y_train)"
   ],
   "metadata": {
    "collapsed": false,
    "pycharm": {
     "name": "#%%\n"
    }
   }
  },
  {
   "cell_type": "markdown",
   "source": [
    "### Execute algorithm"
   ],
   "metadata": {
    "collapsed": false,
    "pycharm": {
     "name": "#%% md\n"
    }
   }
  },
  {
   "cell_type": "code",
   "execution_count": 100,
   "outputs": [
    {
     "name": "stdout",
     "output_type": "stream",
     "text": [
      "Score on training set: 1.0\n",
      "Score on test set: 0.725\n"
     ]
    }
   ],
   "source": [
    "dtc = DecisionTreeClassifier(splitter='random', max_features=None, random_state=42)\n",
    "\n",
    "# Training model\n",
    "dtc.fit(array_X_train, y_train)\n",
    "\n",
    "# Predicting the test set results\n",
    "y_pred_dtc = gnb.predict(array_X_test)\n",
    "\n",
    "# Training score\n",
    "print(f\"Score on training set: {dtc.score(array_X_train, y_train)}\")\n",
    "print(f\"Score on test set: {dtc.score(array_X_test, y_test)}\")\n",
    "\n",
    "test_set_score_dtc = dtc.score(array_X_test, y_test) * 100"
   ],
   "metadata": {
    "collapsed": false,
    "pycharm": {
     "name": "#%%\n"
    }
   }
  },
  {
   "cell_type": "markdown",
   "source": [
    "### Confusion Matrix"
   ],
   "metadata": {
    "collapsed": false,
    "pycharm": {
     "name": "#%% md\n"
    }
   }
  },
  {
   "cell_type": "code",
   "execution_count": 55,
   "outputs": [
    {
     "data": {
      "text/plain": "<Figure size 432x288 with 2 Axes>",
      "image/png": "[encoded data removed]"
     },
     "metadata": {
      "needs_background": "light"
     },
     "output_type": "display_data"
    }
   ],
   "source": [
    "confunsion_matrix_dtc = confusion_matrix(y_test, y_pred_dtc)\n",
    "df_confusion_matrix_dtc = pd.DataFrame(confunsion_matrix_dtc, columns=['Predicted 0', 'Predicted 1'],\n",
    "                                       index=['True 0', 'True 1'])\n",
    "# display(df_confusion_matrix_gnb)\n",
    "\n",
    "sns.heatmap(df_confusion_matrix_dtc, annot=True, fmt='d')\n",
    "plt.title(\"GNB confusion matrix\")\n",
    "plt.figure(figsize=(24, 14), dpi=100)\n",
    "plt.close()"
   ],
   "metadata": {
    "collapsed": false,
    "pycharm": {
     "name": "#%%\n"
    }
   }
  },
  {
   "cell_type": "markdown",
   "source": [
    "### Performance metrics"
   ],
   "metadata": {
    "collapsed": false,
    "pycharm": {
     "name": "#%% md\n"
    }
   }
  },
  {
   "cell_type": "code",
   "execution_count": 56,
   "outputs": [
    {
     "data": {
      "text/plain": "              precision    recall  f1-score  support\n0              0.526316  0.434783  0.476190    69.00\n1              0.727273  0.793893  0.759124   131.00\naccuracy       0.670000  0.670000  0.670000     0.67\nmacro avg      0.626794  0.614338  0.617657   200.00\nweighted avg   0.657943  0.670000  0.661512   200.00",
      "text/html": "<div>\n<style scoped>\n    .dataframe tbody tr th:only-of-type {\n        vertical-align: middle;\n    }\n\n    .dataframe tbody tr th {\n        vertical-align: top;\n    }\n\n    .dataframe thead th {\n        text-align: right;\n    }\n</style>\n<table border=\"1\" class=\"dataframe\">\n  <thead>\n    <tr style=\"text-align: right;\">\n      <th></th>\n      <th>precision</th>\n      <th>recall</th>\n      <th>f1-score</th>\n      <th>support</th>\n    </tr>\n  </thead>\n  <tbody>\n    <tr>\n      <th>0</th>\n      <td>0.526316</td>\n      <td>0.434783</td>\n      <td>0.476190</td>\n      <td>69.00</td>\n    </tr>\n    <tr>\n      <th>1</th>\n      <td>0.727273</td>\n      <td>0.793893</td>\n      <td>0.759124</td>\n      <td>131.00</td>\n    </tr>\n    <tr>\n      <th>accuracy</th>\n      <td>0.670000</td>\n      <td>0.670000</td>\n      <td>0.670000</td>\n      <td>0.67</td>\n    </tr>\n    <tr>\n      <th>macro avg</th>\n      <td>0.626794</td>\n      <td>0.614338</td>\n      <td>0.617657</td>\n      <td>200.00</td>\n    </tr>\n    <tr>\n      <th>weighted avg</th>\n      <td>0.657943</td>\n      <td>0.670000</td>\n      <td>0.661512</td>\n      <td>200.00</td>\n    </tr>\n  </tbody>\n</table>\n</div>"
     },
     "execution_count": 56,
     "metadata": {},
     "output_type": "execute_result"
    },
    {
     "data": {
      "text/plain": "<Figure size 432x288 with 1 Axes>",
      "image/png": "[encoded data removed]"
     },
     "metadata": {
      "needs_background": "light"
     },
     "output_type": "display_data"
    }
   ],
   "source": [
    "classification_report_dtc = classification_report(y_test, y_pred_dtc, output_dict=True)\n",
    "df_dtc_report = pd.DataFrame(classification_report_dtc).transpose()\n",
    "\n",
    "df_dtc_report.iloc[:3, :3].plot(kind='bar', title='DTC classification report', rot=0)\n",
    "\n",
    "df_dtc_report"
   ],
   "metadata": {
    "collapsed": false,
    "pycharm": {
     "name": "#%%\n"
    }
   }
  },
  {
   "cell_type": "markdown",
   "source": [
    "## LogisticRegression"
   ],
   "metadata": {
    "collapsed": false,
    "pycharm": {
     "name": "#%% md\n"
    }
   }
  },
  {
   "cell_type": "markdown",
   "source": [
    "### Get best parameters"
   ],
   "metadata": {
    "collapsed": false,
    "pycharm": {
     "name": "#%% md\n"
    }
   }
  },
  {
   "cell_type": "code",
   "execution_count": 62,
   "outputs": [
    {
     "name": "stdout",
     "output_type": "stream",
     "text": [
      "Fitting 5 folds for each of 20 candidates, totalling 100 fits\n",
      "{'C': 1.0, 'solver': 'newton-cg'}\n"
     ]
    },
    {
     "data": {
      "text/plain": "0.9360936093609361"
     },
     "execution_count": 62,
     "metadata": {},
     "output_type": "execute_result"
    }
   ],
   "source": [
    "parameters = {'C': [0.001, 0.01, 0.1, 1.0],\n",
    "              'solver': ['liblinear', 'newton-cg', 'lbfgs', 'saga', 'sag']}\n",
    "\n",
    "gs_lr = GridSearchCV(LogisticRegression(multi_class='auto', random_state=42), parameters, verbose=3, scoring='f1', n_jobs=-1)\n",
    "\n",
    "gs_lr.fit(array_X_train, y_train)\n",
    "\n",
    "print(gs_lr.best_params_)\n",
    "\n",
    "# Find best model score\n",
    "gs_lr.score(array_X_train, y_train)"
   ],
   "metadata": {
    "collapsed": false,
    "pycharm": {
     "name": "#%%\n"
    }
   }
  },
  {
   "cell_type": "markdown",
   "source": [
    "### Execute algorithm"
   ],
   "metadata": {
    "collapsed": false,
    "pycharm": {
     "name": "#%% md\n"
    }
   }
  },
  {
   "cell_type": "code",
   "execution_count": 101,
   "outputs": [
    {
     "name": "stdout",
     "output_type": "stream",
     "text": [
      "Score on training set: 0.91125\n",
      "Score on test set: 0.81\n"
     ]
    }
   ],
   "source": [
    "lr = LogisticRegression(C=1.0, solver='newton-cg', multi_class='auto', random_state=42)\n",
    "\n",
    "# Training model\n",
    "lr.fit(array_X_train, y_train)\n",
    "\n",
    "# Predicting the test set results\n",
    "y_pred_lr = lr.predict(array_X_test)\n",
    "\n",
    "# Training score\n",
    "print(f\"Score on training set: {lr.score(array_X_train, y_train)}\")\n",
    "print(f\"Score on test set: {lr.score(array_X_test, y_test)}\")\n",
    "\n",
    "test_set_score_lr = lr.score(array_X_test, y_test) * 100"
   ],
   "metadata": {
    "collapsed": false,
    "pycharm": {
     "name": "#%%\n"
    }
   }
  },
  {
   "cell_type": "markdown",
   "source": [
    "### Confusion Matrix"
   ],
   "metadata": {
    "collapsed": false,
    "pycharm": {
     "name": "#%% md\n"
    }
   }
  },
  {
   "cell_type": "code",
   "execution_count": 64,
   "outputs": [
    {
     "data": {
      "text/plain": "<Figure size 432x288 with 2 Axes>",
      "image/png": "[encoded data removed]"
     },
     "metadata": {
      "needs_background": "light"
     },
     "output_type": "display_data"
    }
   ],
   "source": [
    "confunsion_matrix_lr = confusion_matrix(y_test, y_pred_lr)\n",
    "df_confusion_matrix_lr = pd.DataFrame(confunsion_matrix_lr, columns=['Predicted 0', 'Predicted 1'],\n",
    "                                       index=['True 0', 'True 1'])\n",
    "# display(df_confusion_matrix_gnb)\n",
    "\n",
    "sns.heatmap(df_confusion_matrix_lr, annot=True, fmt='d')\n",
    "plt.title(\"LR confusion matrix\")\n",
    "plt.figure(figsize=(24, 14), dpi=100)\n",
    "plt.close()"
   ],
   "metadata": {
    "collapsed": false,
    "pycharm": {
     "name": "#%%\n"
    }
   }
  },
  {
   "cell_type": "markdown",
   "source": [
    "### Performance metrics"
   ],
   "metadata": {
    "collapsed": false,
    "pycharm": {
     "name": "#%% md\n"
    }
   }
  },
  {
   "cell_type": "code",
   "execution_count": 65,
   "outputs": [
    {
     "data": {
      "text/plain": "              precision    recall  f1-score  support\n0              0.942857  0.478261  0.634615    69.00\n1              0.781818  0.984733  0.871622   131.00\naccuracy       0.810000  0.810000  0.810000     0.81\nmacro avg      0.862338  0.731497  0.753119   200.00\nweighted avg   0.837377  0.810000  0.789854   200.00",
      "text/html": "<div>\n<style scoped>\n    .dataframe tbody tr th:only-of-type {\n        vertical-align: middle;\n    }\n\n    .dataframe tbody tr th {\n        vertical-align: top;\n    }\n\n    .dataframe thead th {\n        text-align: right;\n    }\n</style>\n<table border=\"1\" class=\"dataframe\">\n  <thead>\n    <tr style=\"text-align: right;\">\n      <th></th>\n      <th>precision</th>\n      <th>recall</th>\n      <th>f1-score</th>\n      <th>support</th>\n    </tr>\n  </thead>\n  <tbody>\n    <tr>\n      <th>0</th>\n      <td>0.942857</td>\n      <td>0.478261</td>\n      <td>0.634615</td>\n      <td>69.00</td>\n    </tr>\n    <tr>\n      <th>1</th>\n      <td>0.781818</td>\n      <td>0.984733</td>\n      <td>0.871622</td>\n      <td>131.00</td>\n    </tr>\n    <tr>\n      <th>accuracy</th>\n      <td>0.810000</td>\n      <td>0.810000</td>\n      <td>0.810000</td>\n      <td>0.81</td>\n    </tr>\n    <tr>\n      <th>macro avg</th>\n      <td>0.862338</td>\n      <td>0.731497</td>\n      <td>0.753119</td>\n      <td>200.00</td>\n    </tr>\n    <tr>\n      <th>weighted avg</th>\n      <td>0.837377</td>\n      <td>0.810000</td>\n      <td>0.789854</td>\n      <td>200.00</td>\n    </tr>\n  </tbody>\n</table>\n</div>"
     },
     "execution_count": 65,
     "metadata": {},
     "output_type": "execute_result"
    },
    {
     "data": {
      "text/plain": "<Figure size 432x288 with 1 Axes>",
      "image/png": "[encoded data removed]"
     },
     "metadata": {
      "needs_background": "light"
     },
     "output_type": "display_data"
    }
   ],
   "source": [
    "classification_report_lr = classification_report(y_test, y_pred_lr, output_dict=True)\n",
    "df_lr_report = pd.DataFrame(classification_report_lr).transpose()\n",
    "\n",
    "df_lr_report.iloc[:3, :3].plot(kind='bar', title='LR classification report', rot=0)\n",
    "\n",
    "df_lr_report"
   ],
   "metadata": {
    "collapsed": false,
    "pycharm": {
     "name": "#%%\n"
    }
   }
  },
  {
   "cell_type": "markdown",
   "source": [
    "## KNeighborsClassifier"
   ],
   "metadata": {
    "collapsed": false,
    "pycharm": {
     "name": "#%% md\n"
    }
   }
  },
  {
   "cell_type": "markdown",
   "source": [
    "### Get best parameters"
   ],
   "metadata": {
    "collapsed": false,
    "pycharm": {
     "name": "#%% md\n"
    }
   }
  },
  {
   "cell_type": "code",
   "execution_count": null,
   "outputs": [],
   "source": [
    "parameters = {'n_neighbors': [5, 6, 7, 8, 9, 10, 11, 12, 13, 14, 15, 16, 17, 18, 19, 20, 21, 22, 23, 24, 25, 26, 27, 28, 29, 30, 31],\n",
    "              'algorithm': ['ball_tree']}\n",
    "\n",
    "gs_knc = GridSearchCV(KNeighborsClassifier(n_jobs=-1), parameters, verbose=3, scoring='f1', n_jobs=-1)\n",
    "\n",
    "gs_knc.fit(array_X_train, y_train)\n",
    "\n",
    "print(gs_knc.best_params_)\n",
    "\n",
    "# Find best model score\n",
    "gs_knc.score(array_X_train, y_train)"
   ],
   "metadata": {
    "collapsed": false,
    "pycharm": {
     "name": "#%%\n",
     "is_executing": true
    }
   }
  },
  {
   "cell_type": "markdown",
   "source": [
    "### Execute algorithm"
   ],
   "metadata": {
    "collapsed": false,
    "pycharm": {
     "name": "#%% md\n"
    }
   }
  },
  {
   "cell_type": "code",
   "execution_count": null,
   "outputs": [],
   "source": [
    "knc = KNeighborsClassifier(algorithm='ball_tree', n_neighbors=31, weights='uniform', n_jobs=-1)\n",
    "\n",
    "# Training model\n",
    "knc.fit(array_X_train, y_train)\n",
    "\n",
    "# Predicting the test set results\n",
    "y_pred_knc = knc.predict(array_X_test)\n",
    "\n",
    "# Training score\n",
    "print(f\"Score on training set: {knc.score(array_X_train, y_train)}\")\n",
    "print(f\"Score on test set: {knc.score(array_X_test, y_test)}\")\n",
    "\n",
    "test_set_score_knc = knc.score(array_X_test, y_test) * 100"
   ],
   "metadata": {
    "collapsed": false,
    "pycharm": {
     "name": "#%%\n",
     "is_executing": true
    }
   }
  },
  {
   "cell_type": "markdown",
   "source": [
    "### Confusion Matrix"
   ],
   "metadata": {
    "collapsed": false,
    "pycharm": {
     "name": "#%% md\n"
    }
   }
  },
  {
   "cell_type": "code",
   "execution_count": 68,
   "outputs": [
    {
     "data": {
      "text/plain": "<Figure size 432x288 with 2 Axes>",
      "image/png": "[encoded data removed]"
     },
     "metadata": {
      "needs_background": "light"
     },
     "output_type": "display_data"
    }
   ],
   "source": [
    "confunsion_matrix_knc = confusion_matrix(y_test, y_pred_knc)\n",
    "df_confusion_matrix_knc = pd.DataFrame(confunsion_matrix_knc, columns=['Predicted 0', 'Predicted 1'],\n",
    "                                       index=['True 0', 'True 1'])\n",
    "# display(df_confusion_matrix_gnb)\n",
    "\n",
    "sns.heatmap(df_confusion_matrix_knc, annot=True, fmt='d')\n",
    "plt.title(\"LR confusion matrix\")\n",
    "plt.figure(figsize=(24, 14), dpi=100)\n",
    "plt.close()"
   ],
   "metadata": {
    "collapsed": false,
    "pycharm": {
     "name": "#%%\n"
    }
   }
  },
  {
   "cell_type": "markdown",
   "source": [
    "### Performance metrics"
   ],
   "metadata": {
    "collapsed": false,
    "pycharm": {
     "name": "#%% md\n"
    }
   }
  },
  {
   "cell_type": "code",
   "execution_count": 69,
   "outputs": [
    {
     "data": {
      "text/plain": "              precision    recall  f1-score  support\n0              0.633803  0.652174  0.642857    69.00\n1              0.813953  0.801527  0.807692   131.00\naccuracy       0.750000  0.750000  0.750000     0.75\nmacro avg      0.723878  0.726850  0.725275   200.00\nweighted avg   0.751802  0.750000  0.750824   200.00",
      "text/html": "<div>\n<style scoped>\n    .dataframe tbody tr th:only-of-type {\n        vertical-align: middle;\n    }\n\n    .dataframe tbody tr th {\n        vertical-align: top;\n    }\n\n    .dataframe thead th {\n        text-align: right;\n    }\n</style>\n<table border=\"1\" class=\"dataframe\">\n  <thead>\n    <tr style=\"text-align: right;\">\n      <th></th>\n      <th>precision</th>\n      <th>recall</th>\n      <th>f1-score</th>\n      <th>support</th>\n    </tr>\n  </thead>\n  <tbody>\n    <tr>\n      <th>0</th>\n      <td>0.633803</td>\n      <td>0.652174</td>\n      <td>0.642857</td>\n      <td>69.00</td>\n    </tr>\n    <tr>\n      <th>1</th>\n      <td>0.813953</td>\n      <td>0.801527</td>\n      <td>0.807692</td>\n      <td>131.00</td>\n    </tr>\n    <tr>\n      <th>accuracy</th>\n      <td>0.750000</td>\n      <td>0.750000</td>\n      <td>0.750000</td>\n      <td>0.75</td>\n    </tr>\n    <tr>\n      <th>macro avg</th>\n      <td>0.723878</td>\n      <td>0.726850</td>\n      <td>0.725275</td>\n      <td>200.00</td>\n    </tr>\n    <tr>\n      <th>weighted avg</th>\n      <td>0.751802</td>\n      <td>0.750000</td>\n      <td>0.750824</td>\n      <td>200.00</td>\n    </tr>\n  </tbody>\n</table>\n</div>"
     },
     "execution_count": 69,
     "metadata": {},
     "output_type": "execute_result"
    },
    {
     "data": {
      "text/plain": "<Figure size 432x288 with 1 Axes>",
      "image/png": "[encoded data removed]"
     },
     "metadata": {
      "needs_background": "light"
     },
     "output_type": "display_data"
    }
   ],
   "source": [
    "classification_report_knc = classification_report(y_test, y_pred_knc, output_dict=True)\n",
    "df_knc_report = pd.DataFrame(classification_report_knc).transpose()\n",
    "\n",
    "df_knc_report.iloc[:3, :3].plot(kind='bar', title='KNC classification report', rot=0)\n",
    "\n",
    "df_knc_report"
   ],
   "metadata": {
    "collapsed": false,
    "pycharm": {
     "name": "#%%\n"
    }
   }
  },
  {
   "cell_type": "markdown",
   "source": [
    "## Support Vector Machine"
   ],
   "metadata": {
    "collapsed": false,
    "pycharm": {
     "name": "#%% md\n"
    }
   }
  },
  {
   "cell_type": "markdown",
   "source": [
    "### Get best parameters"
   ],
   "metadata": {
    "collapsed": false,
    "pycharm": {
     "name": "#%% md\n"
    }
   }
  },
  {
   "cell_type": "code",
   "execution_count": 73,
   "outputs": [
    {
     "name": "stdout",
     "output_type": "stream",
     "text": [
      "Fitting 5 folds for each of 64 candidates, totalling 320 fits\n",
      "{'C': 1.0, 'decision_function_shape': 'ovo', 'gamma': 'auto', 'kernel': 'linear'}\n"
     ]
    },
    {
     "data": {
      "text/plain": "0.9886148007590132"
     },
     "execution_count": 73,
     "metadata": {},
     "output_type": "execute_result"
    }
   ],
   "source": [
    "parameters = {'C': [0.001, 0.01, 0.1, 1.0],\n",
    "              'kernel': ['linear', 'rbf', 'sigmoid', 'poly'],\n",
    "              'gamma': ['auto', 'scale'],\n",
    "              'decision_function_shape': ['ovo', 'ovr']}\n",
    "\n",
    "gs_svc = GridSearchCV(SVC(), parameters, verbose=3, scoring='f1', n_jobs=-1)\n",
    "\n",
    "gs_svc.fit(X_train_vectorizer, y_train)\n",
    "\n",
    "print(gs_svc.best_params_)\n",
    "\n",
    "# Find best model score\n",
    "gs_svc.score(X_train_vectorizer, y_train)"
   ],
   "metadata": {
    "collapsed": false,
    "pycharm": {
     "name": "#%%\n"
    }
   }
  },
  {
   "cell_type": "markdown",
   "source": [
    "### Execute algorithm"
   ],
   "metadata": {
    "collapsed": false,
    "pycharm": {
     "name": "#%% md\n"
    }
   }
  },
  {
   "cell_type": "code",
   "execution_count": 103,
   "outputs": [
    {
     "name": "stdout",
     "output_type": "stream",
     "text": [
      "Score on training set: 0.985\n",
      "Score on test set: 0.87\n"
     ]
    }
   ],
   "source": [
    "svc = SVC(C=1.0, kernel='linear', decision_function_shape='ovo', gamma='auto')\n",
    "\n",
    "# Training model\n",
    "svc.fit(array_X_train, y_train)\n",
    "\n",
    "# Predicting the test set results\n",
    "y_pred_svc = svc.predict(array_X_test)\n",
    "\n",
    "# Training score\n",
    "print(f\"Score on training set: {svc.score(array_X_train, y_train)}\")\n",
    "print(f\"Score on test set: {svc.score(array_X_test, y_test)}\")\n",
    "\n",
    "test_set_score_svc = svc.score(array_X_test, y_test) * 100"
   ],
   "metadata": {
    "collapsed": false,
    "pycharm": {
     "name": "#%%\n"
    }
   }
  },
  {
   "cell_type": "markdown",
   "source": [
    "### Confusion Matrix"
   ],
   "metadata": {
    "collapsed": false,
    "pycharm": {
     "name": "#%% md\n"
    }
   }
  },
  {
   "cell_type": "code",
   "execution_count": 75,
   "outputs": [
    {
     "data": {
      "text/plain": "<Figure size 432x288 with 2 Axes>",
      "image/png": "[encoded data removed]"
     },
     "metadata": {
      "needs_background": "light"
     },
     "output_type": "display_data"
    }
   ],
   "source": [
    "confunsion_matrix_svc = confusion_matrix(y_test, y_pred_svc)\n",
    "df_confusion_matrix_svc = pd.DataFrame(confunsion_matrix_svc, columns=['Predicted 0', 'Predicted 1'],\n",
    "                                       index=['True 0', 'True 1'])\n",
    "# display(df_confusion_matrix_gnb)\n",
    "\n",
    "sns.heatmap(df_confusion_matrix_svc, annot=True, fmt='d')\n",
    "plt.title(\"SVC confusion matrix\")\n",
    "plt.figure(figsize=(24, 14), dpi=100)\n",
    "plt.close()"
   ],
   "metadata": {
    "collapsed": false,
    "pycharm": {
     "name": "#%%\n"
    }
   }
  },
  {
   "cell_type": "markdown",
   "source": [
    "### Performance metrics"
   ],
   "metadata": {
    "collapsed": false,
    "pycharm": {
     "name": "#%% md\n"
    }
   }
  },
  {
   "cell_type": "code",
   "execution_count": 76,
   "outputs": [
    {
     "data": {
      "text/plain": "              precision    recall  f1-score  support\n0              0.890909  0.710145  0.790323    69.00\n1              0.862069  0.954198  0.905797   131.00\naccuracy       0.870000  0.870000  0.870000     0.87\nmacro avg      0.876489  0.832172  0.848060   200.00\nweighted avg   0.872019  0.870000  0.865958   200.00",
      "text/html": "<div>\n<style scoped>\n    .dataframe tbody tr th:only-of-type {\n        vertical-align: middle;\n    }\n\n    .dataframe tbody tr th {\n        vertical-align: top;\n    }\n\n    .dataframe thead th {\n        text-align: right;\n    }\n</style>\n<table border=\"1\" class=\"dataframe\">\n  <thead>\n    <tr style=\"text-align: right;\">\n      <th></th>\n      <th>precision</th>\n      <th>recall</th>\n      <th>f1-score</th>\n      <th>support</th>\n    </tr>\n  </thead>\n  <tbody>\n    <tr>\n      <th>0</th>\n      <td>0.890909</td>\n      <td>0.710145</td>\n      <td>0.790323</td>\n      <td>69.00</td>\n    </tr>\n    <tr>\n      <th>1</th>\n      <td>0.862069</td>\n      <td>0.954198</td>\n      <td>0.905797</td>\n      <td>131.00</td>\n    </tr>\n    <tr>\n      <th>accuracy</th>\n      <td>0.870000</td>\n      <td>0.870000</td>\n      <td>0.870000</td>\n      <td>0.87</td>\n    </tr>\n    <tr>\n      <th>macro avg</th>\n      <td>0.876489</td>\n      <td>0.832172</td>\n      <td>0.848060</td>\n      <td>200.00</td>\n    </tr>\n    <tr>\n      <th>weighted avg</th>\n      <td>0.872019</td>\n      <td>0.870000</td>\n      <td>0.865958</td>\n      <td>200.00</td>\n    </tr>\n  </tbody>\n</table>\n</div>"
     },
     "execution_count": 76,
     "metadata": {},
     "output_type": "execute_result"
    },
    {
     "data": {
      "text/plain": "<Figure size 432x288 with 1 Axes>",
      "image/png": "[encoded data removed]"
     },
     "metadata": {
      "needs_background": "light"
     },
     "output_type": "display_data"
    }
   ],
   "source": [
    "classification_report_svc = classification_report(y_test, y_pred_svc, output_dict=True)\n",
    "df_svc_report = pd.DataFrame(classification_report_svc).transpose()\n",
    "\n",
    "df_svc_report.iloc[:3, :3].plot(kind='bar', title='SVC classification report', rot=0)\n",
    "\n",
    "df_svc_report"
   ],
   "metadata": {
    "collapsed": false,
    "pycharm": {
     "name": "#%%\n"
    }
   }
  },
  {
   "cell_type": "markdown",
   "source": [
    "## RandomForestClassifier"
   ],
   "metadata": {
    "collapsed": false,
    "pycharm": {
     "name": "#%% md\n"
    }
   }
  },
  {
   "cell_type": "markdown",
   "source": [
    "### Get best parameters"
   ],
   "metadata": {
    "collapsed": false,
    "pycharm": {
     "name": "#%% md\n"
    }
   }
  },
  {
   "cell_type": "code",
   "execution_count": 77,
   "outputs": [
    {
     "name": "stdout",
     "output_type": "stream",
     "text": [
      "Fitting 5 folds for each of 5 candidates, totalling 25 fits\n",
      "{'n_estimators': 100}\n"
     ]
    },
    {
     "data": {
      "text/plain": "1.0"
     },
     "execution_count": 77,
     "metadata": {},
     "output_type": "execute_result"
    }
   ],
   "source": [
    "parameters = {'n_estimators': [10, 50, 100, 250, 500]}\n",
    "\n",
    "gs_rfc = GridSearchCV(RandomForestClassifier(random_state=42), parameters, verbose=3, scoring='f1', n_jobs=-1)\n",
    "\n",
    "gs_rfc.fit(array_X_train, y_train)\n",
    "\n",
    "print(gs_rfc.best_params_)\n",
    "\n",
    "# Find best model score\n",
    "gs_rfc.score(array_X_train, y_train)"
   ],
   "metadata": {
    "collapsed": false,
    "pycharm": {
     "name": "#%%\n"
    }
   }
  },
  {
   "cell_type": "markdown",
   "source": [
    "### Execute algorithm"
   ],
   "metadata": {
    "collapsed": false,
    "pycharm": {
     "name": "#%% md\n"
    }
   }
  },
  {
   "cell_type": "code",
   "execution_count": 104,
   "outputs": [
    {
     "name": "stdout",
     "output_type": "stream",
     "text": [
      "Score on training set: 1.0\n",
      "Score on test set: 0.795\n"
     ]
    }
   ],
   "source": [
    "rfc = RandomForestClassifier(n_estimators=100, n_jobs=-1, random_state=42)\n",
    "\n",
    "# Training model\n",
    "rfc.fit(array_X_train, y_train)\n",
    "\n",
    "# Predicting the test set results\n",
    "y_pred_rfc = rfc.predict(array_X_test)\n",
    "\n",
    "# Training score\n",
    "print(f\"Score on training set: {rfc.score(array_X_train, y_train)}\")\n",
    "print(f\"Score on test set: {rfc.score(array_X_test, y_test)}\")\n",
    "\n",
    "test_set_score_rfc = rfc.score(array_X_test, y_test) * 100"
   ],
   "metadata": {
    "collapsed": false,
    "pycharm": {
     "name": "#%%\n"
    }
   }
  },
  {
   "cell_type": "markdown",
   "source": [
    "### Confusion Matrix"
   ],
   "metadata": {
    "collapsed": false,
    "pycharm": {
     "name": "#%% md\n"
    }
   }
  },
  {
   "cell_type": "code",
   "execution_count": 79,
   "outputs": [
    {
     "data": {
      "text/plain": "<Figure size 432x288 with 2 Axes>",
      "image/png": "[encoded data removed]"
     },
     "metadata": {
      "needs_background": "light"
     },
     "output_type": "display_data"
    }
   ],
   "source": [
    "confunsion_matrix_rfc = confusion_matrix(y_test, y_pred_rfc)\n",
    "df_confusion_matrix_rfc = pd.DataFrame(confunsion_matrix_rfc, columns=['Predicted 0', 'Predicted 1'],\n",
    "                                       index=['True 0', 'True 1'])\n",
    "# display(df_confusion_matrix_gnb)\n",
    "\n",
    "sns.heatmap(df_confusion_matrix_rfc, annot=True, fmt='d')\n",
    "plt.title(\"RFC confusion matrix\")\n",
    "plt.figure(figsize=(24, 14), dpi=100)\n",
    "plt.close()"
   ],
   "metadata": {
    "collapsed": false,
    "pycharm": {
     "name": "#%%\n"
    }
   }
  },
  {
   "cell_type": "markdown",
   "source": [
    "### Performance metrics"
   ],
   "metadata": {
    "collapsed": false,
    "pycharm": {
     "name": "#%% md\n"
    }
   }
  },
  {
   "cell_type": "code",
   "execution_count": 81,
   "outputs": [
    {
     "data": {
      "text/plain": "              precision    recall  f1-score  support\n0              1.000000  0.405797  0.577320   69.000\n1              0.761628  1.000000  0.864686  131.000\naccuracy       0.795000  0.795000  0.795000    0.795\nmacro avg      0.880814  0.702899  0.721003  200.000\nweighted avg   0.843866  0.795000  0.765545  200.000",
      "text/html": "<div>\n<style scoped>\n    .dataframe tbody tr th:only-of-type {\n        vertical-align: middle;\n    }\n\n    .dataframe tbody tr th {\n        vertical-align: top;\n    }\n\n    .dataframe thead th {\n        text-align: right;\n    }\n</style>\n<table border=\"1\" class=\"dataframe\">\n  <thead>\n    <tr style=\"text-align: right;\">\n      <th></th>\n      <th>precision</th>\n      <th>recall</th>\n      <th>f1-score</th>\n      <th>support</th>\n    </tr>\n  </thead>\n  <tbody>\n    <tr>\n      <th>0</th>\n      <td>1.000000</td>\n      <td>0.405797</td>\n      <td>0.577320</td>\n      <td>69.000</td>\n    </tr>\n    <tr>\n      <th>1</th>\n      <td>0.761628</td>\n      <td>1.000000</td>\n      <td>0.864686</td>\n      <td>131.000</td>\n    </tr>\n    <tr>\n      <th>accuracy</th>\n      <td>0.795000</td>\n      <td>0.795000</td>\n      <td>0.795000</td>\n      <td>0.795</td>\n    </tr>\n    <tr>\n      <th>macro avg</th>\n      <td>0.880814</td>\n      <td>0.702899</td>\n      <td>0.721003</td>\n      <td>200.000</td>\n    </tr>\n    <tr>\n      <th>weighted avg</th>\n      <td>0.843866</td>\n      <td>0.795000</td>\n      <td>0.765545</td>\n      <td>200.000</td>\n    </tr>\n  </tbody>\n</table>\n</div>"
     },
     "execution_count": 81,
     "metadata": {},
     "output_type": "execute_result"
    },
    {
     "data": {
      "text/plain": "<Figure size 432x288 with 1 Axes>",
      "image/png": "[encoded data removed]"
     },
     "metadata": {
      "needs_background": "light"
     },
     "output_type": "display_data"
    }
   ],
   "source": [
    "classification_report_rfc = classification_report(y_test, y_pred_rfc, output_dict=True)\n",
    "df_rfc_report = pd.DataFrame(classification_report_rfc).transpose()\n",
    "\n",
    "df_rfc_report.iloc[:3, :3].plot(kind='bar', title='RFC classification report', rot=0)\n",
    "\n",
    "df_rfc_report"
   ],
   "metadata": {
    "collapsed": false,
    "pycharm": {
     "name": "#%%\n"
    }
   }
  },
  {
   "cell_type": "markdown",
   "source": [
    "## Plot algorithm accuracy"
   ],
   "metadata": {
    "collapsed": false,
    "pycharm": {
     "name": "#%% md\n"
    }
   }
  },
  {
   "cell_type": "code",
   "execution_count": 128,
   "outputs": [
    {
     "data": {
      "text/plain": "<Figure size 432x288 with 1 Axes>",
      "image/png": "[encoded data removed]"
     },
     "metadata": {
      "needs_background": "light"
     },
     "output_type": "display_data"
    }
   ],
   "source": [
    "labels = ['ADA', 'GNB', 'DTC', 'LR', 'KNC', 'SVC', 'RFC']\n",
    "score_values = [test_set_score_ada, test_set_score_gnb, test_set_score_dtc, test_set_score_lr, test_set_score_knc, test_set_score_svc, test_set_score_rfc]\n",
    "\n",
    "x = np.arange(len(labels))  # the label locations\n",
    "width = 0.35  # the width of the space between bar\n",
    "width_bar = 0.50\n",
    "\n",
    "fig, ax = plt.subplots()\n",
    "rects1 = ax.bar(x - width/2, score_values, width_bar, label='accuracy')\n",
    "\n",
    "# Add some text for labels, title and custom x-axis tick labels, etc.\n",
    "ax.set_ylabel('Scores')\n",
    "ax.set_title('Algorithm accuracy')\n",
    "ax.set_xticks(x - width/2, labels)\n",
    "ax.legend()\n",
    "\n",
    "ax.bar_label(rects1)\n",
    "\n",
    "fig.tight_layout()\n",
    "\n",
    "plt.show()"
   ],
   "metadata": {
    "collapsed": false,
    "pycharm": {
     "name": "#%%\n"
    }
   }
  },
  {
   "cell_type": "markdown",
   "source": [],
   "metadata": {
    "collapsed": false,
    "pycharm": {
     "name": "#%% md\n"
    }
   }
  }
 ],
 "metadata": {
  "kernelspec": {
   "display_name": "Python 3",
   "language": "python",
   "name": "python3"
  },
  "language_info": {
   "codemirror_mode": {
    "name": "ipython",
    "version": 2
   },
   "file_extension": ".py",
   "mimetype": "text/x-python",
   "name": "python",
   "nbconvert_exporter": "python",
   "pygments_lexer": "ipython2",
   "version": "2.7.6"
  },
  "colab": {
   "name": "Reviews.ipynb",
   "provenance": [],
   "collapsed_sections": []
  }
 },
 "nbformat": 4,
 "nbformat_minor": 0
}