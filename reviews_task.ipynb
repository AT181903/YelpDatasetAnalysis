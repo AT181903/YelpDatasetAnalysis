{
 "cells": [
  {
   "cell_type": "markdown",
   "source": [
    "# Task: Riconoscimento automatico di una review positiva o negativa;"
   ],
   "metadata": {
    "id": "uqcmt-OC9zM4"
   }
  },
  {
   "cell_type": "code",
   "execution_count": 41,
   "outputs": [],
   "source": [
    "import pandas as pd\n",
    "import numpy as np\n",
    "import matplotlib.pyplot as plt\n",
    "import json\n",
    "import os\n"
   ],
   "metadata": {
    "collapsed": false,
    "pycharm": {
     "name": "#%%\n"
    }
   }
  },
  {
   "cell_type": "markdown",
   "source": [
    "## Get reviews dataset"
   ],
   "metadata": {
    "id": "c5FpP1XwEJ2q"
   }
  },
  {
   "cell_type": "code",
   "source": [
    "df_review = pd.read_csv('./dataset/review_dropped.csv')"
   ],
   "metadata": {
    "id": "hqsr6U4UV1FW"
   },
   "execution_count": 42,
   "outputs": []
  },
  {
   "cell_type": "code",
   "source": [
    "# review_id // string, 22 character unique review id\n",
    "# user_id // string, 22 character unique user id, maps to the user in user.json\n",
    "# business_id // string, 22 character business id, maps to business in business.json\n",
    "# stars // integer, star rating\n",
    "# date // string, date formatted YYYY-MM-DD\n",
    "# text // string, the review itself\n",
    "# useful // integer, number of useful votes received by review\n",
    "# funny // integer, number of funny votes received by review\n",
    "# cool // integer, number of cool votes received by review"
   ],
   "metadata": {
    "id": "Dwm6apGn8z86"
   },
   "execution_count": 43,
   "outputs": []
  },
  {
   "cell_type": "code",
   "execution_count": 44,
   "outputs": [
    {
     "data": {
      "text/plain": "   level_0  Unnamed: 0    index               review_id  \\\n0   460000      460000  6950282  fMi-fMAF2gQBVoDNn2htvg   \n1   460001      460001  6950283  88IcFpg4-l8XoqHQKU_OxA   \n2   460002      460002  6950284  aF01DTfuwHwfb-Yy5NedOg   \n3   460003      460003  6950285  FH13JX5jrBsv1zv_8SFU6A   \n4   460004      460004  6950286  2aJBpUc7IGEmXz47nrUqGg   \n\n                  user_id             business_id  stars  useful  funny  cool  \\\n0  o0qmD_yMXUJAENJIxK-R2w  OAXfyHD2TUE0CRnvLPhjrQ    5.0     0.0    0.0   0.0   \n1  WRr75y_xIFelWdYfQxyJ5w  VHygCy5cbO08-a5lU-tnnw    1.0     0.0    0.0   0.0   \n2  TjurBaHWUOjqrdVwsrrspQ  YjLMWlHoBJHtYMLdFXfvVg    5.0     0.0    0.0   0.0   \n3  UfEASETOi5Yy5b0NrnaHdQ  1UHjA5mo1UI2TmImfdYXKw    1.0     0.0    0.0   0.0   \n4  FnNmbt953nh7H3Hv6zo42w  _WwzD40u9w2aAgKPUe2zCQ    4.0     1.0    0.0   1.0   \n\n                                                text                 date  \n0  La comida nunca falla y siempre salgo de este ...  2020-10-10 19:06:23  \n1  Doesnt just give Colombian food a bad rap, thi...  2021-05-07 22:13:19  \n2  Always great tasting food, never disappoints a...  2021-05-08 00:05:22  \n3  My kids were super excited to be able to go se...  2021-05-08 17:14:27  \n4  The Indy Wing Club (IWC) was out making their ...  2021-05-02 11:46:13  ",
      "text/html": "<div>\n<style scoped>\n    .dataframe tbody tr th:only-of-type {\n        vertical-align: middle;\n    }\n\n    .dataframe tbody tr th {\n        vertical-align: top;\n    }\n\n    .dataframe thead th {\n        text-align: right;\n    }\n</style>\n<table border=\"1\" class=\"dataframe\">\n  <thead>\n    <tr style=\"text-align: right;\">\n      <th></th>\n      <th>level_0</th>\n      <th>Unnamed: 0</th>\n      <th>index</th>\n      <th>review_id</th>\n      <th>user_id</th>\n      <th>business_id</th>\n      <th>stars</th>\n      <th>useful</th>\n      <th>funny</th>\n      <th>cool</th>\n      <th>text</th>\n      <th>date</th>\n    </tr>\n  </thead>\n  <tbody>\n    <tr>\n      <th>0</th>\n      <td>460000</td>\n      <td>460000</td>\n      <td>6950282</td>\n      <td>fMi-fMAF2gQBVoDNn2htvg</td>\n      <td>o0qmD_yMXUJAENJIxK-R2w</td>\n      <td>OAXfyHD2TUE0CRnvLPhjrQ</td>\n      <td>5.0</td>\n      <td>0.0</td>\n      <td>0.0</td>\n      <td>0.0</td>\n      <td>La comida nunca falla y siempre salgo de este ...</td>\n      <td>2020-10-10 19:06:23</td>\n    </tr>\n    <tr>\n      <th>1</th>\n      <td>460001</td>\n      <td>460001</td>\n      <td>6950283</td>\n      <td>88IcFpg4-l8XoqHQKU_OxA</td>\n      <td>WRr75y_xIFelWdYfQxyJ5w</td>\n      <td>VHygCy5cbO08-a5lU-tnnw</td>\n      <td>1.0</td>\n      <td>0.0</td>\n      <td>0.0</td>\n      <td>0.0</td>\n      <td>Doesnt just give Colombian food a bad rap, thi...</td>\n      <td>2021-05-07 22:13:19</td>\n    </tr>\n    <tr>\n      <th>2</th>\n      <td>460002</td>\n      <td>460002</td>\n      <td>6950284</td>\n      <td>aF01DTfuwHwfb-Yy5NedOg</td>\n      <td>TjurBaHWUOjqrdVwsrrspQ</td>\n      <td>YjLMWlHoBJHtYMLdFXfvVg</td>\n      <td>5.0</td>\n      <td>0.0</td>\n      <td>0.0</td>\n      <td>0.0</td>\n      <td>Always great tasting food, never disappoints a...</td>\n      <td>2021-05-08 00:05:22</td>\n    </tr>\n    <tr>\n      <th>3</th>\n      <td>460003</td>\n      <td>460003</td>\n      <td>6950285</td>\n      <td>FH13JX5jrBsv1zv_8SFU6A</td>\n      <td>UfEASETOi5Yy5b0NrnaHdQ</td>\n      <td>1UHjA5mo1UI2TmImfdYXKw</td>\n      <td>1.0</td>\n      <td>0.0</td>\n      <td>0.0</td>\n      <td>0.0</td>\n      <td>My kids were super excited to be able to go se...</td>\n      <td>2021-05-08 17:14:27</td>\n    </tr>\n    <tr>\n      <th>4</th>\n      <td>460004</td>\n      <td>460004</td>\n      <td>6950286</td>\n      <td>2aJBpUc7IGEmXz47nrUqGg</td>\n      <td>FnNmbt953nh7H3Hv6zo42w</td>\n      <td>_WwzD40u9w2aAgKPUe2zCQ</td>\n      <td>4.0</td>\n      <td>1.0</td>\n      <td>0.0</td>\n      <td>1.0</td>\n      <td>The Indy Wing Club (IWC) was out making their ...</td>\n      <td>2021-05-02 11:46:13</td>\n    </tr>\n  </tbody>\n</table>\n</div>"
     },
     "execution_count": 44,
     "metadata": {},
     "output_type": "execute_result"
    }
   ],
   "source": [
    "# Drop some rows in order to increment performances\n",
    "\n",
    "df_review = df_review.iloc[460000:, :]\n",
    "df_review = df_review.reset_index()\n",
    "\n",
    "df_review.head(5)"
   ],
   "metadata": {
    "pycharm": {
     "name": "#%%\n"
    },
    "colab": {
     "base_uri": "https://localhost:8080/",
     "height": 248
    },
    "id": "Mfe2YSoQIlDM",
    "outputId": "8092e73b-1616-4db6-9558-b96665fd5e12"
   }
  },
  {
   "cell_type": "markdown",
   "source": [
    "### Add boolean positive_review to dataset in order to recognize positive review (>= 4 stars)\n"
   ],
   "metadata": {
    "id": "Hoew0pJ1ENE4"
   }
  },
  {
   "cell_type": "code",
   "source": [
    "df_review['review_rating'] = np.where(df_review['stars'] >= 4, 1, 0)\n",
    "\n",
    "df_review.head(5)\n"
   ],
   "metadata": {
    "colab": {
     "base_uri": "https://localhost:8080/",
     "height": 333
    },
    "id": "APy011LzB8mN",
    "outputId": "42524750-17c8-4048-a690-9c36657c0f2f"
   },
   "execution_count": 45,
   "outputs": [
    {
     "data": {
      "text/plain": "   level_0  Unnamed: 0    index               review_id  \\\n0   460000      460000  6950282  fMi-fMAF2gQBVoDNn2htvg   \n1   460001      460001  6950283  88IcFpg4-l8XoqHQKU_OxA   \n2   460002      460002  6950284  aF01DTfuwHwfb-Yy5NedOg   \n3   460003      460003  6950285  FH13JX5jrBsv1zv_8SFU6A   \n4   460004      460004  6950286  2aJBpUc7IGEmXz47nrUqGg   \n\n                  user_id             business_id  stars  useful  funny  cool  \\\n0  o0qmD_yMXUJAENJIxK-R2w  OAXfyHD2TUE0CRnvLPhjrQ    5.0     0.0    0.0   0.0   \n1  WRr75y_xIFelWdYfQxyJ5w  VHygCy5cbO08-a5lU-tnnw    1.0     0.0    0.0   0.0   \n2  TjurBaHWUOjqrdVwsrrspQ  YjLMWlHoBJHtYMLdFXfvVg    5.0     0.0    0.0   0.0   \n3  UfEASETOi5Yy5b0NrnaHdQ  1UHjA5mo1UI2TmImfdYXKw    1.0     0.0    0.0   0.0   \n4  FnNmbt953nh7H3Hv6zo42w  _WwzD40u9w2aAgKPUe2zCQ    4.0     1.0    0.0   1.0   \n\n                                                text                 date  \\\n0  La comida nunca falla y siempre salgo de este ...  2020-10-10 19:06:23   \n1  Doesnt just give Colombian food a bad rap, thi...  2021-05-07 22:13:19   \n2  Always great tasting food, never disappoints a...  2021-05-08 00:05:22   \n3  My kids were super excited to be able to go se...  2021-05-08 17:14:27   \n4  The Indy Wing Club (IWC) was out making their ...  2021-05-02 11:46:13   \n\n   review_rating  \n0              1  \n1              0  \n2              1  \n3              0  \n4              1  ",
      "text/html": "<div>\n<style scoped>\n    .dataframe tbody tr th:only-of-type {\n        vertical-align: middle;\n    }\n\n    .dataframe tbody tr th {\n        vertical-align: top;\n    }\n\n    .dataframe thead th {\n        text-align: right;\n    }\n</style>\n<table border=\"1\" class=\"dataframe\">\n  <thead>\n    <tr style=\"text-align: right;\">\n      <th></th>\n      <th>level_0</th>\n      <th>Unnamed: 0</th>\n      <th>index</th>\n      <th>review_id</th>\n      <th>user_id</th>\n      <th>business_id</th>\n      <th>stars</th>\n      <th>useful</th>\n      <th>funny</th>\n      <th>cool</th>\n      <th>text</th>\n      <th>date</th>\n      <th>review_rating</th>\n    </tr>\n  </thead>\n  <tbody>\n    <tr>\n      <th>0</th>\n      <td>460000</td>\n      <td>460000</td>\n      <td>6950282</td>\n      <td>fMi-fMAF2gQBVoDNn2htvg</td>\n      <td>o0qmD_yMXUJAENJIxK-R2w</td>\n      <td>OAXfyHD2TUE0CRnvLPhjrQ</td>\n      <td>5.0</td>\n      <td>0.0</td>\n      <td>0.0</td>\n      <td>0.0</td>\n      <td>La comida nunca falla y siempre salgo de este ...</td>\n      <td>2020-10-10 19:06:23</td>\n      <td>1</td>\n    </tr>\n    <tr>\n      <th>1</th>\n      <td>460001</td>\n      <td>460001</td>\n      <td>6950283</td>\n      <td>88IcFpg4-l8XoqHQKU_OxA</td>\n      <td>WRr75y_xIFelWdYfQxyJ5w</td>\n      <td>VHygCy5cbO08-a5lU-tnnw</td>\n      <td>1.0</td>\n      <td>0.0</td>\n      <td>0.0</td>\n      <td>0.0</td>\n      <td>Doesnt just give Colombian food a bad rap, thi...</td>\n      <td>2021-05-07 22:13:19</td>\n      <td>0</td>\n    </tr>\n    <tr>\n      <th>2</th>\n      <td>460002</td>\n      <td>460002</td>\n      <td>6950284</td>\n      <td>aF01DTfuwHwfb-Yy5NedOg</td>\n      <td>TjurBaHWUOjqrdVwsrrspQ</td>\n      <td>YjLMWlHoBJHtYMLdFXfvVg</td>\n      <td>5.0</td>\n      <td>0.0</td>\n      <td>0.0</td>\n      <td>0.0</td>\n      <td>Always great tasting food, never disappoints a...</td>\n      <td>2021-05-08 00:05:22</td>\n      <td>1</td>\n    </tr>\n    <tr>\n      <th>3</th>\n      <td>460003</td>\n      <td>460003</td>\n      <td>6950285</td>\n      <td>FH13JX5jrBsv1zv_8SFU6A</td>\n      <td>UfEASETOi5Yy5b0NrnaHdQ</td>\n      <td>1UHjA5mo1UI2TmImfdYXKw</td>\n      <td>1.0</td>\n      <td>0.0</td>\n      <td>0.0</td>\n      <td>0.0</td>\n      <td>My kids were super excited to be able to go se...</td>\n      <td>2021-05-08 17:14:27</td>\n      <td>0</td>\n    </tr>\n    <tr>\n      <th>4</th>\n      <td>460004</td>\n      <td>460004</td>\n      <td>6950286</td>\n      <td>2aJBpUc7IGEmXz47nrUqGg</td>\n      <td>FnNmbt953nh7H3Hv6zo42w</td>\n      <td>_WwzD40u9w2aAgKPUe2zCQ</td>\n      <td>4.0</td>\n      <td>1.0</td>\n      <td>0.0</td>\n      <td>1.0</td>\n      <td>The Indy Wing Club (IWC) was out making their ...</td>\n      <td>2021-05-02 11:46:13</td>\n      <td>1</td>\n    </tr>\n  </tbody>\n</table>\n</div>"
     },
     "execution_count": 45,
     "metadata": {},
     "output_type": "execute_result"
    }
   ]
  },
  {
   "cell_type": "markdown",
   "source": [
    "### Plot reviews"
   ],
   "metadata": {
    "id": "bl1GWpEUNZxf"
   }
  },
  {
   "cell_type": "code",
   "source": [
    "positive_count = (df_review['review_rating'] == 1).sum()\n",
    "negative_count = (df_review['review_rating'] == 0).sum()\n",
    "\n",
    "print(\"Positive reviews:\" , positive_count)\n",
    "\n",
    "print(\"Negative reviews:\" , negative_count)\n",
    "\n",
    "objects = ('Positive', 'Negative')\n",
    "performance = [positive_count, negative_count]\n",
    "y_pos = np.arange(len(objects))\n",
    "\n",
    "plt.bar(y_pos, performance, align='center', alpha=0.5)\n",
    "plt.xticks(y_pos, objects)\n",
    "plt.ylabel('Count')\n",
    "plt.title('Rating reviews')\n",
    "\n",
    "plt.show()\n",
    "\n"
   ],
   "metadata": {
    "colab": {
     "base_uri": "https://localhost:8080/",
     "height": 315
    },
    "id": "GRwhyhLOFmLX",
    "outputId": "919e6e07-768a-4bd2-83ca-532d7e2f950a"
   },
   "execution_count": 46,
   "outputs": [
    {
     "name": "stdout",
     "output_type": "stream",
     "text": [
      "Positive reviews: 25622\n",
      "Negative reviews: 14378\n"
     ]
    },
    {
     "data": {
      "text/plain": "<Figure size 432x288 with 1 Axes>",
      "image/png": "[encoded data removed]"
     },
     "metadata": {
      "needs_background": "light"
     },
     "output_type": "display_data"
    }
   ]
  },
  {
   "cell_type": "markdown",
   "source": [
    "# Text preprocessing\n"
   ],
   "metadata": {
    "id": "Ik5qtSqkEef-"
   }
  },
  {
   "cell_type": "markdown",
   "source": [
    "## Normalization\n",
    "\n",
    "### Expand English contractions"
   ],
   "metadata": {
    "id": "p_NyM9T6Nx_5"
   }
  },
  {
   "cell_type": "code",
   "execution_count": 47,
   "outputs": [],
   "source": [
    "import contractions"
   ],
   "metadata": {
    "collapsed": false,
    "pycharm": {
     "name": "#%%\n"
    }
   }
  },
  {
   "cell_type": "code",
   "source": [
    "def expand_contractions(sentence):\n",
    "  expanded_words = [] \n",
    "\n",
    "  for word in sentence.split():\n",
    "    expanded_words.append(contractions.fix(word)) \n",
    "\n",
    "  return ' '.join(expanded_words)\n",
    "\n",
    "df_text = df_review[['text']]\n",
    "\n",
    "for sentence in df_text['text']:\n",
    "  df_text_expanded = df_text[['text']].replace(sentence, expand_contractions(sentence))\n",
    "\n",
    "df_text_expanded.head(5)\n"
   ],
   "metadata": {
    "colab": {
     "base_uri": "https://localhost:8080/",
     "height": 232
    },
    "id": "OAFZy6BbNeH1",
    "outputId": "d6dee067-bd23-4195-8c8a-13fe22ca0e96"
   },
   "execution_count": 48,
   "outputs": [
    {
     "data": {
      "text/plain": "                                                text\n0  La comida nunca falla y siempre salgo de este ...\n1  Doesnt just give Colombian food a bad rap, thi...\n2  Always great tasting food, never disappoints a...\n3  My kids were super excited to be able to go se...\n4  The Indy Wing Club (IWC) was out making their ...",
      "text/html": "<div>\n<style scoped>\n    .dataframe tbody tr th:only-of-type {\n        vertical-align: middle;\n    }\n\n    .dataframe tbody tr th {\n        vertical-align: top;\n    }\n\n    .dataframe thead th {\n        text-align: right;\n    }\n</style>\n<table border=\"1\" class=\"dataframe\">\n  <thead>\n    <tr style=\"text-align: right;\">\n      <th></th>\n      <th>text</th>\n    </tr>\n  </thead>\n  <tbody>\n    <tr>\n      <th>0</th>\n      <td>La comida nunca falla y siempre salgo de este ...</td>\n    </tr>\n    <tr>\n      <th>1</th>\n      <td>Doesnt just give Colombian food a bad rap, thi...</td>\n    </tr>\n    <tr>\n      <th>2</th>\n      <td>Always great tasting food, never disappoints a...</td>\n    </tr>\n    <tr>\n      <th>3</th>\n      <td>My kids were super excited to be able to go se...</td>\n    </tr>\n    <tr>\n      <th>4</th>\n      <td>The Indy Wing Club (IWC) was out making their ...</td>\n    </tr>\n  </tbody>\n</table>\n</div>"
     },
     "execution_count": 48,
     "metadata": {},
     "output_type": "execute_result"
    }
   ]
  }
 ],
 "metadata": {
  "kernelspec": {
   "display_name": "Python 3",
   "language": "python",
   "name": "python3"
  },
  "language_info": {
   "codemirror_mode": {
    "name": "ipython",
    "version": 2
   },
   "file_extension": ".py",
   "mimetype": "text/x-python",
   "name": "python",
   "nbconvert_exporter": "python",
   "pygments_lexer": "ipython2",
   "version": "2.7.6"
  },
  "colab": {
   "name": "Reviews.ipynb",
   "provenance": [],
   "collapsed_sections": []
  }
 },
 "nbformat": 4,
 "nbformat_minor": 0
}