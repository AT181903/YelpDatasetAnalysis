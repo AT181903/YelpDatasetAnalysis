{
 "cells": [
  {
   "cell_type": "code",
   "execution_count": null,
   "outputs": [],
   "source": [
    "#  Copyright (C) <2022>  <MontyPython Group>\n",
    "#\n",
    "#   This program is free software: you can redistribute it and/or modify\n",
    "#   it under the terms of the GNU General Public License as published by\n",
    "#   the Free Software Foundation, either version 3 of the License, or\n",
    "#   (at your option) any later version.\n",
    "#\n",
    "#   This program is distributed in the hope that it will be useful,\n",
    "#   but WITHOUT ANY WARRANTY; without even the implied warranty of\n",
    "#   MERCHANTABILITY or FITNESS FOR A PARTICULAR PURPOSE.  See the\n",
    "#   GNU General Public License for more details.\n",
    "#\n",
    "#   You should have received a copy of the GNU General Public License\n",
    "#   along with this program.  If not, see <https://www.gnu.org/licenses/>."
   ],
   "metadata": {
    "collapsed": false,
    "pycharm": {
     "name": "#%%\n"
    }
   }
  },
  {
   "cell_type": "markdown",
   "source": [
    "# Preprocessing for business_task\n",
    "Here we are going to preprocess business, checkin and tip datasets in order to create one dataset to use in `business_task.ipynb`.\n",
    "\n",
    "\n",
    "### Used libraries\n",
    "[Pandas](https://pandas.pydata.org/): most common, open source data analysis and manipulation tool.\n",
    "\n",
    "[NumPy](https://numpy.org/): used for mathematical support for some processes."
   ],
   "metadata": {
    "collapsed": false,
    "pycharm": {
     "name": "#%% md\n"
    }
   }
  },
  {
   "cell_type": "code",
   "execution_count": 534,
   "outputs": [],
   "source": [
    "import pandas as pd\n",
    "import ast"
   ],
   "metadata": {
    "collapsed": false,
    "pycharm": {
     "name": "#%%\n"
    }
   }
  },
  {
   "cell_type": "markdown",
   "source": [
    "## Process df_business"
   ],
   "metadata": {
    "collapsed": false,
    "pycharm": {
     "name": "#%% md\n"
    }
   }
  },
  {
   "cell_type": "markdown",
   "source": [
    "### Get business dataset\n",
    "Business dataset consists of the following features:\n",
    "   - `business_id`: [string, 22 character unique string business id]\n",
    "   - `name`: [string, the business's name]\n",
    "   - `address`: [string, the full address of the business]\n",
    "   - `city`: [string, the city]\n",
    "   - `state`: [string, 2 character state code, if applicable]\n",
    "   - `postal code`: [string, the postal code]\n",
    "   - `latitude`: [float, latitude]\n",
    "   - `longitude`: [float, longitude]\n",
    "   - `stars`: [float, star rating, rounded to half-stars]\n",
    "   - `review_count`: [integer, number of reviews]\n",
    "   - `is_open`: [integer, 0 or 1 for closed or open, respectively]\n",
    "   - `attributes`: [object, business attributes to values. note: some attribute values might be objects]\n",
    "   - `categories`: [an array of strings of business categories]\n",
    "   - `hours`: [an object of key day to value hours, hours are using a 24hr clock]\n",
    "\n",
    "Attributes is a complex object (a nested json in this case), because of this we have get all nested elements and brought them to the main level"
   ],
   "metadata": {
    "collapsed": false,
    "pycharm": {
     "name": "#%% md\n"
    }
   }
  },
  {
   "cell_type": "code",
   "execution_count": 535,
   "outputs": [],
   "source": [
    "df_business = pd.read_csv('../dataset/df_business.csv')"
   ],
   "metadata": {
    "collapsed": false,
    "pycharm": {
     "name": "#%%\n"
    }
   }
  },
  {
   "cell_type": "markdown",
   "source": [
    "### Expand features\n",
    "We find some items that could be themselves complex objects, they are:\n",
    "- hours\n",
    "- attributes\n",
    "- BusinessParking\n",
    "- GoodForMeal\n",
    "- Ambience\n",
    "- Music\n",
    "- BestNights\n",
    "- DietaryRestrictions\n",
    "\n",
    "For each we get all items inside and brought to the main level. In this way we'll be able to use it as features.\n"
   ],
   "metadata": {
    "collapsed": false,
    "pycharm": {
     "name": "#%% md\n"
    }
   }
  },
  {
   "cell_type": "code",
   "execution_count": 536,
   "outputs": [],
   "source": [
    "import ast\n",
    "\n",
    "def expand(row, dict):\n",
    "    for key, values in dict.items():\n",
    "        row[key] = values\n",
    "    return row\n",
    "\n",
    "def expand_row(row, col_name):\n",
    "    try:\n",
    "        return expand(row, ast.literal_eval(row[col_name]))\n",
    "    except:\n",
    "        return row"
   ],
   "metadata": {
    "collapsed": false,
    "pycharm": {
     "name": "#%%\n"
    }
   }
  },
  {
   "cell_type": "code",
   "execution_count": 537,
   "outputs": [],
   "source": [
    "items_to_expand = ['hours', 'attributes', 'BusinessParking', 'GoodForMeal', 'Ambience', 'Music', 'BestNights', 'DietaryRestrictions']\n",
    "\n",
    "for item_to_expand in items_to_expand:\n",
    "    df_business = df_business.apply(expand_row, col_name=item_to_expand, axis=1)\n",
    "    df_business.drop(item_to_expand, axis=1, inplace=True)"
   ],
   "metadata": {
    "collapsed": false,
    "pycharm": {
     "name": "#%%\n"
    }
   }
  },
  {
   "cell_type": "code",
   "execution_count": 538,
   "outputs": [
    {
     "data": {
      "text/plain": "  AcceptsInsurance AgesAllowed  Alcohol BYOB BYOBCorkage BikeParking  \\\n0              NaN         NaN      NaN  NaN         NaN         NaN   \n1              NaN         NaN      NaN  NaN         NaN         NaN   \n2              NaN         NaN      NaN  NaN         NaN        True   \n3              NaN         NaN  u'none'  NaN         NaN        True   \n4              NaN         NaN      NaN  NaN         NaN        True   \n\n  BusinessAcceptsBitcoin BusinessAcceptsCreditCards ByAppointmentOnly Caters  \\\n0                    NaN                        NaN              True    NaN   \n1                    NaN                       True               NaN    NaN   \n2                    NaN                       True             False  False   \n3                    NaN                      False             False   True   \n4                    NaN                       True               NaN  False   \n\n   ... touristy trendy tuesday upscale  valet validated vegan vegetarian  \\\n0  ...      NaN    NaN     NaN     NaN    NaN       NaN   NaN        NaN   \n1  ...      NaN    NaN     NaN     NaN    NaN       NaN   NaN        NaN   \n2  ...      NaN    NaN     NaN     NaN  False     False   NaN        NaN   \n3  ...      NaN    NaN     NaN     NaN  False     False   NaN        NaN   \n4  ...      NaN    NaN     NaN     NaN  False      None   NaN        NaN   \n\n  video wednesday  \n0   NaN       NaN  \n1   NaN       NaN  \n2   NaN       NaN  \n3   NaN       NaN  \n4   NaN       NaN  \n\n[5 rows x 93 columns]",
      "text/html": "<div>\n<style scoped>\n    .dataframe tbody tr th:only-of-type {\n        vertical-align: middle;\n    }\n\n    .dataframe tbody tr th {\n        vertical-align: top;\n    }\n\n    .dataframe thead th {\n        text-align: right;\n    }\n</style>\n<table border=\"1\" class=\"dataframe\">\n  <thead>\n    <tr style=\"text-align: right;\">\n      <th></th>\n      <th>AcceptsInsurance</th>\n      <th>AgesAllowed</th>\n      <th>Alcohol</th>\n      <th>BYOB</th>\n      <th>BYOBCorkage</th>\n      <th>BikeParking</th>\n      <th>BusinessAcceptsBitcoin</th>\n      <th>BusinessAcceptsCreditCards</th>\n      <th>ByAppointmentOnly</th>\n      <th>Caters</th>\n      <th>...</th>\n      <th>touristy</th>\n      <th>trendy</th>\n      <th>tuesday</th>\n      <th>upscale</th>\n      <th>valet</th>\n      <th>validated</th>\n      <th>vegan</th>\n      <th>vegetarian</th>\n      <th>video</th>\n      <th>wednesday</th>\n    </tr>\n  </thead>\n  <tbody>\n    <tr>\n      <th>0</th>\n      <td>NaN</td>\n      <td>NaN</td>\n      <td>NaN</td>\n      <td>NaN</td>\n      <td>NaN</td>\n      <td>NaN</td>\n      <td>NaN</td>\n      <td>NaN</td>\n      <td>True</td>\n      <td>NaN</td>\n      <td>...</td>\n      <td>NaN</td>\n      <td>NaN</td>\n      <td>NaN</td>\n      <td>NaN</td>\n      <td>NaN</td>\n      <td>NaN</td>\n      <td>NaN</td>\n      <td>NaN</td>\n      <td>NaN</td>\n      <td>NaN</td>\n    </tr>\n    <tr>\n      <th>1</th>\n      <td>NaN</td>\n      <td>NaN</td>\n      <td>NaN</td>\n      <td>NaN</td>\n      <td>NaN</td>\n      <td>NaN</td>\n      <td>NaN</td>\n      <td>True</td>\n      <td>NaN</td>\n      <td>NaN</td>\n      <td>...</td>\n      <td>NaN</td>\n      <td>NaN</td>\n      <td>NaN</td>\n      <td>NaN</td>\n      <td>NaN</td>\n      <td>NaN</td>\n      <td>NaN</td>\n      <td>NaN</td>\n      <td>NaN</td>\n      <td>NaN</td>\n    </tr>\n    <tr>\n      <th>2</th>\n      <td>NaN</td>\n      <td>NaN</td>\n      <td>NaN</td>\n      <td>NaN</td>\n      <td>NaN</td>\n      <td>True</td>\n      <td>NaN</td>\n      <td>True</td>\n      <td>False</td>\n      <td>False</td>\n      <td>...</td>\n      <td>NaN</td>\n      <td>NaN</td>\n      <td>NaN</td>\n      <td>NaN</td>\n      <td>False</td>\n      <td>False</td>\n      <td>NaN</td>\n      <td>NaN</td>\n      <td>NaN</td>\n      <td>NaN</td>\n    </tr>\n    <tr>\n      <th>3</th>\n      <td>NaN</td>\n      <td>NaN</td>\n      <td>u'none'</td>\n      <td>NaN</td>\n      <td>NaN</td>\n      <td>True</td>\n      <td>NaN</td>\n      <td>False</td>\n      <td>False</td>\n      <td>True</td>\n      <td>...</td>\n      <td>NaN</td>\n      <td>NaN</td>\n      <td>NaN</td>\n      <td>NaN</td>\n      <td>False</td>\n      <td>False</td>\n      <td>NaN</td>\n      <td>NaN</td>\n      <td>NaN</td>\n      <td>NaN</td>\n    </tr>\n    <tr>\n      <th>4</th>\n      <td>NaN</td>\n      <td>NaN</td>\n      <td>NaN</td>\n      <td>NaN</td>\n      <td>NaN</td>\n      <td>True</td>\n      <td>NaN</td>\n      <td>True</td>\n      <td>NaN</td>\n      <td>False</td>\n      <td>...</td>\n      <td>NaN</td>\n      <td>NaN</td>\n      <td>NaN</td>\n      <td>NaN</td>\n      <td>False</td>\n      <td>None</td>\n      <td>NaN</td>\n      <td>NaN</td>\n      <td>NaN</td>\n      <td>NaN</td>\n    </tr>\n  </tbody>\n</table>\n<p>5 rows × 93 columns</p>\n</div>"
     },
     "execution_count": 538,
     "metadata": {},
     "output_type": "execute_result"
    }
   ],
   "source": [
    "df_business.head(5)"
   ],
   "metadata": {
    "collapsed": false,
    "pycharm": {
     "name": "#%%\n"
    }
   }
  },
  {
   "cell_type": "markdown",
   "source": [
    "### Drop non essential features\n",
    "We identified some features that were not necessary for the purpose (e.g. NoiseLevel, RestaurantsAttire) and some others not well formatted (e.g. WiFi, Weekdays). All of these have been dropped from dataframe."
   ],
   "metadata": {
    "collapsed": false,
    "pycharm": {
     "name": "#%% md\n"
    }
   }
  },
  {
   "cell_type": "code",
   "execution_count": 539,
   "outputs": [],
   "source": [
    "to_drop = ['Alcohol', 'NoiseLevel', 'RestaurantsAttire', 'Smoking', 'WiFi', 'Monday', 'Tuesday', 'Wednesday', 'Thursday', 'Friday', 'Saturday', 'Sunday', 'monday', 'tuesday', 'wednesday', 'thursday', 'friday', 'saturday', 'sunday', 'BYOB', 'BYOBCorkage', 'Caters', 'HairSpecializesIn', 'divey', 'lot', 'validated', 'AgesAllowed']\n",
    "\n",
    "df_business.drop(to_drop, axis=1, inplace=True)"
   ],
   "metadata": {
    "collapsed": false,
    "pycharm": {
     "name": "#%%\n"
    }
   }
  },
  {
   "cell_type": "code",
   "execution_count": 540,
   "outputs": [
    {
     "data": {
      "text/plain": "  AcceptsInsurance BikeParking BusinessAcceptsBitcoin  \\\n0              NaN         NaN                    NaN   \n1              NaN         NaN                    NaN   \n2              NaN        True                    NaN   \n3              NaN        True                    NaN   \n4              NaN        True                    NaN   \n\n  BusinessAcceptsCreditCards ByAppointmentOnly CoatCheck Corkage DogsAllowed  \\\n0                        NaN              True       NaN     NaN         NaN   \n1                       True               NaN       NaN     NaN         NaN   \n2                       True             False     False     NaN       False   \n3                      False             False       NaN     NaN         NaN   \n4                       True               NaN       NaN     NaN         NaN   \n\n  DriveThru GoodForDancing  ... stars state street touristy trendy upscale  \\\n0       NaN            NaN  ...   5.0    CA    NaN      NaN    NaN     NaN   \n1       NaN            NaN  ...   3.0    MO    NaN      NaN    NaN     NaN   \n2       NaN            NaN  ...   3.5    AZ  False      NaN    NaN     NaN   \n3       NaN            NaN  ...   4.0    PA   True      NaN    NaN     NaN   \n4       NaN            NaN  ...   4.5    PA   None      NaN    NaN     NaN   \n\n   valet vegan vegetarian video  \n0    NaN   NaN        NaN   NaN  \n1    NaN   NaN        NaN   NaN  \n2  False   NaN        NaN   NaN  \n3  False   NaN        NaN   NaN  \n4  False   NaN        NaN   NaN  \n\n[5 rows x 66 columns]",
      "text/html": "<div>\n<style scoped>\n    .dataframe tbody tr th:only-of-type {\n        vertical-align: middle;\n    }\n\n    .dataframe tbody tr th {\n        vertical-align: top;\n    }\n\n    .dataframe thead th {\n        text-align: right;\n    }\n</style>\n<table border=\"1\" class=\"dataframe\">\n  <thead>\n    <tr style=\"text-align: right;\">\n      <th></th>\n      <th>AcceptsInsurance</th>\n      <th>BikeParking</th>\n      <th>BusinessAcceptsBitcoin</th>\n      <th>BusinessAcceptsCreditCards</th>\n      <th>ByAppointmentOnly</th>\n      <th>CoatCheck</th>\n      <th>Corkage</th>\n      <th>DogsAllowed</th>\n      <th>DriveThru</th>\n      <th>GoodForDancing</th>\n      <th>...</th>\n      <th>stars</th>\n      <th>state</th>\n      <th>street</th>\n      <th>touristy</th>\n      <th>trendy</th>\n      <th>upscale</th>\n      <th>valet</th>\n      <th>vegan</th>\n      <th>vegetarian</th>\n      <th>video</th>\n    </tr>\n  </thead>\n  <tbody>\n    <tr>\n      <th>0</th>\n      <td>NaN</td>\n      <td>NaN</td>\n      <td>NaN</td>\n      <td>NaN</td>\n      <td>True</td>\n      <td>NaN</td>\n      <td>NaN</td>\n      <td>NaN</td>\n      <td>NaN</td>\n      <td>NaN</td>\n      <td>...</td>\n      <td>5.0</td>\n      <td>CA</td>\n      <td>NaN</td>\n      <td>NaN</td>\n      <td>NaN</td>\n      <td>NaN</td>\n      <td>NaN</td>\n      <td>NaN</td>\n      <td>NaN</td>\n      <td>NaN</td>\n    </tr>\n    <tr>\n      <th>1</th>\n      <td>NaN</td>\n      <td>NaN</td>\n      <td>NaN</td>\n      <td>True</td>\n      <td>NaN</td>\n      <td>NaN</td>\n      <td>NaN</td>\n      <td>NaN</td>\n      <td>NaN</td>\n      <td>NaN</td>\n      <td>...</td>\n      <td>3.0</td>\n      <td>MO</td>\n      <td>NaN</td>\n      <td>NaN</td>\n      <td>NaN</td>\n      <td>NaN</td>\n      <td>NaN</td>\n      <td>NaN</td>\n      <td>NaN</td>\n      <td>NaN</td>\n    </tr>\n    <tr>\n      <th>2</th>\n      <td>NaN</td>\n      <td>True</td>\n      <td>NaN</td>\n      <td>True</td>\n      <td>False</td>\n      <td>False</td>\n      <td>NaN</td>\n      <td>False</td>\n      <td>NaN</td>\n      <td>NaN</td>\n      <td>...</td>\n      <td>3.5</td>\n      <td>AZ</td>\n      <td>False</td>\n      <td>NaN</td>\n      <td>NaN</td>\n      <td>NaN</td>\n      <td>False</td>\n      <td>NaN</td>\n      <td>NaN</td>\n      <td>NaN</td>\n    </tr>\n    <tr>\n      <th>3</th>\n      <td>NaN</td>\n      <td>True</td>\n      <td>NaN</td>\n      <td>False</td>\n      <td>False</td>\n      <td>NaN</td>\n      <td>NaN</td>\n      <td>NaN</td>\n      <td>NaN</td>\n      <td>NaN</td>\n      <td>...</td>\n      <td>4.0</td>\n      <td>PA</td>\n      <td>True</td>\n      <td>NaN</td>\n      <td>NaN</td>\n      <td>NaN</td>\n      <td>False</td>\n      <td>NaN</td>\n      <td>NaN</td>\n      <td>NaN</td>\n    </tr>\n    <tr>\n      <th>4</th>\n      <td>NaN</td>\n      <td>True</td>\n      <td>NaN</td>\n      <td>True</td>\n      <td>NaN</td>\n      <td>NaN</td>\n      <td>NaN</td>\n      <td>NaN</td>\n      <td>NaN</td>\n      <td>NaN</td>\n      <td>...</td>\n      <td>4.5</td>\n      <td>PA</td>\n      <td>None</td>\n      <td>NaN</td>\n      <td>NaN</td>\n      <td>NaN</td>\n      <td>False</td>\n      <td>NaN</td>\n      <td>NaN</td>\n      <td>NaN</td>\n    </tr>\n  </tbody>\n</table>\n<p>5 rows × 66 columns</p>\n</div>"
     },
     "execution_count": 540,
     "metadata": {},
     "output_type": "execute_result"
    }
   ],
   "source": [
    "df_business.head(5)"
   ],
   "metadata": {
    "collapsed": false,
    "pycharm": {
     "name": "#%%\n"
    }
   }
  },
  {
   "cell_type": "markdown",
   "source": [
    "## Build df_business_final"
   ],
   "metadata": {
    "collapsed": false,
    "pycharm": {
     "name": "#%% md\n"
    }
   }
  },
  {
   "cell_type": "markdown",
   "source": [
    "### Merge with other dataset\n",
    "Based on `business_id` column we merged business, tip and checkin dataset in order to add `compliment_count` and `date` features to the main dataframe."
   ],
   "metadata": {
    "collapsed": false,
    "pycharm": {
     "name": "#%% md\n"
    }
   }
  },
  {
   "cell_type": "markdown",
   "source": [
    "#### Merge with checkin"
   ],
   "metadata": {
    "collapsed": false,
    "pycharm": {
     "name": "#%% md\n"
    }
   }
  },
  {
   "cell_type": "code",
   "execution_count": 541,
   "outputs": [
    {
     "data": {
      "text/plain": "              business_id                                               date\n0  ---kPU91CF4Lq2-WlRu9Lw  2020-03-13 21:10:56, 2020-06-02 22:18:06, 2020...\n1  --0iUa4sNDFiZFrAdIWhZQ  2010-09-13 21:43:09, 2011-05-04 23:08:15, 2011...\n2  --30_8IhuyMHbSOcNWd6DQ           2013-06-14 23:29:17, 2014-08-13 23:20:22\n3  --7PUidqRWpRSpXebiyxTg  2011-02-15 17:12:00, 2011-07-28 02:46:10, 2012...\n4  --7jw19RH9JKXgFohspgQw  2014-04-21 20:42:11, 2014-04-28 21:04:46, 2014...",
      "text/html": "<div>\n<style scoped>\n    .dataframe tbody tr th:only-of-type {\n        vertical-align: middle;\n    }\n\n    .dataframe tbody tr th {\n        vertical-align: top;\n    }\n\n    .dataframe thead th {\n        text-align: right;\n    }\n</style>\n<table border=\"1\" class=\"dataframe\">\n  <thead>\n    <tr style=\"text-align: right;\">\n      <th></th>\n      <th>business_id</th>\n      <th>date</th>\n    </tr>\n  </thead>\n  <tbody>\n    <tr>\n      <th>0</th>\n      <td>---kPU91CF4Lq2-WlRu9Lw</td>\n      <td>2020-03-13 21:10:56, 2020-06-02 22:18:06, 2020...</td>\n    </tr>\n    <tr>\n      <th>1</th>\n      <td>--0iUa4sNDFiZFrAdIWhZQ</td>\n      <td>2010-09-13 21:43:09, 2011-05-04 23:08:15, 2011...</td>\n    </tr>\n    <tr>\n      <th>2</th>\n      <td>--30_8IhuyMHbSOcNWd6DQ</td>\n      <td>2013-06-14 23:29:17, 2014-08-13 23:20:22</td>\n    </tr>\n    <tr>\n      <th>3</th>\n      <td>--7PUidqRWpRSpXebiyxTg</td>\n      <td>2011-02-15 17:12:00, 2011-07-28 02:46:10, 2012...</td>\n    </tr>\n    <tr>\n      <th>4</th>\n      <td>--7jw19RH9JKXgFohspgQw</td>\n      <td>2014-04-21 20:42:11, 2014-04-28 21:04:46, 2014...</td>\n    </tr>\n  </tbody>\n</table>\n</div>"
     },
     "execution_count": 541,
     "metadata": {},
     "output_type": "execute_result"
    }
   ],
   "source": [
    "df_checkin = pd.read_csv('../dataset/df_checkin.csv')\n",
    "\n",
    "df_checkin.head(5)"
   ],
   "metadata": {
    "collapsed": false,
    "pycharm": {
     "name": "#%%\n"
    }
   }
  },
  {
   "cell_type": "code",
   "execution_count": 542,
   "outputs": [
    {
     "data": {
      "text/plain": "(131930, 67)"
     },
     "execution_count": 542,
     "metadata": {},
     "output_type": "execute_result"
    }
   ],
   "source": [
    "df_business_merged = pd.merge(df_business, df_checkin, on='business_id')\n",
    "df_business_merged.shape"
   ],
   "metadata": {
    "collapsed": false,
    "pycharm": {
     "name": "#%%\n"
    }
   }
  },
  {
   "cell_type": "markdown",
   "source": [
    "#### Merge with tip"
   ],
   "metadata": {
    "collapsed": false,
    "pycharm": {
     "name": "#%% md\n"
    }
   }
  },
  {
   "cell_type": "code",
   "execution_count": 543,
   "outputs": [
    {
     "data": {
      "text/plain": "              business_id  compliment_count\n0  3uLgwr0qeCNMjKenHJwPGQ                 0\n1  QoezRbYQncpRqyrLH6Iqjg                 0\n2  MYoRNLb5chwjQe3c_k37Gg                 0\n3  hV-bABTK-glh5wj31ps_Jw                 0\n4  _uN0OudeJ3Zl_tf6nxg5ww                 0",
      "text/html": "<div>\n<style scoped>\n    .dataframe tbody tr th:only-of-type {\n        vertical-align: middle;\n    }\n\n    .dataframe tbody tr th {\n        vertical-align: top;\n    }\n\n    .dataframe thead th {\n        text-align: right;\n    }\n</style>\n<table border=\"1\" class=\"dataframe\">\n  <thead>\n    <tr style=\"text-align: right;\">\n      <th></th>\n      <th>business_id</th>\n      <th>compliment_count</th>\n    </tr>\n  </thead>\n  <tbody>\n    <tr>\n      <th>0</th>\n      <td>3uLgwr0qeCNMjKenHJwPGQ</td>\n      <td>0</td>\n    </tr>\n    <tr>\n      <th>1</th>\n      <td>QoezRbYQncpRqyrLH6Iqjg</td>\n      <td>0</td>\n    </tr>\n    <tr>\n      <th>2</th>\n      <td>MYoRNLb5chwjQe3c_k37Gg</td>\n      <td>0</td>\n    </tr>\n    <tr>\n      <th>3</th>\n      <td>hV-bABTK-glh5wj31ps_Jw</td>\n      <td>0</td>\n    </tr>\n    <tr>\n      <th>4</th>\n      <td>_uN0OudeJ3Zl_tf6nxg5ww</td>\n      <td>0</td>\n    </tr>\n  </tbody>\n</table>\n</div>"
     },
     "execution_count": 543,
     "metadata": {},
     "output_type": "execute_result"
    }
   ],
   "source": [
    "df_tip = pd.read_csv('../dataset/df_tip.csv')\n",
    "\n",
    "df_tip = df_tip[['business_id', 'compliment_count']]\n",
    "\n",
    "df_tip.head(5)"
   ],
   "metadata": {
    "collapsed": false,
    "pycharm": {
     "name": "#%%\n"
    }
   }
  },
  {
   "cell_type": "code",
   "execution_count": 544,
   "outputs": [
    {
     "data": {
      "text/plain": "(903105, 68)"
     },
     "execution_count": 544,
     "metadata": {},
     "output_type": "execute_result"
    }
   ],
   "source": [
    "df_business_merged = pd.merge(df_business_merged, df_tip, on='business_id')\n",
    "df_business_merged.shape"
   ],
   "metadata": {
    "collapsed": false,
    "pycharm": {
     "name": "#%%\n"
    }
   }
  },
  {
   "cell_type": "markdown",
   "source": [
    "## Dataset processing\n",
    "We processed dataset, in order to make it compatible with K-Means and DBSCAN algorithms, in this way:\n",
    "- Each 'Nan' and 'None' value has been converted to 0.0\n",
    "- Each True and 'True' value has been converted to 1.0\n",
    "- Each False and 'False' value has been converted to 0.0\n",
    "- Each integer value (e.g. 1) has been converted to correspondent float value (e.g. 1.0)"
   ],
   "metadata": {
    "collapsed": false,
    "pycharm": {
     "name": "#%% md\n"
    }
   }
  },
  {
   "cell_type": "code",
   "execution_count": 545,
   "outputs": [],
   "source": [
    "# df_business = df_business.applymap(lambda x: bool(x) if type(x) == str else x)"
   ],
   "metadata": {
    "collapsed": false,
    "pycharm": {
     "name": "#%%\n"
    }
   }
  },
  {
   "cell_type": "markdown",
   "source": [
    "### From NaN/None to 0.0"
   ],
   "metadata": {
    "collapsed": false,
    "pycharm": {
     "name": "#%% md\n"
    }
   }
  },
  {
   "cell_type": "code",
   "execution_count": 546,
   "outputs": [],
   "source": [
    "df_business = df_business.fillna(0.0)\n",
    "df_business = df_business.replace('None', 0.0)"
   ],
   "metadata": {
    "collapsed": false,
    "pycharm": {
     "name": "#%%\n"
    }
   }
  },
  {
   "cell_type": "markdown",
   "source": [
    "### From True/False to float"
   ],
   "metadata": {
    "collapsed": false,
    "pycharm": {
     "name": "#%% md\n"
    }
   }
  },
  {
   "cell_type": "code",
   "execution_count": 547,
   "outputs": [],
   "source": [
    "df_business = df_business.replace('True', 1.0)\n",
    "df_business = df_business.replace(True, 1.0)\n",
    "df_business = df_business.replace('False', 0.0)\n",
    "df_business = df_business.replace(False, 0.0)"
   ],
   "metadata": {
    "collapsed": false,
    "pycharm": {
     "name": "#%%\n"
    }
   }
  },
  {
   "cell_type": "markdown",
   "source": [
    "### From Int to float"
   ],
   "metadata": {
    "collapsed": false,
    "pycharm": {
     "name": "#%% md\n"
    }
   }
  },
  {
   "cell_type": "code",
   "execution_count": 548,
   "outputs": [],
   "source": [
    "df_business = df_business.replace('1', 1.0)\n",
    "df_business = df_business.replace(1, 1.0)\n",
    "df_business = df_business.replace('0', 0.0)\n",
    "df_business = df_business.replace(0, 0.0)\n",
    "\n",
    "df_business['is_open'] = pd.to_numeric(df_business['is_open'], downcast='float')\n",
    "df_business['review_count'] = pd.to_numeric(df_business['review_count'], downcast='float')\n",
    "df_business['RestaurantsPriceRange2'] = pd.to_numeric(df_business['RestaurantsPriceRange2'], downcast='float')"
   ],
   "metadata": {
    "collapsed": false,
    "pycharm": {
     "name": "#%%\n"
    }
   }
  },
  {
   "cell_type": "markdown",
   "source": [
    "## Export\n",
    "We have exported the processed dataset in order to use it in `business_task.ipynb`"
   ],
   "metadata": {
    "collapsed": false,
    "pycharm": {
     "name": "#%% md\n"
    }
   }
  },
  {
   "cell_type": "code",
   "execution_count": 1,
   "outputs": [
    {
     "ename": "NameError",
     "evalue": "name 'df_business' is not defined",
     "output_type": "error",
     "traceback": [
      "\u001B[0;31m---------------------------------------------------------------------------\u001B[0m",
      "\u001B[0;31mNameError\u001B[0m                                 Traceback (most recent call last)",
      "Input \u001B[0;32mIn [1]\u001B[0m, in \u001B[0;36m<cell line: 1>\u001B[0;34m()\u001B[0m\n\u001B[0;32m----> 1\u001B[0m \u001B[38;5;28mprint\u001B[39m(\u001B[43mdf_business\u001B[49m\u001B[38;5;241m.\u001B[39mshape)\n\u001B[1;32m      2\u001B[0m df_business\u001B[38;5;241m.\u001B[39mhead(\u001B[38;5;241m5\u001B[39m)\n",
      "\u001B[0;31mNameError\u001B[0m: name 'df_business' is not defined"
     ]
    }
   ],
   "source": [
    "print(df_business.shape)\n",
    "df_business.head(5)"
   ],
   "metadata": {
    "collapsed": false,
    "pycharm": {
     "name": "#%%\n"
    }
   }
  },
  {
   "cell_type": "code",
   "execution_count": 550,
   "outputs": [],
   "source": [
    "df_business.to_csv(r'/Users/at181903/PycharmProjects/IAproject/dataset/df_business_final.csv', index=False)"
   ],
   "metadata": {
    "collapsed": false,
    "pycharm": {
     "name": "#%%\n"
    }
   }
  },
  {
   "cell_type": "code",
   "execution_count": 551,
   "outputs": [],
   "source": [
    "##### OLD\n",
    "# df_business = pd.read_csv('../dataset/df_business.csv')\n",
    "\n",
    "# df_business = df_business.dropna() # da togliere\n",
    "\n",
    "# re.sub(\"u\"no\"\", \"u-no\", txt)\n",
    "# x = re.findall('\"BusinessParking\": \"{.*}\"', txt)\n",
    "# print(\"x\", x)\n",
    "#\n",
    "# par = re.findall('\"{.*}\"', x[0])\n",
    "# print(\"par\", par)\n",
    "#\n",
    "# y = re.sub('{\"', '{-\"', par[0])\n",
    "# print(\"y\", y)\n",
    "#\n",
    "# z = re.sub('\":', '\"-:', y)\n",
    "# print(\"z\", z)\n",
    "#\n",
    "# p = re.sub('\\s\"', ' -\"', z)\n",
    "# print(\"p\", p)\n",
    "#\n",
    "# test = txt.replace(par[0], p)\n",
    "# print(\"test\", test)"
   ],
   "metadata": {
    "collapsed": false,
    "pycharm": {
     "name": "#%%\n"
    }
   }
  }
 ],
 "metadata": {
  "kernelspec": {
   "display_name": "Python 3",
   "language": "python",
   "name": "python3"
  },
  "language_info": {
   "codemirror_mode": {
    "name": "ipython",
    "version": 2
   },
   "file_extension": ".py",
   "mimetype": "text/x-python",
   "name": "python",
   "nbconvert_exporter": "python",
   "pygments_lexer": "ipython2",
   "version": "2.7.6"
  }
 },
 "nbformat": 4,
 "nbformat_minor": 0
}