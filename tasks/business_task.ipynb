{
 "cells": [
  {
   "cell_type": "markdown",
   "source": [
    "# Automatic grouping of places based on similarity criteria given a certain location\n",
    "Using [Yelp Open Dataset](https://www.yelp.com/dataset) business, tip and checkin datasets, this task will group places based on similarity criteria given a certain location. Go ahead to learn more about it.\n",
    "\n",
    "### Used libraries\n",
    "[Pandas](https://pandas.pydata.org/): most common, open source data analysis and manipulation tool.\n",
    "\n",
    "[NumPy](https://numpy.org/): used for mathematical support for some processes.\n",
    "\n",
    "### Preprocessing dataset\n",
    "All preprocessing task is done by our `preprocessing_business_dataset.ipynb`. See it to learn more about preprocessing."
   ],
   "metadata": {
    "collapsed": false,
    "pycharm": {
     "name": "#%% md\n"
    }
   }
  },
  {
   "cell_type": "code",
   "execution_count": 1,
   "outputs": [],
   "source": [
    "import pandas as pd\n",
    "import numpy as np\n",
    "\n",
    "from utils.algorithm import score_plot_and_get_best\n",
    "from utils.algorithm import add_new_column"
   ],
   "metadata": {
    "collapsed": false,
    "pycharm": {
     "name": "#%%\n"
    }
   }
  },
  {
   "cell_type": "code",
   "execution_count": 2,
   "outputs": [],
   "source": [
    "df_business = pd.read_csv('../dataset/df_business_final.csv')"
   ],
   "metadata": {
    "collapsed": false,
    "pycharm": {
     "name": "#%%\n"
    }
   }
  },
  {
   "cell_type": "code",
   "execution_count": 3,
   "outputs": [
    {
     "name": "stdout",
     "output_type": "stream",
     "text": [
      "(150346, 66)\n"
     ]
    },
    {
     "data": {
      "text/plain": "   AcceptsInsurance  BikeParking  BusinessAcceptsBitcoin  \\\n0               0.0          0.0                     0.0   \n1               0.0          0.0                     0.0   \n2               0.0          1.0                     0.0   \n3               0.0          1.0                     0.0   \n4               0.0          1.0                     0.0   \n\n   BusinessAcceptsCreditCards  ByAppointmentOnly  CoatCheck  Corkage  \\\n0                         0.0                1.0        0.0      0.0   \n1                         1.0                0.0        0.0      0.0   \n2                         1.0                0.0        0.0      0.0   \n3                         0.0                0.0        0.0      0.0   \n4                         1.0                0.0        0.0      0.0   \n\n   DogsAllowed  DriveThru  GoodForDancing  ...  stars  state  street  \\\n0          0.0        0.0             0.0  ...    5.0     CA     0.0   \n1          0.0        0.0             0.0  ...    3.0     MO     0.0   \n2          0.0        0.0             0.0  ...    3.5     AZ     0.0   \n3          0.0        0.0             0.0  ...    4.0     PA     1.0   \n4          0.0        0.0             0.0  ...    4.5     PA     0.0   \n\n   touristy  trendy  upscale  valet  vegan  vegetarian  video  \n0       0.0     0.0      0.0    0.0    0.0         0.0    0.0  \n1       0.0     0.0      0.0    0.0    0.0         0.0    0.0  \n2       0.0     0.0      0.0    0.0    0.0         0.0    0.0  \n3       0.0     0.0      0.0    0.0    0.0         0.0    0.0  \n4       0.0     0.0      0.0    0.0    0.0         0.0    0.0  \n\n[5 rows x 66 columns]",
      "text/html": "<div>\n<style scoped>\n    .dataframe tbody tr th:only-of-type {\n        vertical-align: middle;\n    }\n\n    .dataframe tbody tr th {\n        vertical-align: top;\n    }\n\n    .dataframe thead th {\n        text-align: right;\n    }\n</style>\n<table border=\"1\" class=\"dataframe\">\n  <thead>\n    <tr style=\"text-align: right;\">\n      <th></th>\n      <th>AcceptsInsurance</th>\n      <th>BikeParking</th>\n      <th>BusinessAcceptsBitcoin</th>\n      <th>BusinessAcceptsCreditCards</th>\n      <th>ByAppointmentOnly</th>\n      <th>CoatCheck</th>\n      <th>Corkage</th>\n      <th>DogsAllowed</th>\n      <th>DriveThru</th>\n      <th>GoodForDancing</th>\n      <th>...</th>\n      <th>stars</th>\n      <th>state</th>\n      <th>street</th>\n      <th>touristy</th>\n      <th>trendy</th>\n      <th>upscale</th>\n      <th>valet</th>\n      <th>vegan</th>\n      <th>vegetarian</th>\n      <th>video</th>\n    </tr>\n  </thead>\n  <tbody>\n    <tr>\n      <th>0</th>\n      <td>0.0</td>\n      <td>0.0</td>\n      <td>0.0</td>\n      <td>0.0</td>\n      <td>1.0</td>\n      <td>0.0</td>\n      <td>0.0</td>\n      <td>0.0</td>\n      <td>0.0</td>\n      <td>0.0</td>\n      <td>...</td>\n      <td>5.0</td>\n      <td>CA</td>\n      <td>0.0</td>\n      <td>0.0</td>\n      <td>0.0</td>\n      <td>0.0</td>\n      <td>0.0</td>\n      <td>0.0</td>\n      <td>0.0</td>\n      <td>0.0</td>\n    </tr>\n    <tr>\n      <th>1</th>\n      <td>0.0</td>\n      <td>0.0</td>\n      <td>0.0</td>\n      <td>1.0</td>\n      <td>0.0</td>\n      <td>0.0</td>\n      <td>0.0</td>\n      <td>0.0</td>\n      <td>0.0</td>\n      <td>0.0</td>\n      <td>...</td>\n      <td>3.0</td>\n      <td>MO</td>\n      <td>0.0</td>\n      <td>0.0</td>\n      <td>0.0</td>\n      <td>0.0</td>\n      <td>0.0</td>\n      <td>0.0</td>\n      <td>0.0</td>\n      <td>0.0</td>\n    </tr>\n    <tr>\n      <th>2</th>\n      <td>0.0</td>\n      <td>1.0</td>\n      <td>0.0</td>\n      <td>1.0</td>\n      <td>0.0</td>\n      <td>0.0</td>\n      <td>0.0</td>\n      <td>0.0</td>\n      <td>0.0</td>\n      <td>0.0</td>\n      <td>...</td>\n      <td>3.5</td>\n      <td>AZ</td>\n      <td>0.0</td>\n      <td>0.0</td>\n      <td>0.0</td>\n      <td>0.0</td>\n      <td>0.0</td>\n      <td>0.0</td>\n      <td>0.0</td>\n      <td>0.0</td>\n    </tr>\n    <tr>\n      <th>3</th>\n      <td>0.0</td>\n      <td>1.0</td>\n      <td>0.0</td>\n      <td>0.0</td>\n      <td>0.0</td>\n      <td>0.0</td>\n      <td>0.0</td>\n      <td>0.0</td>\n      <td>0.0</td>\n      <td>0.0</td>\n      <td>...</td>\n      <td>4.0</td>\n      <td>PA</td>\n      <td>1.0</td>\n      <td>0.0</td>\n      <td>0.0</td>\n      <td>0.0</td>\n      <td>0.0</td>\n      <td>0.0</td>\n      <td>0.0</td>\n      <td>0.0</td>\n    </tr>\n    <tr>\n      <th>4</th>\n      <td>0.0</td>\n      <td>1.0</td>\n      <td>0.0</td>\n      <td>1.0</td>\n      <td>0.0</td>\n      <td>0.0</td>\n      <td>0.0</td>\n      <td>0.0</td>\n      <td>0.0</td>\n      <td>0.0</td>\n      <td>...</td>\n      <td>4.5</td>\n      <td>PA</td>\n      <td>0.0</td>\n      <td>0.0</td>\n      <td>0.0</td>\n      <td>0.0</td>\n      <td>0.0</td>\n      <td>0.0</td>\n      <td>0.0</td>\n      <td>0.0</td>\n    </tr>\n  </tbody>\n</table>\n<p>5 rows × 66 columns</p>\n</div>"
     },
     "execution_count": 3,
     "metadata": {},
     "output_type": "execute_result"
    }
   ],
   "source": [
    "print(df_business.shape)\n",
    "df_business.head(5)"
   ],
   "metadata": {
    "collapsed": false,
    "pycharm": {
     "name": "#%%\n"
    }
   }
  },
  {
   "cell_type": "markdown",
   "source": [
    "## Filter dataset by city\n",
    "This function filters dataset by city feature. In this case we hardcoded Tucson city."
   ],
   "metadata": {
    "collapsed": false,
    "pycharm": {
     "name": "#%% md\n"
    }
   }
  },
  {
   "cell_type": "code",
   "execution_count": 4,
   "outputs": [],
   "source": [
    "def filter_by_city(city, df):\n",
    "    return df[df['city'].str.contains(city) == True]"
   ],
   "metadata": {
    "collapsed": false,
    "pycharm": {
     "name": "#%%\n"
    }
   }
  },
  {
   "cell_type": "code",
   "execution_count": 5,
   "outputs": [],
   "source": [
    "df_business_filtered = filter_by_city('Tucson', df_business)"
   ],
   "metadata": {
    "collapsed": false,
    "pycharm": {
     "name": "#%%\n"
    }
   }
  },
  {
   "cell_type": "code",
   "execution_count": 6,
   "outputs": [
    {
     "name": "stdout",
     "output_type": "stream",
     "text": [
      "(9262, 66)\n"
     ]
    },
    {
     "data": {
      "text/plain": "    AcceptsInsurance  BikeParking  BusinessAcceptsBitcoin  \\\n2                0.0          1.0                     0.0   \n16               0.0          0.0                     0.0   \n45               0.0          0.0                     0.0   \n56               0.0          1.0                     0.0   \n67               0.0          0.0                     0.0   \n\n    BusinessAcceptsCreditCards  ByAppointmentOnly  CoatCheck  Corkage  \\\n2                          1.0                0.0        0.0      0.0   \n16                         1.0                0.0        0.0      0.0   \n45                         1.0                0.0        0.0      0.0   \n56                         1.0                0.0        0.0      0.0   \n67                         0.0                0.0        0.0      0.0   \n\n    DogsAllowed  DriveThru  GoodForDancing  ...  stars  state  street  \\\n2           0.0        0.0             0.0  ...    3.5     AZ     0.0   \n16          0.0        0.0             0.0  ...    4.5     AZ     0.0   \n45          0.0        0.0             0.0  ...    3.0     AZ     0.0   \n56          0.0        0.0             0.0  ...    3.0     AZ     0.0   \n67          0.0        0.0             0.0  ...    4.5     AZ     0.0   \n\n    touristy  trendy  upscale  valet  vegan  vegetarian  video  \n2        0.0     0.0      0.0    0.0    0.0         0.0    0.0  \n16       0.0     0.0      0.0    0.0    0.0         0.0    0.0  \n45       0.0     0.0      0.0    0.0    0.0         0.0    0.0  \n56       0.0     0.0      0.0    0.0    0.0         0.0    0.0  \n67       0.0     0.0      0.0    0.0    0.0         0.0    0.0  \n\n[5 rows x 66 columns]",
      "text/html": "<div>\n<style scoped>\n    .dataframe tbody tr th:only-of-type {\n        vertical-align: middle;\n    }\n\n    .dataframe tbody tr th {\n        vertical-align: top;\n    }\n\n    .dataframe thead th {\n        text-align: right;\n    }\n</style>\n<table border=\"1\" class=\"dataframe\">\n  <thead>\n    <tr style=\"text-align: right;\">\n      <th></th>\n      <th>AcceptsInsurance</th>\n      <th>BikeParking</th>\n      <th>BusinessAcceptsBitcoin</th>\n      <th>BusinessAcceptsCreditCards</th>\n      <th>ByAppointmentOnly</th>\n      <th>CoatCheck</th>\n      <th>Corkage</th>\n      <th>DogsAllowed</th>\n      <th>DriveThru</th>\n      <th>GoodForDancing</th>\n      <th>...</th>\n      <th>stars</th>\n      <th>state</th>\n      <th>street</th>\n      <th>touristy</th>\n      <th>trendy</th>\n      <th>upscale</th>\n      <th>valet</th>\n      <th>vegan</th>\n      <th>vegetarian</th>\n      <th>video</th>\n    </tr>\n  </thead>\n  <tbody>\n    <tr>\n      <th>2</th>\n      <td>0.0</td>\n      <td>1.0</td>\n      <td>0.0</td>\n      <td>1.0</td>\n      <td>0.0</td>\n      <td>0.0</td>\n      <td>0.0</td>\n      <td>0.0</td>\n      <td>0.0</td>\n      <td>0.0</td>\n      <td>...</td>\n      <td>3.5</td>\n      <td>AZ</td>\n      <td>0.0</td>\n      <td>0.0</td>\n      <td>0.0</td>\n      <td>0.0</td>\n      <td>0.0</td>\n      <td>0.0</td>\n      <td>0.0</td>\n      <td>0.0</td>\n    </tr>\n    <tr>\n      <th>16</th>\n      <td>0.0</td>\n      <td>0.0</td>\n      <td>0.0</td>\n      <td>1.0</td>\n      <td>0.0</td>\n      <td>0.0</td>\n      <td>0.0</td>\n      <td>0.0</td>\n      <td>0.0</td>\n      <td>0.0</td>\n      <td>...</td>\n      <td>4.5</td>\n      <td>AZ</td>\n      <td>0.0</td>\n      <td>0.0</td>\n      <td>0.0</td>\n      <td>0.0</td>\n      <td>0.0</td>\n      <td>0.0</td>\n      <td>0.0</td>\n      <td>0.0</td>\n    </tr>\n    <tr>\n      <th>45</th>\n      <td>0.0</td>\n      <td>0.0</td>\n      <td>0.0</td>\n      <td>1.0</td>\n      <td>0.0</td>\n      <td>0.0</td>\n      <td>0.0</td>\n      <td>0.0</td>\n      <td>0.0</td>\n      <td>0.0</td>\n      <td>...</td>\n      <td>3.0</td>\n      <td>AZ</td>\n      <td>0.0</td>\n      <td>0.0</td>\n      <td>0.0</td>\n      <td>0.0</td>\n      <td>0.0</td>\n      <td>0.0</td>\n      <td>0.0</td>\n      <td>0.0</td>\n    </tr>\n    <tr>\n      <th>56</th>\n      <td>0.0</td>\n      <td>1.0</td>\n      <td>0.0</td>\n      <td>1.0</td>\n      <td>0.0</td>\n      <td>0.0</td>\n      <td>0.0</td>\n      <td>0.0</td>\n      <td>0.0</td>\n      <td>0.0</td>\n      <td>...</td>\n      <td>3.0</td>\n      <td>AZ</td>\n      <td>0.0</td>\n      <td>0.0</td>\n      <td>0.0</td>\n      <td>0.0</td>\n      <td>0.0</td>\n      <td>0.0</td>\n      <td>0.0</td>\n      <td>0.0</td>\n    </tr>\n    <tr>\n      <th>67</th>\n      <td>0.0</td>\n      <td>0.0</td>\n      <td>0.0</td>\n      <td>0.0</td>\n      <td>0.0</td>\n      <td>0.0</td>\n      <td>0.0</td>\n      <td>0.0</td>\n      <td>0.0</td>\n      <td>0.0</td>\n      <td>...</td>\n      <td>4.5</td>\n      <td>AZ</td>\n      <td>0.0</td>\n      <td>0.0</td>\n      <td>0.0</td>\n      <td>0.0</td>\n      <td>0.0</td>\n      <td>0.0</td>\n      <td>0.0</td>\n      <td>0.0</td>\n    </tr>\n  </tbody>\n</table>\n<p>5 rows × 66 columns</p>\n</div>"
     },
     "execution_count": 6,
     "metadata": {},
     "output_type": "execute_result"
    }
   ],
   "source": [
    "print(df_business_filtered.shape)\n",
    "\n",
    "df_business_filtered.head(5)"
   ],
   "metadata": {
    "collapsed": false,
    "pycharm": {
     "name": "#%%\n"
    }
   }
  },
  {
   "cell_type": "markdown",
   "source": [
    "## Drop non number features\n",
    "K-Means algorithm wants only numerical features, so we dropped string features as:\n",
    "- business_id\n",
    "- address\n",
    "- categories\n",
    "- city\n",
    "- latitude\n",
    "- longitude\n",
    "- name\n",
    "- state\n",
    "- postal_code\n",
    "\n",
    "These features will be retrieved after clustering."
   ],
   "metadata": {
    "collapsed": false,
    "pycharm": {
     "name": "#%% md\n"
    }
   }
  },
  {
   "cell_type": "code",
   "execution_count": 7,
   "outputs": [],
   "source": [
    "to_drop = ['business_id', 'address', 'categories', 'city', 'latitude', 'longitude', 'name', 'state', 'postal_code']\n",
    "\n",
    "df_business_filtered_dropped = df_business_filtered.drop(to_drop, axis=1)"
   ],
   "metadata": {
    "collapsed": false,
    "pycharm": {
     "name": "#%%\n"
    }
   }
  },
  {
   "cell_type": "code",
   "execution_count": 8,
   "outputs": [
    {
     "data": {
      "text/plain": "(9262, 57)"
     },
     "execution_count": 8,
     "metadata": {},
     "output_type": "execute_result"
    }
   ],
   "source": [
    "df_business_filtered_dropped.shape"
   ],
   "metadata": {
    "collapsed": false,
    "pycharm": {
     "name": "#%%\n"
    }
   }
  },
  {
   "cell_type": "markdown",
   "source": [
    "# K-Means\n",
    "Check `users_task.ipynb` for K-Means explaination"
   ],
   "metadata": {
    "collapsed": false,
    "pycharm": {
     "name": "#%% md\n"
    }
   }
  },
  {
   "cell_type": "code",
   "execution_count": 9,
   "outputs": [],
   "source": [
    "df_business_dropped_kmeans = df_business_filtered_dropped.copy()"
   ],
   "metadata": {
    "collapsed": false,
    "pycharm": {
     "name": "#%%\n"
    }
   }
  },
  {
   "cell_type": "code",
   "execution_count": 10,
   "outputs": [
    {
     "name": "stdout",
     "output_type": "stream",
     "text": [
      "            silhouette_score  calinski_harabasz_score  davies_bouldin_score\n",
      "n_clusters                                                                 \n",
      "2                   0.885914             14487.306274              0.461312\n",
      "3                   0.830901             16650.392603              0.522023\n",
      "4                   0.804754             20308.663241              0.498188\n",
      "5                   0.766183             23825.632990              0.500291\n",
      "6                   0.734635             29066.851550              0.486245\n",
      "7                   0.668330             31968.289435              0.505434\n",
      "8                   0.678475             35737.176352              0.510760\n",
      "9                   0.638435             39410.268576              0.459446\n",
      "10                  0.646187             44592.833145              0.459804\n",
      "11                  0.624385             48033.276817              0.472329\n",
      "12                  0.625820             54206.228677              0.457789\n",
      "13                  0.571563             58674.986168              0.476259\n",
      "14                  0.582444             64800.715217              0.480494\n",
      "15                  0.566794             68141.234259              0.491104\n",
      "16                  0.553763             72600.828031              0.456116\n",
      "17                  0.560933             77131.377593              0.461702\n",
      "18                  0.531032             81841.139828              0.471853\n",
      "19                  0.484215             83606.047970              0.495305\n",
      "Best  n_clusters : 16\n"
     ]
    },
    {
     "data": {
      "text/plain": "<Figure size 432x288 with 1 Axes>",
      "image/png": "[encoded data removed]"
     },
     "metadata": {
      "needs_background": "light"
     },
     "output_type": "display_data"
    }
   ],
   "source": [
    "df_cluster_kmeans = score_plot_and_get_best(df_business_dropped_kmeans, \"kmeans\", np.arange(2, 20))"
   ],
   "metadata": {
    "collapsed": false,
    "pycharm": {
     "name": "#%%\n"
    }
   }
  },
  {
   "cell_type": "code",
   "execution_count": 11,
   "outputs": [
    {
     "data": {
      "text/plain": "(9262, 58)"
     },
     "execution_count": 11,
     "metadata": {},
     "output_type": "execute_result"
    }
   ],
   "source": [
    "df_business_merged_dropped_kmeans = add_new_column('kmeans', df_cluster_kmeans, df_business_dropped_kmeans)\n",
    "df_business_merged_dropped_kmeans.shape"
   ],
   "metadata": {
    "collapsed": false,
    "pycharm": {
     "name": "#%%\n"
    }
   }
  },
  {
   "cell_type": "markdown",
   "source": [
    "### Reset index"
   ],
   "metadata": {
    "collapsed": false,
    "pycharm": {
     "name": "#%% md\n"
    }
   }
  },
  {
   "cell_type": "code",
   "execution_count": 12,
   "outputs": [],
   "source": [
    "df_business_merged_dropped_kmeans = df_business_merged_dropped_kmeans.reset_index(drop=True)\n",
    "df_business_filtered = df_business_filtered.reset_index(drop=True)"
   ],
   "metadata": {
    "collapsed": false,
    "pycharm": {
     "name": "#%%\n"
    }
   }
  },
  {
   "cell_type": "markdown",
   "source": [
    "### Reintegrate dropped features\n",
    "Here we reintegrate previously dropped features in order to export dataset correctly."
   ],
   "metadata": {
    "collapsed": false,
    "pycharm": {
     "name": "#%% md\n"
    }
   }
  },
  {
   "cell_type": "code",
   "execution_count": 13,
   "outputs": [
    {
     "name": "stdout",
     "output_type": "stream",
     "text": [
      "(9262, 67)\n"
     ]
    },
    {
     "data": {
      "text/plain": "   AcceptsInsurance  BikeParking  BusinessAcceptsBitcoin  \\\n0               0.0          1.0                     0.0   \n1               0.0          0.0                     0.0   \n2               0.0          0.0                     0.0   \n3               0.0          1.0                     0.0   \n4               0.0          0.0                     0.0   \n\n   BusinessAcceptsCreditCards  ByAppointmentOnly  CoatCheck  Corkage  \\\n0                         1.0                0.0        0.0      0.0   \n1                         1.0                0.0        0.0      0.0   \n2                         1.0                0.0        0.0      0.0   \n3                         1.0                0.0        0.0      0.0   \n4                         0.0                0.0        0.0      0.0   \n\n   DogsAllowed  DriveThru  GoodForDancing  ...  cluster  \\\n0          0.0        0.0             0.0  ...        1   \n1          0.0        0.0             0.0  ...        7   \n2          0.0        0.0             0.0  ...        1   \n3          0.0        0.0             0.0  ...        1   \n4          0.0        0.0             0.0  ...        7   \n\n              business_id                          address  \\\n0  tUFrWirKiKi_TAnsVWINQQ             5255 E Broadway Blvd   \n1  rBmpy_Y1UbBx8ggHlyb7hA                  625 N Stone Ave   \n2  wghnIlMb_i5U46HMBGx9ig  1625 W Valencia Rd, Ste 101-103   \n3  txyXRytGjwOXvS8s4sc-WA   1070 E Tucson Marketplace Blvd   \n4  eYxGFkxo6m3SYGVTh5m2nQ                  4158 E Grant Rd   \n\n                                          categories    city   latitude  \\\n0  Department Stores, Shopping, Fashion, Home & G...  Tucson  32.223236   \n1  Automotive, Auto Parts & Supplies, Auto Custom...  Tucson  32.229872   \n2                               Restaurants, Chinese  Tucson  32.132305   \n3  Vitamins & Supplements, Ice Cream & Frozen Yog...  Tucson  32.186794   \n4  Towing, Hotels & Travel, Automotive, Motorcycl...  Tucson  32.250324   \n\n    longitude                              name  state  postal_code  \n0 -110.880452                            Target     AZ        85711  \n1 -110.972342          Arizona Truck Outfitters     AZ        85705  \n2 -110.999985           China Dragon Restaurant     AZ        85746  \n3 -110.954765                     Smoothie King     AZ        85713  \n4 -110.903655  Big Boyz Toyz Motorcycle Rentals     AZ        85712  \n\n[5 rows x 67 columns]",
      "text/html": "<div>\n<style scoped>\n    .dataframe tbody tr th:only-of-type {\n        vertical-align: middle;\n    }\n\n    .dataframe tbody tr th {\n        vertical-align: top;\n    }\n\n    .dataframe thead th {\n        text-align: right;\n    }\n</style>\n<table border=\"1\" class=\"dataframe\">\n  <thead>\n    <tr style=\"text-align: right;\">\n      <th></th>\n      <th>AcceptsInsurance</th>\n      <th>BikeParking</th>\n      <th>BusinessAcceptsBitcoin</th>\n      <th>BusinessAcceptsCreditCards</th>\n      <th>ByAppointmentOnly</th>\n      <th>CoatCheck</th>\n      <th>Corkage</th>\n      <th>DogsAllowed</th>\n      <th>DriveThru</th>\n      <th>GoodForDancing</th>\n      <th>...</th>\n      <th>cluster</th>\n      <th>business_id</th>\n      <th>address</th>\n      <th>categories</th>\n      <th>city</th>\n      <th>latitude</th>\n      <th>longitude</th>\n      <th>name</th>\n      <th>state</th>\n      <th>postal_code</th>\n    </tr>\n  </thead>\n  <tbody>\n    <tr>\n      <th>0</th>\n      <td>0.0</td>\n      <td>1.0</td>\n      <td>0.0</td>\n      <td>1.0</td>\n      <td>0.0</td>\n      <td>0.0</td>\n      <td>0.0</td>\n      <td>0.0</td>\n      <td>0.0</td>\n      <td>0.0</td>\n      <td>...</td>\n      <td>1</td>\n      <td>tUFrWirKiKi_TAnsVWINQQ</td>\n      <td>5255 E Broadway Blvd</td>\n      <td>Department Stores, Shopping, Fashion, Home &amp; G...</td>\n      <td>Tucson</td>\n      <td>32.223236</td>\n      <td>-110.880452</td>\n      <td>Target</td>\n      <td>AZ</td>\n      <td>85711</td>\n    </tr>\n    <tr>\n      <th>1</th>\n      <td>0.0</td>\n      <td>0.0</td>\n      <td>0.0</td>\n      <td>1.0</td>\n      <td>0.0</td>\n      <td>0.0</td>\n      <td>0.0</td>\n      <td>0.0</td>\n      <td>0.0</td>\n      <td>0.0</td>\n      <td>...</td>\n      <td>7</td>\n      <td>rBmpy_Y1UbBx8ggHlyb7hA</td>\n      <td>625 N Stone Ave</td>\n      <td>Automotive, Auto Parts &amp; Supplies, Auto Custom...</td>\n      <td>Tucson</td>\n      <td>32.229872</td>\n      <td>-110.972342</td>\n      <td>Arizona Truck Outfitters</td>\n      <td>AZ</td>\n      <td>85705</td>\n    </tr>\n    <tr>\n      <th>2</th>\n      <td>0.0</td>\n      <td>0.0</td>\n      <td>0.0</td>\n      <td>1.0</td>\n      <td>0.0</td>\n      <td>0.0</td>\n      <td>0.0</td>\n      <td>0.0</td>\n      <td>0.0</td>\n      <td>0.0</td>\n      <td>...</td>\n      <td>1</td>\n      <td>wghnIlMb_i5U46HMBGx9ig</td>\n      <td>1625 W Valencia Rd, Ste 101-103</td>\n      <td>Restaurants, Chinese</td>\n      <td>Tucson</td>\n      <td>32.132305</td>\n      <td>-110.999985</td>\n      <td>China Dragon Restaurant</td>\n      <td>AZ</td>\n      <td>85746</td>\n    </tr>\n    <tr>\n      <th>3</th>\n      <td>0.0</td>\n      <td>1.0</td>\n      <td>0.0</td>\n      <td>1.0</td>\n      <td>0.0</td>\n      <td>0.0</td>\n      <td>0.0</td>\n      <td>0.0</td>\n      <td>0.0</td>\n      <td>0.0</td>\n      <td>...</td>\n      <td>1</td>\n      <td>txyXRytGjwOXvS8s4sc-WA</td>\n      <td>1070 E Tucson Marketplace Blvd</td>\n      <td>Vitamins &amp; Supplements, Ice Cream &amp; Frozen Yog...</td>\n      <td>Tucson</td>\n      <td>32.186794</td>\n      <td>-110.954765</td>\n      <td>Smoothie King</td>\n      <td>AZ</td>\n      <td>85713</td>\n    </tr>\n    <tr>\n      <th>4</th>\n      <td>0.0</td>\n      <td>0.0</td>\n      <td>0.0</td>\n      <td>0.0</td>\n      <td>0.0</td>\n      <td>0.0</td>\n      <td>0.0</td>\n      <td>0.0</td>\n      <td>0.0</td>\n      <td>0.0</td>\n      <td>...</td>\n      <td>7</td>\n      <td>eYxGFkxo6m3SYGVTh5m2nQ</td>\n      <td>4158 E Grant Rd</td>\n      <td>Towing, Hotels &amp; Travel, Automotive, Motorcycl...</td>\n      <td>Tucson</td>\n      <td>32.250324</td>\n      <td>-110.903655</td>\n      <td>Big Boyz Toyz Motorcycle Rentals</td>\n      <td>AZ</td>\n      <td>85712</td>\n    </tr>\n  </tbody>\n</table>\n<p>5 rows × 67 columns</p>\n</div>"
     },
     "execution_count": 13,
     "metadata": {},
     "output_type": "execute_result"
    }
   ],
   "source": [
    "df_business_filtered_dropped_merged_kmeans = df_business_merged_dropped_kmeans.join(df_business_filtered[to_drop])\n",
    "print(df_business_filtered_dropped_merged_kmeans.shape)\n",
    "df_business_filtered_dropped_merged_kmeans.head(5)"
   ],
   "metadata": {
    "collapsed": false,
    "pycharm": {
     "name": "#%%\n"
    }
   }
  },
  {
   "cell_type": "markdown",
   "source": [
    "### Export clustered with kmeans df"
   ],
   "metadata": {
    "collapsed": false,
    "pycharm": {
     "name": "#%% md\n"
    }
   }
  },
  {
   "cell_type": "code",
   "execution_count": 14,
   "outputs": [],
   "source": [
    "df_business_filtered_dropped_merged_kmeans.to_csv(\n",
    "    r'../dataset/df_business_filtered_by_city_kmeans.csv', index=False)"
   ],
   "metadata": {
    "collapsed": false,
    "pycharm": {
     "name": "#%%\n"
    }
   }
  },
  {
   "cell_type": "markdown",
   "source": [
    "# DBSCAN algorithm\n",
    "Check `users_task.ipynb` for DBSCAN algorithm explaination"
   ],
   "metadata": {
    "collapsed": false,
    "pycharm": {
     "name": "#%% md\n"
    }
   }
  },
  {
   "cell_type": "code",
   "execution_count": 15,
   "outputs": [],
   "source": [
    "from utils.algorithm import get_distances_and_plot\n",
    "from utils.algorithm import remove_duplicates\n",
    "from utils.algorithm import filter_distances_and_plot"
   ],
   "metadata": {
    "collapsed": false,
    "pycharm": {
     "name": "#%%\n"
    }
   }
  },
  {
   "cell_type": "code",
   "execution_count": 16,
   "outputs": [],
   "source": [
    "df_business_dropped_dbscan = df_business_filtered_dropped.copy()"
   ],
   "metadata": {
    "collapsed": false,
    "pycharm": {
     "name": "#%%\n"
    }
   }
  },
  {
   "cell_type": "code",
   "execution_count": 17,
   "outputs": [
    {
     "data": {
      "text/plain": "<Figure size 432x288 with 1 Axes>",
      "image/png": "[encoded data removed]"
     },
     "metadata": {
      "needs_background": "light"
     },
     "output_type": "display_data"
    }
   ],
   "source": [
    "distances = get_distances_and_plot(df_business_dropped_dbscan)"
   ],
   "metadata": {
    "collapsed": false,
    "pycharm": {
     "name": "#%%\n"
    }
   }
  },
  {
   "cell_type": "code",
   "execution_count": 18,
   "outputs": [
    {
     "data": {
      "text/plain": "<Figure size 432x288 with 1 Axes>",
      "image/png": "[encoded data removed]"
     },
     "metadata": {
      "needs_background": "light"
     },
     "output_type": "display_data"
    }
   ],
   "source": [
    "distances = remove_duplicates(distances)"
   ],
   "metadata": {
    "collapsed": false,
    "pycharm": {
     "name": "#%%\n"
    }
   }
  },
  {
   "cell_type": "code",
   "execution_count": 19,
   "outputs": [
    {
     "data": {
      "text/plain": "<Figure size 432x288 with 1 Axes>",
      "image/png": "[encoded data removed]"
     },
     "metadata": {
      "needs_background": "light"
     },
     "output_type": "display_data"
    }
   ],
   "source": [
    "distances = filter_distances_and_plot(distances, 0.03, 0.005);"
   ],
   "metadata": {
    "collapsed": false,
    "pycharm": {
     "name": "#%%\n"
    }
   }
  },
  {
   "cell_type": "code",
   "execution_count": 20,
   "outputs": [
    {
     "data": {
      "text/plain": "<Figure size 432x288 with 1 Axes>",
      "image/png": "[encoded data removed]"
     },
     "metadata": {
      "needs_background": "light"
     },
     "output_type": "display_data"
    }
   ],
   "source": [
    "distances = filter_distances_and_plot(distances, 0.020, 0.010);"
   ],
   "metadata": {
    "collapsed": false,
    "pycharm": {
     "name": "#%%\n"
    }
   }
  },
  {
   "cell_type": "code",
   "execution_count": 21,
   "outputs": [
    {
     "data": {
      "text/plain": "<Figure size 432x288 with 1 Axes>",
      "image/png": "[encoded data removed]"
     },
     "metadata": {
      "needs_background": "light"
     },
     "output_type": "display_data"
    }
   ],
   "source": [
    "distances = filter_distances_and_plot(distances, 0.018, 0.014);"
   ],
   "metadata": {
    "collapsed": false,
    "pycharm": {
     "name": "#%%\n"
    }
   }
  },
  {
   "cell_type": "code",
   "execution_count": 22,
   "outputs": [
    {
     "name": "stdout",
     "output_type": "stream",
     "text": [
      "          silhouette_score  calinski_harabasz_score  davies_bouldin_score\n",
      "eps                                                                      \n",
      "0.014054         -0.419594                 3.456824              1.180245\n",
      "0.014099         -0.419594                 3.456824              1.180245\n",
      "0.014124         -0.419594                 3.456824              1.180245\n",
      "0.014141         -0.419594                 3.456824              1.180245\n",
      "0.014150         -0.419594                 3.456824              1.180245\n",
      "...                    ...                      ...                   ...\n",
      "0.017732         -0.419594                 3.456824              1.180245\n",
      "0.017737         -0.419594                 3.456824              1.180245\n",
      "0.017857         -0.419594                 3.456824              1.180245\n",
      "0.017896         -0.419594                 3.456824              1.180245\n",
      "0.017979         -0.419594                 3.456824              1.180245\n",
      "\n",
      "[61 rows x 3 columns]\n",
      "Best  eps : 0.014053876382942532\n"
     ]
    }
   ],
   "source": [
    "df_eps_dbscan = score_plot_and_get_best(df_business_dropped_dbscan, \"dbscan\", distances)"
   ],
   "metadata": {
    "collapsed": false,
    "pycharm": {
     "name": "#%%\n"
    }
   }
  },
  {
   "cell_type": "code",
   "execution_count": 23,
   "outputs": [
    {
     "name": "stdout",
     "output_type": "stream",
     "text": [
      "Best DBSCAN number of cluster:  71\n"
     ]
    }
   ],
   "source": [
    "df_business_merged_dropped_dbscan = add_new_column('dbscan', df_eps_dbscan, df_business_dropped_dbscan)\n",
    "print(\"Best DBSCAN number of cluster: \", len(df_business_merged_dropped_dbscan['eps'].unique()))"
   ],
   "metadata": {
    "collapsed": false,
    "pycharm": {
     "name": "#%%\n"
    }
   }
  },
  {
   "cell_type": "markdown",
   "source": [
    "### Reset index"
   ],
   "metadata": {
    "collapsed": false,
    "pycharm": {
     "name": "#%% md\n"
    }
   }
  },
  {
   "cell_type": "code",
   "execution_count": 24,
   "outputs": [],
   "source": [
    "df_business_merged_dropped_dbscan = df_business_merged_dropped_dbscan.reset_index(drop=True)\n",
    "df_business_filtered = df_business_filtered.reset_index(drop=True)"
   ],
   "metadata": {
    "collapsed": false,
    "pycharm": {
     "name": "#%%\n"
    }
   }
  },
  {
   "cell_type": "markdown",
   "source": [
    "### Re-integrate dropped features\n",
    "Here we reintegrate previously dropped features in order to export dataset correctly."
   ],
   "metadata": {
    "collapsed": false,
    "pycharm": {
     "name": "#%% md\n"
    }
   }
  },
  {
   "cell_type": "code",
   "execution_count": 25,
   "outputs": [
    {
     "name": "stdout",
     "output_type": "stream",
     "text": [
      "(9262, 67)\n"
     ]
    },
    {
     "data": {
      "text/plain": "   AcceptsInsurance  BikeParking  BusinessAcceptsBitcoin  \\\n0               0.0          1.0                     0.0   \n1               0.0          0.0                     0.0   \n2               0.0          0.0                     0.0   \n3               0.0          1.0                     0.0   \n4               0.0          0.0                     0.0   \n\n   BusinessAcceptsCreditCards  ByAppointmentOnly  CoatCheck  Corkage  \\\n0                         1.0                0.0        0.0      0.0   \n1                         1.0                0.0        0.0      0.0   \n2                         1.0                0.0        0.0      0.0   \n3                         1.0                0.0        0.0      0.0   \n4                         0.0                0.0        0.0      0.0   \n\n   DogsAllowed  DriveThru  GoodForDancing  ...  eps             business_id  \\\n0          0.0        0.0             0.0  ...   -1  tUFrWirKiKi_TAnsVWINQQ   \n1          0.0        0.0             0.0  ...    0  rBmpy_Y1UbBx8ggHlyb7hA   \n2          0.0        0.0             0.0  ...   -1  wghnIlMb_i5U46HMBGx9ig   \n3          0.0        0.0             0.0  ...   -1  txyXRytGjwOXvS8s4sc-WA   \n4          0.0        0.0             0.0  ...    1  eYxGFkxo6m3SYGVTh5m2nQ   \n\n                           address  \\\n0             5255 E Broadway Blvd   \n1                  625 N Stone Ave   \n2  1625 W Valencia Rd, Ste 101-103   \n3   1070 E Tucson Marketplace Blvd   \n4                  4158 E Grant Rd   \n\n                                          categories    city   latitude  \\\n0  Department Stores, Shopping, Fashion, Home & G...  Tucson  32.223236   \n1  Automotive, Auto Parts & Supplies, Auto Custom...  Tucson  32.229872   \n2                               Restaurants, Chinese  Tucson  32.132305   \n3  Vitamins & Supplements, Ice Cream & Frozen Yog...  Tucson  32.186794   \n4  Towing, Hotels & Travel, Automotive, Motorcycl...  Tucson  32.250324   \n\n    longitude                              name  state  postal_code  \n0 -110.880452                            Target     AZ        85711  \n1 -110.972342          Arizona Truck Outfitters     AZ        85705  \n2 -110.999985           China Dragon Restaurant     AZ        85746  \n3 -110.954765                     Smoothie King     AZ        85713  \n4 -110.903655  Big Boyz Toyz Motorcycle Rentals     AZ        85712  \n\n[5 rows x 67 columns]",
      "text/html": "<div>\n<style scoped>\n    .dataframe tbody tr th:only-of-type {\n        vertical-align: middle;\n    }\n\n    .dataframe tbody tr th {\n        vertical-align: top;\n    }\n\n    .dataframe thead th {\n        text-align: right;\n    }\n</style>\n<table border=\"1\" class=\"dataframe\">\n  <thead>\n    <tr style=\"text-align: right;\">\n      <th></th>\n      <th>AcceptsInsurance</th>\n      <th>BikeParking</th>\n      <th>BusinessAcceptsBitcoin</th>\n      <th>BusinessAcceptsCreditCards</th>\n      <th>ByAppointmentOnly</th>\n      <th>CoatCheck</th>\n      <th>Corkage</th>\n      <th>DogsAllowed</th>\n      <th>DriveThru</th>\n      <th>GoodForDancing</th>\n      <th>...</th>\n      <th>eps</th>\n      <th>business_id</th>\n      <th>address</th>\n      <th>categories</th>\n      <th>city</th>\n      <th>latitude</th>\n      <th>longitude</th>\n      <th>name</th>\n      <th>state</th>\n      <th>postal_code</th>\n    </tr>\n  </thead>\n  <tbody>\n    <tr>\n      <th>0</th>\n      <td>0.0</td>\n      <td>1.0</td>\n      <td>0.0</td>\n      <td>1.0</td>\n      <td>0.0</td>\n      <td>0.0</td>\n      <td>0.0</td>\n      <td>0.0</td>\n      <td>0.0</td>\n      <td>0.0</td>\n      <td>...</td>\n      <td>-1</td>\n      <td>tUFrWirKiKi_TAnsVWINQQ</td>\n      <td>5255 E Broadway Blvd</td>\n      <td>Department Stores, Shopping, Fashion, Home &amp; G...</td>\n      <td>Tucson</td>\n      <td>32.223236</td>\n      <td>-110.880452</td>\n      <td>Target</td>\n      <td>AZ</td>\n      <td>85711</td>\n    </tr>\n    <tr>\n      <th>1</th>\n      <td>0.0</td>\n      <td>0.0</td>\n      <td>0.0</td>\n      <td>1.0</td>\n      <td>0.0</td>\n      <td>0.0</td>\n      <td>0.0</td>\n      <td>0.0</td>\n      <td>0.0</td>\n      <td>0.0</td>\n      <td>...</td>\n      <td>0</td>\n      <td>rBmpy_Y1UbBx8ggHlyb7hA</td>\n      <td>625 N Stone Ave</td>\n      <td>Automotive, Auto Parts &amp; Supplies, Auto Custom...</td>\n      <td>Tucson</td>\n      <td>32.229872</td>\n      <td>-110.972342</td>\n      <td>Arizona Truck Outfitters</td>\n      <td>AZ</td>\n      <td>85705</td>\n    </tr>\n    <tr>\n      <th>2</th>\n      <td>0.0</td>\n      <td>0.0</td>\n      <td>0.0</td>\n      <td>1.0</td>\n      <td>0.0</td>\n      <td>0.0</td>\n      <td>0.0</td>\n      <td>0.0</td>\n      <td>0.0</td>\n      <td>0.0</td>\n      <td>...</td>\n      <td>-1</td>\n      <td>wghnIlMb_i5U46HMBGx9ig</td>\n      <td>1625 W Valencia Rd, Ste 101-103</td>\n      <td>Restaurants, Chinese</td>\n      <td>Tucson</td>\n      <td>32.132305</td>\n      <td>-110.999985</td>\n      <td>China Dragon Restaurant</td>\n      <td>AZ</td>\n      <td>85746</td>\n    </tr>\n    <tr>\n      <th>3</th>\n      <td>0.0</td>\n      <td>1.0</td>\n      <td>0.0</td>\n      <td>1.0</td>\n      <td>0.0</td>\n      <td>0.0</td>\n      <td>0.0</td>\n      <td>0.0</td>\n      <td>0.0</td>\n      <td>0.0</td>\n      <td>...</td>\n      <td>-1</td>\n      <td>txyXRytGjwOXvS8s4sc-WA</td>\n      <td>1070 E Tucson Marketplace Blvd</td>\n      <td>Vitamins &amp; Supplements, Ice Cream &amp; Frozen Yog...</td>\n      <td>Tucson</td>\n      <td>32.186794</td>\n      <td>-110.954765</td>\n      <td>Smoothie King</td>\n      <td>AZ</td>\n      <td>85713</td>\n    </tr>\n    <tr>\n      <th>4</th>\n      <td>0.0</td>\n      <td>0.0</td>\n      <td>0.0</td>\n      <td>0.0</td>\n      <td>0.0</td>\n      <td>0.0</td>\n      <td>0.0</td>\n      <td>0.0</td>\n      <td>0.0</td>\n      <td>0.0</td>\n      <td>...</td>\n      <td>1</td>\n      <td>eYxGFkxo6m3SYGVTh5m2nQ</td>\n      <td>4158 E Grant Rd</td>\n      <td>Towing, Hotels &amp; Travel, Automotive, Motorcycl...</td>\n      <td>Tucson</td>\n      <td>32.250324</td>\n      <td>-110.903655</td>\n      <td>Big Boyz Toyz Motorcycle Rentals</td>\n      <td>AZ</td>\n      <td>85712</td>\n    </tr>\n  </tbody>\n</table>\n<p>5 rows × 67 columns</p>\n</div>"
     },
     "execution_count": 25,
     "metadata": {},
     "output_type": "execute_result"
    }
   ],
   "source": [
    "df_business_filtered_dropped_merged_dbscan = df_business_merged_dropped_dbscan.join(df_business_filtered[to_drop])\n",
    "print(df_business_filtered_dropped_merged_dbscan.shape)\n",
    "df_business_filtered_dropped_merged_dbscan.head(5)"
   ],
   "metadata": {
    "collapsed": false,
    "pycharm": {
     "name": "#%%\n"
    }
   }
  },
  {
   "cell_type": "markdown",
   "source": [
    "### Export clustered with dbscan df\n"
   ],
   "metadata": {
    "collapsed": false,
    "pycharm": {
     "name": "#%% md\n"
    }
   }
  },
  {
   "cell_type": "code",
   "execution_count": 26,
   "outputs": [],
   "source": [
    "df_business_filtered_dropped_merged_dbscan.to_csv(\n",
    "    r'../dataset/df_business_filtered_by_city_dbscan.csv', index=False)"
   ],
   "metadata": {
    "collapsed": false,
    "pycharm": {
     "name": "#%%\n"
    }
   }
  }
 ],
 "metadata": {
  "kernelspec": {
   "display_name": "Python 3",
   "language": "python",
   "name": "python3"
  },
  "language_info": {
   "codemirror_mode": {
    "name": "ipython",
    "version": 2
   },
   "file_extension": ".py",
   "mimetype": "text/x-python",
   "name": "python",
   "nbconvert_exporter": "python",
   "pygments_lexer": "ipython2",
   "version": "2.7.6"
  }
 },
 "nbformat": 4,
 "nbformat_minor": 0
}