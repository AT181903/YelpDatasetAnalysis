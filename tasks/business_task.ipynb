{
 "cells": [
  {
   "cell_type": "markdown",
   "source": [
    "# Task"
   ],
   "metadata": {
    "collapsed": false,
    "pycharm": {
     "name": "#%% md\n"
    }
   }
  },
  {
   "cell_type": "code",
   "execution_count": 83,
   "outputs": [],
   "source": [
    "import pandas as pd\n",
    "from utils import expand_dataset\n",
    "import numpy as np"
   ],
   "metadata": {
    "collapsed": false,
    "pycharm": {
     "name": "#%%\n"
    }
   }
  },
  {
   "cell_type": "code",
   "execution_count": 84,
   "outputs": [],
   "source": [
    "df_business = pd.read_csv('../dataset/df_business_final.csv')"
   ],
   "metadata": {
    "collapsed": false,
    "pycharm": {
     "name": "#%%\n"
    }
   }
  },
  {
   "cell_type": "code",
   "execution_count": 85,
   "outputs": [
    {
     "name": "stdout",
     "output_type": "stream",
     "text": [
      "(150346, 66)\n"
     ]
    },
    {
     "data": {
      "text/plain": "   AcceptsInsurance  BikeParking  BusinessAcceptsBitcoin  \\\n0               0.0          0.0                     0.0   \n1               0.0          0.0                     0.0   \n2               0.0          1.0                     0.0   \n3               0.0          1.0                     0.0   \n4               0.0          1.0                     0.0   \n\n   BusinessAcceptsCreditCards  ByAppointmentOnly  CoatCheck  Corkage  \\\n0                         0.0                1.0        0.0      0.0   \n1                         1.0                0.0        0.0      0.0   \n2                         1.0                0.0        0.0      0.0   \n3                         0.0                0.0        0.0      0.0   \n4                         1.0                0.0        0.0      0.0   \n\n   DogsAllowed  DriveThru  GoodForDancing  ...  stars  state  street  \\\n0          0.0        0.0             0.0  ...    5.0     CA     0.0   \n1          0.0        0.0             0.0  ...    3.0     MO     0.0   \n2          0.0        0.0             0.0  ...    3.5     AZ     0.0   \n3          0.0        0.0             0.0  ...    4.0     PA     1.0   \n4          0.0        0.0             0.0  ...    4.5     PA     0.0   \n\n   touristy  trendy  upscale  valet  vegan  vegetarian  video  \n0       0.0     0.0      0.0    0.0    0.0         0.0    0.0  \n1       0.0     0.0      0.0    0.0    0.0         0.0    0.0  \n2       0.0     0.0      0.0    0.0    0.0         0.0    0.0  \n3       0.0     0.0      0.0    0.0    0.0         0.0    0.0  \n4       0.0     0.0      0.0    0.0    0.0         0.0    0.0  \n\n[5 rows x 66 columns]",
      "text/html": "<div>\n<style scoped>\n    .dataframe tbody tr th:only-of-type {\n        vertical-align: middle;\n    }\n\n    .dataframe tbody tr th {\n        vertical-align: top;\n    }\n\n    .dataframe thead th {\n        text-align: right;\n    }\n</style>\n<table border=\"1\" class=\"dataframe\">\n  <thead>\n    <tr style=\"text-align: right;\">\n      <th></th>\n      <th>AcceptsInsurance</th>\n      <th>BikeParking</th>\n      <th>BusinessAcceptsBitcoin</th>\n      <th>BusinessAcceptsCreditCards</th>\n      <th>ByAppointmentOnly</th>\n      <th>CoatCheck</th>\n      <th>Corkage</th>\n      <th>DogsAllowed</th>\n      <th>DriveThru</th>\n      <th>GoodForDancing</th>\n      <th>...</th>\n      <th>stars</th>\n      <th>state</th>\n      <th>street</th>\n      <th>touristy</th>\n      <th>trendy</th>\n      <th>upscale</th>\n      <th>valet</th>\n      <th>vegan</th>\n      <th>vegetarian</th>\n      <th>video</th>\n    </tr>\n  </thead>\n  <tbody>\n    <tr>\n      <th>0</th>\n      <td>0.0</td>\n      <td>0.0</td>\n      <td>0.0</td>\n      <td>0.0</td>\n      <td>1.0</td>\n      <td>0.0</td>\n      <td>0.0</td>\n      <td>0.0</td>\n      <td>0.0</td>\n      <td>0.0</td>\n      <td>...</td>\n      <td>5.0</td>\n      <td>CA</td>\n      <td>0.0</td>\n      <td>0.0</td>\n      <td>0.0</td>\n      <td>0.0</td>\n      <td>0.0</td>\n      <td>0.0</td>\n      <td>0.0</td>\n      <td>0.0</td>\n    </tr>\n    <tr>\n      <th>1</th>\n      <td>0.0</td>\n      <td>0.0</td>\n      <td>0.0</td>\n      <td>1.0</td>\n      <td>0.0</td>\n      <td>0.0</td>\n      <td>0.0</td>\n      <td>0.0</td>\n      <td>0.0</td>\n      <td>0.0</td>\n      <td>...</td>\n      <td>3.0</td>\n      <td>MO</td>\n      <td>0.0</td>\n      <td>0.0</td>\n      <td>0.0</td>\n      <td>0.0</td>\n      <td>0.0</td>\n      <td>0.0</td>\n      <td>0.0</td>\n      <td>0.0</td>\n    </tr>\n    <tr>\n      <th>2</th>\n      <td>0.0</td>\n      <td>1.0</td>\n      <td>0.0</td>\n      <td>1.0</td>\n      <td>0.0</td>\n      <td>0.0</td>\n      <td>0.0</td>\n      <td>0.0</td>\n      <td>0.0</td>\n      <td>0.0</td>\n      <td>...</td>\n      <td>3.5</td>\n      <td>AZ</td>\n      <td>0.0</td>\n      <td>0.0</td>\n      <td>0.0</td>\n      <td>0.0</td>\n      <td>0.0</td>\n      <td>0.0</td>\n      <td>0.0</td>\n      <td>0.0</td>\n    </tr>\n    <tr>\n      <th>3</th>\n      <td>0.0</td>\n      <td>1.0</td>\n      <td>0.0</td>\n      <td>0.0</td>\n      <td>0.0</td>\n      <td>0.0</td>\n      <td>0.0</td>\n      <td>0.0</td>\n      <td>0.0</td>\n      <td>0.0</td>\n      <td>...</td>\n      <td>4.0</td>\n      <td>PA</td>\n      <td>1.0</td>\n      <td>0.0</td>\n      <td>0.0</td>\n      <td>0.0</td>\n      <td>0.0</td>\n      <td>0.0</td>\n      <td>0.0</td>\n      <td>0.0</td>\n    </tr>\n    <tr>\n      <th>4</th>\n      <td>0.0</td>\n      <td>1.0</td>\n      <td>0.0</td>\n      <td>1.0</td>\n      <td>0.0</td>\n      <td>0.0</td>\n      <td>0.0</td>\n      <td>0.0</td>\n      <td>0.0</td>\n      <td>0.0</td>\n      <td>...</td>\n      <td>4.5</td>\n      <td>PA</td>\n      <td>0.0</td>\n      <td>0.0</td>\n      <td>0.0</td>\n      <td>0.0</td>\n      <td>0.0</td>\n      <td>0.0</td>\n      <td>0.0</td>\n      <td>0.0</td>\n    </tr>\n  </tbody>\n</table>\n<p>5 rows × 66 columns</p>\n</div>"
     },
     "execution_count": 85,
     "metadata": {},
     "output_type": "execute_result"
    }
   ],
   "source": [
    "print(df_business.shape)\n",
    "df_business.head(5)"
   ],
   "metadata": {
    "collapsed": false,
    "pycharm": {
     "name": "#%%\n"
    }
   }
  },
  {
   "cell_type": "code",
   "execution_count": 86,
   "outputs": [
    {
     "name": "stdout",
     "output_type": "stream",
     "text": [
      "(9262, 66)\n"
     ]
    },
    {
     "data": {
      "text/plain": "    AcceptsInsurance  BikeParking  BusinessAcceptsBitcoin  \\\n2                0.0          1.0                     0.0   \n16               0.0          0.0                     0.0   \n45               0.0          0.0                     0.0   \n56               0.0          1.0                     0.0   \n67               0.0          0.0                     0.0   \n\n    BusinessAcceptsCreditCards  ByAppointmentOnly  CoatCheck  Corkage  \\\n2                          1.0                0.0        0.0      0.0   \n16                         1.0                0.0        0.0      0.0   \n45                         1.0                0.0        0.0      0.0   \n56                         1.0                0.0        0.0      0.0   \n67                         0.0                0.0        0.0      0.0   \n\n    DogsAllowed  DriveThru  GoodForDancing  ...  stars  state  street  \\\n2           0.0        0.0             0.0  ...    3.5     AZ     0.0   \n16          0.0        0.0             0.0  ...    4.5     AZ     0.0   \n45          0.0        0.0             0.0  ...    3.0     AZ     0.0   \n56          0.0        0.0             0.0  ...    3.0     AZ     0.0   \n67          0.0        0.0             0.0  ...    4.5     AZ     0.0   \n\n    touristy  trendy  upscale  valet  vegan  vegetarian  video  \n2        0.0     0.0      0.0    0.0    0.0         0.0    0.0  \n16       0.0     0.0      0.0    0.0    0.0         0.0    0.0  \n45       0.0     0.0      0.0    0.0    0.0         0.0    0.0  \n56       0.0     0.0      0.0    0.0    0.0         0.0    0.0  \n67       0.0     0.0      0.0    0.0    0.0         0.0    0.0  \n\n[5 rows x 66 columns]",
      "text/html": "<div>\n<style scoped>\n    .dataframe tbody tr th:only-of-type {\n        vertical-align: middle;\n    }\n\n    .dataframe tbody tr th {\n        vertical-align: top;\n    }\n\n    .dataframe thead th {\n        text-align: right;\n    }\n</style>\n<table border=\"1\" class=\"dataframe\">\n  <thead>\n    <tr style=\"text-align: right;\">\n      <th></th>\n      <th>AcceptsInsurance</th>\n      <th>BikeParking</th>\n      <th>BusinessAcceptsBitcoin</th>\n      <th>BusinessAcceptsCreditCards</th>\n      <th>ByAppointmentOnly</th>\n      <th>CoatCheck</th>\n      <th>Corkage</th>\n      <th>DogsAllowed</th>\n      <th>DriveThru</th>\n      <th>GoodForDancing</th>\n      <th>...</th>\n      <th>stars</th>\n      <th>state</th>\n      <th>street</th>\n      <th>touristy</th>\n      <th>trendy</th>\n      <th>upscale</th>\n      <th>valet</th>\n      <th>vegan</th>\n      <th>vegetarian</th>\n      <th>video</th>\n    </tr>\n  </thead>\n  <tbody>\n    <tr>\n      <th>2</th>\n      <td>0.0</td>\n      <td>1.0</td>\n      <td>0.0</td>\n      <td>1.0</td>\n      <td>0.0</td>\n      <td>0.0</td>\n      <td>0.0</td>\n      <td>0.0</td>\n      <td>0.0</td>\n      <td>0.0</td>\n      <td>...</td>\n      <td>3.5</td>\n      <td>AZ</td>\n      <td>0.0</td>\n      <td>0.0</td>\n      <td>0.0</td>\n      <td>0.0</td>\n      <td>0.0</td>\n      <td>0.0</td>\n      <td>0.0</td>\n      <td>0.0</td>\n    </tr>\n    <tr>\n      <th>16</th>\n      <td>0.0</td>\n      <td>0.0</td>\n      <td>0.0</td>\n      <td>1.0</td>\n      <td>0.0</td>\n      <td>0.0</td>\n      <td>0.0</td>\n      <td>0.0</td>\n      <td>0.0</td>\n      <td>0.0</td>\n      <td>...</td>\n      <td>4.5</td>\n      <td>AZ</td>\n      <td>0.0</td>\n      <td>0.0</td>\n      <td>0.0</td>\n      <td>0.0</td>\n      <td>0.0</td>\n      <td>0.0</td>\n      <td>0.0</td>\n      <td>0.0</td>\n    </tr>\n    <tr>\n      <th>45</th>\n      <td>0.0</td>\n      <td>0.0</td>\n      <td>0.0</td>\n      <td>1.0</td>\n      <td>0.0</td>\n      <td>0.0</td>\n      <td>0.0</td>\n      <td>0.0</td>\n      <td>0.0</td>\n      <td>0.0</td>\n      <td>...</td>\n      <td>3.0</td>\n      <td>AZ</td>\n      <td>0.0</td>\n      <td>0.0</td>\n      <td>0.0</td>\n      <td>0.0</td>\n      <td>0.0</td>\n      <td>0.0</td>\n      <td>0.0</td>\n      <td>0.0</td>\n    </tr>\n    <tr>\n      <th>56</th>\n      <td>0.0</td>\n      <td>1.0</td>\n      <td>0.0</td>\n      <td>1.0</td>\n      <td>0.0</td>\n      <td>0.0</td>\n      <td>0.0</td>\n      <td>0.0</td>\n      <td>0.0</td>\n      <td>0.0</td>\n      <td>...</td>\n      <td>3.0</td>\n      <td>AZ</td>\n      <td>0.0</td>\n      <td>0.0</td>\n      <td>0.0</td>\n      <td>0.0</td>\n      <td>0.0</td>\n      <td>0.0</td>\n      <td>0.0</td>\n      <td>0.0</td>\n    </tr>\n    <tr>\n      <th>67</th>\n      <td>0.0</td>\n      <td>0.0</td>\n      <td>0.0</td>\n      <td>0.0</td>\n      <td>0.0</td>\n      <td>0.0</td>\n      <td>0.0</td>\n      <td>0.0</td>\n      <td>0.0</td>\n      <td>0.0</td>\n      <td>...</td>\n      <td>4.5</td>\n      <td>AZ</td>\n      <td>0.0</td>\n      <td>0.0</td>\n      <td>0.0</td>\n      <td>0.0</td>\n      <td>0.0</td>\n      <td>0.0</td>\n      <td>0.0</td>\n      <td>0.0</td>\n    </tr>\n  </tbody>\n</table>\n<p>5 rows × 66 columns</p>\n</div>"
     },
     "execution_count": 86,
     "metadata": {},
     "output_type": "execute_result"
    }
   ],
   "source": [
    "def filter_by_city(city, df):\n",
    "    return df[df['city'].str.contains(city) == True]\n",
    "\n",
    "\n",
    "df_business_filtered = filter_by_city('Tucson', df_business)\n",
    "\n",
    "print(df_business_filtered.shape)\n",
    "\n",
    "df_business_filtered.head(5)"
   ],
   "metadata": {
    "collapsed": false,
    "pycharm": {
     "name": "#%%\n"
    }
   }
  },
  {
   "cell_type": "markdown",
   "source": [
    "## Drop non number features"
   ],
   "metadata": {
    "collapsed": false,
    "pycharm": {
     "name": "#%% md\n"
    }
   }
  },
  {
   "cell_type": "code",
   "execution_count": 87,
   "outputs": [
    {
     "name": "stderr",
     "output_type": "stream",
     "text": [
      "/var/folders/03/smk9v43n5dz1mcwcgdj4fzz40000gn/T/ipykernel_62050/702393764.py:3: SettingWithCopyWarning: \n",
      "A value is trying to be set on a copy of a slice from a DataFrame\n",
      "\n",
      "See the caveats in the documentation: https://pandas.pydata.org/pandas-docs/stable/user_guide/indexing.html#returning-a-view-versus-a-copy\n",
      "  df_business_filtered.drop(to_drop, axis=1, inplace=True)\n"
     ]
    }
   ],
   "source": [
    "to_drop = ['business_id', 'address', 'categories', 'city', 'latitude', 'longitude', 'name', 'state', 'postal_code']\n",
    "\n",
    "df_business_filtered.drop(to_drop, axis=1, inplace=True)"
   ],
   "metadata": {
    "collapsed": false,
    "pycharm": {
     "name": "#%%\n"
    }
   }
  },
  {
   "cell_type": "markdown",
   "source": [
    "# Utils (duplicated from user_task)\n"
   ],
   "metadata": {
    "collapsed": false,
    "pycharm": {
     "name": "#%% md\n"
    }
   }
  },
  {
   "cell_type": "code",
   "execution_count": 88,
   "outputs": [],
   "source": [
    "from itertools import combinations\n",
    "\n",
    "import pandas as pd\n",
    "from matplotlib import pyplot as plt\n",
    "from sklearn.cluster import KMeans\n",
    "from sklearn.cluster import DBSCAN\n",
    "from sklearn.metrics import silhouette_score, calinski_harabasz_score, davies_bouldin_score\n",
    "\n",
    "\n",
    "def score_plot_and_get_best(data_frame, algorithm, number_of_tests):\n",
    "    if algorithm == \"kmeans\":\n",
    "        parameter_to_detect = \"n_clusters\"\n",
    "    else:\n",
    "        parameter_to_detect = \"eps\"\n",
    "\n",
    "    # fitted_kmeans = {}\n",
    "    labels = {}\n",
    "    df_scores = []\n",
    "    inertias_for_kmeans = []\n",
    "\n",
    "    for i in number_of_tests:\n",
    "        if algorithm == \"kmeans\":\n",
    "            model = KMeans(n_clusters=i)\n",
    "        else:\n",
    "            model = DBSCAN(eps=i, min_samples=10)\n",
    "\n",
    "        i_labels = model.fit_predict(data_frame)\n",
    "\n",
    "        if algorithm == \"kmeans\":\n",
    "            inertias_for_kmeans.append(model.inertia_)\n",
    "\n",
    "        # Insert fitted model and calculated cluster labels in dictionaries, for further reference.\n",
    "        # fitted_kmeans[i] = kmeans\n",
    "        labels[i] = i_labels\n",
    "\n",
    "        # Calculate various scores, and save them for further reference.\n",
    "        df_scores.append({\n",
    "            parameter_to_detect: i,\n",
    "            \"silhouette_score\": silhouette_score(data_frame, i_labels),\n",
    "            \"calinski_harabasz_score\": calinski_harabasz_score(data_frame, i_labels),\n",
    "            \"davies_bouldin_score\": davies_bouldin_score(data_frame, i_labels),\n",
    "        })\n",
    "\n",
    "    # Create a DataFrame of clustering scores, using `n_clusters` as index, for easier plotting.\n",
    "    df_scores = pd.DataFrame(df_scores)\n",
    "    df_scores.set_index(parameter_to_detect, inplace=True)\n",
    "\n",
    "    print(df_scores)\n",
    "\n",
    "    if algorithm == \"kmeans\":\n",
    "        # Plot inertias\n",
    "        plt.plot(number_of_tests, inertias_for_kmeans, 'bx-')\n",
    "        plt.title('Inertias')\n",
    "        plt.xlabel('Number of clusters')\n",
    "        plt.ylabel('WCSS')\n",
    "\n",
    "    best_scores_list = [\n",
    "        df_scores[\"silhouette_score\"].idxmax(),\n",
    "        df_scores[\"calinski_harabasz_score\"].idxmax(),\n",
    "        df_scores[\"davies_bouldin_score\"].idxmin()\n",
    "    ]\n",
    "\n",
    "    best_parameter = max(set(best_scores_list), key=best_scores_list.count)\n",
    "\n",
    "    print(\"Best \" + parameter_to_detect + \": \", best_parameter)\n",
    "\n",
    "    return labels.get(best_parameter)\n",
    "\n",
    "\n",
    "def add_new_column(algorithm, df_new_column, initial_data_frame):\n",
    "    if algorithm == 'kmeans':\n",
    "        df_new_column = pd.DataFrame({'cluster': df_new_column})\n",
    "    else:\n",
    "        df_new_column = pd.DataFrame({'eps': df_new_column})\n",
    "\n",
    "    initial_data_frame = pd.concat([initial_data_frame, df_new_column], axis=1)\n",
    "\n",
    "    initial_data_frame.head(50)\n",
    "\n",
    "    return initial_data_frame\n",
    "\n",
    "\n",
    "def plot_clusters(algorithm, data_frame, num_row, num_col, fig_width, fig_height):\n",
    "    if algorithm == 'kmeans':\n",
    "        c_column = 'cluster'\n",
    "    else:\n",
    "        c_column = 'eps'\n",
    "\n",
    "    every_combinations = list(combinations(data_frame.drop(columns=c_column).columns, 2))\n",
    "\n",
    "    figure, axis = plt.subplots(num_row, num_col, figsize=(fig_width, fig_height))\n",
    "\n",
    "    next_row = 0\n",
    "    next_column = 0\n",
    "\n",
    "    for combination in every_combinations:\n",
    "        first_feature = combination[0]\n",
    "        second_feature = combination[1]\n",
    "\n",
    "        axis[next_row, next_column].scatter(\n",
    "            data_frame[first_feature],\n",
    "            data_frame[second_feature],\n",
    "            c=data_frame[c_column],\n",
    "            cmap='rainbow'\n",
    "        )\n",
    "\n",
    "        axis[next_row, next_column].set_title(first_feature + \" and \" + second_feature)\n",
    "\n",
    "        if next_column == (num_col - 1):\n",
    "            next_row = next_row + 1\n",
    "            next_column = 0\n",
    "        else:\n",
    "            next_column = next_column + 1"
   ],
   "metadata": {
    "collapsed": false,
    "pycharm": {
     "name": "#%%\n"
    }
   }
  },
  {
   "cell_type": "markdown",
   "source": [
    "# K-Means"
   ],
   "metadata": {
    "collapsed": false,
    "pycharm": {
     "name": "#%% md\n"
    }
   }
  },
  {
   "cell_type": "code",
   "execution_count": 89,
   "outputs": [],
   "source": [
    "from sklearn.cluster import KMeans\n",
    "from sklearn.metrics import silhouette_score, calinski_harabasz_score, davies_bouldin_score"
   ],
   "metadata": {
    "collapsed": false,
    "pycharm": {
     "name": "#%%\n"
    }
   }
  },
  {
   "cell_type": "code",
   "execution_count": 90,
   "outputs": [],
   "source": [
    "df_business_filtered_kmeans = df_business_filtered.copy()"
   ],
   "metadata": {
    "collapsed": false,
    "pycharm": {
     "name": "#%%\n"
    }
   }
  },
  {
   "cell_type": "code",
   "execution_count": 97,
   "outputs": [
    {
     "name": "stdout",
     "output_type": "stream",
     "text": [
      "            silhouette_score  calinski_harabasz_score  davies_bouldin_score\n",
      "n_clusters                                                                 \n",
      "2                   0.885914             14487.306274              0.461312\n",
      "3                   0.830901             16650.392603              0.522023\n",
      "4                   0.801869             20305.621146              0.499421\n",
      "5                   0.764247             23828.335693              0.499425\n",
      "6                   0.733286             29061.894227              0.487798\n",
      "7                   0.678362             32001.073471              0.503381\n",
      "8                   0.668410             35688.589829              0.512792\n",
      "9                   0.642700             39457.297681              0.457221\n",
      "10                  0.642734             44586.539392              0.459848\n",
      "11                  0.622121             48731.360129              0.465793\n",
      "12                  0.609599             54572.341200              0.465457\n",
      "13                  0.587869             58832.356750              0.470463\n",
      "14                  0.582061             64731.516079              0.481613\n",
      "15                  0.587291             68411.218522              0.488195\n",
      "16                  0.550280             72577.162522              0.455631\n",
      "17                  0.527065             76920.434778              0.469594\n",
      "18                  0.480253             80047.776955              0.498212\n",
      "19                  0.514479             85153.094982              0.485333\n",
      "Best n_clusters:  16\n"
     ]
    },
    {
     "data": {
      "text/plain": "<Figure size 432x288 with 1 Axes>",
      "image/png": "[encoded data removed]"
     },
     "metadata": {
      "needs_background": "light"
     },
     "output_type": "display_data"
    }
   ],
   "source": [
    "df_cluster_kmeans = score_plot_and_get_best(df_business_filtered_kmeans, \"kmeans\", np.arange(2, 20))"
   ],
   "metadata": {
    "collapsed": false,
    "pycharm": {
     "name": "#%%\n"
    }
   }
  },
  {
   "cell_type": "code",
   "execution_count": 98,
   "outputs": [],
   "source": [
    "df_business_merged_filtered_kmeans = add_new_column('kmeans', df_cluster_kmeans, df_business_filtered_kmeans)"
   ],
   "metadata": {
    "collapsed": false,
    "pycharm": {
     "name": "#%%\n"
    }
   }
  },
  {
   "cell_type": "code",
   "execution_count": 100,
   "outputs": [
    {
     "ename": "IndexError",
     "evalue": "index 2 is out of bounds for axis 0 with size 2",
     "output_type": "error",
     "traceback": [
      "\u001B[0;31m---------------------------------------------------------------------------\u001B[0m",
      "\u001B[0;31mIndexError\u001B[0m                                Traceback (most recent call last)",
      "Input \u001B[0;32mIn [100]\u001B[0m, in \u001B[0;36m<cell line: 1>\u001B[0;34m()\u001B[0m\n\u001B[0;32m----> 1\u001B[0m \u001B[43mplot_clusters\u001B[49m\u001B[43m(\u001B[49m\u001B[38;5;124;43m'\u001B[39;49m\u001B[38;5;124;43mkmeans\u001B[39;49m\u001B[38;5;124;43m'\u001B[39;49m\u001B[43m,\u001B[49m\u001B[43m \u001B[49m\u001B[43mdf_business_merged_filtered_kmeans\u001B[49m\u001B[43m,\u001B[49m\u001B[43m \u001B[49m\u001B[38;5;241;43m2\u001B[39;49m\u001B[43m,\u001B[49m\u001B[43m \u001B[49m\u001B[38;5;241;43m5\u001B[39;49m\u001B[43m,\u001B[49m\u001B[43m \u001B[49m\u001B[38;5;241;43m30\u001B[39;49m\u001B[43m,\u001B[49m\u001B[43m \u001B[49m\u001B[38;5;241;43m15\u001B[39;49m\u001B[43m)\u001B[49m\n",
      "Input \u001B[0;32mIn [88]\u001B[0m, in \u001B[0;36mplot_clusters\u001B[0;34m(algorithm, data_frame, num_row, num_col, fig_width, fig_height)\u001B[0m\n\u001B[1;32m     97\u001B[0m first_feature \u001B[38;5;241m=\u001B[39m combination[\u001B[38;5;241m0\u001B[39m]\n\u001B[1;32m     98\u001B[0m second_feature \u001B[38;5;241m=\u001B[39m combination[\u001B[38;5;241m1\u001B[39m]\n\u001B[0;32m--> 100\u001B[0m \u001B[43maxis\u001B[49m\u001B[43m[\u001B[49m\u001B[43mnext_row\u001B[49m\u001B[43m,\u001B[49m\u001B[43m \u001B[49m\u001B[43mnext_column\u001B[49m\u001B[43m]\u001B[49m\u001B[38;5;241m.\u001B[39mscatter(\n\u001B[1;32m    101\u001B[0m     data_frame[first_feature],\n\u001B[1;32m    102\u001B[0m     data_frame[second_feature],\n\u001B[1;32m    103\u001B[0m     c\u001B[38;5;241m=\u001B[39mdata_frame[c_column],\n\u001B[1;32m    104\u001B[0m     cmap\u001B[38;5;241m=\u001B[39m\u001B[38;5;124m'\u001B[39m\u001B[38;5;124mrainbow\u001B[39m\u001B[38;5;124m'\u001B[39m\n\u001B[1;32m    105\u001B[0m )\n\u001B[1;32m    107\u001B[0m axis[next_row, next_column]\u001B[38;5;241m.\u001B[39mset_title(first_feature \u001B[38;5;241m+\u001B[39m \u001B[38;5;124m\"\u001B[39m\u001B[38;5;124m and \u001B[39m\u001B[38;5;124m\"\u001B[39m \u001B[38;5;241m+\u001B[39m second_feature)\n\u001B[1;32m    109\u001B[0m \u001B[38;5;28;01mif\u001B[39;00m next_column \u001B[38;5;241m==\u001B[39m (num_col \u001B[38;5;241m-\u001B[39m \u001B[38;5;241m1\u001B[39m):\n",
      "\u001B[0;31mIndexError\u001B[0m: index 2 is out of bounds for axis 0 with size 2"
     ]
    },
    {
     "data": {
      "text/plain": "<Figure size 2160x1080 with 10 Axes>",
      "image/png": "[encoded data removed]"
     },
     "metadata": {
      "needs_background": "light"
     },
     "output_type": "display_data"
    }
   ],
   "source": [
    "plot_clusters('kmeans', df_business_merged_filtered_kmeans, 2, 5, 30, 15)"
   ],
   "metadata": {
    "collapsed": false,
    "pycharm": {
     "name": "#%%\n"
    }
   }
  },
  {
   "cell_type": "code",
   "execution_count": null,
   "outputs": [],
   "source": [],
   "metadata": {
    "collapsed": false,
    "pycharm": {
     "name": "#%%\n"
    }
   }
  }
 ],
 "metadata": {
  "kernelspec": {
   "display_name": "Python 3",
   "language": "python",
   "name": "python3"
  },
  "language_info": {
   "codemirror_mode": {
    "name": "ipython",
    "version": 2
   },
   "file_extension": ".py",
   "mimetype": "text/x-python",
   "name": "python",
   "nbconvert_exporter": "python",
   "pygments_lexer": "ipython2",
   "version": "2.7.6"
  }
 },
 "nbformat": 4,
 "nbformat_minor": 0
}