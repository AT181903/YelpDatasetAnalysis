{
 "cells": [
  {
   "cell_type": "markdown",
   "source": [
    "# Task"
   ],
   "metadata": {
    "collapsed": false,
    "pycharm": {
     "name": "#%% md\n"
    }
   }
  },
  {
   "cell_type": "code",
   "execution_count": 146,
   "outputs": [],
   "source": [
    "import pandas as pd\n",
    "from utils import expand_dataset\n",
    "import numpy as np"
   ],
   "metadata": {
    "collapsed": false,
    "pycharm": {
     "name": "#%%\n"
    }
   }
  },
  {
   "cell_type": "code",
   "execution_count": 147,
   "outputs": [],
   "source": [
    "df_business = pd.read_csv('../dataset/df_business_final.csv')"
   ],
   "metadata": {
    "collapsed": false,
    "pycharm": {
     "name": "#%%\n"
    }
   }
  },
  {
   "cell_type": "code",
   "execution_count": 148,
   "outputs": [
    {
     "name": "stdout",
     "output_type": "stream",
     "text": [
      "(150346, 66)\n"
     ]
    },
    {
     "data": {
      "text/plain": "   AcceptsInsurance  BikeParking  BusinessAcceptsBitcoin  \\\n0               0.0          0.0                     0.0   \n1               0.0          0.0                     0.0   \n2               0.0          1.0                     0.0   \n3               0.0          1.0                     0.0   \n4               0.0          1.0                     0.0   \n\n   BusinessAcceptsCreditCards  ByAppointmentOnly  CoatCheck  Corkage  \\\n0                         0.0                1.0        0.0      0.0   \n1                         1.0                0.0        0.0      0.0   \n2                         1.0                0.0        0.0      0.0   \n3                         0.0                0.0        0.0      0.0   \n4                         1.0                0.0        0.0      0.0   \n\n   DogsAllowed  DriveThru  GoodForDancing  ...  stars  state  street  \\\n0          0.0        0.0             0.0  ...    5.0     CA     0.0   \n1          0.0        0.0             0.0  ...    3.0     MO     0.0   \n2          0.0        0.0             0.0  ...    3.5     AZ     0.0   \n3          0.0        0.0             0.0  ...    4.0     PA     1.0   \n4          0.0        0.0             0.0  ...    4.5     PA     0.0   \n\n   touristy  trendy  upscale  valet  vegan  vegetarian  video  \n0       0.0     0.0      0.0    0.0    0.0         0.0    0.0  \n1       0.0     0.0      0.0    0.0    0.0         0.0    0.0  \n2       0.0     0.0      0.0    0.0    0.0         0.0    0.0  \n3       0.0     0.0      0.0    0.0    0.0         0.0    0.0  \n4       0.0     0.0      0.0    0.0    0.0         0.0    0.0  \n\n[5 rows x 66 columns]",
      "text/html": "<div>\n<style scoped>\n    .dataframe tbody tr th:only-of-type {\n        vertical-align: middle;\n    }\n\n    .dataframe tbody tr th {\n        vertical-align: top;\n    }\n\n    .dataframe thead th {\n        text-align: right;\n    }\n</style>\n<table border=\"1\" class=\"dataframe\">\n  <thead>\n    <tr style=\"text-align: right;\">\n      <th></th>\n      <th>AcceptsInsurance</th>\n      <th>BikeParking</th>\n      <th>BusinessAcceptsBitcoin</th>\n      <th>BusinessAcceptsCreditCards</th>\n      <th>ByAppointmentOnly</th>\n      <th>CoatCheck</th>\n      <th>Corkage</th>\n      <th>DogsAllowed</th>\n      <th>DriveThru</th>\n      <th>GoodForDancing</th>\n      <th>...</th>\n      <th>stars</th>\n      <th>state</th>\n      <th>street</th>\n      <th>touristy</th>\n      <th>trendy</th>\n      <th>upscale</th>\n      <th>valet</th>\n      <th>vegan</th>\n      <th>vegetarian</th>\n      <th>video</th>\n    </tr>\n  </thead>\n  <tbody>\n    <tr>\n      <th>0</th>\n      <td>0.0</td>\n      <td>0.0</td>\n      <td>0.0</td>\n      <td>0.0</td>\n      <td>1.0</td>\n      <td>0.0</td>\n      <td>0.0</td>\n      <td>0.0</td>\n      <td>0.0</td>\n      <td>0.0</td>\n      <td>...</td>\n      <td>5.0</td>\n      <td>CA</td>\n      <td>0.0</td>\n      <td>0.0</td>\n      <td>0.0</td>\n      <td>0.0</td>\n      <td>0.0</td>\n      <td>0.0</td>\n      <td>0.0</td>\n      <td>0.0</td>\n    </tr>\n    <tr>\n      <th>1</th>\n      <td>0.0</td>\n      <td>0.0</td>\n      <td>0.0</td>\n      <td>1.0</td>\n      <td>0.0</td>\n      <td>0.0</td>\n      <td>0.0</td>\n      <td>0.0</td>\n      <td>0.0</td>\n      <td>0.0</td>\n      <td>...</td>\n      <td>3.0</td>\n      <td>MO</td>\n      <td>0.0</td>\n      <td>0.0</td>\n      <td>0.0</td>\n      <td>0.0</td>\n      <td>0.0</td>\n      <td>0.0</td>\n      <td>0.0</td>\n      <td>0.0</td>\n    </tr>\n    <tr>\n      <th>2</th>\n      <td>0.0</td>\n      <td>1.0</td>\n      <td>0.0</td>\n      <td>1.0</td>\n      <td>0.0</td>\n      <td>0.0</td>\n      <td>0.0</td>\n      <td>0.0</td>\n      <td>0.0</td>\n      <td>0.0</td>\n      <td>...</td>\n      <td>3.5</td>\n      <td>AZ</td>\n      <td>0.0</td>\n      <td>0.0</td>\n      <td>0.0</td>\n      <td>0.0</td>\n      <td>0.0</td>\n      <td>0.0</td>\n      <td>0.0</td>\n      <td>0.0</td>\n    </tr>\n    <tr>\n      <th>3</th>\n      <td>0.0</td>\n      <td>1.0</td>\n      <td>0.0</td>\n      <td>0.0</td>\n      <td>0.0</td>\n      <td>0.0</td>\n      <td>0.0</td>\n      <td>0.0</td>\n      <td>0.0</td>\n      <td>0.0</td>\n      <td>...</td>\n      <td>4.0</td>\n      <td>PA</td>\n      <td>1.0</td>\n      <td>0.0</td>\n      <td>0.0</td>\n      <td>0.0</td>\n      <td>0.0</td>\n      <td>0.0</td>\n      <td>0.0</td>\n      <td>0.0</td>\n    </tr>\n    <tr>\n      <th>4</th>\n      <td>0.0</td>\n      <td>1.0</td>\n      <td>0.0</td>\n      <td>1.0</td>\n      <td>0.0</td>\n      <td>0.0</td>\n      <td>0.0</td>\n      <td>0.0</td>\n      <td>0.0</td>\n      <td>0.0</td>\n      <td>...</td>\n      <td>4.5</td>\n      <td>PA</td>\n      <td>0.0</td>\n      <td>0.0</td>\n      <td>0.0</td>\n      <td>0.0</td>\n      <td>0.0</td>\n      <td>0.0</td>\n      <td>0.0</td>\n      <td>0.0</td>\n    </tr>\n  </tbody>\n</table>\n<p>5 rows × 66 columns</p>\n</div>"
     },
     "execution_count": 148,
     "metadata": {},
     "output_type": "execute_result"
    }
   ],
   "source": [
    "print(df_business.shape)\n",
    "df_business.head(5)"
   ],
   "metadata": {
    "collapsed": false,
    "pycharm": {
     "name": "#%%\n"
    }
   }
  },
  {
   "cell_type": "code",
   "execution_count": 149,
   "outputs": [],
   "source": [
    "def filter_by_city(city, df):\n",
    "    return df[df['city'].str.contains(city) == True]\n",
    "\n",
    "\n",
    "df_business_filtered = filter_by_city('Tucson', df_business)"
   ],
   "metadata": {
    "collapsed": false,
    "pycharm": {
     "name": "#%%\n"
    }
   }
  },
  {
   "cell_type": "code",
   "execution_count": 150,
   "outputs": [
    {
     "name": "stdout",
     "output_type": "stream",
     "text": [
      "(9262, 66)\n"
     ]
    },
    {
     "data": {
      "text/plain": "    AcceptsInsurance  BikeParking  BusinessAcceptsBitcoin  \\\n2                0.0          1.0                     0.0   \n16               0.0          0.0                     0.0   \n45               0.0          0.0                     0.0   \n56               0.0          1.0                     0.0   \n67               0.0          0.0                     0.0   \n\n    BusinessAcceptsCreditCards  ByAppointmentOnly  CoatCheck  Corkage  \\\n2                          1.0                0.0        0.0      0.0   \n16                         1.0                0.0        0.0      0.0   \n45                         1.0                0.0        0.0      0.0   \n56                         1.0                0.0        0.0      0.0   \n67                         0.0                0.0        0.0      0.0   \n\n    DogsAllowed  DriveThru  GoodForDancing  ...  stars  state  street  \\\n2           0.0        0.0             0.0  ...    3.5     AZ     0.0   \n16          0.0        0.0             0.0  ...    4.5     AZ     0.0   \n45          0.0        0.0             0.0  ...    3.0     AZ     0.0   \n56          0.0        0.0             0.0  ...    3.0     AZ     0.0   \n67          0.0        0.0             0.0  ...    4.5     AZ     0.0   \n\n    touristy  trendy  upscale  valet  vegan  vegetarian  video  \n2        0.0     0.0      0.0    0.0    0.0         0.0    0.0  \n16       0.0     0.0      0.0    0.0    0.0         0.0    0.0  \n45       0.0     0.0      0.0    0.0    0.0         0.0    0.0  \n56       0.0     0.0      0.0    0.0    0.0         0.0    0.0  \n67       0.0     0.0      0.0    0.0    0.0         0.0    0.0  \n\n[5 rows x 66 columns]",
      "text/html": "<div>\n<style scoped>\n    .dataframe tbody tr th:only-of-type {\n        vertical-align: middle;\n    }\n\n    .dataframe tbody tr th {\n        vertical-align: top;\n    }\n\n    .dataframe thead th {\n        text-align: right;\n    }\n</style>\n<table border=\"1\" class=\"dataframe\">\n  <thead>\n    <tr style=\"text-align: right;\">\n      <th></th>\n      <th>AcceptsInsurance</th>\n      <th>BikeParking</th>\n      <th>BusinessAcceptsBitcoin</th>\n      <th>BusinessAcceptsCreditCards</th>\n      <th>ByAppointmentOnly</th>\n      <th>CoatCheck</th>\n      <th>Corkage</th>\n      <th>DogsAllowed</th>\n      <th>DriveThru</th>\n      <th>GoodForDancing</th>\n      <th>...</th>\n      <th>stars</th>\n      <th>state</th>\n      <th>street</th>\n      <th>touristy</th>\n      <th>trendy</th>\n      <th>upscale</th>\n      <th>valet</th>\n      <th>vegan</th>\n      <th>vegetarian</th>\n      <th>video</th>\n    </tr>\n  </thead>\n  <tbody>\n    <tr>\n      <th>2</th>\n      <td>0.0</td>\n      <td>1.0</td>\n      <td>0.0</td>\n      <td>1.0</td>\n      <td>0.0</td>\n      <td>0.0</td>\n      <td>0.0</td>\n      <td>0.0</td>\n      <td>0.0</td>\n      <td>0.0</td>\n      <td>...</td>\n      <td>3.5</td>\n      <td>AZ</td>\n      <td>0.0</td>\n      <td>0.0</td>\n      <td>0.0</td>\n      <td>0.0</td>\n      <td>0.0</td>\n      <td>0.0</td>\n      <td>0.0</td>\n      <td>0.0</td>\n    </tr>\n    <tr>\n      <th>16</th>\n      <td>0.0</td>\n      <td>0.0</td>\n      <td>0.0</td>\n      <td>1.0</td>\n      <td>0.0</td>\n      <td>0.0</td>\n      <td>0.0</td>\n      <td>0.0</td>\n      <td>0.0</td>\n      <td>0.0</td>\n      <td>...</td>\n      <td>4.5</td>\n      <td>AZ</td>\n      <td>0.0</td>\n      <td>0.0</td>\n      <td>0.0</td>\n      <td>0.0</td>\n      <td>0.0</td>\n      <td>0.0</td>\n      <td>0.0</td>\n      <td>0.0</td>\n    </tr>\n    <tr>\n      <th>45</th>\n      <td>0.0</td>\n      <td>0.0</td>\n      <td>0.0</td>\n      <td>1.0</td>\n      <td>0.0</td>\n      <td>0.0</td>\n      <td>0.0</td>\n      <td>0.0</td>\n      <td>0.0</td>\n      <td>0.0</td>\n      <td>...</td>\n      <td>3.0</td>\n      <td>AZ</td>\n      <td>0.0</td>\n      <td>0.0</td>\n      <td>0.0</td>\n      <td>0.0</td>\n      <td>0.0</td>\n      <td>0.0</td>\n      <td>0.0</td>\n      <td>0.0</td>\n    </tr>\n    <tr>\n      <th>56</th>\n      <td>0.0</td>\n      <td>1.0</td>\n      <td>0.0</td>\n      <td>1.0</td>\n      <td>0.0</td>\n      <td>0.0</td>\n      <td>0.0</td>\n      <td>0.0</td>\n      <td>0.0</td>\n      <td>0.0</td>\n      <td>...</td>\n      <td>3.0</td>\n      <td>AZ</td>\n      <td>0.0</td>\n      <td>0.0</td>\n      <td>0.0</td>\n      <td>0.0</td>\n      <td>0.0</td>\n      <td>0.0</td>\n      <td>0.0</td>\n      <td>0.0</td>\n    </tr>\n    <tr>\n      <th>67</th>\n      <td>0.0</td>\n      <td>0.0</td>\n      <td>0.0</td>\n      <td>0.0</td>\n      <td>0.0</td>\n      <td>0.0</td>\n      <td>0.0</td>\n      <td>0.0</td>\n      <td>0.0</td>\n      <td>0.0</td>\n      <td>...</td>\n      <td>4.5</td>\n      <td>AZ</td>\n      <td>0.0</td>\n      <td>0.0</td>\n      <td>0.0</td>\n      <td>0.0</td>\n      <td>0.0</td>\n      <td>0.0</td>\n      <td>0.0</td>\n      <td>0.0</td>\n    </tr>\n  </tbody>\n</table>\n<p>5 rows × 66 columns</p>\n</div>"
     },
     "execution_count": 150,
     "metadata": {},
     "output_type": "execute_result"
    }
   ],
   "source": [
    "print(df_business_filtered.shape)\n",
    "\n",
    "df_business_filtered.head(5)"
   ],
   "metadata": {
    "collapsed": false,
    "pycharm": {
     "name": "#%%\n"
    }
   }
  },
  {
   "cell_type": "markdown",
   "source": [
    "## Drop non number features"
   ],
   "metadata": {
    "collapsed": false,
    "pycharm": {
     "name": "#%% md\n"
    }
   }
  },
  {
   "cell_type": "code",
   "execution_count": 151,
   "outputs": [],
   "source": [
    "to_drop = ['business_id', 'address', 'categories', 'city', 'latitude', 'longitude', 'name', 'state', 'postal_code']\n",
    "\n",
    "df_business_filtered_dropped = df_business_filtered.drop(to_drop, axis=1)"
   ],
   "metadata": {
    "collapsed": false,
    "pycharm": {
     "name": "#%%\n"
    }
   }
  },
  {
   "cell_type": "code",
   "execution_count": 152,
   "outputs": [
    {
     "data": {
      "text/plain": "(9262, 57)"
     },
     "execution_count": 152,
     "metadata": {},
     "output_type": "execute_result"
    }
   ],
   "source": [
    "df_business_filtered_dropped.shape"
   ],
   "metadata": {
    "collapsed": false,
    "pycharm": {
     "name": "#%%\n"
    }
   }
  },
  {
   "cell_type": "code",
   "execution_count": 153,
   "outputs": [
    {
     "data": {
      "text/plain": "(9262, 66)"
     },
     "execution_count": 153,
     "metadata": {},
     "output_type": "execute_result"
    }
   ],
   "source": [
    "df_business_filtered.shape"
   ],
   "metadata": {
    "collapsed": false,
    "pycharm": {
     "name": "#%%\n"
    }
   }
  },
  {
   "cell_type": "markdown",
   "source": [
    "# Utils (duplicated from user_task)\n"
   ],
   "metadata": {
    "collapsed": false,
    "pycharm": {
     "name": "#%% md\n"
    }
   }
  },
  {
   "cell_type": "code",
   "execution_count": 154,
   "outputs": [],
   "source": [
    "from itertools import combinations\n",
    "\n",
    "import pandas as pd\n",
    "from matplotlib import pyplot as plt\n",
    "from sklearn.cluster import KMeans\n",
    "from sklearn.cluster import DBSCAN\n",
    "from sklearn.metrics import silhouette_score, calinski_harabasz_score, davies_bouldin_score\n",
    "\n",
    "\n",
    "def score_plot_and_get_best(data_frame, algorithm, number_of_tests):\n",
    "    if algorithm == \"kmeans\":\n",
    "        parameter_to_detect = \"n_clusters\"\n",
    "    else:\n",
    "        parameter_to_detect = \"eps\"\n",
    "\n",
    "    # fitted_kmeans = {}\n",
    "    labels = {}\n",
    "    df_scores = []\n",
    "    inertias_for_kmeans = []\n",
    "\n",
    "    for i in number_of_tests:\n",
    "        if algorithm == \"kmeans\":\n",
    "            model = KMeans(n_clusters=i)\n",
    "        else:\n",
    "            model = DBSCAN(eps=i, min_samples=10)\n",
    "\n",
    "        i_labels = model.fit_predict(data_frame)\n",
    "\n",
    "        if algorithm == \"kmeans\":\n",
    "            inertias_for_kmeans.append(model.inertia_)\n",
    "\n",
    "        # Insert fitted model and calculated cluster labels in dictionaries, for further reference.\n",
    "        # fitted_kmeans[i] = kmeans\n",
    "        labels[i] = i_labels\n",
    "\n",
    "        # Calculate various scores, and save them for further reference.\n",
    "        df_scores.append({\n",
    "            parameter_to_detect: i,\n",
    "            \"silhouette_score\": silhouette_score(data_frame, i_labels),\n",
    "            \"calinski_harabasz_score\": calinski_harabasz_score(data_frame, i_labels),\n",
    "            \"davies_bouldin_score\": davies_bouldin_score(data_frame, i_labels),\n",
    "        })\n",
    "\n",
    "    # Create a DataFrame of clustering scores, using `n_clusters` as index, for easier plotting.\n",
    "    df_scores = pd.DataFrame(df_scores)\n",
    "    df_scores.set_index(parameter_to_detect, inplace=True)\n",
    "\n",
    "    print(df_scores)\n",
    "\n",
    "    if algorithm == \"kmeans\":\n",
    "        # Plot inertias\n",
    "        plt.plot(number_of_tests, inertias_for_kmeans, 'bx-')\n",
    "        plt.title('Inertias')\n",
    "        plt.xlabel('Number of clusters')\n",
    "        plt.ylabel('WCSS')\n",
    "\n",
    "    best_scores_list = [\n",
    "        df_scores[\"silhouette_score\"].idxmax(),\n",
    "        df_scores[\"calinski_harabasz_score\"].idxmax(),\n",
    "        df_scores[\"davies_bouldin_score\"].idxmin()\n",
    "    ]\n",
    "\n",
    "    best_parameter = max(set(best_scores_list), key=best_scores_list.count)\n",
    "\n",
    "    print(\"Best \" + parameter_to_detect + \": \", best_parameter)\n",
    "\n",
    "    return labels.get(best_parameter)\n",
    "\n",
    "\n",
    "def plot_clusters(algorithm, data_frame, num_row, num_col, fig_width, fig_height):\n",
    "    if algorithm == 'kmeans':\n",
    "        c_column = 'cluster'\n",
    "    else:\n",
    "        c_column = 'eps'\n",
    "\n",
    "    every_combinations = list(combinations(data_frame.drop(columns=c_column).columns, 2))\n",
    "\n",
    "    figure, axis = plt.subplots(num_row, num_col, figsize=(fig_width, fig_height))\n",
    "\n",
    "    next_row = 0\n",
    "    next_column = 0\n",
    "\n",
    "    for combination in every_combinations:\n",
    "        first_feature = combination[0]\n",
    "        second_feature = combination[1]\n",
    "\n",
    "        axis[next_row, next_column].scatter(\n",
    "            data_frame[first_feature],\n",
    "            data_frame[second_feature],\n",
    "            c=data_frame[c_column],\n",
    "            cmap='rainbow'\n",
    "        )\n",
    "\n",
    "        axis[next_row, next_column].set_title(first_feature + \" and \" + second_feature)\n",
    "\n",
    "        if next_column == (num_col - 1):\n",
    "            next_row = next_row + 1\n",
    "            next_column = 0\n",
    "        else:\n",
    "            next_column = next_column + 1\n",
    "\n",
    "\n",
    "def add_new_column(algorithm, df_new_column, initial_data_frame):\n",
    "    if algorithm == 'kmeans':\n",
    "        df_new_column = pd.DataFrame({'cluster': df_new_column})\n",
    "    else:\n",
    "        df_new_column = pd.DataFrame({'eps': df_new_column})\n",
    "\n",
    "    # df_new_column.reset_index()\n",
    "    # initial_data_frame.reset_index()\n",
    "    return pd.concat([initial_data_frame.reset_index(drop=True), df_new_column.reset_index(drop=True)], axis=1)"
   ],
   "metadata": {
    "collapsed": false,
    "pycharm": {
     "name": "#%%\n"
    }
   }
  },
  {
   "cell_type": "markdown",
   "source": [
    "# K-Means"
   ],
   "metadata": {
    "collapsed": false,
    "pycharm": {
     "name": "#%% md\n"
    }
   }
  },
  {
   "cell_type": "code",
   "execution_count": 155,
   "outputs": [],
   "source": [
    "from sklearn.cluster import KMeans\n",
    "from sklearn.metrics import silhouette_score, calinski_harabasz_score, davies_bouldin_score"
   ],
   "metadata": {
    "collapsed": false,
    "pycharm": {
     "name": "#%%\n"
    }
   }
  },
  {
   "cell_type": "code",
   "execution_count": 156,
   "outputs": [
    {
     "data": {
      "text/plain": "(9262, 57)"
     },
     "execution_count": 156,
     "metadata": {},
     "output_type": "execute_result"
    }
   ],
   "source": [
    "df_business_dropped_kmeans = df_business_filtered_dropped.copy()\n",
    "df_business_dropped_kmeans.shape"
   ],
   "metadata": {
    "collapsed": false,
    "pycharm": {
     "name": "#%%\n"
    }
   }
  },
  {
   "cell_type": "code",
   "execution_count": null,
   "outputs": [],
   "source": [
    "df_cluster_kmeans = score_plot_and_get_best(df_business_dropped_kmeans, \"kmeans\", np.arange(2, 200))\n",
    "df_cluster_kmeans.shape"
   ],
   "metadata": {
    "collapsed": false,
    "pycharm": {
     "name": "#%%\n",
     "is_executing": true
    }
   }
  },
  {
   "cell_type": "code",
   "execution_count": null,
   "outputs": [],
   "source": [
    "df_business_merged_dropped_kmeans = add_new_column('kmeans', df_cluster_kmeans, df_business_dropped_kmeans)\n",
    "df_business_merged_dropped_kmeans.shape"
   ],
   "metadata": {
    "collapsed": false,
    "pycharm": {
     "name": "#%%\n",
     "is_executing": true
    }
   }
  },
  {
   "cell_type": "code",
   "execution_count": null,
   "outputs": [],
   "source": [
    "print(df_business_merged_dropped_kmeans.shape)\n",
    "df_business_merged_dropped_kmeans.head(5)"
   ],
   "metadata": {
    "collapsed": false,
    "pycharm": {
     "name": "#%%\n",
     "is_executing": true
    }
   }
  },
  {
   "cell_type": "code",
   "execution_count": null,
   "outputs": [],
   "source": [
    "print(df_business_filtered.shape)\n",
    "df_business_filtered.head(5)"
   ],
   "metadata": {
    "collapsed": false,
    "pycharm": {
     "name": "#%%\n",
     "is_executing": true
    }
   }
  },
  {
   "cell_type": "code",
   "execution_count": null,
   "outputs": [],
   "source": [
    "# df_business_filtered_dropped_merged_kmeans = pd.merge(df_business_merged_dropped_kmeans.reset_index(drop=True), df_business_filtered.reset_index(drop=True))"
   ],
   "metadata": {
    "collapsed": false,
    "pycharm": {
     "name": "#%%\n",
     "is_executing": true
    }
   }
  },
  {
   "cell_type": "code",
   "execution_count": null,
   "outputs": [],
   "source": [
    "df_business_merged_dropped_kmeans = df_business_merged_dropped_kmeans.reset_index(drop=True)\n",
    "df_business_filtered = df_business_filtered.reset_index(drop=True)"
   ],
   "metadata": {
    "collapsed": false,
    "pycharm": {
     "name": "#%%\n",
     "is_executing": true
    }
   }
  },
  {
   "cell_type": "code",
   "execution_count": null,
   "outputs": [],
   "source": [
    "df_business_filtered_dropped_merged_kmeans = df_business_merged_dropped_kmeans.join(df_business_filtered[to_drop])"
   ],
   "metadata": {
    "collapsed": false,
    "pycharm": {
     "name": "#%%\n",
     "is_executing": true
    }
   }
  },
  {
   "cell_type": "code",
   "execution_count": null,
   "outputs": [],
   "source": [
    "print(df_business_filtered_dropped_merged_kmeans.shape)\n",
    "df_business_filtered_dropped_merged_kmeans.head(5)"
   ],
   "metadata": {
    "collapsed": false,
    "pycharm": {
     "name": "#%%\n",
     "is_executing": true
    }
   }
  },
  {
   "cell_type": "code",
   "execution_count": null,
   "outputs": [],
   "source": [
    "df_business_filtered_dropped_merged_kmeans.to_csv(\n",
    "    r'/Users/at181903/PycharmProjects/IAproject/dataset/df_business_filtered_by_city.csv', index=False)"
   ],
   "metadata": {
    "collapsed": false,
    "pycharm": {
     "name": "#%%\n",
     "is_executing": true
    }
   }
  },
  {
   "cell_type": "code",
   "execution_count": null,
   "outputs": [],
   "source": [
    "# from sklearn.datasets import load_digits\n",
    "# from sklearn.decomposition import PCA\n",
    "#\n",
    "# # Load Data\n",
    "# data = load_digits().data\n",
    "# pca = PCA(2)\n",
    "#\n",
    "# print(data)\n",
    "#\n",
    "# #Transform the data\n",
    "# df = pca.fit_transform(data)\n",
    "#\n",
    "# #Getting unique labels\n",
    "# u_labels = np.unique(df_cluster_kmeans)\n",
    "#\n",
    "# #plotting the results:\n",
    "# for i in u_labels:\n",
    "#     plt.scatter(df[df_cluster_kmeans == i , 0] , df[df_cluster_kmeans == i , 1] , label = i)\n",
    "#\n",
    "# plt.legend()\n",
    "# plt.show()"
   ],
   "metadata": {
    "collapsed": false,
    "pycharm": {
     "name": "#%%\n",
     "is_executing": true
    }
   }
  },
  {
   "cell_type": "code",
   "execution_count": null,
   "outputs": [],
   "source": [
    "# plot_clusters('kmeans', df_business_merged_filtered_kmeans, 2, 5, 30, 15)"
   ],
   "metadata": {
    "collapsed": false,
    "pycharm": {
     "name": "#%%\n",
     "is_executing": true
    }
   }
  }
 ],
 "metadata": {
  "kernelspec": {
   "display_name": "Python 3",
   "language": "python",
   "name": "python3"
  },
  "language_info": {
   "codemirror_mode": {
    "name": "ipython",
    "version": 2
   },
   "file_extension": ".py",
   "mimetype": "text/x-python",
   "name": "python",
   "nbconvert_exporter": "python",
   "pygments_lexer": "ipython2",
   "version": "2.7.6"
  }
 },
 "nbformat": 4,
 "nbformat_minor": 0
}