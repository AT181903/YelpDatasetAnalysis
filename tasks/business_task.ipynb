{
 "cells": [
  {
   "cell_type": "markdown",
   "source": [
    "# Task"
   ],
   "metadata": {
    "collapsed": false,
    "pycharm": {
     "name": "#%% md\n"
    }
   }
  },
  {
   "cell_type": "code",
   "execution_count": 299,
   "outputs": [],
   "source": [
    "import pandas as pd\n",
    "from utils import expand_dataset\n",
    "import numpy as np"
   ],
   "metadata": {
    "collapsed": false,
    "pycharm": {
     "name": "#%%\n"
    }
   }
  },
  {
   "cell_type": "code",
   "execution_count": 300,
   "outputs": [],
   "source": [
    "df_business = pd.read_csv('../dataset/df_business_final.csv')"
   ],
   "metadata": {
    "collapsed": false,
    "pycharm": {
     "name": "#%%\n"
    }
   }
  },
  {
   "cell_type": "code",
   "execution_count": 301,
   "outputs": [
    {
     "name": "stdout",
     "output_type": "stream",
     "text": [
      "(150346, 66)\n"
     ]
    },
    {
     "data": {
      "text/plain": "   AcceptsInsurance  BikeParking  BusinessAcceptsBitcoin  \\\n0               0.0          0.0                     0.0   \n1               0.0          0.0                     0.0   \n2               0.0          1.0                     0.0   \n3               0.0          1.0                     0.0   \n4               0.0          1.0                     0.0   \n\n   BusinessAcceptsCreditCards  ByAppointmentOnly  CoatCheck  Corkage  \\\n0                         0.0                1.0        0.0      0.0   \n1                         1.0                0.0        0.0      0.0   \n2                         1.0                0.0        0.0      0.0   \n3                         0.0                0.0        0.0      0.0   \n4                         1.0                0.0        0.0      0.0   \n\n   DogsAllowed  DriveThru  GoodForDancing  ...  stars  state  street  \\\n0          0.0        0.0             0.0  ...    5.0     CA     0.0   \n1          0.0        0.0             0.0  ...    3.0     MO     0.0   \n2          0.0        0.0             0.0  ...    3.5     AZ     0.0   \n3          0.0        0.0             0.0  ...    4.0     PA     1.0   \n4          0.0        0.0             0.0  ...    4.5     PA     0.0   \n\n   touristy  trendy  upscale  valet  vegan  vegetarian  video  \n0       0.0     0.0      0.0    0.0    0.0         0.0    0.0  \n1       0.0     0.0      0.0    0.0    0.0         0.0    0.0  \n2       0.0     0.0      0.0    0.0    0.0         0.0    0.0  \n3       0.0     0.0      0.0    0.0    0.0         0.0    0.0  \n4       0.0     0.0      0.0    0.0    0.0         0.0    0.0  \n\n[5 rows x 66 columns]",
      "text/html": "<div>\n<style scoped>\n    .dataframe tbody tr th:only-of-type {\n        vertical-align: middle;\n    }\n\n    .dataframe tbody tr th {\n        vertical-align: top;\n    }\n\n    .dataframe thead th {\n        text-align: right;\n    }\n</style>\n<table border=\"1\" class=\"dataframe\">\n  <thead>\n    <tr style=\"text-align: right;\">\n      <th></th>\n      <th>AcceptsInsurance</th>\n      <th>BikeParking</th>\n      <th>BusinessAcceptsBitcoin</th>\n      <th>BusinessAcceptsCreditCards</th>\n      <th>ByAppointmentOnly</th>\n      <th>CoatCheck</th>\n      <th>Corkage</th>\n      <th>DogsAllowed</th>\n      <th>DriveThru</th>\n      <th>GoodForDancing</th>\n      <th>...</th>\n      <th>stars</th>\n      <th>state</th>\n      <th>street</th>\n      <th>touristy</th>\n      <th>trendy</th>\n      <th>upscale</th>\n      <th>valet</th>\n      <th>vegan</th>\n      <th>vegetarian</th>\n      <th>video</th>\n    </tr>\n  </thead>\n  <tbody>\n    <tr>\n      <th>0</th>\n      <td>0.0</td>\n      <td>0.0</td>\n      <td>0.0</td>\n      <td>0.0</td>\n      <td>1.0</td>\n      <td>0.0</td>\n      <td>0.0</td>\n      <td>0.0</td>\n      <td>0.0</td>\n      <td>0.0</td>\n      <td>...</td>\n      <td>5.0</td>\n      <td>CA</td>\n      <td>0.0</td>\n      <td>0.0</td>\n      <td>0.0</td>\n      <td>0.0</td>\n      <td>0.0</td>\n      <td>0.0</td>\n      <td>0.0</td>\n      <td>0.0</td>\n    </tr>\n    <tr>\n      <th>1</th>\n      <td>0.0</td>\n      <td>0.0</td>\n      <td>0.0</td>\n      <td>1.0</td>\n      <td>0.0</td>\n      <td>0.0</td>\n      <td>0.0</td>\n      <td>0.0</td>\n      <td>0.0</td>\n      <td>0.0</td>\n      <td>...</td>\n      <td>3.0</td>\n      <td>MO</td>\n      <td>0.0</td>\n      <td>0.0</td>\n      <td>0.0</td>\n      <td>0.0</td>\n      <td>0.0</td>\n      <td>0.0</td>\n      <td>0.0</td>\n      <td>0.0</td>\n    </tr>\n    <tr>\n      <th>2</th>\n      <td>0.0</td>\n      <td>1.0</td>\n      <td>0.0</td>\n      <td>1.0</td>\n      <td>0.0</td>\n      <td>0.0</td>\n      <td>0.0</td>\n      <td>0.0</td>\n      <td>0.0</td>\n      <td>0.0</td>\n      <td>...</td>\n      <td>3.5</td>\n      <td>AZ</td>\n      <td>0.0</td>\n      <td>0.0</td>\n      <td>0.0</td>\n      <td>0.0</td>\n      <td>0.0</td>\n      <td>0.0</td>\n      <td>0.0</td>\n      <td>0.0</td>\n    </tr>\n    <tr>\n      <th>3</th>\n      <td>0.0</td>\n      <td>1.0</td>\n      <td>0.0</td>\n      <td>0.0</td>\n      <td>0.0</td>\n      <td>0.0</td>\n      <td>0.0</td>\n      <td>0.0</td>\n      <td>0.0</td>\n      <td>0.0</td>\n      <td>...</td>\n      <td>4.0</td>\n      <td>PA</td>\n      <td>1.0</td>\n      <td>0.0</td>\n      <td>0.0</td>\n      <td>0.0</td>\n      <td>0.0</td>\n      <td>0.0</td>\n      <td>0.0</td>\n      <td>0.0</td>\n    </tr>\n    <tr>\n      <th>4</th>\n      <td>0.0</td>\n      <td>1.0</td>\n      <td>0.0</td>\n      <td>1.0</td>\n      <td>0.0</td>\n      <td>0.0</td>\n      <td>0.0</td>\n      <td>0.0</td>\n      <td>0.0</td>\n      <td>0.0</td>\n      <td>...</td>\n      <td>4.5</td>\n      <td>PA</td>\n      <td>0.0</td>\n      <td>0.0</td>\n      <td>0.0</td>\n      <td>0.0</td>\n      <td>0.0</td>\n      <td>0.0</td>\n      <td>0.0</td>\n      <td>0.0</td>\n    </tr>\n  </tbody>\n</table>\n<p>5 rows × 66 columns</p>\n</div>"
     },
     "execution_count": 301,
     "metadata": {},
     "output_type": "execute_result"
    }
   ],
   "source": [
    "print(df_business.shape)\n",
    "df_business.head(5)"
   ],
   "metadata": {
    "collapsed": false,
    "pycharm": {
     "name": "#%%\n"
    }
   }
  },
  {
   "cell_type": "code",
   "execution_count": 302,
   "outputs": [],
   "source": [
    "def filter_by_city(city, df):\n",
    "    return df[df['city'].str.contains(city) == True]\n",
    "\n",
    "\n",
    "df_business_filtered = filter_by_city('Tucson', df_business)"
   ],
   "metadata": {
    "collapsed": false,
    "pycharm": {
     "name": "#%%\n"
    }
   }
  },
  {
   "cell_type": "code",
   "execution_count": 303,
   "outputs": [
    {
     "name": "stdout",
     "output_type": "stream",
     "text": [
      "(9262, 66)\n"
     ]
    },
    {
     "data": {
      "text/plain": "    AcceptsInsurance  BikeParking  BusinessAcceptsBitcoin  \\\n2                0.0          1.0                     0.0   \n16               0.0          0.0                     0.0   \n45               0.0          0.0                     0.0   \n56               0.0          1.0                     0.0   \n67               0.0          0.0                     0.0   \n\n    BusinessAcceptsCreditCards  ByAppointmentOnly  CoatCheck  Corkage  \\\n2                          1.0                0.0        0.0      0.0   \n16                         1.0                0.0        0.0      0.0   \n45                         1.0                0.0        0.0      0.0   \n56                         1.0                0.0        0.0      0.0   \n67                         0.0                0.0        0.0      0.0   \n\n    DogsAllowed  DriveThru  GoodForDancing  ...  stars  state  street  \\\n2           0.0        0.0             0.0  ...    3.5     AZ     0.0   \n16          0.0        0.0             0.0  ...    4.5     AZ     0.0   \n45          0.0        0.0             0.0  ...    3.0     AZ     0.0   \n56          0.0        0.0             0.0  ...    3.0     AZ     0.0   \n67          0.0        0.0             0.0  ...    4.5     AZ     0.0   \n\n    touristy  trendy  upscale  valet  vegan  vegetarian  video  \n2        0.0     0.0      0.0    0.0    0.0         0.0    0.0  \n16       0.0     0.0      0.0    0.0    0.0         0.0    0.0  \n45       0.0     0.0      0.0    0.0    0.0         0.0    0.0  \n56       0.0     0.0      0.0    0.0    0.0         0.0    0.0  \n67       0.0     0.0      0.0    0.0    0.0         0.0    0.0  \n\n[5 rows x 66 columns]",
      "text/html": "<div>\n<style scoped>\n    .dataframe tbody tr th:only-of-type {\n        vertical-align: middle;\n    }\n\n    .dataframe tbody tr th {\n        vertical-align: top;\n    }\n\n    .dataframe thead th {\n        text-align: right;\n    }\n</style>\n<table border=\"1\" class=\"dataframe\">\n  <thead>\n    <tr style=\"text-align: right;\">\n      <th></th>\n      <th>AcceptsInsurance</th>\n      <th>BikeParking</th>\n      <th>BusinessAcceptsBitcoin</th>\n      <th>BusinessAcceptsCreditCards</th>\n      <th>ByAppointmentOnly</th>\n      <th>CoatCheck</th>\n      <th>Corkage</th>\n      <th>DogsAllowed</th>\n      <th>DriveThru</th>\n      <th>GoodForDancing</th>\n      <th>...</th>\n      <th>stars</th>\n      <th>state</th>\n      <th>street</th>\n      <th>touristy</th>\n      <th>trendy</th>\n      <th>upscale</th>\n      <th>valet</th>\n      <th>vegan</th>\n      <th>vegetarian</th>\n      <th>video</th>\n    </tr>\n  </thead>\n  <tbody>\n    <tr>\n      <th>2</th>\n      <td>0.0</td>\n      <td>1.0</td>\n      <td>0.0</td>\n      <td>1.0</td>\n      <td>0.0</td>\n      <td>0.0</td>\n      <td>0.0</td>\n      <td>0.0</td>\n      <td>0.0</td>\n      <td>0.0</td>\n      <td>...</td>\n      <td>3.5</td>\n      <td>AZ</td>\n      <td>0.0</td>\n      <td>0.0</td>\n      <td>0.0</td>\n      <td>0.0</td>\n      <td>0.0</td>\n      <td>0.0</td>\n      <td>0.0</td>\n      <td>0.0</td>\n    </tr>\n    <tr>\n      <th>16</th>\n      <td>0.0</td>\n      <td>0.0</td>\n      <td>0.0</td>\n      <td>1.0</td>\n      <td>0.0</td>\n      <td>0.0</td>\n      <td>0.0</td>\n      <td>0.0</td>\n      <td>0.0</td>\n      <td>0.0</td>\n      <td>...</td>\n      <td>4.5</td>\n      <td>AZ</td>\n      <td>0.0</td>\n      <td>0.0</td>\n      <td>0.0</td>\n      <td>0.0</td>\n      <td>0.0</td>\n      <td>0.0</td>\n      <td>0.0</td>\n      <td>0.0</td>\n    </tr>\n    <tr>\n      <th>45</th>\n      <td>0.0</td>\n      <td>0.0</td>\n      <td>0.0</td>\n      <td>1.0</td>\n      <td>0.0</td>\n      <td>0.0</td>\n      <td>0.0</td>\n      <td>0.0</td>\n      <td>0.0</td>\n      <td>0.0</td>\n      <td>...</td>\n      <td>3.0</td>\n      <td>AZ</td>\n      <td>0.0</td>\n      <td>0.0</td>\n      <td>0.0</td>\n      <td>0.0</td>\n      <td>0.0</td>\n      <td>0.0</td>\n      <td>0.0</td>\n      <td>0.0</td>\n    </tr>\n    <tr>\n      <th>56</th>\n      <td>0.0</td>\n      <td>1.0</td>\n      <td>0.0</td>\n      <td>1.0</td>\n      <td>0.0</td>\n      <td>0.0</td>\n      <td>0.0</td>\n      <td>0.0</td>\n      <td>0.0</td>\n      <td>0.0</td>\n      <td>...</td>\n      <td>3.0</td>\n      <td>AZ</td>\n      <td>0.0</td>\n      <td>0.0</td>\n      <td>0.0</td>\n      <td>0.0</td>\n      <td>0.0</td>\n      <td>0.0</td>\n      <td>0.0</td>\n      <td>0.0</td>\n    </tr>\n    <tr>\n      <th>67</th>\n      <td>0.0</td>\n      <td>0.0</td>\n      <td>0.0</td>\n      <td>0.0</td>\n      <td>0.0</td>\n      <td>0.0</td>\n      <td>0.0</td>\n      <td>0.0</td>\n      <td>0.0</td>\n      <td>0.0</td>\n      <td>...</td>\n      <td>4.5</td>\n      <td>AZ</td>\n      <td>0.0</td>\n      <td>0.0</td>\n      <td>0.0</td>\n      <td>0.0</td>\n      <td>0.0</td>\n      <td>0.0</td>\n      <td>0.0</td>\n      <td>0.0</td>\n    </tr>\n  </tbody>\n</table>\n<p>5 rows × 66 columns</p>\n</div>"
     },
     "execution_count": 303,
     "metadata": {},
     "output_type": "execute_result"
    }
   ],
   "source": [
    "print(df_business_filtered.shape)\n",
    "\n",
    "df_business_filtered.head(5)"
   ],
   "metadata": {
    "collapsed": false,
    "pycharm": {
     "name": "#%%\n"
    }
   }
  },
  {
   "cell_type": "markdown",
   "source": [
    "## Drop non number features"
   ],
   "metadata": {
    "collapsed": false,
    "pycharm": {
     "name": "#%% md\n"
    }
   }
  },
  {
   "cell_type": "code",
   "execution_count": 304,
   "outputs": [],
   "source": [
    "to_drop = ['business_id', 'address', 'categories', 'city', 'latitude', 'longitude', 'name', 'state', 'postal_code']\n",
    "\n",
    "df_business_filtered_dropped = df_business_filtered.drop(to_drop, axis=1)"
   ],
   "metadata": {
    "collapsed": false,
    "pycharm": {
     "name": "#%%\n"
    }
   }
  },
  {
   "cell_type": "code",
   "execution_count": 305,
   "outputs": [
    {
     "data": {
      "text/plain": "(9262, 57)"
     },
     "execution_count": 305,
     "metadata": {},
     "output_type": "execute_result"
    }
   ],
   "source": [
    "df_business_filtered_dropped.shape"
   ],
   "metadata": {
    "collapsed": false,
    "pycharm": {
     "name": "#%%\n"
    }
   }
  },
  {
   "cell_type": "code",
   "execution_count": 306,
   "outputs": [
    {
     "data": {
      "text/plain": "(9262, 66)"
     },
     "execution_count": 306,
     "metadata": {},
     "output_type": "execute_result"
    }
   ],
   "source": [
    "df_business_filtered.shape"
   ],
   "metadata": {
    "collapsed": false,
    "pycharm": {
     "name": "#%%\n"
    }
   }
  },
  {
   "cell_type": "markdown",
   "source": [
    "# Utils (duplicated from user_task)\n"
   ],
   "metadata": {
    "collapsed": false,
    "pycharm": {
     "name": "#%% md\n"
    }
   }
  },
  {
   "cell_type": "code",
   "execution_count": 307,
   "outputs": [],
   "source": [
    "from itertools import combinations\n",
    "\n",
    "import pandas as pd\n",
    "from matplotlib import pyplot as plt\n",
    "from sklearn.cluster import KMeans\n",
    "from sklearn.cluster import DBSCAN\n",
    "from sklearn.metrics import silhouette_score, calinski_harabasz_score, davies_bouldin_score\n",
    "\n",
    "\n",
    "def score_plot_and_get_best(data_frame, algorithm, number_of_tests):\n",
    "    if algorithm == \"kmeans\":\n",
    "        parameter_to_detect = \"n_clusters\"\n",
    "    else:\n",
    "        parameter_to_detect = \"eps\"\n",
    "\n",
    "    # fitted_kmeans = {}\n",
    "    labels = {}\n",
    "    df_scores = []\n",
    "    inertias_for_kmeans = []\n",
    "\n",
    "    for i in number_of_tests:\n",
    "        if algorithm == \"kmeans\":\n",
    "            model = KMeans(n_clusters=i)\n",
    "        else:\n",
    "            model = DBSCAN(eps=i, min_samples=10)\n",
    "\n",
    "        i_labels = model.fit_predict(data_frame)\n",
    "\n",
    "        if algorithm == \"kmeans\":\n",
    "            inertias_for_kmeans.append(model.inertia_)\n",
    "\n",
    "        # Insert fitted model and calculated cluster labels in dictionaries, for further reference.\n",
    "        # fitted_kmeans[i] = kmeans\n",
    "        labels[i] = i_labels\n",
    "\n",
    "        # Calculate various scores, and save them for further reference.\n",
    "        df_scores.append({\n",
    "            parameter_to_detect: i,\n",
    "            \"silhouette_score\": silhouette_score(data_frame, i_labels),\n",
    "            \"calinski_harabasz_score\": calinski_harabasz_score(data_frame, i_labels),\n",
    "            \"davies_bouldin_score\": davies_bouldin_score(data_frame, i_labels),\n",
    "        })\n",
    "\n",
    "    # Create a DataFrame of clustering scores, using `n_clusters` as index, for easier plotting.\n",
    "    df_scores = pd.DataFrame(df_scores)\n",
    "    df_scores.set_index(parameter_to_detect, inplace=True)\n",
    "\n",
    "    print(df_scores)\n",
    "\n",
    "    if algorithm == \"kmeans\":\n",
    "        # Plot inertias\n",
    "        plt.plot(number_of_tests, inertias_for_kmeans, 'bx-')\n",
    "        plt.title('Inertias')\n",
    "        plt.xlabel('Number of clusters')\n",
    "        plt.ylabel('WCSS')\n",
    "\n",
    "    best_scores_list = [\n",
    "        df_scores[\"silhouette_score\"].idxmax(),\n",
    "        df_scores[\"calinski_harabasz_score\"].idxmax(),\n",
    "        df_scores[\"davies_bouldin_score\"].idxmin()\n",
    "    ]\n",
    "\n",
    "    best_parameter = max(set(best_scores_list), key=best_scores_list.count)\n",
    "\n",
    "    print(\"Best \" + parameter_to_detect + \": \", best_parameter)\n",
    "\n",
    "    return labels.get(best_parameter)\n",
    "\n",
    "\n",
    "def plot_clusters(algorithm, data_frame, num_row, num_col, fig_width, fig_height):\n",
    "    if algorithm == 'kmeans':\n",
    "        c_column = 'cluster'\n",
    "    else:\n",
    "        c_column = 'eps'\n",
    "\n",
    "    every_combinations = list(combinations(data_frame.drop(columns=c_column).columns, 2))\n",
    "\n",
    "    figure, axis = plt.subplots(num_row, num_col, figsize=(fig_width, fig_height))\n",
    "\n",
    "    next_row = 0\n",
    "    next_column = 0\n",
    "\n",
    "    for combination in every_combinations:\n",
    "        first_feature = combination[0]\n",
    "        second_feature = combination[1]\n",
    "\n",
    "        axis[next_row, next_column].scatter(\n",
    "            data_frame[first_feature],\n",
    "            data_frame[second_feature],\n",
    "            c=data_frame[c_column],\n",
    "            cmap='rainbow'\n",
    "        )\n",
    "\n",
    "        axis[next_row, next_column].set_title(first_feature + \" and \" + second_feature)\n",
    "\n",
    "        if next_column == (num_col - 1):\n",
    "            next_row = next_row + 1\n",
    "            next_column = 0\n",
    "        else:\n",
    "            next_column = next_column + 1\n",
    "\n",
    "\n",
    "def add_new_column(algorithm, df_new_column, initial_data_frame):\n",
    "    if algorithm == 'kmeans':\n",
    "        df_new_column = pd.DataFrame({'cluster': df_new_column})\n",
    "    else:\n",
    "        df_new_column = pd.DataFrame({'eps': df_new_column})\n",
    "\n",
    "    # df_new_column.reset_index()\n",
    "    # initial_data_frame.reset_index()\n",
    "    return pd.concat([initial_data_frame.reset_index(drop=True), df_new_column.reset_index(drop=True)], axis=1)"
   ],
   "metadata": {
    "collapsed": false,
    "pycharm": {
     "name": "#%%\n"
    }
   }
  },
  {
   "cell_type": "markdown",
   "source": [
    "# K-Means"
   ],
   "metadata": {
    "collapsed": false,
    "pycharm": {
     "name": "#%% md\n"
    }
   }
  },
  {
   "cell_type": "code",
   "execution_count": 308,
   "outputs": [],
   "source": [
    "from sklearn.cluster import KMeans\n",
    "from sklearn.metrics import silhouette_score, calinski_harabasz_score, davies_bouldin_score"
   ],
   "metadata": {
    "collapsed": false,
    "pycharm": {
     "name": "#%%\n"
    }
   }
  },
  {
   "cell_type": "code",
   "execution_count": 309,
   "outputs": [],
   "source": [
    "df_business_dropped_kmeans = df_business_filtered_dropped.copy()"
   ],
   "metadata": {
    "collapsed": false,
    "pycharm": {
     "name": "#%%\n"
    }
   }
  },
  {
   "cell_type": "code",
   "execution_count": 311,
   "outputs": [
    {
     "name": "stdout",
     "output_type": "stream",
     "text": [
      "            silhouette_score  calinski_harabasz_score  davies_bouldin_score\n",
      "n_clusters                                                                 \n",
      "2                   0.885914             14487.306274              0.461312\n",
      "3                   0.830901             16650.392603              0.522023\n",
      "Best n_clusters:  2\n"
     ]
    },
    {
     "data": {
      "text/plain": "<Figure size 432x288 with 1 Axes>",
      "image/png": "[encoded data removed]"
     },
     "metadata": {
      "needs_background": "light"
     },
     "output_type": "display_data"
    }
   ],
   "source": [
    "df_cluster_kmeans = score_plot_and_get_best(df_business_dropped_kmeans, \"kmeans\", np.arange(2, 4))\n",
    "df_cluster_kmeans.shape"
   ],
   "metadata": {
    "collapsed": false,
    "pycharm": {
     "name": "#%%\n"
    }
   }
  },
  {
   "cell_type": "code",
   "execution_count": 313,
   "outputs": [],
   "source": [
    "df_business_merged_dropped_kmeans = add_new_column('kmeans', df_cluster_kmeans, df_business_dropped_kmeans)\n",
    "df_business_merged_dropped_kmeans.shape"
   ],
   "metadata": {
    "collapsed": false,
    "pycharm": {
     "name": "#%%\n"
    }
   }
  },
  {
   "cell_type": "code",
   "execution_count": 315,
   "outputs": [],
   "source": [
    "df_business_filtered_dropped_merged_kmeans = pd.merge(df_business_merged_dropped_kmeans.reset_index(drop=True), df_business_filtered.reset_index(drop=True))"
   ],
   "metadata": {
    "collapsed": false,
    "pycharm": {
     "name": "#%%\n"
    }
   }
  },
  {
   "cell_type": "code",
   "execution_count": 316,
   "outputs": [
    {
     "name": "stdout",
     "output_type": "stream",
     "text": [
      "(44412, 67)\n"
     ]
    },
    {
     "data": {
      "text/plain": "    AcceptsInsurance  BikeParking  BusinessAcceptsBitcoin  \\\n0                0.0          1.0                     0.0   \n1                0.0          0.0                     0.0   \n2                0.0          0.0                     0.0   \n3                0.0          0.0                     0.0   \n4                0.0          0.0                     0.0   \n5                0.0          0.0                     0.0   \n6                0.0          0.0                     0.0   \n7                0.0          0.0                     0.0   \n8                0.0          0.0                     0.0   \n9                0.0          0.0                     0.0   \n10               0.0          0.0                     0.0   \n11               0.0          0.0                     0.0   \n12               0.0          0.0                     0.0   \n13               0.0          0.0                     0.0   \n14               0.0          0.0                     0.0   \n15               0.0          0.0                     0.0   \n16               0.0          0.0                     0.0   \n17               0.0          0.0                     0.0   \n18               0.0          0.0                     0.0   \n19               0.0          0.0                     0.0   \n20               0.0          0.0                     0.0   \n21               0.0          0.0                     0.0   \n22               0.0          0.0                     0.0   \n23               0.0          0.0                     0.0   \n24               0.0          0.0                     0.0   \n25               0.0          0.0                     0.0   \n26               0.0          0.0                     0.0   \n27               0.0          0.0                     0.0   \n28               0.0          0.0                     0.0   \n29               0.0          0.0                     0.0   \n30               0.0          0.0                     0.0   \n31               0.0          0.0                     0.0   \n32               0.0          0.0                     0.0   \n33               0.0          0.0                     0.0   \n34               0.0          0.0                     0.0   \n35               0.0          0.0                     0.0   \n36               0.0          0.0                     0.0   \n37               0.0          0.0                     0.0   \n38               0.0          0.0                     0.0   \n39               0.0          0.0                     0.0   \n40               0.0          0.0                     0.0   \n41               0.0          0.0                     0.0   \n42               0.0          0.0                     0.0   \n43               0.0          0.0                     0.0   \n44               0.0          0.0                     0.0   \n45               0.0          0.0                     0.0   \n46               0.0          0.0                     0.0   \n47               0.0          0.0                     0.0   \n48               0.0          0.0                     0.0   \n49               0.0          0.0                     0.0   \n\n    BusinessAcceptsCreditCards  ByAppointmentOnly  CoatCheck  Corkage  \\\n0                          1.0                0.0        0.0      0.0   \n1                          1.0                0.0        0.0      0.0   \n2                          1.0                0.0        0.0      0.0   \n3                          1.0                0.0        0.0      0.0   \n4                          1.0                0.0        0.0      0.0   \n5                          1.0                0.0        0.0      0.0   \n6                          1.0                0.0        0.0      0.0   \n7                          1.0                0.0        0.0      0.0   \n8                          1.0                0.0        0.0      0.0   \n9                          1.0                0.0        0.0      0.0   \n10                         1.0                0.0        0.0      0.0   \n11                         1.0                0.0        0.0      0.0   \n12                         1.0                0.0        0.0      0.0   \n13                         1.0                0.0        0.0      0.0   \n14                         1.0                0.0        0.0      0.0   \n15                         1.0                0.0        0.0      0.0   \n16                         1.0                0.0        0.0      0.0   \n17                         1.0                0.0        0.0      0.0   \n18                         1.0                0.0        0.0      0.0   \n19                         1.0                0.0        0.0      0.0   \n20                         1.0                0.0        0.0      0.0   \n21                         1.0                0.0        0.0      0.0   \n22                         1.0                0.0        0.0      0.0   \n23                         1.0                0.0        0.0      0.0   \n24                         1.0                0.0        0.0      0.0   \n25                         1.0                0.0        0.0      0.0   \n26                         1.0                0.0        0.0      0.0   \n27                         1.0                0.0        0.0      0.0   \n28                         1.0                0.0        0.0      0.0   \n29                         1.0                0.0        0.0      0.0   \n30                         1.0                0.0        0.0      0.0   \n31                         1.0                0.0        0.0      0.0   \n32                         1.0                0.0        0.0      0.0   \n33                         1.0                0.0        0.0      0.0   \n34                         1.0                0.0        0.0      0.0   \n35                         1.0                0.0        0.0      0.0   \n36                         1.0                0.0        0.0      0.0   \n37                         1.0                0.0        0.0      0.0   \n38                         1.0                0.0        0.0      0.0   \n39                         1.0                0.0        0.0      0.0   \n40                         1.0                0.0        0.0      0.0   \n41                         1.0                0.0        0.0      0.0   \n42                         1.0                0.0        0.0      0.0   \n43                         1.0                0.0        0.0      0.0   \n44                         1.0                0.0        0.0      0.0   \n45                         1.0                0.0        0.0      0.0   \n46                         1.0                0.0        0.0      0.0   \n47                         1.0                0.0        0.0      0.0   \n48                         1.0                0.0        0.0      0.0   \n49                         1.0                0.0        0.0      0.0   \n\n    DogsAllowed  DriveThru  GoodForDancing  ...  cluster  \\\n0           0.0        0.0             0.0  ...        0   \n1           0.0        0.0             0.0  ...        0   \n2           0.0        0.0             0.0  ...        0   \n3           0.0        0.0             0.0  ...        0   \n4           0.0        0.0             0.0  ...        0   \n5           0.0        0.0             0.0  ...        0   \n6           0.0        0.0             0.0  ...        0   \n7           0.0        0.0             0.0  ...        0   \n8           0.0        0.0             0.0  ...        0   \n9           0.0        0.0             0.0  ...        0   \n10          0.0        0.0             0.0  ...        0   \n11          0.0        0.0             0.0  ...        0   \n12          0.0        0.0             0.0  ...        0   \n13          0.0        0.0             0.0  ...        0   \n14          0.0        0.0             0.0  ...        0   \n15          0.0        0.0             0.0  ...        0   \n16          0.0        0.0             0.0  ...        0   \n17          0.0        0.0             0.0  ...        0   \n18          0.0        0.0             0.0  ...        0   \n19          0.0        0.0             0.0  ...        0   \n20          0.0        0.0             0.0  ...        0   \n21          0.0        0.0             0.0  ...        0   \n22          0.0        0.0             0.0  ...        0   \n23          0.0        0.0             0.0  ...        0   \n24          0.0        0.0             0.0  ...        0   \n25          0.0        0.0             0.0  ...        0   \n26          0.0        0.0             0.0  ...        0   \n27          0.0        0.0             0.0  ...        0   \n28          0.0        0.0             0.0  ...        0   \n29          0.0        0.0             0.0  ...        0   \n30          0.0        0.0             0.0  ...        0   \n31          0.0        0.0             0.0  ...        0   \n32          0.0        0.0             0.0  ...        0   \n33          0.0        0.0             0.0  ...        0   \n34          0.0        0.0             0.0  ...        0   \n35          0.0        0.0             0.0  ...        0   \n36          0.0        0.0             0.0  ...        0   \n37          0.0        0.0             0.0  ...        0   \n38          0.0        0.0             0.0  ...        0   \n39          0.0        0.0             0.0  ...        0   \n40          0.0        0.0             0.0  ...        0   \n41          0.0        0.0             0.0  ...        0   \n42          0.0        0.0             0.0  ...        0   \n43          0.0        0.0             0.0  ...        0   \n44          0.0        0.0             0.0  ...        0   \n45          0.0        0.0             0.0  ...        0   \n46          0.0        0.0             0.0  ...        0   \n47          0.0        0.0             0.0  ...        0   \n48          0.0        0.0             0.0  ...        0   \n49          0.0        0.0             0.0  ...        0   \n\n                                address             business_id  \\\n0                  5255 E Broadway Blvd  tUFrWirKiKi_TAnsVWINQQ   \n1                       625 N Stone Ave  rBmpy_Y1UbBx8ggHlyb7hA   \n2                                   0.0  8i6ila3Nc4jinPNHN1dlrQ   \n3                6342 E Calle Bellatrix  kKFvz2WbItYFDo0TL5MuQg   \n4                      7937 N Oracle Rd  DhrwdwGXn0i546zhtEX05w   \n5                  5974 E Speedway Blvd  1zH64OW9y9itzJ0kff7elg   \n6                    2525 N Tucson Blvd  m0XskQQMaEId9-4NfaWBwQ   \n7   22nd Street & Craycroft Rd, Ste 100  xhDaRLEV9TGOzjHAfyUN0A   \n8                5300 N Casa Grande Hwy  ppAvOHMAMS5-p0jWmuRPmA   \n9                   4055 S Alvernon Way  1fu1tqtk448kdWG1Wwu8lQ   \n10                                  0.0  RkGG-GnqZXLtEr7ihMuwJw   \n11                     7990 E Snyder Rd  dyhrzHI0WW5oLFOBwdWdig   \n12                     2917 S Rocene Pl  pOclRz7WzvvQGGPzPxUJKg   \n13                     4037 N Oracle Rd  9WC2zkCRKQHIF99T8l64RA   \n14                     191 S Plumer Ave  tvXS_0gRf7vHhMId7Hqtaw   \n15                       885 E Grant Rd  jE3xF9iPPrxVFmM09WxCPg   \n16                5190 N La Cholla Blvd  7z6NbCcTdW8m-z_-3v3gUw   \n17                      625 N Stone Ave  rBmpy_Y1UbBx8ggHlyb7hA   \n18                                  0.0  8i6ila3Nc4jinPNHN1dlrQ   \n19               6342 E Calle Bellatrix  kKFvz2WbItYFDo0TL5MuQg   \n20                     7937 N Oracle Rd  DhrwdwGXn0i546zhtEX05w   \n21                 5974 E Speedway Blvd  1zH64OW9y9itzJ0kff7elg   \n22                   2525 N Tucson Blvd  m0XskQQMaEId9-4NfaWBwQ   \n23  22nd Street & Craycroft Rd, Ste 100  xhDaRLEV9TGOzjHAfyUN0A   \n24               5300 N Casa Grande Hwy  ppAvOHMAMS5-p0jWmuRPmA   \n25                  4055 S Alvernon Way  1fu1tqtk448kdWG1Wwu8lQ   \n26                                  0.0  RkGG-GnqZXLtEr7ihMuwJw   \n27                     7990 E Snyder Rd  dyhrzHI0WW5oLFOBwdWdig   \n28                     2917 S Rocene Pl  pOclRz7WzvvQGGPzPxUJKg   \n29                     4037 N Oracle Rd  9WC2zkCRKQHIF99T8l64RA   \n30                     191 S Plumer Ave  tvXS_0gRf7vHhMId7Hqtaw   \n31                       885 E Grant Rd  jE3xF9iPPrxVFmM09WxCPg   \n32                5190 N La Cholla Blvd  7z6NbCcTdW8m-z_-3v3gUw   \n33                      625 N Stone Ave  rBmpy_Y1UbBx8ggHlyb7hA   \n34                                  0.0  8i6ila3Nc4jinPNHN1dlrQ   \n35               6342 E Calle Bellatrix  kKFvz2WbItYFDo0TL5MuQg   \n36                     7937 N Oracle Rd  DhrwdwGXn0i546zhtEX05w   \n37                 5974 E Speedway Blvd  1zH64OW9y9itzJ0kff7elg   \n38                   2525 N Tucson Blvd  m0XskQQMaEId9-4NfaWBwQ   \n39  22nd Street & Craycroft Rd, Ste 100  xhDaRLEV9TGOzjHAfyUN0A   \n40               5300 N Casa Grande Hwy  ppAvOHMAMS5-p0jWmuRPmA   \n41                  4055 S Alvernon Way  1fu1tqtk448kdWG1Wwu8lQ   \n42                                  0.0  RkGG-GnqZXLtEr7ihMuwJw   \n43                     7990 E Snyder Rd  dyhrzHI0WW5oLFOBwdWdig   \n44                     2917 S Rocene Pl  pOclRz7WzvvQGGPzPxUJKg   \n45                     4037 N Oracle Rd  9WC2zkCRKQHIF99T8l64RA   \n46                     191 S Plumer Ave  tvXS_0gRf7vHhMId7Hqtaw   \n47                       885 E Grant Rd  jE3xF9iPPrxVFmM09WxCPg   \n48                5190 N La Cholla Blvd  7z6NbCcTdW8m-z_-3v3gUw   \n49                      625 N Stone Ave  rBmpy_Y1UbBx8ggHlyb7hA   \n\n                                           categories    city   latitude  \\\n0   Department Stores, Shopping, Fashion, Home & G...  Tucson  32.223236   \n1   Automotive, Auto Parts & Supplies, Auto Custom...  Tucson  32.229872   \n2   Food, Food Trucks, Restaurants, American (Trad...  Tucson  32.268074   \n3            Event Planning & Services, Photographers  Tucson  32.203074   \n4   Gyms, Fitness & Instruction, Trainers, Active ...  Tucson  32.350738   \n5         Car Dealers, Motorcycle Dealers, Automotive  Tucson  32.235770   \n6                        Self Storage, Local Services  Tucson  32.252737   \n7   Junk Removal & Hauling, Oil Change Stations, E...  Tucson  32.206798   \n8                          Home Services, Contractors  Tucson  32.303539   \n9   Home Services, Local Services, Building Suppli...  Tucson  32.174936   \n10  Self Storage, Movers, Home Services, Handyman,...  Tucson  32.247930   \n11  Auto Detailing, Auto Upholstery, Automotive, C...  Tucson  32.291999   \n12          Tree Services, Home Services, Landscaping  Tucson  32.187474   \n13  Automotive, Motorcycle Dealers, Motorcycle Repair  Tucson  32.279926   \n14  Auto Repair, Oil Change Stations, Tires, Autom...  Tucson  32.219763   \n15                  Automotive, Auto Parts & Supplies  Tucson  32.250692   \n16                             Automotive, Body Shops  Tucson  32.301423   \n17  Automotive, Auto Parts & Supplies, Auto Custom...  Tucson  32.229872   \n18  Food, Food Trucks, Restaurants, American (Trad...  Tucson  32.268074   \n19           Event Planning & Services, Photographers  Tucson  32.203074   \n20  Gyms, Fitness & Instruction, Trainers, Active ...  Tucson  32.350738   \n21        Car Dealers, Motorcycle Dealers, Automotive  Tucson  32.235770   \n22                       Self Storage, Local Services  Tucson  32.252737   \n23  Junk Removal & Hauling, Oil Change Stations, E...  Tucson  32.206798   \n24                         Home Services, Contractors  Tucson  32.303539   \n25  Home Services, Local Services, Building Suppli...  Tucson  32.174936   \n26  Self Storage, Movers, Home Services, Handyman,...  Tucson  32.247930   \n27  Auto Detailing, Auto Upholstery, Automotive, C...  Tucson  32.291999   \n28          Tree Services, Home Services, Landscaping  Tucson  32.187474   \n29  Automotive, Motorcycle Dealers, Motorcycle Repair  Tucson  32.279926   \n30  Auto Repair, Oil Change Stations, Tires, Autom...  Tucson  32.219763   \n31                  Automotive, Auto Parts & Supplies  Tucson  32.250692   \n32                             Automotive, Body Shops  Tucson  32.301423   \n33  Automotive, Auto Parts & Supplies, Auto Custom...  Tucson  32.229872   \n34  Food, Food Trucks, Restaurants, American (Trad...  Tucson  32.268074   \n35           Event Planning & Services, Photographers  Tucson  32.203074   \n36  Gyms, Fitness & Instruction, Trainers, Active ...  Tucson  32.350738   \n37        Car Dealers, Motorcycle Dealers, Automotive  Tucson  32.235770   \n38                       Self Storage, Local Services  Tucson  32.252737   \n39  Junk Removal & Hauling, Oil Change Stations, E...  Tucson  32.206798   \n40                         Home Services, Contractors  Tucson  32.303539   \n41  Home Services, Local Services, Building Suppli...  Tucson  32.174936   \n42  Self Storage, Movers, Home Services, Handyman,...  Tucson  32.247930   \n43  Auto Detailing, Auto Upholstery, Automotive, C...  Tucson  32.291999   \n44          Tree Services, Home Services, Landscaping  Tucson  32.187474   \n45  Automotive, Motorcycle Dealers, Motorcycle Repair  Tucson  32.279926   \n46  Auto Repair, Oil Change Stations, Tires, Autom...  Tucson  32.219763   \n47                  Automotive, Auto Parts & Supplies  Tucson  32.250692   \n48                             Automotive, Body Shops  Tucson  32.301423   \n49  Automotive, Auto Parts & Supplies, Auto Custom...  Tucson  32.229872   \n\n     longitude                                 name  postal_code  state  \n0  -110.880452                               Target        85711     AZ  \n1  -110.972342             Arizona Truck Outfitters        85705     AZ  \n2  -110.992390                  RJ's American Asian        85705     AZ  \n3  -110.856299                       JW Photography        85710     AZ  \n4  -110.975210                      Anytime Fitness        85704     AZ  \n5  -110.864807                       Too Hot Motors        85712     AZ  \n6  -110.935720                  Extra Space Storage        85716     AZ  \n7  -110.875200  Automotive Masters Mobile Mechanics        85730     AZ  \n8  -111.036959             Granite Kitchen and Bath        85743     AZ  \n9  -110.910207         Arizona Trucking & Materials        85714     AZ  \n10 -110.920859            Simple Moving And Storage        85716     AZ  \n11 -110.820931      Radiant Auto Detailing - Mobile        85750     AZ  \n12 -110.797501                      The Palminators        85730     AZ  \n13 -110.978260           Indian Motorcycle - Tucson        85705     AZ  \n14 -110.939068                    Albert's AutoCare        85719     AZ  \n15 -110.957708                  O'Reilly Auto Parts        85719     AZ  \n16 -111.011624         Finish Line Collision Center        85705     AZ  \n17 -110.972342             Arizona Truck Outfitters        85705     AZ  \n18 -110.992390                  RJ's American Asian        85705     AZ  \n19 -110.856299                       JW Photography        85710     AZ  \n20 -110.975210                      Anytime Fitness        85704     AZ  \n21 -110.864807                       Too Hot Motors        85712     AZ  \n22 -110.935720                  Extra Space Storage        85716     AZ  \n23 -110.875200  Automotive Masters Mobile Mechanics        85730     AZ  \n24 -111.036959             Granite Kitchen and Bath        85743     AZ  \n25 -110.910207         Arizona Trucking & Materials        85714     AZ  \n26 -110.920859            Simple Moving And Storage        85716     AZ  \n27 -110.820931      Radiant Auto Detailing - Mobile        85750     AZ  \n28 -110.797501                      The Palminators        85730     AZ  \n29 -110.978260           Indian Motorcycle - Tucson        85705     AZ  \n30 -110.939068                    Albert's AutoCare        85719     AZ  \n31 -110.957708                  O'Reilly Auto Parts        85719     AZ  \n32 -111.011624         Finish Line Collision Center        85705     AZ  \n33 -110.972342             Arizona Truck Outfitters        85705     AZ  \n34 -110.992390                  RJ's American Asian        85705     AZ  \n35 -110.856299                       JW Photography        85710     AZ  \n36 -110.975210                      Anytime Fitness        85704     AZ  \n37 -110.864807                       Too Hot Motors        85712     AZ  \n38 -110.935720                  Extra Space Storage        85716     AZ  \n39 -110.875200  Automotive Masters Mobile Mechanics        85730     AZ  \n40 -111.036959             Granite Kitchen and Bath        85743     AZ  \n41 -110.910207         Arizona Trucking & Materials        85714     AZ  \n42 -110.920859            Simple Moving And Storage        85716     AZ  \n43 -110.820931      Radiant Auto Detailing - Mobile        85750     AZ  \n44 -110.797501                      The Palminators        85730     AZ  \n45 -110.978260           Indian Motorcycle - Tucson        85705     AZ  \n46 -110.939068                    Albert's AutoCare        85719     AZ  \n47 -110.957708                  O'Reilly Auto Parts        85719     AZ  \n48 -111.011624         Finish Line Collision Center        85705     AZ  \n49 -110.972342             Arizona Truck Outfitters        85705     AZ  \n\n[50 rows x 67 columns]",
      "text/html": "<div>\n<style scoped>\n    .dataframe tbody tr th:only-of-type {\n        vertical-align: middle;\n    }\n\n    .dataframe tbody tr th {\n        vertical-align: top;\n    }\n\n    .dataframe thead th {\n        text-align: right;\n    }\n</style>\n<table border=\"1\" class=\"dataframe\">\n  <thead>\n    <tr style=\"text-align: right;\">\n      <th></th>\n      <th>AcceptsInsurance</th>\n      <th>BikeParking</th>\n      <th>BusinessAcceptsBitcoin</th>\n      <th>BusinessAcceptsCreditCards</th>\n      <th>ByAppointmentOnly</th>\n      <th>CoatCheck</th>\n      <th>Corkage</th>\n      <th>DogsAllowed</th>\n      <th>DriveThru</th>\n      <th>GoodForDancing</th>\n      <th>...</th>\n      <th>cluster</th>\n      <th>address</th>\n      <th>business_id</th>\n      <th>categories</th>\n      <th>city</th>\n      <th>latitude</th>\n      <th>longitude</th>\n      <th>name</th>\n      <th>postal_code</th>\n      <th>state</th>\n    </tr>\n  </thead>\n  <tbody>\n    <tr>\n      <th>0</th>\n      <td>0.0</td>\n      <td>1.0</td>\n      <td>0.0</td>\n      <td>1.0</td>\n      <td>0.0</td>\n      <td>0.0</td>\n      <td>0.0</td>\n      <td>0.0</td>\n      <td>0.0</td>\n      <td>0.0</td>\n      <td>...</td>\n      <td>0</td>\n      <td>5255 E Broadway Blvd</td>\n      <td>tUFrWirKiKi_TAnsVWINQQ</td>\n      <td>Department Stores, Shopping, Fashion, Home &amp; G...</td>\n      <td>Tucson</td>\n      <td>32.223236</td>\n      <td>-110.880452</td>\n      <td>Target</td>\n      <td>85711</td>\n      <td>AZ</td>\n    </tr>\n    <tr>\n      <th>1</th>\n      <td>0.0</td>\n      <td>0.0</td>\n      <td>0.0</td>\n      <td>1.0</td>\n      <td>0.0</td>\n      <td>0.0</td>\n      <td>0.0</td>\n      <td>0.0</td>\n      <td>0.0</td>\n      <td>0.0</td>\n      <td>...</td>\n      <td>0</td>\n      <td>625 N Stone Ave</td>\n      <td>rBmpy_Y1UbBx8ggHlyb7hA</td>\n      <td>Automotive, Auto Parts &amp; Supplies, Auto Custom...</td>\n      <td>Tucson</td>\n      <td>32.229872</td>\n      <td>-110.972342</td>\n      <td>Arizona Truck Outfitters</td>\n      <td>85705</td>\n      <td>AZ</td>\n    </tr>\n    <tr>\n      <th>2</th>\n      <td>0.0</td>\n      <td>0.0</td>\n      <td>0.0</td>\n      <td>1.0</td>\n      <td>0.0</td>\n      <td>0.0</td>\n      <td>0.0</td>\n      <td>0.0</td>\n      <td>0.0</td>\n      <td>0.0</td>\n      <td>...</td>\n      <td>0</td>\n      <td>0.0</td>\n      <td>8i6ila3Nc4jinPNHN1dlrQ</td>\n      <td>Food, Food Trucks, Restaurants, American (Trad...</td>\n      <td>Tucson</td>\n      <td>32.268074</td>\n      <td>-110.992390</td>\n      <td>RJ's American Asian</td>\n      <td>85705</td>\n      <td>AZ</td>\n    </tr>\n    <tr>\n      <th>3</th>\n      <td>0.0</td>\n      <td>0.0</td>\n      <td>0.0</td>\n      <td>1.0</td>\n      <td>0.0</td>\n      <td>0.0</td>\n      <td>0.0</td>\n      <td>0.0</td>\n      <td>0.0</td>\n      <td>0.0</td>\n      <td>...</td>\n      <td>0</td>\n      <td>6342 E Calle Bellatrix</td>\n      <td>kKFvz2WbItYFDo0TL5MuQg</td>\n      <td>Event Planning &amp; Services, Photographers</td>\n      <td>Tucson</td>\n      <td>32.203074</td>\n      <td>-110.856299</td>\n      <td>JW Photography</td>\n      <td>85710</td>\n      <td>AZ</td>\n    </tr>\n    <tr>\n      <th>4</th>\n      <td>0.0</td>\n      <td>0.0</td>\n      <td>0.0</td>\n      <td>1.0</td>\n      <td>0.0</td>\n      <td>0.0</td>\n      <td>0.0</td>\n      <td>0.0</td>\n      <td>0.0</td>\n      <td>0.0</td>\n      <td>...</td>\n      <td>0</td>\n      <td>7937 N Oracle Rd</td>\n      <td>DhrwdwGXn0i546zhtEX05w</td>\n      <td>Gyms, Fitness &amp; Instruction, Trainers, Active ...</td>\n      <td>Tucson</td>\n      <td>32.350738</td>\n      <td>-110.975210</td>\n      <td>Anytime Fitness</td>\n      <td>85704</td>\n      <td>AZ</td>\n    </tr>\n    <tr>\n      <th>5</th>\n      <td>0.0</td>\n      <td>0.0</td>\n      <td>0.0</td>\n      <td>1.0</td>\n      <td>0.0</td>\n      <td>0.0</td>\n      <td>0.0</td>\n      <td>0.0</td>\n      <td>0.0</td>\n      <td>0.0</td>\n      <td>...</td>\n      <td>0</td>\n      <td>5974 E Speedway Blvd</td>\n      <td>1zH64OW9y9itzJ0kff7elg</td>\n      <td>Car Dealers, Motorcycle Dealers, Automotive</td>\n      <td>Tucson</td>\n      <td>32.235770</td>\n      <td>-110.864807</td>\n      <td>Too Hot Motors</td>\n      <td>85712</td>\n      <td>AZ</td>\n    </tr>\n    <tr>\n      <th>6</th>\n      <td>0.0</td>\n      <td>0.0</td>\n      <td>0.0</td>\n      <td>1.0</td>\n      <td>0.0</td>\n      <td>0.0</td>\n      <td>0.0</td>\n      <td>0.0</td>\n      <td>0.0</td>\n      <td>0.0</td>\n      <td>...</td>\n      <td>0</td>\n      <td>2525 N Tucson Blvd</td>\n      <td>m0XskQQMaEId9-4NfaWBwQ</td>\n      <td>Self Storage, Local Services</td>\n      <td>Tucson</td>\n      <td>32.252737</td>\n      <td>-110.935720</td>\n      <td>Extra Space Storage</td>\n      <td>85716</td>\n      <td>AZ</td>\n    </tr>\n    <tr>\n      <th>7</th>\n      <td>0.0</td>\n      <td>0.0</td>\n      <td>0.0</td>\n      <td>1.0</td>\n      <td>0.0</td>\n      <td>0.0</td>\n      <td>0.0</td>\n      <td>0.0</td>\n      <td>0.0</td>\n      <td>0.0</td>\n      <td>...</td>\n      <td>0</td>\n      <td>22nd Street &amp; Craycroft Rd, Ste 100</td>\n      <td>xhDaRLEV9TGOzjHAfyUN0A</td>\n      <td>Junk Removal &amp; Hauling, Oil Change Stations, E...</td>\n      <td>Tucson</td>\n      <td>32.206798</td>\n      <td>-110.875200</td>\n      <td>Automotive Masters Mobile Mechanics</td>\n      <td>85730</td>\n      <td>AZ</td>\n    </tr>\n    <tr>\n      <th>8</th>\n      <td>0.0</td>\n      <td>0.0</td>\n      <td>0.0</td>\n      <td>1.0</td>\n      <td>0.0</td>\n      <td>0.0</td>\n      <td>0.0</td>\n      <td>0.0</td>\n      <td>0.0</td>\n      <td>0.0</td>\n      <td>...</td>\n      <td>0</td>\n      <td>5300 N Casa Grande Hwy</td>\n      <td>ppAvOHMAMS5-p0jWmuRPmA</td>\n      <td>Home Services, Contractors</td>\n      <td>Tucson</td>\n      <td>32.303539</td>\n      <td>-111.036959</td>\n      <td>Granite Kitchen and Bath</td>\n      <td>85743</td>\n      <td>AZ</td>\n    </tr>\n    <tr>\n      <th>9</th>\n      <td>0.0</td>\n      <td>0.0</td>\n      <td>0.0</td>\n      <td>1.0</td>\n      <td>0.0</td>\n      <td>0.0</td>\n      <td>0.0</td>\n      <td>0.0</td>\n      <td>0.0</td>\n      <td>0.0</td>\n      <td>...</td>\n      <td>0</td>\n      <td>4055 S Alvernon Way</td>\n      <td>1fu1tqtk448kdWG1Wwu8lQ</td>\n      <td>Home Services, Local Services, Building Suppli...</td>\n      <td>Tucson</td>\n      <td>32.174936</td>\n      <td>-110.910207</td>\n      <td>Arizona Trucking &amp; Materials</td>\n      <td>85714</td>\n      <td>AZ</td>\n    </tr>\n    <tr>\n      <th>10</th>\n      <td>0.0</td>\n      <td>0.0</td>\n      <td>0.0</td>\n      <td>1.0</td>\n      <td>0.0</td>\n      <td>0.0</td>\n      <td>0.0</td>\n      <td>0.0</td>\n      <td>0.0</td>\n      <td>0.0</td>\n      <td>...</td>\n      <td>0</td>\n      <td>0.0</td>\n      <td>RkGG-GnqZXLtEr7ihMuwJw</td>\n      <td>Self Storage, Movers, Home Services, Handyman,...</td>\n      <td>Tucson</td>\n      <td>32.247930</td>\n      <td>-110.920859</td>\n      <td>Simple Moving And Storage</td>\n      <td>85716</td>\n      <td>AZ</td>\n    </tr>\n    <tr>\n      <th>11</th>\n      <td>0.0</td>\n      <td>0.0</td>\n      <td>0.0</td>\n      <td>1.0</td>\n      <td>0.0</td>\n      <td>0.0</td>\n      <td>0.0</td>\n      <td>0.0</td>\n      <td>0.0</td>\n      <td>0.0</td>\n      <td>...</td>\n      <td>0</td>\n      <td>7990 E Snyder Rd</td>\n      <td>dyhrzHI0WW5oLFOBwdWdig</td>\n      <td>Auto Detailing, Auto Upholstery, Automotive, C...</td>\n      <td>Tucson</td>\n      <td>32.291999</td>\n      <td>-110.820931</td>\n      <td>Radiant Auto Detailing - Mobile</td>\n      <td>85750</td>\n      <td>AZ</td>\n    </tr>\n    <tr>\n      <th>12</th>\n      <td>0.0</td>\n      <td>0.0</td>\n      <td>0.0</td>\n      <td>1.0</td>\n      <td>0.0</td>\n      <td>0.0</td>\n      <td>0.0</td>\n      <td>0.0</td>\n      <td>0.0</td>\n      <td>0.0</td>\n      <td>...</td>\n      <td>0</td>\n      <td>2917 S Rocene Pl</td>\n      <td>pOclRz7WzvvQGGPzPxUJKg</td>\n      <td>Tree Services, Home Services, Landscaping</td>\n      <td>Tucson</td>\n      <td>32.187474</td>\n      <td>-110.797501</td>\n      <td>The Palminators</td>\n      <td>85730</td>\n      <td>AZ</td>\n    </tr>\n    <tr>\n      <th>13</th>\n      <td>0.0</td>\n      <td>0.0</td>\n      <td>0.0</td>\n      <td>1.0</td>\n      <td>0.0</td>\n      <td>0.0</td>\n      <td>0.0</td>\n      <td>0.0</td>\n      <td>0.0</td>\n      <td>0.0</td>\n      <td>...</td>\n      <td>0</td>\n      <td>4037 N Oracle Rd</td>\n      <td>9WC2zkCRKQHIF99T8l64RA</td>\n      <td>Automotive, Motorcycle Dealers, Motorcycle Repair</td>\n      <td>Tucson</td>\n      <td>32.279926</td>\n      <td>-110.978260</td>\n      <td>Indian Motorcycle - Tucson</td>\n      <td>85705</td>\n      <td>AZ</td>\n    </tr>\n    <tr>\n      <th>14</th>\n      <td>0.0</td>\n      <td>0.0</td>\n      <td>0.0</td>\n      <td>1.0</td>\n      <td>0.0</td>\n      <td>0.0</td>\n      <td>0.0</td>\n      <td>0.0</td>\n      <td>0.0</td>\n      <td>0.0</td>\n      <td>...</td>\n      <td>0</td>\n      <td>191 S Plumer Ave</td>\n      <td>tvXS_0gRf7vHhMId7Hqtaw</td>\n      <td>Auto Repair, Oil Change Stations, Tires, Autom...</td>\n      <td>Tucson</td>\n      <td>32.219763</td>\n      <td>-110.939068</td>\n      <td>Albert's AutoCare</td>\n      <td>85719</td>\n      <td>AZ</td>\n    </tr>\n    <tr>\n      <th>15</th>\n      <td>0.0</td>\n      <td>0.0</td>\n      <td>0.0</td>\n      <td>1.0</td>\n      <td>0.0</td>\n      <td>0.0</td>\n      <td>0.0</td>\n      <td>0.0</td>\n      <td>0.0</td>\n      <td>0.0</td>\n      <td>...</td>\n      <td>0</td>\n      <td>885 E Grant Rd</td>\n      <td>jE3xF9iPPrxVFmM09WxCPg</td>\n      <td>Automotive, Auto Parts &amp; Supplies</td>\n      <td>Tucson</td>\n      <td>32.250692</td>\n      <td>-110.957708</td>\n      <td>O'Reilly Auto Parts</td>\n      <td>85719</td>\n      <td>AZ</td>\n    </tr>\n    <tr>\n      <th>16</th>\n      <td>0.0</td>\n      <td>0.0</td>\n      <td>0.0</td>\n      <td>1.0</td>\n      <td>0.0</td>\n      <td>0.0</td>\n      <td>0.0</td>\n      <td>0.0</td>\n      <td>0.0</td>\n      <td>0.0</td>\n      <td>...</td>\n      <td>0</td>\n      <td>5190 N La Cholla Blvd</td>\n      <td>7z6NbCcTdW8m-z_-3v3gUw</td>\n      <td>Automotive, Body Shops</td>\n      <td>Tucson</td>\n      <td>32.301423</td>\n      <td>-111.011624</td>\n      <td>Finish Line Collision Center</td>\n      <td>85705</td>\n      <td>AZ</td>\n    </tr>\n    <tr>\n      <th>17</th>\n      <td>0.0</td>\n      <td>0.0</td>\n      <td>0.0</td>\n      <td>1.0</td>\n      <td>0.0</td>\n      <td>0.0</td>\n      <td>0.0</td>\n      <td>0.0</td>\n      <td>0.0</td>\n      <td>0.0</td>\n      <td>...</td>\n      <td>0</td>\n      <td>625 N Stone Ave</td>\n      <td>rBmpy_Y1UbBx8ggHlyb7hA</td>\n      <td>Automotive, Auto Parts &amp; Supplies, Auto Custom...</td>\n      <td>Tucson</td>\n      <td>32.229872</td>\n      <td>-110.972342</td>\n      <td>Arizona Truck Outfitters</td>\n      <td>85705</td>\n      <td>AZ</td>\n    </tr>\n    <tr>\n      <th>18</th>\n      <td>0.0</td>\n      <td>0.0</td>\n      <td>0.0</td>\n      <td>1.0</td>\n      <td>0.0</td>\n      <td>0.0</td>\n      <td>0.0</td>\n      <td>0.0</td>\n      <td>0.0</td>\n      <td>0.0</td>\n      <td>...</td>\n      <td>0</td>\n      <td>0.0</td>\n      <td>8i6ila3Nc4jinPNHN1dlrQ</td>\n      <td>Food, Food Trucks, Restaurants, American (Trad...</td>\n      <td>Tucson</td>\n      <td>32.268074</td>\n      <td>-110.992390</td>\n      <td>RJ's American Asian</td>\n      <td>85705</td>\n      <td>AZ</td>\n    </tr>\n    <tr>\n      <th>19</th>\n      <td>0.0</td>\n      <td>0.0</td>\n      <td>0.0</td>\n      <td>1.0</td>\n      <td>0.0</td>\n      <td>0.0</td>\n      <td>0.0</td>\n      <td>0.0</td>\n      <td>0.0</td>\n      <td>0.0</td>\n      <td>...</td>\n      <td>0</td>\n      <td>6342 E Calle Bellatrix</td>\n      <td>kKFvz2WbItYFDo0TL5MuQg</td>\n      <td>Event Planning &amp; Services, Photographers</td>\n      <td>Tucson</td>\n      <td>32.203074</td>\n      <td>-110.856299</td>\n      <td>JW Photography</td>\n      <td>85710</td>\n      <td>AZ</td>\n    </tr>\n    <tr>\n      <th>20</th>\n      <td>0.0</td>\n      <td>0.0</td>\n      <td>0.0</td>\n      <td>1.0</td>\n      <td>0.0</td>\n      <td>0.0</td>\n      <td>0.0</td>\n      <td>0.0</td>\n      <td>0.0</td>\n      <td>0.0</td>\n      <td>...</td>\n      <td>0</td>\n      <td>7937 N Oracle Rd</td>\n      <td>DhrwdwGXn0i546zhtEX05w</td>\n      <td>Gyms, Fitness &amp; Instruction, Trainers, Active ...</td>\n      <td>Tucson</td>\n      <td>32.350738</td>\n      <td>-110.975210</td>\n      <td>Anytime Fitness</td>\n      <td>85704</td>\n      <td>AZ</td>\n    </tr>\n    <tr>\n      <th>21</th>\n      <td>0.0</td>\n      <td>0.0</td>\n      <td>0.0</td>\n      <td>1.0</td>\n      <td>0.0</td>\n      <td>0.0</td>\n      <td>0.0</td>\n      <td>0.0</td>\n      <td>0.0</td>\n      <td>0.0</td>\n      <td>...</td>\n      <td>0</td>\n      <td>5974 E Speedway Blvd</td>\n      <td>1zH64OW9y9itzJ0kff7elg</td>\n      <td>Car Dealers, Motorcycle Dealers, Automotive</td>\n      <td>Tucson</td>\n      <td>32.235770</td>\n      <td>-110.864807</td>\n      <td>Too Hot Motors</td>\n      <td>85712</td>\n      <td>AZ</td>\n    </tr>\n    <tr>\n      <th>22</th>\n      <td>0.0</td>\n      <td>0.0</td>\n      <td>0.0</td>\n      <td>1.0</td>\n      <td>0.0</td>\n      <td>0.0</td>\n      <td>0.0</td>\n      <td>0.0</td>\n      <td>0.0</td>\n      <td>0.0</td>\n      <td>...</td>\n      <td>0</td>\n      <td>2525 N Tucson Blvd</td>\n      <td>m0XskQQMaEId9-4NfaWBwQ</td>\n      <td>Self Storage, Local Services</td>\n      <td>Tucson</td>\n      <td>32.252737</td>\n      <td>-110.935720</td>\n      <td>Extra Space Storage</td>\n      <td>85716</td>\n      <td>AZ</td>\n    </tr>\n    <tr>\n      <th>23</th>\n      <td>0.0</td>\n      <td>0.0</td>\n      <td>0.0</td>\n      <td>1.0</td>\n      <td>0.0</td>\n      <td>0.0</td>\n      <td>0.0</td>\n      <td>0.0</td>\n      <td>0.0</td>\n      <td>0.0</td>\n      <td>...</td>\n      <td>0</td>\n      <td>22nd Street &amp; Craycroft Rd, Ste 100</td>\n      <td>xhDaRLEV9TGOzjHAfyUN0A</td>\n      <td>Junk Removal &amp; Hauling, Oil Change Stations, E...</td>\n      <td>Tucson</td>\n      <td>32.206798</td>\n      <td>-110.875200</td>\n      <td>Automotive Masters Mobile Mechanics</td>\n      <td>85730</td>\n      <td>AZ</td>\n    </tr>\n    <tr>\n      <th>24</th>\n      <td>0.0</td>\n      <td>0.0</td>\n      <td>0.0</td>\n      <td>1.0</td>\n      <td>0.0</td>\n      <td>0.0</td>\n      <td>0.0</td>\n      <td>0.0</td>\n      <td>0.0</td>\n      <td>0.0</td>\n      <td>...</td>\n      <td>0</td>\n      <td>5300 N Casa Grande Hwy</td>\n      <td>ppAvOHMAMS5-p0jWmuRPmA</td>\n      <td>Home Services, Contractors</td>\n      <td>Tucson</td>\n      <td>32.303539</td>\n      <td>-111.036959</td>\n      <td>Granite Kitchen and Bath</td>\n      <td>85743</td>\n      <td>AZ</td>\n    </tr>\n    <tr>\n      <th>25</th>\n      <td>0.0</td>\n      <td>0.0</td>\n      <td>0.0</td>\n      <td>1.0</td>\n      <td>0.0</td>\n      <td>0.0</td>\n      <td>0.0</td>\n      <td>0.0</td>\n      <td>0.0</td>\n      <td>0.0</td>\n      <td>...</td>\n      <td>0</td>\n      <td>4055 S Alvernon Way</td>\n      <td>1fu1tqtk448kdWG1Wwu8lQ</td>\n      <td>Home Services, Local Services, Building Suppli...</td>\n      <td>Tucson</td>\n      <td>32.174936</td>\n      <td>-110.910207</td>\n      <td>Arizona Trucking &amp; Materials</td>\n      <td>85714</td>\n      <td>AZ</td>\n    </tr>\n    <tr>\n      <th>26</th>\n      <td>0.0</td>\n      <td>0.0</td>\n      <td>0.0</td>\n      <td>1.0</td>\n      <td>0.0</td>\n      <td>0.0</td>\n      <td>0.0</td>\n      <td>0.0</td>\n      <td>0.0</td>\n      <td>0.0</td>\n      <td>...</td>\n      <td>0</td>\n      <td>0.0</td>\n      <td>RkGG-GnqZXLtEr7ihMuwJw</td>\n      <td>Self Storage, Movers, Home Services, Handyman,...</td>\n      <td>Tucson</td>\n      <td>32.247930</td>\n      <td>-110.920859</td>\n      <td>Simple Moving And Storage</td>\n      <td>85716</td>\n      <td>AZ</td>\n    </tr>\n    <tr>\n      <th>27</th>\n      <td>0.0</td>\n      <td>0.0</td>\n      <td>0.0</td>\n      <td>1.0</td>\n      <td>0.0</td>\n      <td>0.0</td>\n      <td>0.0</td>\n      <td>0.0</td>\n      <td>0.0</td>\n      <td>0.0</td>\n      <td>...</td>\n      <td>0</td>\n      <td>7990 E Snyder Rd</td>\n      <td>dyhrzHI0WW5oLFOBwdWdig</td>\n      <td>Auto Detailing, Auto Upholstery, Automotive, C...</td>\n      <td>Tucson</td>\n      <td>32.291999</td>\n      <td>-110.820931</td>\n      <td>Radiant Auto Detailing - Mobile</td>\n      <td>85750</td>\n      <td>AZ</td>\n    </tr>\n    <tr>\n      <th>28</th>\n      <td>0.0</td>\n      <td>0.0</td>\n      <td>0.0</td>\n      <td>1.0</td>\n      <td>0.0</td>\n      <td>0.0</td>\n      <td>0.0</td>\n      <td>0.0</td>\n      <td>0.0</td>\n      <td>0.0</td>\n      <td>...</td>\n      <td>0</td>\n      <td>2917 S Rocene Pl</td>\n      <td>pOclRz7WzvvQGGPzPxUJKg</td>\n      <td>Tree Services, Home Services, Landscaping</td>\n      <td>Tucson</td>\n      <td>32.187474</td>\n      <td>-110.797501</td>\n      <td>The Palminators</td>\n      <td>85730</td>\n      <td>AZ</td>\n    </tr>\n    <tr>\n      <th>29</th>\n      <td>0.0</td>\n      <td>0.0</td>\n      <td>0.0</td>\n      <td>1.0</td>\n      <td>0.0</td>\n      <td>0.0</td>\n      <td>0.0</td>\n      <td>0.0</td>\n      <td>0.0</td>\n      <td>0.0</td>\n      <td>...</td>\n      <td>0</td>\n      <td>4037 N Oracle Rd</td>\n      <td>9WC2zkCRKQHIF99T8l64RA</td>\n      <td>Automotive, Motorcycle Dealers, Motorcycle Repair</td>\n      <td>Tucson</td>\n      <td>32.279926</td>\n      <td>-110.978260</td>\n      <td>Indian Motorcycle - Tucson</td>\n      <td>85705</td>\n      <td>AZ</td>\n    </tr>\n    <tr>\n      <th>30</th>\n      <td>0.0</td>\n      <td>0.0</td>\n      <td>0.0</td>\n      <td>1.0</td>\n      <td>0.0</td>\n      <td>0.0</td>\n      <td>0.0</td>\n      <td>0.0</td>\n      <td>0.0</td>\n      <td>0.0</td>\n      <td>...</td>\n      <td>0</td>\n      <td>191 S Plumer Ave</td>\n      <td>tvXS_0gRf7vHhMId7Hqtaw</td>\n      <td>Auto Repair, Oil Change Stations, Tires, Autom...</td>\n      <td>Tucson</td>\n      <td>32.219763</td>\n      <td>-110.939068</td>\n      <td>Albert's AutoCare</td>\n      <td>85719</td>\n      <td>AZ</td>\n    </tr>\n    <tr>\n      <th>31</th>\n      <td>0.0</td>\n      <td>0.0</td>\n      <td>0.0</td>\n      <td>1.0</td>\n      <td>0.0</td>\n      <td>0.0</td>\n      <td>0.0</td>\n      <td>0.0</td>\n      <td>0.0</td>\n      <td>0.0</td>\n      <td>...</td>\n      <td>0</td>\n      <td>885 E Grant Rd</td>\n      <td>jE3xF9iPPrxVFmM09WxCPg</td>\n      <td>Automotive, Auto Parts &amp; Supplies</td>\n      <td>Tucson</td>\n      <td>32.250692</td>\n      <td>-110.957708</td>\n      <td>O'Reilly Auto Parts</td>\n      <td>85719</td>\n      <td>AZ</td>\n    </tr>\n    <tr>\n      <th>32</th>\n      <td>0.0</td>\n      <td>0.0</td>\n      <td>0.0</td>\n      <td>1.0</td>\n      <td>0.0</td>\n      <td>0.0</td>\n      <td>0.0</td>\n      <td>0.0</td>\n      <td>0.0</td>\n      <td>0.0</td>\n      <td>...</td>\n      <td>0</td>\n      <td>5190 N La Cholla Blvd</td>\n      <td>7z6NbCcTdW8m-z_-3v3gUw</td>\n      <td>Automotive, Body Shops</td>\n      <td>Tucson</td>\n      <td>32.301423</td>\n      <td>-111.011624</td>\n      <td>Finish Line Collision Center</td>\n      <td>85705</td>\n      <td>AZ</td>\n    </tr>\n    <tr>\n      <th>33</th>\n      <td>0.0</td>\n      <td>0.0</td>\n      <td>0.0</td>\n      <td>1.0</td>\n      <td>0.0</td>\n      <td>0.0</td>\n      <td>0.0</td>\n      <td>0.0</td>\n      <td>0.0</td>\n      <td>0.0</td>\n      <td>...</td>\n      <td>0</td>\n      <td>625 N Stone Ave</td>\n      <td>rBmpy_Y1UbBx8ggHlyb7hA</td>\n      <td>Automotive, Auto Parts &amp; Supplies, Auto Custom...</td>\n      <td>Tucson</td>\n      <td>32.229872</td>\n      <td>-110.972342</td>\n      <td>Arizona Truck Outfitters</td>\n      <td>85705</td>\n      <td>AZ</td>\n    </tr>\n    <tr>\n      <th>34</th>\n      <td>0.0</td>\n      <td>0.0</td>\n      <td>0.0</td>\n      <td>1.0</td>\n      <td>0.0</td>\n      <td>0.0</td>\n      <td>0.0</td>\n      <td>0.0</td>\n      <td>0.0</td>\n      <td>0.0</td>\n      <td>...</td>\n      <td>0</td>\n      <td>0.0</td>\n      <td>8i6ila3Nc4jinPNHN1dlrQ</td>\n      <td>Food, Food Trucks, Restaurants, American (Trad...</td>\n      <td>Tucson</td>\n      <td>32.268074</td>\n      <td>-110.992390</td>\n      <td>RJ's American Asian</td>\n      <td>85705</td>\n      <td>AZ</td>\n    </tr>\n    <tr>\n      <th>35</th>\n      <td>0.0</td>\n      <td>0.0</td>\n      <td>0.0</td>\n      <td>1.0</td>\n      <td>0.0</td>\n      <td>0.0</td>\n      <td>0.0</td>\n      <td>0.0</td>\n      <td>0.0</td>\n      <td>0.0</td>\n      <td>...</td>\n      <td>0</td>\n      <td>6342 E Calle Bellatrix</td>\n      <td>kKFvz2WbItYFDo0TL5MuQg</td>\n      <td>Event Planning &amp; Services, Photographers</td>\n      <td>Tucson</td>\n      <td>32.203074</td>\n      <td>-110.856299</td>\n      <td>JW Photography</td>\n      <td>85710</td>\n      <td>AZ</td>\n    </tr>\n    <tr>\n      <th>36</th>\n      <td>0.0</td>\n      <td>0.0</td>\n      <td>0.0</td>\n      <td>1.0</td>\n      <td>0.0</td>\n      <td>0.0</td>\n      <td>0.0</td>\n      <td>0.0</td>\n      <td>0.0</td>\n      <td>0.0</td>\n      <td>...</td>\n      <td>0</td>\n      <td>7937 N Oracle Rd</td>\n      <td>DhrwdwGXn0i546zhtEX05w</td>\n      <td>Gyms, Fitness &amp; Instruction, Trainers, Active ...</td>\n      <td>Tucson</td>\n      <td>32.350738</td>\n      <td>-110.975210</td>\n      <td>Anytime Fitness</td>\n      <td>85704</td>\n      <td>AZ</td>\n    </tr>\n    <tr>\n      <th>37</th>\n      <td>0.0</td>\n      <td>0.0</td>\n      <td>0.0</td>\n      <td>1.0</td>\n      <td>0.0</td>\n      <td>0.0</td>\n      <td>0.0</td>\n      <td>0.0</td>\n      <td>0.0</td>\n      <td>0.0</td>\n      <td>...</td>\n      <td>0</td>\n      <td>5974 E Speedway Blvd</td>\n      <td>1zH64OW9y9itzJ0kff7elg</td>\n      <td>Car Dealers, Motorcycle Dealers, Automotive</td>\n      <td>Tucson</td>\n      <td>32.235770</td>\n      <td>-110.864807</td>\n      <td>Too Hot Motors</td>\n      <td>85712</td>\n      <td>AZ</td>\n    </tr>\n    <tr>\n      <th>38</th>\n      <td>0.0</td>\n      <td>0.0</td>\n      <td>0.0</td>\n      <td>1.0</td>\n      <td>0.0</td>\n      <td>0.0</td>\n      <td>0.0</td>\n      <td>0.0</td>\n      <td>0.0</td>\n      <td>0.0</td>\n      <td>...</td>\n      <td>0</td>\n      <td>2525 N Tucson Blvd</td>\n      <td>m0XskQQMaEId9-4NfaWBwQ</td>\n      <td>Self Storage, Local Services</td>\n      <td>Tucson</td>\n      <td>32.252737</td>\n      <td>-110.935720</td>\n      <td>Extra Space Storage</td>\n      <td>85716</td>\n      <td>AZ</td>\n    </tr>\n    <tr>\n      <th>39</th>\n      <td>0.0</td>\n      <td>0.0</td>\n      <td>0.0</td>\n      <td>1.0</td>\n      <td>0.0</td>\n      <td>0.0</td>\n      <td>0.0</td>\n      <td>0.0</td>\n      <td>0.0</td>\n      <td>0.0</td>\n      <td>...</td>\n      <td>0</td>\n      <td>22nd Street &amp; Craycroft Rd, Ste 100</td>\n      <td>xhDaRLEV9TGOzjHAfyUN0A</td>\n      <td>Junk Removal &amp; Hauling, Oil Change Stations, E...</td>\n      <td>Tucson</td>\n      <td>32.206798</td>\n      <td>-110.875200</td>\n      <td>Automotive Masters Mobile Mechanics</td>\n      <td>85730</td>\n      <td>AZ</td>\n    </tr>\n    <tr>\n      <th>40</th>\n      <td>0.0</td>\n      <td>0.0</td>\n      <td>0.0</td>\n      <td>1.0</td>\n      <td>0.0</td>\n      <td>0.0</td>\n      <td>0.0</td>\n      <td>0.0</td>\n      <td>0.0</td>\n      <td>0.0</td>\n      <td>...</td>\n      <td>0</td>\n      <td>5300 N Casa Grande Hwy</td>\n      <td>ppAvOHMAMS5-p0jWmuRPmA</td>\n      <td>Home Services, Contractors</td>\n      <td>Tucson</td>\n      <td>32.303539</td>\n      <td>-111.036959</td>\n      <td>Granite Kitchen and Bath</td>\n      <td>85743</td>\n      <td>AZ</td>\n    </tr>\n    <tr>\n      <th>41</th>\n      <td>0.0</td>\n      <td>0.0</td>\n      <td>0.0</td>\n      <td>1.0</td>\n      <td>0.0</td>\n      <td>0.0</td>\n      <td>0.0</td>\n      <td>0.0</td>\n      <td>0.0</td>\n      <td>0.0</td>\n      <td>...</td>\n      <td>0</td>\n      <td>4055 S Alvernon Way</td>\n      <td>1fu1tqtk448kdWG1Wwu8lQ</td>\n      <td>Home Services, Local Services, Building Suppli...</td>\n      <td>Tucson</td>\n      <td>32.174936</td>\n      <td>-110.910207</td>\n      <td>Arizona Trucking &amp; Materials</td>\n      <td>85714</td>\n      <td>AZ</td>\n    </tr>\n    <tr>\n      <th>42</th>\n      <td>0.0</td>\n      <td>0.0</td>\n      <td>0.0</td>\n      <td>1.0</td>\n      <td>0.0</td>\n      <td>0.0</td>\n      <td>0.0</td>\n      <td>0.0</td>\n      <td>0.0</td>\n      <td>0.0</td>\n      <td>...</td>\n      <td>0</td>\n      <td>0.0</td>\n      <td>RkGG-GnqZXLtEr7ihMuwJw</td>\n      <td>Self Storage, Movers, Home Services, Handyman,...</td>\n      <td>Tucson</td>\n      <td>32.247930</td>\n      <td>-110.920859</td>\n      <td>Simple Moving And Storage</td>\n      <td>85716</td>\n      <td>AZ</td>\n    </tr>\n    <tr>\n      <th>43</th>\n      <td>0.0</td>\n      <td>0.0</td>\n      <td>0.0</td>\n      <td>1.0</td>\n      <td>0.0</td>\n      <td>0.0</td>\n      <td>0.0</td>\n      <td>0.0</td>\n      <td>0.0</td>\n      <td>0.0</td>\n      <td>...</td>\n      <td>0</td>\n      <td>7990 E Snyder Rd</td>\n      <td>dyhrzHI0WW5oLFOBwdWdig</td>\n      <td>Auto Detailing, Auto Upholstery, Automotive, C...</td>\n      <td>Tucson</td>\n      <td>32.291999</td>\n      <td>-110.820931</td>\n      <td>Radiant Auto Detailing - Mobile</td>\n      <td>85750</td>\n      <td>AZ</td>\n    </tr>\n    <tr>\n      <th>44</th>\n      <td>0.0</td>\n      <td>0.0</td>\n      <td>0.0</td>\n      <td>1.0</td>\n      <td>0.0</td>\n      <td>0.0</td>\n      <td>0.0</td>\n      <td>0.0</td>\n      <td>0.0</td>\n      <td>0.0</td>\n      <td>...</td>\n      <td>0</td>\n      <td>2917 S Rocene Pl</td>\n      <td>pOclRz7WzvvQGGPzPxUJKg</td>\n      <td>Tree Services, Home Services, Landscaping</td>\n      <td>Tucson</td>\n      <td>32.187474</td>\n      <td>-110.797501</td>\n      <td>The Palminators</td>\n      <td>85730</td>\n      <td>AZ</td>\n    </tr>\n    <tr>\n      <th>45</th>\n      <td>0.0</td>\n      <td>0.0</td>\n      <td>0.0</td>\n      <td>1.0</td>\n      <td>0.0</td>\n      <td>0.0</td>\n      <td>0.0</td>\n      <td>0.0</td>\n      <td>0.0</td>\n      <td>0.0</td>\n      <td>...</td>\n      <td>0</td>\n      <td>4037 N Oracle Rd</td>\n      <td>9WC2zkCRKQHIF99T8l64RA</td>\n      <td>Automotive, Motorcycle Dealers, Motorcycle Repair</td>\n      <td>Tucson</td>\n      <td>32.279926</td>\n      <td>-110.978260</td>\n      <td>Indian Motorcycle - Tucson</td>\n      <td>85705</td>\n      <td>AZ</td>\n    </tr>\n    <tr>\n      <th>46</th>\n      <td>0.0</td>\n      <td>0.0</td>\n      <td>0.0</td>\n      <td>1.0</td>\n      <td>0.0</td>\n      <td>0.0</td>\n      <td>0.0</td>\n      <td>0.0</td>\n      <td>0.0</td>\n      <td>0.0</td>\n      <td>...</td>\n      <td>0</td>\n      <td>191 S Plumer Ave</td>\n      <td>tvXS_0gRf7vHhMId7Hqtaw</td>\n      <td>Auto Repair, Oil Change Stations, Tires, Autom...</td>\n      <td>Tucson</td>\n      <td>32.219763</td>\n      <td>-110.939068</td>\n      <td>Albert's AutoCare</td>\n      <td>85719</td>\n      <td>AZ</td>\n    </tr>\n    <tr>\n      <th>47</th>\n      <td>0.0</td>\n      <td>0.0</td>\n      <td>0.0</td>\n      <td>1.0</td>\n      <td>0.0</td>\n      <td>0.0</td>\n      <td>0.0</td>\n      <td>0.0</td>\n      <td>0.0</td>\n      <td>0.0</td>\n      <td>...</td>\n      <td>0</td>\n      <td>885 E Grant Rd</td>\n      <td>jE3xF9iPPrxVFmM09WxCPg</td>\n      <td>Automotive, Auto Parts &amp; Supplies</td>\n      <td>Tucson</td>\n      <td>32.250692</td>\n      <td>-110.957708</td>\n      <td>O'Reilly Auto Parts</td>\n      <td>85719</td>\n      <td>AZ</td>\n    </tr>\n    <tr>\n      <th>48</th>\n      <td>0.0</td>\n      <td>0.0</td>\n      <td>0.0</td>\n      <td>1.0</td>\n      <td>0.0</td>\n      <td>0.0</td>\n      <td>0.0</td>\n      <td>0.0</td>\n      <td>0.0</td>\n      <td>0.0</td>\n      <td>...</td>\n      <td>0</td>\n      <td>5190 N La Cholla Blvd</td>\n      <td>7z6NbCcTdW8m-z_-3v3gUw</td>\n      <td>Automotive, Body Shops</td>\n      <td>Tucson</td>\n      <td>32.301423</td>\n      <td>-111.011624</td>\n      <td>Finish Line Collision Center</td>\n      <td>85705</td>\n      <td>AZ</td>\n    </tr>\n    <tr>\n      <th>49</th>\n      <td>0.0</td>\n      <td>0.0</td>\n      <td>0.0</td>\n      <td>1.0</td>\n      <td>0.0</td>\n      <td>0.0</td>\n      <td>0.0</td>\n      <td>0.0</td>\n      <td>0.0</td>\n      <td>0.0</td>\n      <td>...</td>\n      <td>0</td>\n      <td>625 N Stone Ave</td>\n      <td>rBmpy_Y1UbBx8ggHlyb7hA</td>\n      <td>Automotive, Auto Parts &amp; Supplies, Auto Custom...</td>\n      <td>Tucson</td>\n      <td>32.229872</td>\n      <td>-110.972342</td>\n      <td>Arizona Truck Outfitters</td>\n      <td>85705</td>\n      <td>AZ</td>\n    </tr>\n  </tbody>\n</table>\n<p>50 rows × 67 columns</p>\n</div>"
     },
     "execution_count": 316,
     "metadata": {},
     "output_type": "execute_result"
    }
   ],
   "source": [
    "print(df_business_filtered_dropped_merged_kmeans.shape)\n",
    "df_business_filtered_dropped_merged_kmeans.shape"
   ],
   "metadata": {
    "collapsed": false,
    "pycharm": {
     "name": "#%%\n"
    }
   }
  },
  {
   "cell_type": "code",
   "execution_count": 317,
   "outputs": [],
   "source": [
    "df_business_filtered_dropped_merged_kmeans.to_csv(\n",
    "    r'/Users/at181903/PycharmProjects/IAproject/dataset/df_business_filtered_by_city.csv', index=False)"
   ],
   "metadata": {
    "collapsed": false,
    "pycharm": {
     "name": "#%%\n"
    }
   }
  },
  {
   "cell_type": "code",
   "execution_count": 318,
   "outputs": [],
   "source": [
    "# from sklearn.datasets import load_digits\n",
    "# from sklearn.decomposition import PCA\n",
    "#\n",
    "# # Load Data\n",
    "# data = load_digits().data\n",
    "# pca = PCA(2)\n",
    "#\n",
    "# print(data)\n",
    "#\n",
    "# #Transform the data\n",
    "# df = pca.fit_transform(data)\n",
    "#\n",
    "# #Getting unique labels\n",
    "# u_labels = np.unique(df_cluster_kmeans)\n",
    "#\n",
    "# #plotting the results:\n",
    "# for i in u_labels:\n",
    "#     plt.scatter(df[df_cluster_kmeans == i , 0] , df[df_cluster_kmeans == i , 1] , label = i)\n",
    "#\n",
    "# plt.legend()\n",
    "# plt.show()"
   ],
   "metadata": {
    "collapsed": false,
    "pycharm": {
     "name": "#%%\n"
    }
   }
  },
  {
   "cell_type": "code",
   "execution_count": 319,
   "outputs": [],
   "source": [
    "# plot_clusters('kmeans', df_business_merged_filtered_kmeans, 2, 5, 30, 15)"
   ],
   "metadata": {
    "collapsed": false,
    "pycharm": {
     "name": "#%%\n"
    }
   }
  }
 ],
 "metadata": {
  "kernelspec": {
   "display_name": "Python 3",
   "language": "python",
   "name": "python3"
  },
  "language_info": {
   "codemirror_mode": {
    "name": "ipython",
    "version": 2
   },
   "file_extension": ".py",
   "mimetype": "text/x-python",
   "name": "python",
   "nbconvert_exporter": "python",
   "pygments_lexer": "ipython2",
   "version": "2.7.6"
  }
 },
 "nbformat": 4,
 "nbformat_minor": 0
}