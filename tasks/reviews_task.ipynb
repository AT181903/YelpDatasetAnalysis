{
 "cells": [
  {
   "cell_type": "markdown",
   "source": [
    "# Automatic recognition of a positive or negative review\n",
    "\n",
    "Using [Yelp Open Dataset](https://www.yelp.com/dataset) this task will classify the reviews into positive and negative. Go ahead to learn more about it."
   ],
   "metadata": {
    "id": "uqcmt-OC9zM4",
    "pycharm": {
     "name": "#%% md\n"
    }
   }
  },
  {
   "cell_type": "markdown",
   "source": [
    "### Used libraries\n",
    "[Pandas](https://pandas.pydata.org/): most common, open source data analysis and manipulation tool.\n",
    "\n",
    "[NumPy](https://numpy.org/): used for mathematical support for some processes.\n",
    "\n",
    "[Matplotlib](https://matplotlib.org/): library used to create plots and interactive visualizations for our data.\n",
    "\n",
    "[text_processing](): our functions used for text manipulation."
   ],
   "metadata": {
    "collapsed": false,
    "pycharm": {
     "name": "#%% md\n"
    }
   }
  },
  {
   "cell_type": "code",
   "execution_count": 57,
   "outputs": [],
   "source": [
    "import pandas as pd\n",
    "import numpy as np\n",
    "import matplotlib.pyplot as plt\n",
    "from utils import text_processing"
   ],
   "metadata": {
    "collapsed": false,
    "pycharm": {
     "name": "#%%\n"
    }
   }
  },
  {
   "cell_type": "markdown",
   "source": [
    "## Get reviews dataset\n",
    "The reviews dataset was the first one that we used. It consists of the following features:\n",
    "- `review_id` [string, 22 character unique review id]\n",
    "- `user_id` [string, 22 character unique user id, maps to the user in user.json]\n",
    "- `business_id` [string, 22 character business id, maps to business in business.json]\n",
    "- `stars` [integer, star rating]\n",
    "- `date` [string, date formatted YYYY-MM-DD]\n",
    "- `text` [string, the review itself]\n",
    "- `useful` [integer, number of useful votes received by review]\n",
    "- `funny` [integer, number of funny votes received by review]\n",
    "- `cool` [integer, number of cool votes received by review]\n",
    "\n",
    "In order to increment performances on our computers we dropped some rows"
   ],
   "metadata": {
    "collapsed": false,
    "pycharm": {
     "name": "#%% md\n"
    }
   }
  },
  {
   "cell_type": "code",
   "execution_count": 58,
   "outputs": [],
   "source": [
    "df_review = pd.read_csv('../dataset/df_review_final.csv')"
   ],
   "metadata": {
    "collapsed": false,
    "pycharm": {
     "name": "#%%\n"
    }
   }
  },
  {
   "cell_type": "code",
   "execution_count": 59,
   "outputs": [
    {
     "name": "stdout",
     "output_type": "stream",
     "text": [
      "(2000, 12)\n"
     ]
    },
    {
     "data": {
      "text/plain": "   level_0  Unnamed: 0    index               review_id  \\\n0   498000      498000  6988282  L6zsWEUDU9YXUebwpgAgqg   \n1   498001      498001  6988283  a0K0z2CYdjzNhbaNtamfwA   \n2   498002      498002  6988284  UOFe76zu9BDiw_p2sZlV3A   \n3   498003      498003  6988285  RqhtufpeCo8IWJu2EP6NfQ   \n4   498004      498004  6988286  VjZxWK3DXOLHYsvVR_3xBw   \n\n                  user_id             business_id  stars  useful  funny  cool  \\\n0  Ug-LDocy4K5BXSWCeSiUwA  Jf0tFhcFPVCLQX74YzzuIw    5.0     1.0    0.0   0.0   \n1  Ks-94uQxlUzqtvXA-avP3A  G7NoESFUK571kBSlr-1AFA    1.0     1.0    0.0   0.0   \n2  in1MBQZJXjWyPXeM1xgZ0A  PXbA_eou5-TdVq_yeIPQBw    3.0     0.0    0.0   0.0   \n3  iEhpkdXhqA6ozUBwKYPPPA  X-qZBwsuOVwxjFFChEsW3A    3.0     2.0    0.0   0.0   \n4  3OIheSDSxLVbHxRJgUKJCA  k1yDRDZ4QCvNW9Wm9-IOaA    4.0     1.0    0.0   0.0   \n\n                                                text                 date  \n0  The food here is pretty delicious. Highly reco...  2017-01-21 03:01:25  \n1  I made the mistake of getting the Vernon on gl...  2015-09-12 22:14:13  \n2  I love this place for clothes, but the staff i...  2022-01-08 22:32:23  \n3  Recently opened in Westmount Mall so I had to ...  2015-07-13 23:44:26  \n4  Very nice restaurant. Home cooking style servi...  2018-08-03 02:02:44  ",
      "text/html": "<div>\n<style scoped>\n    .dataframe tbody tr th:only-of-type {\n        vertical-align: middle;\n    }\n\n    .dataframe tbody tr th {\n        vertical-align: top;\n    }\n\n    .dataframe thead th {\n        text-align: right;\n    }\n</style>\n<table border=\"1\" class=\"dataframe\">\n  <thead>\n    <tr style=\"text-align: right;\">\n      <th></th>\n      <th>level_0</th>\n      <th>Unnamed: 0</th>\n      <th>index</th>\n      <th>review_id</th>\n      <th>user_id</th>\n      <th>business_id</th>\n      <th>stars</th>\n      <th>useful</th>\n      <th>funny</th>\n      <th>cool</th>\n      <th>text</th>\n      <th>date</th>\n    </tr>\n  </thead>\n  <tbody>\n    <tr>\n      <th>0</th>\n      <td>498000</td>\n      <td>498000</td>\n      <td>6988282</td>\n      <td>L6zsWEUDU9YXUebwpgAgqg</td>\n      <td>Ug-LDocy4K5BXSWCeSiUwA</td>\n      <td>Jf0tFhcFPVCLQX74YzzuIw</td>\n      <td>5.0</td>\n      <td>1.0</td>\n      <td>0.0</td>\n      <td>0.0</td>\n      <td>The food here is pretty delicious. Highly reco...</td>\n      <td>2017-01-21 03:01:25</td>\n    </tr>\n    <tr>\n      <th>1</th>\n      <td>498001</td>\n      <td>498001</td>\n      <td>6988283</td>\n      <td>a0K0z2CYdjzNhbaNtamfwA</td>\n      <td>Ks-94uQxlUzqtvXA-avP3A</td>\n      <td>G7NoESFUK571kBSlr-1AFA</td>\n      <td>1.0</td>\n      <td>1.0</td>\n      <td>0.0</td>\n      <td>0.0</td>\n      <td>I made the mistake of getting the Vernon on gl...</td>\n      <td>2015-09-12 22:14:13</td>\n    </tr>\n    <tr>\n      <th>2</th>\n      <td>498002</td>\n      <td>498002</td>\n      <td>6988284</td>\n      <td>UOFe76zu9BDiw_p2sZlV3A</td>\n      <td>in1MBQZJXjWyPXeM1xgZ0A</td>\n      <td>PXbA_eou5-TdVq_yeIPQBw</td>\n      <td>3.0</td>\n      <td>0.0</td>\n      <td>0.0</td>\n      <td>0.0</td>\n      <td>I love this place for clothes, but the staff i...</td>\n      <td>2022-01-08 22:32:23</td>\n    </tr>\n    <tr>\n      <th>3</th>\n      <td>498003</td>\n      <td>498003</td>\n      <td>6988285</td>\n      <td>RqhtufpeCo8IWJu2EP6NfQ</td>\n      <td>iEhpkdXhqA6ozUBwKYPPPA</td>\n      <td>X-qZBwsuOVwxjFFChEsW3A</td>\n      <td>3.0</td>\n      <td>2.0</td>\n      <td>0.0</td>\n      <td>0.0</td>\n      <td>Recently opened in Westmount Mall so I had to ...</td>\n      <td>2015-07-13 23:44:26</td>\n    </tr>\n    <tr>\n      <th>4</th>\n      <td>498004</td>\n      <td>498004</td>\n      <td>6988286</td>\n      <td>VjZxWK3DXOLHYsvVR_3xBw</td>\n      <td>3OIheSDSxLVbHxRJgUKJCA</td>\n      <td>k1yDRDZ4QCvNW9Wm9-IOaA</td>\n      <td>4.0</td>\n      <td>1.0</td>\n      <td>0.0</td>\n      <td>0.0</td>\n      <td>Very nice restaurant. Home cooking style servi...</td>\n      <td>2018-08-03 02:02:44</td>\n    </tr>\n  </tbody>\n</table>\n</div>"
     },
     "execution_count": 59,
     "metadata": {},
     "output_type": "execute_result"
    }
   ],
   "source": [
    "df_review = df_review.iloc[498000:, :]\n",
    "df_review = df_review.reset_index()\n",
    "\n",
    "print(df_review.shape)\n",
    "df_review.head(5)"
   ],
   "metadata": {
    "collapsed": false,
    "pycharm": {
     "name": "#%%\n"
    }
   }
  },
  {
   "cell_type": "markdown",
   "source": [
    "### Create label\n",
    "A label is needed to train machine learning algorithms. To create it we take the number of stars and create a new feature \"review_rating\" with these values:\n",
    "- 1 if number of stars greater or equal to 4\n",
    "- 0 otherwise"
   ],
   "metadata": {
    "collapsed": false,
    "pycharm": {
     "name": "#%% md\n"
    }
   }
  },
  {
   "cell_type": "code",
   "execution_count": 60,
   "outputs": [
    {
     "data": {
      "text/plain": "   level_0  Unnamed: 0    index               review_id  \\\n0   498000      498000  6988282  L6zsWEUDU9YXUebwpgAgqg   \n1   498001      498001  6988283  a0K0z2CYdjzNhbaNtamfwA   \n2   498002      498002  6988284  UOFe76zu9BDiw_p2sZlV3A   \n3   498003      498003  6988285  RqhtufpeCo8IWJu2EP6NfQ   \n4   498004      498004  6988286  VjZxWK3DXOLHYsvVR_3xBw   \n\n                  user_id             business_id  stars  useful  funny  cool  \\\n0  Ug-LDocy4K5BXSWCeSiUwA  Jf0tFhcFPVCLQX74YzzuIw    5.0     1.0    0.0   0.0   \n1  Ks-94uQxlUzqtvXA-avP3A  G7NoESFUK571kBSlr-1AFA    1.0     1.0    0.0   0.0   \n2  in1MBQZJXjWyPXeM1xgZ0A  PXbA_eou5-TdVq_yeIPQBw    3.0     0.0    0.0   0.0   \n3  iEhpkdXhqA6ozUBwKYPPPA  X-qZBwsuOVwxjFFChEsW3A    3.0     2.0    0.0   0.0   \n4  3OIheSDSxLVbHxRJgUKJCA  k1yDRDZ4QCvNW9Wm9-IOaA    4.0     1.0    0.0   0.0   \n\n                                                text                 date  \\\n0  The food here is pretty delicious. Highly reco...  2017-01-21 03:01:25   \n1  I made the mistake of getting the Vernon on gl...  2015-09-12 22:14:13   \n2  I love this place for clothes, but the staff i...  2022-01-08 22:32:23   \n3  Recently opened in Westmount Mall so I had to ...  2015-07-13 23:44:26   \n4  Very nice restaurant. Home cooking style servi...  2018-08-03 02:02:44   \n\n   review_rating  \n0              1  \n1              0  \n2              0  \n3              0  \n4              1  ",
      "text/html": "<div>\n<style scoped>\n    .dataframe tbody tr th:only-of-type {\n        vertical-align: middle;\n    }\n\n    .dataframe tbody tr th {\n        vertical-align: top;\n    }\n\n    .dataframe thead th {\n        text-align: right;\n    }\n</style>\n<table border=\"1\" class=\"dataframe\">\n  <thead>\n    <tr style=\"text-align: right;\">\n      <th></th>\n      <th>level_0</th>\n      <th>Unnamed: 0</th>\n      <th>index</th>\n      <th>review_id</th>\n      <th>user_id</th>\n      <th>business_id</th>\n      <th>stars</th>\n      <th>useful</th>\n      <th>funny</th>\n      <th>cool</th>\n      <th>text</th>\n      <th>date</th>\n      <th>review_rating</th>\n    </tr>\n  </thead>\n  <tbody>\n    <tr>\n      <th>0</th>\n      <td>498000</td>\n      <td>498000</td>\n      <td>6988282</td>\n      <td>L6zsWEUDU9YXUebwpgAgqg</td>\n      <td>Ug-LDocy4K5BXSWCeSiUwA</td>\n      <td>Jf0tFhcFPVCLQX74YzzuIw</td>\n      <td>5.0</td>\n      <td>1.0</td>\n      <td>0.0</td>\n      <td>0.0</td>\n      <td>The food here is pretty delicious. Highly reco...</td>\n      <td>2017-01-21 03:01:25</td>\n      <td>1</td>\n    </tr>\n    <tr>\n      <th>1</th>\n      <td>498001</td>\n      <td>498001</td>\n      <td>6988283</td>\n      <td>a0K0z2CYdjzNhbaNtamfwA</td>\n      <td>Ks-94uQxlUzqtvXA-avP3A</td>\n      <td>G7NoESFUK571kBSlr-1AFA</td>\n      <td>1.0</td>\n      <td>1.0</td>\n      <td>0.0</td>\n      <td>0.0</td>\n      <td>I made the mistake of getting the Vernon on gl...</td>\n      <td>2015-09-12 22:14:13</td>\n      <td>0</td>\n    </tr>\n    <tr>\n      <th>2</th>\n      <td>498002</td>\n      <td>498002</td>\n      <td>6988284</td>\n      <td>UOFe76zu9BDiw_p2sZlV3A</td>\n      <td>in1MBQZJXjWyPXeM1xgZ0A</td>\n      <td>PXbA_eou5-TdVq_yeIPQBw</td>\n      <td>3.0</td>\n      <td>0.0</td>\n      <td>0.0</td>\n      <td>0.0</td>\n      <td>I love this place for clothes, but the staff i...</td>\n      <td>2022-01-08 22:32:23</td>\n      <td>0</td>\n    </tr>\n    <tr>\n      <th>3</th>\n      <td>498003</td>\n      <td>498003</td>\n      <td>6988285</td>\n      <td>RqhtufpeCo8IWJu2EP6NfQ</td>\n      <td>iEhpkdXhqA6ozUBwKYPPPA</td>\n      <td>X-qZBwsuOVwxjFFChEsW3A</td>\n      <td>3.0</td>\n      <td>2.0</td>\n      <td>0.0</td>\n      <td>0.0</td>\n      <td>Recently opened in Westmount Mall so I had to ...</td>\n      <td>2015-07-13 23:44:26</td>\n      <td>0</td>\n    </tr>\n    <tr>\n      <th>4</th>\n      <td>498004</td>\n      <td>498004</td>\n      <td>6988286</td>\n      <td>VjZxWK3DXOLHYsvVR_3xBw</td>\n      <td>3OIheSDSxLVbHxRJgUKJCA</td>\n      <td>k1yDRDZ4QCvNW9Wm9-IOaA</td>\n      <td>4.0</td>\n      <td>1.0</td>\n      <td>0.0</td>\n      <td>0.0</td>\n      <td>Very nice restaurant. Home cooking style servi...</td>\n      <td>2018-08-03 02:02:44</td>\n      <td>1</td>\n    </tr>\n  </tbody>\n</table>\n</div>"
     },
     "execution_count": 60,
     "metadata": {},
     "output_type": "execute_result"
    }
   ],
   "source": [
    "df_review['review_rating'] = np.where(df_review['stars'] >= 4, 1, 0)\n",
    "\n",
    "df_review.head(5)"
   ],
   "metadata": {
    "collapsed": false,
    "pycharm": {
     "name": "#%%\n"
    }
   }
  },
  {
   "cell_type": "markdown",
   "source": [
    "### Plot reviews\n",
    "Plot the distribution of positive and negative reviews"
   ],
   "metadata": {
    "collapsed": false,
    "pycharm": {
     "name": "#%% md\n"
    }
   }
  },
  {
   "cell_type": "code",
   "execution_count": 61,
   "outputs": [
    {
     "name": "stdout",
     "output_type": "stream",
     "text": [
      "Positive reviews: 1304\n",
      "Negative reviews: 696\n"
     ]
    },
    {
     "data": {
      "text/plain": "<Figure size 432x288 with 1 Axes>",
      "image/png": "[encoded data removed]"
     },
     "metadata": {
      "needs_background": "light"
     },
     "output_type": "display_data"
    }
   ],
   "source": [
    "positive_count = (df_review['review_rating'] == 1).sum()\n",
    "negative_count = (df_review['review_rating'] == 0).sum()\n",
    "\n",
    "print(\"Positive reviews:\", positive_count)\n",
    "\n",
    "print(\"Negative reviews:\", negative_count)\n",
    "\n",
    "objects = ('Positive', 'Negative')\n",
    "performance = [positive_count, negative_count]\n",
    "y_pos = np.arange(len(objects))\n",
    "\n",
    "plt.bar(y_pos, performance, align='center', alpha=0.5)\n",
    "plt.xticks(y_pos, objects)\n",
    "plt.ylabel('Count')\n",
    "plt.title('Rating reviews')\n",
    "\n",
    "plt.show()"
   ],
   "metadata": {
    "collapsed": false,
    "pycharm": {
     "name": "#%%\n"
    }
   }
  },
  {
   "cell_type": "markdown",
   "source": [
    "# Text preprocessing\n",
    "Actually we have only 1 feature: the review text. In order to use words as features we need to preprocess text. We created a python file (`text_processing.py`) dedicated to this aspect. Main steps are:\n",
    "- Expand: remove english language contrations (es. You're -> You are);\n",
    "- Tokenize: the text is cleaned of separators and special characters and then broken down into words;\n",
    "- Remove punctuation\n",
    "- Stemming: reducing derived words to their base form\n",
    "- Lemmatize: reduce inflected form of a word to its canonical form"
   ],
   "metadata": {
    "collapsed": false,
    "pycharm": {
     "name": "#%% md\n"
    }
   }
  },
  {
   "cell_type": "code",
   "execution_count": 62,
   "outputs": [
    {
     "data": {
      "text/plain": "                                                text  review_rating  \\\n0  The food here is pretty delicious. Highly reco...              1   \n1  I made the mistake of getting the Vernon on gl...              0   \n2  I love this place for clothes, but the staff i...              0   \n3  Recently opened in Westmount Mall so I had to ...              0   \n4  Very nice restaurant. Home cooking style servi...              1   \n\n                                       expanded_text  \\\n0  The food here is pretty delicious. Highly reco...   \n1  I made the mistake of getting the Vernon on gl...   \n2  I love this place for clothes, but the staff i...   \n3  Recently opened in Westmount Mall so I had to ...   \n4  Very nice restaurant. Home cooking style servi...   \n\n                                      tokenized_text  \\\n0  [The, food, here, is, pretty, delicious, ., Hi...   \n1  [I, made, the, mistake, of, getting, the, Vern...   \n2  [I, love, this, place, for, clothes, ,, but, t...   \n3  [Recently, opened, in, Westmount, Mall, so, I,...   \n4  [Very, nice, restaurant, ., Home, cooking, sty...   \n\n                                       no_punct_text  \\\n0  [The, food, here, is, pretty, delicious, Highl...   \n1  [I, made, the, mistake, of, getting, the, Vern...   \n2  [I, love, this, place, for, clothes, but, the,...   \n3  [Recently, opened, in, Westmount, Mall, so, I,...   \n4  [Very, nice, restaurant, Home, cooking, style,...   \n\n                                        stemmed_text  \\\n0  [the, food, here, is, pretti, delici, highli, ...   \n1  [i, made, the, mistak, of, get, the, vernon, o...   \n2  [i, love, thi, place, for, cloth, but, the, st...   \n3  [recent, open, in, westmount, mall, so, i, had...   \n4  [veri, nice, restaur, home, cook, style, serv,...   \n\n                                     lemmatized_text  \\\n0  [the, food, here, is, pretti, delici, highli, ...   \n1  [i, made, the, mistak, of, get, the, vernon, o...   \n2  [i, love, thi, place, for, cloth, but, the, st...   \n3  [recent, open, in, westmount, mall, so, i, had...   \n4  [veri, nice, restaur, home, cook, style, serv,...   \n\n                                      processed_text  \n0  the food here is pretti delici highli recommen...  \n1  i made the mistak of get the vernon on gluten ...  \n2  i love thi place for cloth but the staff is ru...  \n3  recent open in westmount mall so i had to chec...  \n4  veri nice restaur home cook style serv plate o...  ",
      "text/html": "<div>\n<style scoped>\n    .dataframe tbody tr th:only-of-type {\n        vertical-align: middle;\n    }\n\n    .dataframe tbody tr th {\n        vertical-align: top;\n    }\n\n    .dataframe thead th {\n        text-align: right;\n    }\n</style>\n<table border=\"1\" class=\"dataframe\">\n  <thead>\n    <tr style=\"text-align: right;\">\n      <th></th>\n      <th>text</th>\n      <th>review_rating</th>\n      <th>expanded_text</th>\n      <th>tokenized_text</th>\n      <th>no_punct_text</th>\n      <th>stemmed_text</th>\n      <th>lemmatized_text</th>\n      <th>processed_text</th>\n    </tr>\n  </thead>\n  <tbody>\n    <tr>\n      <th>0</th>\n      <td>The food here is pretty delicious. Highly reco...</td>\n      <td>1</td>\n      <td>The food here is pretty delicious. Highly reco...</td>\n      <td>[The, food, here, is, pretty, delicious, ., Hi...</td>\n      <td>[The, food, here, is, pretty, delicious, Highl...</td>\n      <td>[the, food, here, is, pretti, delici, highli, ...</td>\n      <td>[the, food, here, is, pretti, delici, highli, ...</td>\n      <td>the food here is pretti delici highli recommen...</td>\n    </tr>\n    <tr>\n      <th>1</th>\n      <td>I made the mistake of getting the Vernon on gl...</td>\n      <td>0</td>\n      <td>I made the mistake of getting the Vernon on gl...</td>\n      <td>[I, made, the, mistake, of, getting, the, Vern...</td>\n      <td>[I, made, the, mistake, of, getting, the, Vern...</td>\n      <td>[i, made, the, mistak, of, get, the, vernon, o...</td>\n      <td>[i, made, the, mistak, of, get, the, vernon, o...</td>\n      <td>i made the mistak of get the vernon on gluten ...</td>\n    </tr>\n    <tr>\n      <th>2</th>\n      <td>I love this place for clothes, but the staff i...</td>\n      <td>0</td>\n      <td>I love this place for clothes, but the staff i...</td>\n      <td>[I, love, this, place, for, clothes, ,, but, t...</td>\n      <td>[I, love, this, place, for, clothes, but, the,...</td>\n      <td>[i, love, thi, place, for, cloth, but, the, st...</td>\n      <td>[i, love, thi, place, for, cloth, but, the, st...</td>\n      <td>i love thi place for cloth but the staff is ru...</td>\n    </tr>\n    <tr>\n      <th>3</th>\n      <td>Recently opened in Westmount Mall so I had to ...</td>\n      <td>0</td>\n      <td>Recently opened in Westmount Mall so I had to ...</td>\n      <td>[Recently, opened, in, Westmount, Mall, so, I,...</td>\n      <td>[Recently, opened, in, Westmount, Mall, so, I,...</td>\n      <td>[recent, open, in, westmount, mall, so, i, had...</td>\n      <td>[recent, open, in, westmount, mall, so, i, had...</td>\n      <td>recent open in westmount mall so i had to chec...</td>\n    </tr>\n    <tr>\n      <th>4</th>\n      <td>Very nice restaurant. Home cooking style servi...</td>\n      <td>1</td>\n      <td>Very nice restaurant. Home cooking style servi...</td>\n      <td>[Very, nice, restaurant, ., Home, cooking, sty...</td>\n      <td>[Very, nice, restaurant, Home, cooking, style,...</td>\n      <td>[veri, nice, restaur, home, cook, style, serv,...</td>\n      <td>[veri, nice, restaur, home, cook, style, serv,...</td>\n      <td>veri nice restaur home cook style serv plate o...</td>\n    </tr>\n  </tbody>\n</table>\n</div>"
     },
     "execution_count": 62,
     "metadata": {},
     "output_type": "execute_result"
    }
   ],
   "source": [
    "df_review_text_rating = df_review[['text', 'review_rating']].copy()\n",
    "text_processing.process_text(df_review_text_rating)\n",
    "df_review_text_rating.head(5)"
   ],
   "metadata": {
    "collapsed": false,
    "pycharm": {
     "name": "#%%\n"
    }
   }
  },
  {
   "cell_type": "markdown",
   "source": [
    "# Split dataframe\n",
    "\n",
    "We will split our dataframe in in training_set (80% of original dataframe) and test_set (20% of original dataframe). In addition,\n",
    "we use the class [TfidfVectorizer()](https://scikit-learn.org/stable/modules/generated/sklearn.feature_extraction.text.TfidfVectorizer.html), from [sklearn](https://scikit-learn.org/stable/), to convert a collection of raw documents into a TF-IDF feature matrix, where TF-IDF is a numerical statistic intended to reflect the importance of a word for a document in a collection or corpus.\n",
    "\n"
   ],
   "metadata": {
    "collapsed": false,
    "pycharm": {
     "name": "#%% md\n"
    }
   }
  },
  {
   "cell_type": "code",
   "execution_count": 63,
   "outputs": [],
   "source": [
    "from sklearn.model_selection import train_test_split\n",
    "from sklearn.feature_extraction.text import TfidfVectorizer"
   ],
   "metadata": {
    "collapsed": false,
    "pycharm": {
     "name": "#%%\n"
    }
   }
  },
  {
   "cell_type": "code",
   "execution_count": 64,
   "outputs": [],
   "source": [
    "X = df_review_text_rating[\"processed_text\"]\n",
    "y = df_review_text_rating[\"review_rating\"]\n",
    "\n",
    "# Training set = 80%\n",
    "# Test set = 20%\n",
    "X_train, X_test, y_train, y_test = train_test_split(X, y, test_size=0.2, random_state=4)"
   ],
   "metadata": {
    "collapsed": false,
    "pycharm": {
     "name": "#%%\n"
    }
   }
  },
  {
   "cell_type": "code",
   "execution_count": 65,
   "outputs": [],
   "source": [
    "vectorizer = TfidfVectorizer()\n",
    "X_train_vectorizer = vectorizer.fit_transform(X_train)\n",
    "X_test_vectorizer = vectorizer.transform(X_test)\n",
    "\n",
    "X_train_df = pd.DataFrame(columns=vectorizer.get_feature_names_out(), data=X_train_vectorizer.toarray())\n",
    "X_test_df = pd.DataFrame(columns=vectorizer.get_feature_names_out(), data=X_test_vectorizer.toarray())"
   ],
   "metadata": {
    "collapsed": false,
    "pycharm": {
     "name": "#%%\n"
    }
   }
  },
  {
   "cell_type": "code",
   "execution_count": 66,
   "outputs": [
    {
     "data": {
      "text/plain": "   aback  abandon  abbrevi  abd  abe  abid  abil  abita  abl     about  ...  \\\n0    0.0      0.0      0.0  0.0  0.0   0.0   0.0    0.0  0.0  0.000000  ...   \n1    0.0      0.0      0.0  0.0  0.0   0.0   0.0    0.0  0.0  0.061758  ...   \n2    0.0      0.0      0.0  0.0  0.0   0.0   0.0    0.0  0.0  0.073001  ...   \n3    0.0      0.0      0.0  0.0  0.0   0.0   0.0    0.0  0.0  0.000000  ...   \n4    0.0      0.0      0.0  0.0  0.0   0.0   0.0    0.0  0.0  0.000000  ...   \n\n   zucchini  zulu  zumba  zushi  zushipok  ànd  étouffé  ñwhat  über  糯米排骨  \n0       0.0   0.0    0.0    0.0       0.0  0.0      0.0    0.0   0.0   0.0  \n1       0.0   0.0    0.0    0.0       0.0  0.0      0.0    0.0   0.0   0.0  \n2       0.0   0.0    0.0    0.0       0.0  0.0      0.0    0.0   0.0   0.0  \n3       0.0   0.0    0.0    0.0       0.0  0.0      0.0    0.0   0.0   0.0  \n4       0.0   0.0    0.0    0.0       0.0  0.0      0.0    0.0   0.0   0.0  \n\n[5 rows x 8297 columns]",
      "text/html": "<div>\n<style scoped>\n    .dataframe tbody tr th:only-of-type {\n        vertical-align: middle;\n    }\n\n    .dataframe tbody tr th {\n        vertical-align: top;\n    }\n\n    .dataframe thead th {\n        text-align: right;\n    }\n</style>\n<table border=\"1\" class=\"dataframe\">\n  <thead>\n    <tr style=\"text-align: right;\">\n      <th></th>\n      <th>aback</th>\n      <th>abandon</th>\n      <th>abbrevi</th>\n      <th>abd</th>\n      <th>abe</th>\n      <th>abid</th>\n      <th>abil</th>\n      <th>abita</th>\n      <th>abl</th>\n      <th>about</th>\n      <th>...</th>\n      <th>zucchini</th>\n      <th>zulu</th>\n      <th>zumba</th>\n      <th>zushi</th>\n      <th>zushipok</th>\n      <th>ànd</th>\n      <th>étouffé</th>\n      <th>ñwhat</th>\n      <th>über</th>\n      <th>糯米排骨</th>\n    </tr>\n  </thead>\n  <tbody>\n    <tr>\n      <th>0</th>\n      <td>0.0</td>\n      <td>0.0</td>\n      <td>0.0</td>\n      <td>0.0</td>\n      <td>0.0</td>\n      <td>0.0</td>\n      <td>0.0</td>\n      <td>0.0</td>\n      <td>0.0</td>\n      <td>0.000000</td>\n      <td>...</td>\n      <td>0.0</td>\n      <td>0.0</td>\n      <td>0.0</td>\n      <td>0.0</td>\n      <td>0.0</td>\n      <td>0.0</td>\n      <td>0.0</td>\n      <td>0.0</td>\n      <td>0.0</td>\n      <td>0.0</td>\n    </tr>\n    <tr>\n      <th>1</th>\n      <td>0.0</td>\n      <td>0.0</td>\n      <td>0.0</td>\n      <td>0.0</td>\n      <td>0.0</td>\n      <td>0.0</td>\n      <td>0.0</td>\n      <td>0.0</td>\n      <td>0.0</td>\n      <td>0.061758</td>\n      <td>...</td>\n      <td>0.0</td>\n      <td>0.0</td>\n      <td>0.0</td>\n      <td>0.0</td>\n      <td>0.0</td>\n      <td>0.0</td>\n      <td>0.0</td>\n      <td>0.0</td>\n      <td>0.0</td>\n      <td>0.0</td>\n    </tr>\n    <tr>\n      <th>2</th>\n      <td>0.0</td>\n      <td>0.0</td>\n      <td>0.0</td>\n      <td>0.0</td>\n      <td>0.0</td>\n      <td>0.0</td>\n      <td>0.0</td>\n      <td>0.0</td>\n      <td>0.0</td>\n      <td>0.073001</td>\n      <td>...</td>\n      <td>0.0</td>\n      <td>0.0</td>\n      <td>0.0</td>\n      <td>0.0</td>\n      <td>0.0</td>\n      <td>0.0</td>\n      <td>0.0</td>\n      <td>0.0</td>\n      <td>0.0</td>\n      <td>0.0</td>\n    </tr>\n    <tr>\n      <th>3</th>\n      <td>0.0</td>\n      <td>0.0</td>\n      <td>0.0</td>\n      <td>0.0</td>\n      <td>0.0</td>\n      <td>0.0</td>\n      <td>0.0</td>\n      <td>0.0</td>\n      <td>0.0</td>\n      <td>0.000000</td>\n      <td>...</td>\n      <td>0.0</td>\n      <td>0.0</td>\n      <td>0.0</td>\n      <td>0.0</td>\n      <td>0.0</td>\n      <td>0.0</td>\n      <td>0.0</td>\n      <td>0.0</td>\n      <td>0.0</td>\n      <td>0.0</td>\n    </tr>\n    <tr>\n      <th>4</th>\n      <td>0.0</td>\n      <td>0.0</td>\n      <td>0.0</td>\n      <td>0.0</td>\n      <td>0.0</td>\n      <td>0.0</td>\n      <td>0.0</td>\n      <td>0.0</td>\n      <td>0.0</td>\n      <td>0.000000</td>\n      <td>...</td>\n      <td>0.0</td>\n      <td>0.0</td>\n      <td>0.0</td>\n      <td>0.0</td>\n      <td>0.0</td>\n      <td>0.0</td>\n      <td>0.0</td>\n      <td>0.0</td>\n      <td>0.0</td>\n      <td>0.0</td>\n    </tr>\n  </tbody>\n</table>\n<p>5 rows × 8297 columns</p>\n</div>"
     },
     "execution_count": 66,
     "metadata": {},
     "output_type": "execute_result"
    }
   ],
   "source": [
    "X_train_df.head(5)"
   ],
   "metadata": {
    "collapsed": false,
    "pycharm": {
     "name": "#%%\n"
    }
   }
  },
  {
   "cell_type": "code",
   "execution_count": 67,
   "outputs": [
    {
     "data": {
      "text/plain": "   aback  abandon  abbrevi  abd  abe  abid  abil  abita  abl  about  ...  \\\n0    0.0      0.0      0.0  0.0  0.0   0.0   0.0    0.0  0.0    0.0  ...   \n1    0.0      0.0      0.0  0.0  0.0   0.0   0.0    0.0  0.0    0.0  ...   \n2    0.0      0.0      0.0  0.0  0.0   0.0   0.0    0.0  0.0    0.0  ...   \n3    0.0      0.0      0.0  0.0  0.0   0.0   0.0    0.0  0.0    0.0  ...   \n4    0.0      0.0      0.0  0.0  0.0   0.0   0.0    0.0  0.0    0.0  ...   \n\n   zucchini  zulu  zumba  zushi  zushipok  ànd  étouffé  ñwhat  über  糯米排骨  \n0       0.0   0.0    0.0    0.0       0.0  0.0      0.0    0.0   0.0   0.0  \n1       0.0   0.0    0.0    0.0       0.0  0.0      0.0    0.0   0.0   0.0  \n2       0.0   0.0    0.0    0.0       0.0  0.0      0.0    0.0   0.0   0.0  \n3       0.0   0.0    0.0    0.0       0.0  0.0      0.0    0.0   0.0   0.0  \n4       0.0   0.0    0.0    0.0       0.0  0.0      0.0    0.0   0.0   0.0  \n\n[5 rows x 8297 columns]",
      "text/html": "<div>\n<style scoped>\n    .dataframe tbody tr th:only-of-type {\n        vertical-align: middle;\n    }\n\n    .dataframe tbody tr th {\n        vertical-align: top;\n    }\n\n    .dataframe thead th {\n        text-align: right;\n    }\n</style>\n<table border=\"1\" class=\"dataframe\">\n  <thead>\n    <tr style=\"text-align: right;\">\n      <th></th>\n      <th>aback</th>\n      <th>abandon</th>\n      <th>abbrevi</th>\n      <th>abd</th>\n      <th>abe</th>\n      <th>abid</th>\n      <th>abil</th>\n      <th>abita</th>\n      <th>abl</th>\n      <th>about</th>\n      <th>...</th>\n      <th>zucchini</th>\n      <th>zulu</th>\n      <th>zumba</th>\n      <th>zushi</th>\n      <th>zushipok</th>\n      <th>ànd</th>\n      <th>étouffé</th>\n      <th>ñwhat</th>\n      <th>über</th>\n      <th>糯米排骨</th>\n    </tr>\n  </thead>\n  <tbody>\n    <tr>\n      <th>0</th>\n      <td>0.0</td>\n      <td>0.0</td>\n      <td>0.0</td>\n      <td>0.0</td>\n      <td>0.0</td>\n      <td>0.0</td>\n      <td>0.0</td>\n      <td>0.0</td>\n      <td>0.0</td>\n      <td>0.0</td>\n      <td>...</td>\n      <td>0.0</td>\n      <td>0.0</td>\n      <td>0.0</td>\n      <td>0.0</td>\n      <td>0.0</td>\n      <td>0.0</td>\n      <td>0.0</td>\n      <td>0.0</td>\n      <td>0.0</td>\n      <td>0.0</td>\n    </tr>\n    <tr>\n      <th>1</th>\n      <td>0.0</td>\n      <td>0.0</td>\n      <td>0.0</td>\n      <td>0.0</td>\n      <td>0.0</td>\n      <td>0.0</td>\n      <td>0.0</td>\n      <td>0.0</td>\n      <td>0.0</td>\n      <td>0.0</td>\n      <td>...</td>\n      <td>0.0</td>\n      <td>0.0</td>\n      <td>0.0</td>\n      <td>0.0</td>\n      <td>0.0</td>\n      <td>0.0</td>\n      <td>0.0</td>\n      <td>0.0</td>\n      <td>0.0</td>\n      <td>0.0</td>\n    </tr>\n    <tr>\n      <th>2</th>\n      <td>0.0</td>\n      <td>0.0</td>\n      <td>0.0</td>\n      <td>0.0</td>\n      <td>0.0</td>\n      <td>0.0</td>\n      <td>0.0</td>\n      <td>0.0</td>\n      <td>0.0</td>\n      <td>0.0</td>\n      <td>...</td>\n      <td>0.0</td>\n      <td>0.0</td>\n      <td>0.0</td>\n      <td>0.0</td>\n      <td>0.0</td>\n      <td>0.0</td>\n      <td>0.0</td>\n      <td>0.0</td>\n      <td>0.0</td>\n      <td>0.0</td>\n    </tr>\n    <tr>\n      <th>3</th>\n      <td>0.0</td>\n      <td>0.0</td>\n      <td>0.0</td>\n      <td>0.0</td>\n      <td>0.0</td>\n      <td>0.0</td>\n      <td>0.0</td>\n      <td>0.0</td>\n      <td>0.0</td>\n      <td>0.0</td>\n      <td>...</td>\n      <td>0.0</td>\n      <td>0.0</td>\n      <td>0.0</td>\n      <td>0.0</td>\n      <td>0.0</td>\n      <td>0.0</td>\n      <td>0.0</td>\n      <td>0.0</td>\n      <td>0.0</td>\n      <td>0.0</td>\n    </tr>\n    <tr>\n      <th>4</th>\n      <td>0.0</td>\n      <td>0.0</td>\n      <td>0.0</td>\n      <td>0.0</td>\n      <td>0.0</td>\n      <td>0.0</td>\n      <td>0.0</td>\n      <td>0.0</td>\n      <td>0.0</td>\n      <td>0.0</td>\n      <td>...</td>\n      <td>0.0</td>\n      <td>0.0</td>\n      <td>0.0</td>\n      <td>0.0</td>\n      <td>0.0</td>\n      <td>0.0</td>\n      <td>0.0</td>\n      <td>0.0</td>\n      <td>0.0</td>\n      <td>0.0</td>\n    </tr>\n  </tbody>\n</table>\n<p>5 rows × 8297 columns</p>\n</div>"
     },
     "execution_count": 67,
     "metadata": {},
     "output_type": "execute_result"
    }
   ],
   "source": [
    "X_test_df.head(5)"
   ],
   "metadata": {
    "collapsed": false,
    "pycharm": {
     "name": "#%%\n"
    }
   }
  },
  {
   "cell_type": "markdown",
   "source": [
    "# Algorithms\n",
    "After dataset processing we'll train the following algorithms and analyze results:\n",
    "- [AdaBoostClassifier](https://scikit-learn.org/stable/modules/generated/sklearn.ensemble.AdaBoostClassifier.html)\n",
    "- [GaussianNB](https://scikit-learn.org/stable/modules/generated/sklearn.naive_bayes.GaussianNB.html)\n",
    "- [DecisionTreeClassifier](https://scikit-learn.org/stable/modules/generated/sklearn.tree.DecisionTreeClassifier.html)\n",
    "- [LogisticRegression](https://scikit-learn.org/stable/modules/generated/sklearn.linear_model.LogisticRegression.html)\n",
    "- [KNeighborsClassifier](https://scikit-learn.org/stable/modules/generated/sklearn.neighbors.KNeighborsClassifier.html)\n",
    "- [Support Vector Machine](https://scikit-learn.org/stable/modules/svm.html)\n",
    "- [RandomForestClassifier](https://scikit-learn.org/stable/modules/generated/sklearn.ensemble.RandomForestClassifier.html)\n",
    "\n",
    "In order to avoid code duplication, we created 3 functions that will be used for all algorithms.\n"
   ],
   "metadata": {
    "collapsed": false,
    "pycharm": {
     "name": "#%% md\n"
    }
   }
  },
  {
   "cell_type": "code",
   "execution_count": 68,
   "outputs": [],
   "source": [
    "from sklearn.neighbors import KNeighborsClassifier\n",
    "from sklearn.linear_model import LogisticRegression\n",
    "from sklearn.tree import DecisionTreeClassifier\n",
    "from sklearn.svm import SVC\n",
    "from sklearn.naive_bayes import GaussianNB\n",
    "from sklearn.ensemble import RandomForestClassifier, AdaBoostClassifier\n",
    "from sklearn.model_selection import GridSearchCV\n",
    "from sklearn.metrics import classification_report\n",
    "from sklearn.metrics import confusion_matrix\n",
    "import seaborn as sns"
   ],
   "metadata": {
    "collapsed": false,
    "pycharm": {
     "name": "#%%\n"
    }
   }
  },
  {
   "cell_type": "markdown",
   "source": [
    "### Get best parameters\n",
    "Using [GridSearchCV](https://scikit-learn.org/stable/modules/generated/sklearn.model_selection.GridSearchCV.html) we can get best parameter for each algorithm by execute an exhaustive search over specified parameter values."
   ],
   "metadata": {
    "collapsed": false,
    "pycharm": {
     "name": "#%% md\n"
    }
   }
  },
  {
   "cell_type": "code",
   "execution_count": 69,
   "outputs": [],
   "source": [
    "def get_best_parameters(algorithm, algorithm_parameters):\n",
    "    gs_algorithm = GridSearchCV(algorithm, algorithm_parameters, verbose=3, scoring='f1', n_jobs=-1)\n",
    "\n",
    "    gs_algorithm.fit(X_train_df, y_train)\n",
    "\n",
    "    print(gs_algorithm.best_params_)\n",
    "\n",
    "    # Find best model score\n",
    "    print(gs_algorithm.score(X_train_df, y_train))"
   ],
   "metadata": {
    "collapsed": false,
    "pycharm": {
     "name": "#%%\n"
    }
   }
  },
  {
   "cell_type": "markdown",
   "source": [
    "### Execute algorithm\n",
    "To get algorithm score we need to pass our training set to the fit method. After this we'll pass test set to predict in order to get test set score which will be used to compare all algorithms."
   ],
   "metadata": {
    "collapsed": false,
    "pycharm": {
     "name": "#%% md\n"
    }
   }
  },
  {
   "cell_type": "code",
   "execution_count": 70,
   "outputs": [],
   "source": [
    "def fit_and_predict(algorithm):\n",
    "\n",
    "    # Training model\n",
    "    algorithm.fit(X_train_df, y_train)\n",
    "\n",
    "    # Predicting the test set results\n",
    "    y_pred_algorithm = algorithm.predict(X_test_df)\n",
    "\n",
    "    # Training score\n",
    "    print(f\"Score on training set: {algorithm.score(X_train_df, y_train)}\")\n",
    "    print(f\"Score on test set: {algorithm.score(X_test_df, y_test)}\")\n",
    "\n",
    "    test_set_score = algorithm.score(X_test_df, y_test) * 100\n",
    "\n",
    "    return y_pred_algorithm, test_set_score"
   ],
   "metadata": {
    "collapsed": false,
    "pycharm": {
     "name": "#%%\n"
    }
   }
  },
  {
   "cell_type": "markdown",
   "source": [
    "### Confusion Matrix\n",
    "The confusion_matrix function evaluates classification accuracy by computing the Confusion Matrix that is one of the methods to graphically show how values were predicted by the machine learning algorithm, that is, whether there is \"confusion\" in the classification of different classes.\n",
    "Then we visually represent a confusion matrix using plot libraries."
   ],
   "metadata": {
    "collapsed": false,
    "pycharm": {
     "name": "#%% md\n"
    }
   }
  },
  {
   "cell_type": "code",
   "execution_count": 71,
   "outputs": [],
   "source": [
    "def confusion_matrix_plot(algorithm_name, y_pred_algorithm):\n",
    "    confusion_matrix_algorithm = confusion_matrix(y_test, y_pred_algorithm)\n",
    "    df_confusion_matrix = pd.DataFrame(confusion_matrix_algorithm, columns=['Predicted 0', 'Predicted 1'],\n",
    "                                           index=['True 0', 'True 1'])\n",
    "\n",
    "    sns.heatmap(df_confusion_matrix, annot=True, fmt='d')\n",
    "    plt.title(algorithm_name + \" confusion matrix\")\n",
    "    plt.figure(figsize=(24, 14), dpi=100)\n",
    "    plt.close()"
   ],
   "metadata": {
    "collapsed": false,
    "pycharm": {
     "name": "#%%\n"
    }
   }
  },
  {
   "cell_type": "markdown",
   "source": [
    "### Performance metrics\n",
    "For each algorithm we buil a text (and graphical) report showing the main classification metrics (Precision, Recall and F1-Score)."
   ],
   "metadata": {
    "collapsed": false,
    "pycharm": {
     "name": "#%% md\n"
    }
   }
  },
  {
   "cell_type": "code",
   "execution_count": 72,
   "outputs": [],
   "source": [
    "def classification_report_plot(algorithm_name, y_pred_algorithm):\n",
    "    classification_report_algorithm = classification_report(y_test, y_pred_algorithm, output_dict=True)\n",
    "    df_algorithm_report = pd.DataFrame(classification_report_algorithm).transpose()\n",
    "\n",
    "    df_algorithm_report.iloc[:3, :3].plot(kind='bar', title= algorithm_name + 'classification report', rot=0)\n",
    "\n",
    "    print(df_algorithm_report)"
   ],
   "metadata": {
    "collapsed": false,
    "pycharm": {
     "name": "#%%\n"
    }
   }
  },
  {
   "cell_type": "code",
   "execution_count": 73,
   "outputs": [],
   "source": [
    "# return score, confusion matrix, classification report\n",
    "def get_test_set_score(algorithm, algorithm_name, X_train_param, X_test_param):\n",
    "    y_pred_algorithm, test_set_score_algorithm = fit_and_predict(algorithm)\n",
    "    confusion_matrix_plot(algorithm_name, y_pred_algorithm)\n",
    "    classification_report_plot(algorithm_name, y_pred_algorithm)\n",
    "    return test_set_score_algorithm"
   ],
   "metadata": {
    "collapsed": false,
    "pycharm": {
     "name": "#%%\n"
    }
   }
  },
  {
   "cell_type": "markdown",
   "source": [
    "## AdaBoostClassifier\n",
    "AdaBoost classifier is a meta-estimator that begins by fitting a classifier on the original dataset and then fits additional copies of the classifier on the same dataset but where the weights of incorrectly classified instances are adjusted such that subsequent classifiers focus more on difficult cases."
   ],
   "metadata": {
    "collapsed": false,
    "pycharm": {
     "name": "#%% md\n"
    }
   }
  },
  {
   "cell_type": "code",
   "execution_count": 74,
   "outputs": [],
   "source": [
    "ada_name = 'ADA'"
   ],
   "metadata": {
    "collapsed": false,
    "pycharm": {
     "name": "#%%\n"
    }
   }
  },
  {
   "cell_type": "code",
   "execution_count": 75,
   "outputs": [],
   "source": [
    "# ada_parameters = {'n_estimators': [10, 50, 100, 250, 500],\n",
    "#               'learning_rate': [0.01, 0.1],\n",
    "#               'algorithm': ['SAMME', 'SAMME.R']}\n",
    "#\n",
    "# get_best_parameters(AdaBoostClassifier(), ada_parameters)"
   ],
   "metadata": {
    "collapsed": false,
    "pycharm": {
     "name": "#%%\n"
    }
   }
  },
  {
   "cell_type": "code",
   "execution_count": 76,
   "outputs": [
    {
     "name": "stdout",
     "output_type": "stream",
     "text": [
      "Score on training set: 0.899375\n",
      "Score on test set: 0.84\n"
     ]
    }
   ],
   "source": [
    "ada = AdaBoostClassifier(n_estimators=250, learning_rate=0.1, algorithm='SAMME.R')\n",
    "\n",
    "y_pred_ada, test_set_score_ada = fit_and_predict(ada)"
   ],
   "metadata": {
    "collapsed": false,
    "pycharm": {
     "name": "#%%\n"
    }
   }
  },
  {
   "cell_type": "code",
   "execution_count": 77,
   "outputs": [
    {
     "data": {
      "text/plain": "<Figure size 432x288 with 2 Axes>",
      "image/png": "[encoded data removed]"
     },
     "metadata": {
      "needs_background": "light"
     },
     "output_type": "display_data"
    }
   ],
   "source": [
    "confusion_matrix_plot(ada_name, y_pred_ada)"
   ],
   "metadata": {
    "collapsed": false,
    "pycharm": {
     "name": "#%%\n"
    }
   }
  },
  {
   "cell_type": "code",
   "execution_count": 78,
   "outputs": [
    {
     "name": "stdout",
     "output_type": "stream",
     "text": [
      "              precision    recall  f1-score  support\n",
      "0              0.844262  0.695946  0.762963   148.00\n",
      "1              0.838129  0.924603  0.879245   252.00\n",
      "accuracy       0.840000  0.840000  0.840000     0.84\n",
      "macro avg      0.841196  0.810275  0.821104   400.00\n",
      "weighted avg   0.840399  0.840000  0.836221   400.00\n"
     ]
    },
    {
     "data": {
      "text/plain": "<Figure size 432x288 with 1 Axes>",
      "image/png": "[encoded data removed]"
     },
     "metadata": {
      "needs_background": "light"
     },
     "output_type": "display_data"
    }
   ],
   "source": [
    "classification_report_plot(ada_name, y_pred_ada)"
   ],
   "metadata": {
    "collapsed": false,
    "pycharm": {
     "name": "#%%\n"
    }
   }
  },
  {
   "cell_type": "markdown",
   "source": [
    "## GaussianNB\n",
    "A Gaussian Naive Bayes algorithm is a special type of NB algorithm. It’s specifically used when the features have continuous values.\n"
   ],
   "metadata": {
    "collapsed": false,
    "pycharm": {
     "name": "#%% md\n"
    }
   }
  },
  {
   "cell_type": "code",
   "execution_count": 79,
   "outputs": [],
   "source": [
    "gnb_name = 'GNB'"
   ],
   "metadata": {
    "collapsed": false,
    "pycharm": {
     "name": "#%%\n"
    }
   }
  },
  {
   "cell_type": "code",
   "execution_count": 80,
   "outputs": [],
   "source": [
    "# gnb_parameters = {'var_smoothing' : np.logspace(0,-9, num=100)}\n",
    "#\n",
    "# get_best_parameters(GaussianNB(), gnb_parameters)"
   ],
   "metadata": {
    "collapsed": false,
    "pycharm": {
     "name": "#%%\n"
    }
   }
  },
  {
   "cell_type": "code",
   "execution_count": 81,
   "outputs": [
    {
     "name": "stdout",
     "output_type": "stream",
     "text": [
      "Score on training set: 0.97125\n",
      "Score on test set: 0.68\n"
     ]
    }
   ],
   "source": [
    "gnb = GaussianNB(var_smoothing=0.0008111308307896872)\n",
    "\n",
    "y_pred_gnb, test_set_score_gnb = fit_and_predict(gnb)"
   ],
   "metadata": {
    "collapsed": false,
    "pycharm": {
     "name": "#%%\n"
    }
   }
  },
  {
   "cell_type": "code",
   "execution_count": 82,
   "outputs": [
    {
     "data": {
      "text/plain": "<Figure size 432x288 with 2 Axes>",
      "image/png": "[encoded data removed]"
     },
     "metadata": {
      "needs_background": "light"
     },
     "output_type": "display_data"
    }
   ],
   "source": [
    "confusion_matrix_plot(gnb_name, y_pred_gnb)"
   ],
   "metadata": {
    "collapsed": false,
    "pycharm": {
     "name": "#%%\n"
    }
   }
  },
  {
   "cell_type": "code",
   "execution_count": 83,
   "outputs": [
    {
     "name": "stdout",
     "output_type": "stream",
     "text": [
      "              precision    recall  f1-score  support\n",
      "0              0.567568  0.567568  0.567568   148.00\n",
      "1              0.746032  0.746032  0.746032   252.00\n",
      "accuracy       0.680000  0.680000  0.680000     0.68\n",
      "macro avg      0.656800  0.656800  0.656800   400.00\n",
      "weighted avg   0.680000  0.680000  0.680000   400.00\n"
     ]
    },
    {
     "data": {
      "text/plain": "<Figure size 432x288 with 1 Axes>",
      "image/png": "[encoded data removed]"
     },
     "metadata": {
      "needs_background": "light"
     },
     "output_type": "display_data"
    }
   ],
   "source": [
    "classification_report_plot(gnb_name, y_pred_gnb)"
   ],
   "metadata": {
    "collapsed": false,
    "pycharm": {
     "name": "#%%\n"
    }
   }
  },
  {
   "cell_type": "markdown",
   "source": [],
   "metadata": {
    "collapsed": false,
    "pycharm": {
     "name": "#%% md\n"
    }
   }
  },
  {
   "cell_type": "markdown",
   "source": [
    "## DecisionTreeClassifier\n",
    "Decision Trees (DTs) are a non-parametric supervised learning method used for classification and regression. The goal is to create a model that predicts the value of a target variable by learning simple decision rules inferred from the data features. A tree can be seen as a piecewise constant approximation.\n",
    "\n",
    "Some advantages of decision trees are:\n",
    "\n",
    "- Simple to understand and to interpret. Trees can be visualized.\n",
    "- Requires little data preparation.\n",
    "- The cost of using the tree (i.e., predicting data) is logarithmic in the number of data points used to train the tree.\n",
    "- Able to handle multi-output problems.\n",
    "- Possible to validate a model using statistical tests. That makes it possible to account for the reliability of the model.\n",
    "\n",
    "The disadvantages of decision trees include:\n",
    "\n",
    "- Decision-tree learners can create over-complex trees that do not generalize the data well. This is called overfitting.\n",
    "- Decision trees can be unstable because small variations in the data might result in a completely different tree being generated. This problem is mitigated by using decision trees within an ensemble.\n",
    "- There are concepts that are hard to learn because decision trees do not express them easily, such as XOR, parity or multiplexer problems."
   ],
   "metadata": {
    "collapsed": false,
    "pycharm": {
     "name": "#%% md\n"
    }
   }
  },
  {
   "cell_type": "code",
   "execution_count": 84,
   "outputs": [],
   "source": [
    "dtc_name = 'DTC'"
   ],
   "metadata": {
    "collapsed": false,
    "pycharm": {
     "name": "#%%\n"
    }
   }
  },
  {
   "cell_type": "code",
   "execution_count": 85,
   "outputs": [],
   "source": [
    "# dtc_parameters = {'splitter': ['best', 'random'],\n",
    "#                   'max_features': ['auto', 'sqrt', 'log2', None],\n",
    "#                   'random_state': [7, 42, 101]}\n",
    "#\n",
    "# get_best_parameters(DecisionTreeClassifier(), dtc_parameters)"
   ],
   "metadata": {
    "collapsed": false,
    "pycharm": {
     "name": "#%%\n"
    }
   }
  },
  {
   "cell_type": "code",
   "execution_count": 86,
   "outputs": [
    {
     "name": "stdout",
     "output_type": "stream",
     "text": [
      "Score on training set: 1.0\n",
      "Score on test set: 0.7125\n"
     ]
    }
   ],
   "source": [
    "dtc = DecisionTreeClassifier(splitter='random', max_features=None, random_state=7)\n",
    "\n",
    "y_pred_dtc, test_set_score_dtc = fit_and_predict(dtc)"
   ],
   "metadata": {
    "collapsed": false,
    "pycharm": {
     "name": "#%%\n"
    }
   }
  },
  {
   "cell_type": "code",
   "execution_count": 87,
   "outputs": [
    {
     "data": {
      "text/plain": "<Figure size 432x288 with 2 Axes>",
      "image/png": "[encoded data removed]"
     },
     "metadata": {
      "needs_background": "light"
     },
     "output_type": "display_data"
    }
   ],
   "source": [
    "confusion_matrix_plot(dtc_name, y_pred_dtc)"
   ],
   "metadata": {
    "collapsed": false,
    "pycharm": {
     "name": "#%%\n"
    }
   }
  },
  {
   "cell_type": "code",
   "execution_count": 88,
   "outputs": [
    {
     "name": "stdout",
     "output_type": "stream",
     "text": [
      "              precision    recall  f1-score   support\n",
      "0              0.606452  0.635135  0.620462  148.0000\n",
      "1              0.779592  0.757937  0.768612  252.0000\n",
      "accuracy       0.712500  0.712500  0.712500    0.7125\n",
      "macro avg      0.693022  0.696536  0.694537  400.0000\n",
      "weighted avg   0.715530  0.712500  0.713796  400.0000\n"
     ]
    },
    {
     "data": {
      "text/plain": "<Figure size 432x288 with 1 Axes>",
      "image/png": "[encoded data removed]"
     },
     "metadata": {
      "needs_background": "light"
     },
     "output_type": "display_data"
    }
   ],
   "source": [
    "classification_report_plot(dtc_name, y_pred_dtc)"
   ],
   "metadata": {
    "collapsed": false,
    "pycharm": {
     "name": "#%%\n"
    }
   }
  },
  {
   "cell_type": "markdown",
   "source": [
    "## LogisticRegression\n",
    "Logistic Regression is a supervised learning technique which is used to evaluate the relationship between dependent and independent variables by probabilities using a logistic function. These probabilities will be transformed into binary values between 0 and 1 to proceed then with the prediction.\n",
    "\n",
    "This algorithm is used the most in binary classification problems such as predicting whether an email is a spam or not, whether a tumor is malignant or, like in our situation, tell if a review is positive or negative."
   ],
   "metadata": {
    "collapsed": false,
    "pycharm": {
     "name": "#%% md\n"
    }
   }
  },
  {
   "cell_type": "code",
   "execution_count": 89,
   "outputs": [],
   "source": [
    "lr_name = 'LR'"
   ],
   "metadata": {
    "collapsed": false,
    "pycharm": {
     "name": "#%%\n"
    }
   }
  },
  {
   "cell_type": "code",
   "execution_count": 90,
   "outputs": [],
   "source": [
    "# lr_parameters = {'C': [0.001, 0.01, 0.1, 1.0],\n",
    "#               'solver': ['liblinear', 'newton-cg', 'lbfgs', 'saga'],\n",
    "#               'random_state': [7, 42, 101]}\n",
    "#\n",
    "# get_best_parameters(LogisticRegression(), lr_parameters)"
   ],
   "metadata": {
    "collapsed": false,
    "pycharm": {
     "name": "#%%\n"
    }
   }
  },
  {
   "cell_type": "code",
   "execution_count": 91,
   "outputs": [
    {
     "name": "stdout",
     "output_type": "stream",
     "text": [
      "Score on training set: 0.914375\n",
      "Score on test set: 0.805\n"
     ]
    }
   ],
   "source": [
    "lr = LogisticRegression(C=1.0, solver='newton-cg', random_state=7)\n",
    "\n",
    "y_pred_lr, test_set_score_lr = fit_and_predict(lr)"
   ],
   "metadata": {
    "collapsed": false,
    "pycharm": {
     "name": "#%%\n"
    }
   }
  },
  {
   "cell_type": "code",
   "execution_count": 92,
   "outputs": [
    {
     "data": {
      "text/plain": "<Figure size 432x288 with 2 Axes>",
      "image/png": "[encoded data removed]"
     },
     "metadata": {
      "needs_background": "light"
     },
     "output_type": "display_data"
    }
   ],
   "source": [
    "confusion_matrix_plot(lr_name, y_pred_lr)"
   ],
   "metadata": {
    "collapsed": false,
    "pycharm": {
     "name": "#%%\n"
    }
   }
  },
  {
   "cell_type": "code",
   "execution_count": 93,
   "outputs": [
    {
     "name": "stdout",
     "output_type": "stream",
     "text": [
      "              precision    recall  f1-score  support\n",
      "0                0.8500  0.574324  0.685484  148.000\n",
      "1                0.7900  0.940476  0.858696  252.000\n",
      "accuracy         0.8050  0.805000  0.805000    0.805\n",
      "macro avg        0.8200  0.757400  0.772090  400.000\n",
      "weighted avg     0.8122  0.805000  0.794607  400.000\n"
     ]
    },
    {
     "data": {
      "text/plain": "<Figure size 432x288 with 1 Axes>",
      "image/png": "[encoded data removed]"
     },
     "metadata": {
      "needs_background": "light"
     },
     "output_type": "display_data"
    }
   ],
   "source": [
    "classification_report_plot(lr_name, y_pred_lr)"
   ],
   "metadata": {
    "collapsed": false,
    "pycharm": {
     "name": "#%%\n"
    }
   }
  },
  {
   "cell_type": "markdown",
   "source": [
    "## KNeighborsClassifier\n",
    "Neighbors-based classification is a type of instance-based learning or non-generalizing learning: it does not attempt to construct a general internal model, but simply stores instances of the training data. Classification is computed from a simple majority vote of the nearest neighbors of each point: a query point is assigned the data class which has the most representatives within the nearest neighbors of the point."
   ],
   "metadata": {
    "collapsed": false,
    "pycharm": {
     "name": "#%% md\n"
    }
   }
  },
  {
   "cell_type": "code",
   "execution_count": 94,
   "outputs": [],
   "source": [
    "knc_name = 'KNC'"
   ],
   "metadata": {
    "collapsed": false,
    "pycharm": {
     "name": "#%%\n"
    }
   }
  },
  {
   "cell_type": "code",
   "execution_count": 95,
   "outputs": [],
   "source": [
    "# knc_parameters = {'n_neighbors': [5, 6, 7, 8, 9, 10, 11, 12, 13, 14, 15, 16, 17, 18, 19, 20, 21, 22, 23, 24, 25, 26, 27, 28, 29, 30, 31],\n",
    "#               'algorithm': ['ball_tree']}\n",
    "#\n",
    "# get_best_parameters(KNeighborsClassifier(n_jobs=-1), knc_parameters)"
   ],
   "metadata": {
    "collapsed": false,
    "pycharm": {
     "name": "#%%\n"
    }
   }
  },
  {
   "cell_type": "code",
   "execution_count": 96,
   "outputs": [
    {
     "name": "stdout",
     "output_type": "stream",
     "text": [
      "Score on training set: 0.780625\n",
      "Score on test set: 0.7775\n"
     ]
    }
   ],
   "source": [
    "knc = KNeighborsClassifier(algorithm='ball_tree', n_neighbors=31, weights='uniform', n_jobs=-1)\n",
    "\n",
    "y_pred_knc, test_set_score_knc = fit_and_predict(knc)"
   ],
   "metadata": {
    "collapsed": false,
    "pycharm": {
     "name": "#%%\n"
    }
   }
  },
  {
   "cell_type": "code",
   "execution_count": 97,
   "outputs": [
    {
     "data": {
      "text/plain": "<Figure size 432x288 with 2 Axes>",
      "image/png": "[encoded data removed]"
     },
     "metadata": {
      "needs_background": "light"
     },
     "output_type": "display_data"
    }
   ],
   "source": [
    "confusion_matrix_plot(knc_name, y_pred_knc)"
   ],
   "metadata": {
    "collapsed": false,
    "pycharm": {
     "name": "#%%\n"
    }
   }
  },
  {
   "cell_type": "code",
   "execution_count": 98,
   "outputs": [
    {
     "name": "stdout",
     "output_type": "stream",
     "text": [
      "              precision    recall  f1-score   support\n",
      "0              0.700680  0.695946  0.698305  148.0000\n",
      "1              0.822134  0.825397  0.823762  252.0000\n",
      "accuracy       0.777500  0.777500  0.777500    0.7775\n",
      "macro avg      0.761407  0.760671  0.761034  400.0000\n",
      "weighted avg   0.777196  0.777500  0.777343  400.0000\n"
     ]
    },
    {
     "data": {
      "text/plain": "<Figure size 432x288 with 1 Axes>",
      "image/png": "[encoded data removed]"
     },
     "metadata": {
      "needs_background": "light"
     },
     "output_type": "display_data"
    }
   ],
   "source": [
    "classification_report_plot(knc_name, y_pred_knc)"
   ],
   "metadata": {
    "collapsed": false,
    "pycharm": {
     "name": "#%%\n"
    }
   }
  },
  {
   "cell_type": "markdown",
   "source": [
    "## Support Vector Machine\n",
    "Support vector machines (SVMs) are a set of supervised learning methods used for classification, regression and outliers detection.\n",
    "\n",
    "The advantages of support vector machines are:\n",
    "\n",
    "- Effective in high dimensional spaces.\n",
    "- Still effective in cases where number of dimensions is greater than the number of samples.\n",
    "- Uses a subset of training points in the decision function (called support vectors), so it is also memory efficient.\n",
    "- Versatile: different Kernel functions can be specified for the decision function. Common kernels are provided, but it is also possible to specify custom kernels.\n",
    "\n",
    "The disadvantages of support vector machines include:\n",
    "- If the number of features is much greater than the number of samples, avoid over-fitting in choosing Kernel functions and regularization term is crucial.\n",
    "- SVMs do not directly provide probability estimates, these are calculated using an expensive five-fold cross-validation (see Scores and probabilities, below).\n"
   ],
   "metadata": {
    "collapsed": false,
    "pycharm": {
     "name": "#%% md\n"
    }
   }
  },
  {
   "cell_type": "code",
   "execution_count": 99,
   "outputs": [],
   "source": [
    "svc_name = 'SVC'"
   ],
   "metadata": {
    "collapsed": false,
    "pycharm": {
     "name": "#%%\n"
    }
   }
  },
  {
   "cell_type": "code",
   "execution_count": 100,
   "outputs": [],
   "source": [
    "# svc_parameters = {'C': [0.001, 0.01, 0.1, 1.0],\n",
    "#               'kernel': ['linear', 'rbf', 'sigmoid', 'poly'],\n",
    "#               'decision_function_shape': ['ovo', 'ovr']}\n",
    "#\n",
    "# get_best_parameters(SVC(), svc_parameters)"
   ],
   "metadata": {
    "collapsed": false,
    "pycharm": {
     "name": "#%%\n"
    }
   }
  },
  {
   "cell_type": "code",
   "execution_count": 101,
   "outputs": [
    {
     "name": "stdout",
     "output_type": "stream",
     "text": [
      "Score on training set: 0.976875\n",
      "Score on test set: 0.85\n"
     ]
    }
   ],
   "source": [
    "svc = SVC(C=1.0, kernel='linear', decision_function_shape='ovo')\n",
    "\n",
    "y_pred_svc, test_set_score_svc = fit_and_predict(svc)"
   ],
   "metadata": {
    "collapsed": false,
    "pycharm": {
     "name": "#%%\n"
    }
   }
  },
  {
   "cell_type": "code",
   "execution_count": 102,
   "outputs": [
    {
     "data": {
      "text/plain": "<Figure size 432x288 with 2 Axes>",
      "image/png": "[encoded data removed]"
     },
     "metadata": {
      "needs_background": "light"
     },
     "output_type": "display_data"
    }
   ],
   "source": [
    "confusion_matrix_plot(svc_name, y_pred_svc)"
   ],
   "metadata": {
    "collapsed": false,
    "pycharm": {
     "name": "#%%\n"
    }
   }
  },
  {
   "cell_type": "code",
   "execution_count": 103,
   "outputs": [
    {
     "name": "stdout",
     "output_type": "stream",
     "text": [
      "              precision    recall  f1-score  support\n",
      "0              0.860656  0.709459  0.777778   148.00\n",
      "1              0.845324  0.932540  0.886792   252.00\n",
      "accuracy       0.850000  0.850000  0.850000     0.85\n",
      "macro avg      0.852990  0.821000  0.832285   400.00\n",
      "weighted avg   0.850997  0.850000  0.846457   400.00\n"
     ]
    },
    {
     "data": {
      "text/plain": "<Figure size 432x288 with 1 Axes>",
      "image/png": "[encoded data removed]"
     },
     "metadata": {
      "needs_background": "light"
     },
     "output_type": "display_data"
    }
   ],
   "source": [
    "classification_report_plot(svc_name, y_pred_svc)"
   ],
   "metadata": {
    "collapsed": false,
    "pycharm": {
     "name": "#%%\n"
    }
   }
  },
  {
   "cell_type": "markdown",
   "source": [
    "## RandomForestClassifier\n",
    "This algorithm is a supervised learning technique where the \"forest\" terms points to a set of decision trees, obtained by aggregation using \"bagging\" algorithm, that should be trained. In fact, Random Forest builds multiple decision trees and merges them together to get a more accurate and stable prediction."
   ],
   "metadata": {
    "collapsed": false,
    "pycharm": {
     "name": "#%% md\n"
    }
   }
  },
  {
   "cell_type": "code",
   "execution_count": 104,
   "outputs": [],
   "source": [
    "rfc_name = 'RFC'"
   ],
   "metadata": {
    "collapsed": false,
    "pycharm": {
     "name": "#%%\n"
    }
   }
  },
  {
   "cell_type": "code",
   "execution_count": 105,
   "outputs": [],
   "source": [
    "# rfc_parameters = {'n_estimators': [10, 50, 100, 250, 500],\n",
    "#               'random_state': [7, 42, 101]}\n",
    "#\n",
    "# get_best_parameters(RandomForestClassifier(), rfc_parameters)"
   ],
   "metadata": {
    "collapsed": false,
    "pycharm": {
     "name": "#%%\n"
    }
   }
  },
  {
   "cell_type": "code",
   "execution_count": 106,
   "outputs": [
    {
     "name": "stdout",
     "output_type": "stream",
     "text": [
      "Score on training set: 1.0\n",
      "Score on test set: 0.78\n"
     ]
    }
   ],
   "source": [
    "rfc = RandomForestClassifier(n_estimators=100, n_jobs=-1, random_state=42)\n",
    "\n",
    "y_pred_rfc, test_set_score_rfc = fit_and_predict(rfc)"
   ],
   "metadata": {
    "collapsed": false,
    "pycharm": {
     "name": "#%%\n"
    }
   }
  },
  {
   "cell_type": "code",
   "execution_count": 107,
   "outputs": [
    {
     "data": {
      "text/plain": "<Figure size 432x288 with 2 Axes>",
      "image/png": "[encoded data removed]"
     },
     "metadata": {
      "needs_background": "light"
     },
     "output_type": "display_data"
    }
   ],
   "source": [
    "confusion_matrix_plot(rfc_name, y_pred_rfc)"
   ],
   "metadata": {
    "collapsed": false,
    "pycharm": {
     "name": "#%%\n"
    }
   }
  },
  {
   "cell_type": "code",
   "execution_count": 108,
   "outputs": [
    {
     "name": "stdout",
     "output_type": "stream",
     "text": [
      "              precision    recall  f1-score  support\n",
      "0              0.875000  0.472973  0.614035   148.00\n",
      "1              0.756250  0.960317  0.846154   252.00\n",
      "accuracy       0.780000  0.780000  0.780000     0.78\n",
      "macro avg      0.815625  0.716645  0.730094   400.00\n",
      "weighted avg   0.800187  0.780000  0.760270   400.00\n"
     ]
    },
    {
     "data": {
      "text/plain": "<Figure size 432x288 with 1 Axes>",
      "image/png": "[encoded data removed]"
     },
     "metadata": {
      "needs_background": "light"
     },
     "output_type": "display_data"
    }
   ],
   "source": [
    "classification_report_plot(rfc_name, y_pred_rfc)"
   ],
   "metadata": {
    "collapsed": false,
    "pycharm": {
     "name": "#%%\n"
    }
   }
  },
  {
   "cell_type": "markdown",
   "source": [
    "## Plot algorithm accuracy\n",
    "After running all the algorithms, we plot all the accuracies to decide the best algorithm to perform the task. In this case the best one is SVC."
   ],
   "metadata": {
    "collapsed": false,
    "pycharm": {
     "name": "#%% md\n"
    }
   }
  },
  {
   "cell_type": "code",
   "execution_count": 113,
   "outputs": [
    {
     "data": {
      "text/plain": "<Figure size 432x288 with 1 Axes>",
      "image/png": "[encoded data removed]"
     },
     "metadata": {
      "needs_background": "light"
     },
     "output_type": "display_data"
    }
   ],
   "source": [
    "labels = [ada_name, gnb_name, dtc_name, lr_name, knc_name, svc_name, rfc_name]\n",
    "score_values = [test_set_score_ada, test_set_score_gnb, test_set_score_dtc, test_set_score_lr, test_set_score_knc, test_set_score_svc, test_set_score_rfc]\n",
    "\n",
    "x = np.arange(len(labels)) # The label locations\n",
    "width = 0.35 # The width of the space between bar\n",
    "width_bar = 0.50\n",
    "\n",
    "fig, ax = plt.subplots()\n",
    "rects1 = ax.bar(x - width/2, score_values, width_bar, label='accuracy')\n",
    "\n",
    "# Add some text for labels, title and custom x-axis tick labels, etc.\n",
    "ax.set_ylabel('Scores')\n",
    "ax.set_title('Algorithm accuracy')\n",
    "ax.set_xticks(x - width/2, labels)\n",
    "\n",
    "ax.bar_label(rects1)\n",
    "\n",
    "fig.tight_layout()\n",
    "\n",
    "plt.show()"
   ],
   "metadata": {
    "collapsed": false,
    "pycharm": {
     "name": "#%%\n"
    }
   }
  },
  {
   "cell_type": "markdown",
   "source": [
    "# Export SVC Model\n",
    "We exported SVC model using Pickle in order to use it as prediction algorithm.\n",
    "\n",
    "[Pickle](https://docs.python.org/3/library/pickle.html) library is used for serializing a Python object structure."
   ],
   "metadata": {
    "collapsed": false,
    "pycharm": {
     "name": "#%% md\n"
    }
   }
  },
  {
   "cell_type": "code",
   "execution_count": 110,
   "outputs": [],
   "source": [
    "import pickle"
   ],
   "metadata": {
    "collapsed": false,
    "pycharm": {
     "name": "#%%\n"
    }
   }
  },
  {
   "cell_type": "code",
   "execution_count": 111,
   "outputs": [],
   "source": [
    "pickle.dump(svc, open('../models/svc_model.pkl', 'wb'))\n",
    "pickle.dump(vectorizer, open('../models/vectorizer.pkl', 'wb'))"
   ],
   "metadata": {
    "collapsed": false,
    "pycharm": {
     "name": "#%%\n"
    }
   }
  },
  {
   "cell_type": "markdown",
   "source": [
    "# Predict Review Test\n",
    "Test exported module. The code is in `predictions.py` because we'll use it later."
   ],
   "metadata": {
    "collapsed": false,
    "pycharm": {
     "name": "#%% md\n"
    }
   }
  },
  {
   "cell_type": "code",
   "execution_count": 112,
   "outputs": [
    {
     "data": {
      "text/plain": "array([0])"
     },
     "execution_count": 112,
     "metadata": {},
     "output_type": "execute_result"
    }
   ],
   "source": [
    "from utils import predictions\n",
    "\n",
    "predictions.predict_review(\"This restaurant is very very bad!\")"
   ],
   "metadata": {
    "collapsed": false,
    "pycharm": {
     "name": "#%%\n"
    }
   }
  }
 ],
 "metadata": {
  "kernelspec": {
   "display_name": "Python 3",
   "language": "python",
   "name": "python3"
  },
  "language_info": {
   "codemirror_mode": {
    "name": "ipython",
    "version": 2
   },
   "file_extension": ".py",
   "mimetype": "text/x-python",
   "name": "python",
   "nbconvert_exporter": "python",
   "pygments_lexer": "ipython2",
   "version": "2.7.6"
  },
  "colab": {
   "name": "Reviews.ipynb",
   "provenance": [],
   "collapsed_sections": []
  }
 },
 "nbformat": 4,
 "nbformat_minor": 0
}