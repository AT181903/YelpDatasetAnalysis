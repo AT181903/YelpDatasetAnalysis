{
 "cells": [
  {
   "cell_type": "code",
   "execution_count": 17,
   "metadata": {
    "collapsed": true,
    "pycharm": {
     "name": "#%%\n"
    }
   },
   "outputs": [],
   "source": [
    "import pandas as pd\n",
    "import expand_dataset"
   ]
  },
  {
   "cell_type": "code",
   "execution_count": 18,
   "outputs": [
    {
     "name": "stderr",
     "output_type": "stream",
     "text": [
      "C:\\Users\\giuli\\AppData\\Local\\Temp/ipykernel_14092/1239649067.py:2: DtypeWarning: Columns (27,30) have mixed types. Specify dtype option on import or set low_memory=False.\n",
      "  df_business = pd.read_csv('./dataset/df_business_dropped.csv')\n"
     ]
    }
   ],
   "source": [
    "# df_business = pd.read_csv('./dataset/df_business.csv')\n",
    "df_business = pd.read_csv('./dataset/df_business_dropped.csv')\n",
    "df_checkin = pd.read_csv('./dataset/df_checkin.csv')\n",
    "df_tip = pd.read_csv('./dataset/df_tip.csv')"
   ],
   "metadata": {
    "collapsed": false,
    "pycharm": {
     "name": "#%%\n"
    }
   }
  },
  {
   "cell_type": "code",
   "execution_count": 19,
   "outputs": [
    {
     "name": "stdout",
     "output_type": "stream",
     "text": [
      "150346\n"
     ]
    },
    {
     "data": {
      "text/plain": "  AcceptsInsurance AgesAllowed  Alcohol Ambience BYOB BYOBCorkage BestNights  \\\n0              NaN         NaN      NaN      NaN  NaN         NaN        NaN   \n1              NaN         NaN      NaN      NaN  NaN         NaN        NaN   \n2              NaN         NaN      NaN      NaN  NaN         NaN        NaN   \n3              NaN         NaN  u'none'      NaN  NaN         NaN        NaN   \n4              NaN         NaN      NaN      NaN  NaN         NaN        NaN   \n\n  BikeParking BusinessAcceptsBitcoin BusinessAcceptsCreditCards  ...  \\\n0         NaN                    NaN                        NaN  ...   \n1         NaN                    NaN                       True  ...   \n2        True                    NaN                       True  ...   \n3        True                    NaN                      False  ...   \n4        True                    NaN                       True  ...   \n\n    longitude    lot                      name postal_code review_count stars  \\\n0 -119.711197    NaN  Abby Rappoport, LAC, CMQ       93101            7   5.0   \n1  -90.335695    NaN             The UPS Store       63123           15   3.0   \n2 -110.880452   True                    Target       85711           22   3.5   \n3  -75.155564  False        St Honore Pastries       19107           80   4.0   \n4  -75.471659   True  Perkiomen Valley Brewery       18054           13   4.5   \n\n  state street  valet validated  \n0    CA    NaN    NaN       NaN  \n1    MO    NaN    NaN       NaN  \n2    AZ  False  False     False  \n3    PA   True  False     False  \n4    PA    NaN  False       NaN  \n\n[5 rows x 62 columns]",
      "text/html": "<div>\n<style scoped>\n    .dataframe tbody tr th:only-of-type {\n        vertical-align: middle;\n    }\n\n    .dataframe tbody tr th {\n        vertical-align: top;\n    }\n\n    .dataframe thead th {\n        text-align: right;\n    }\n</style>\n<table border=\"1\" class=\"dataframe\">\n  <thead>\n    <tr style=\"text-align: right;\">\n      <th></th>\n      <th>AcceptsInsurance</th>\n      <th>AgesAllowed</th>\n      <th>Alcohol</th>\n      <th>Ambience</th>\n      <th>BYOB</th>\n      <th>BYOBCorkage</th>\n      <th>BestNights</th>\n      <th>BikeParking</th>\n      <th>BusinessAcceptsBitcoin</th>\n      <th>BusinessAcceptsCreditCards</th>\n      <th>...</th>\n      <th>longitude</th>\n      <th>lot</th>\n      <th>name</th>\n      <th>postal_code</th>\n      <th>review_count</th>\n      <th>stars</th>\n      <th>state</th>\n      <th>street</th>\n      <th>valet</th>\n      <th>validated</th>\n    </tr>\n  </thead>\n  <tbody>\n    <tr>\n      <th>0</th>\n      <td>NaN</td>\n      <td>NaN</td>\n      <td>NaN</td>\n      <td>NaN</td>\n      <td>NaN</td>\n      <td>NaN</td>\n      <td>NaN</td>\n      <td>NaN</td>\n      <td>NaN</td>\n      <td>NaN</td>\n      <td>...</td>\n      <td>-119.711197</td>\n      <td>NaN</td>\n      <td>Abby Rappoport, LAC, CMQ</td>\n      <td>93101</td>\n      <td>7</td>\n      <td>5.0</td>\n      <td>CA</td>\n      <td>NaN</td>\n      <td>NaN</td>\n      <td>NaN</td>\n    </tr>\n    <tr>\n      <th>1</th>\n      <td>NaN</td>\n      <td>NaN</td>\n      <td>NaN</td>\n      <td>NaN</td>\n      <td>NaN</td>\n      <td>NaN</td>\n      <td>NaN</td>\n      <td>NaN</td>\n      <td>NaN</td>\n      <td>True</td>\n      <td>...</td>\n      <td>-90.335695</td>\n      <td>NaN</td>\n      <td>The UPS Store</td>\n      <td>63123</td>\n      <td>15</td>\n      <td>3.0</td>\n      <td>MO</td>\n      <td>NaN</td>\n      <td>NaN</td>\n      <td>NaN</td>\n    </tr>\n    <tr>\n      <th>2</th>\n      <td>NaN</td>\n      <td>NaN</td>\n      <td>NaN</td>\n      <td>NaN</td>\n      <td>NaN</td>\n      <td>NaN</td>\n      <td>NaN</td>\n      <td>True</td>\n      <td>NaN</td>\n      <td>True</td>\n      <td>...</td>\n      <td>-110.880452</td>\n      <td>True</td>\n      <td>Target</td>\n      <td>85711</td>\n      <td>22</td>\n      <td>3.5</td>\n      <td>AZ</td>\n      <td>False</td>\n      <td>False</td>\n      <td>False</td>\n    </tr>\n    <tr>\n      <th>3</th>\n      <td>NaN</td>\n      <td>NaN</td>\n      <td>u'none'</td>\n      <td>NaN</td>\n      <td>NaN</td>\n      <td>NaN</td>\n      <td>NaN</td>\n      <td>True</td>\n      <td>NaN</td>\n      <td>False</td>\n      <td>...</td>\n      <td>-75.155564</td>\n      <td>False</td>\n      <td>St Honore Pastries</td>\n      <td>19107</td>\n      <td>80</td>\n      <td>4.0</td>\n      <td>PA</td>\n      <td>True</td>\n      <td>False</td>\n      <td>False</td>\n    </tr>\n    <tr>\n      <th>4</th>\n      <td>NaN</td>\n      <td>NaN</td>\n      <td>NaN</td>\n      <td>NaN</td>\n      <td>NaN</td>\n      <td>NaN</td>\n      <td>NaN</td>\n      <td>True</td>\n      <td>NaN</td>\n      <td>True</td>\n      <td>...</td>\n      <td>-75.471659</td>\n      <td>True</td>\n      <td>Perkiomen Valley Brewery</td>\n      <td>18054</td>\n      <td>13</td>\n      <td>4.5</td>\n      <td>PA</td>\n      <td>NaN</td>\n      <td>False</td>\n      <td>NaN</td>\n    </tr>\n  </tbody>\n</table>\n<p>5 rows × 62 columns</p>\n</div>"
     },
     "execution_count": 19,
     "metadata": {},
     "output_type": "execute_result"
    }
   ],
   "source": [
    "print(len(df_business))\n",
    "df_business.head(5)"
   ],
   "metadata": {
    "collapsed": false,
    "pycharm": {
     "name": "#%%\n"
    }
   }
  },
  {
   "cell_type": "code",
   "execution_count": 20,
   "outputs": [],
   "source": [
    "# df_business = df_business.dropna() # da togliere\n",
    "\n",
    "# re.sub(\"u\"no\"\", \"u-no\", txt)\n",
    "# x = re.findall('\"BusinessParking\": \"{.*}\"', txt)\n",
    "# print(\"x\", x)\n",
    "#\n",
    "# par = re.findall('\"{.*}\"', x[0])\n",
    "# print(\"par\", par)\n",
    "#\n",
    "# y = re.sub('{\"', '{-\"', par[0])\n",
    "# print(\"y\", y)\n",
    "#\n",
    "# z = re.sub('\":', '\"-:', y)\n",
    "# print(\"z\", z)\n",
    "#\n",
    "# p = re.sub('\\s\"', ' -\"', z)\n",
    "# print(\"p\", p)\n",
    "#\n",
    "# test = txt.replace(par[0], p)\n",
    "# print(\"test\", test)"
   ],
   "metadata": {
    "collapsed": false,
    "pycharm": {
     "name": "#%%\n"
    }
   }
  },
  {
   "cell_type": "code",
   "execution_count": 21,
   "outputs": [],
   "source": [
    "# df_business = df_business.apply(expand_dataset.expand_hours_feature, axis=1)\n",
    "# df_business = df_business.drop(columns='hours')"
   ],
   "metadata": {
    "collapsed": false,
    "pycharm": {
     "name": "#%%\n"
    }
   }
  },
  {
   "cell_type": "code",
   "execution_count": 22,
   "outputs": [],
   "source": [
    "# df_business = df_business.apply(expand_dataset.expand_attributes_feature, axis=1)\n",
    "# df_business = df_business.drop(columns='attributes')"
   ],
   "metadata": {
    "collapsed": false,
    "pycharm": {
     "name": "#%%\n"
    }
   }
  },
  {
   "cell_type": "code",
   "execution_count": 23,
   "outputs": [],
   "source": [
    "# df_business = df_business.apply(expand_dataset.expand_business_parking_feature, axis=1)\n",
    "# df_business = df_business.drop(columns='BusinessParking')"
   ],
   "metadata": {
    "collapsed": false,
    "pycharm": {
     "name": "#%%\n"
    }
   }
  },
  {
   "cell_type": "code",
   "execution_count": 24,
   "outputs": [],
   "source": [
    "# df_business.to_csv(r'C:\\Users\\giuli\\Desktop\\df_business_dropped.csv', index=False)\n",
    "#\n",
    "# df_business.head(5)"
   ],
   "metadata": {
    "collapsed": false,
    "pycharm": {
     "name": "#%%\n"
    }
   }
  },
  {
   "cell_type": "code",
   "execution_count": 25,
   "outputs": [
    {
     "name": "stdout",
     "output_type": "stream",
     "text": [
      "131930\n"
     ]
    },
    {
     "data": {
      "text/plain": "              business_id                                               date\n0  ---kPU91CF4Lq2-WlRu9Lw  2020-03-13 21:10:56, 2020-06-02 22:18:06, 2020...\n1  --0iUa4sNDFiZFrAdIWhZQ  2010-09-13 21:43:09, 2011-05-04 23:08:15, 2011...\n2  --30_8IhuyMHbSOcNWd6DQ           2013-06-14 23:29:17, 2014-08-13 23:20:22\n3  --7PUidqRWpRSpXebiyxTg  2011-02-15 17:12:00, 2011-07-28 02:46:10, 2012...\n4  --7jw19RH9JKXgFohspgQw  2014-04-21 20:42:11, 2014-04-28 21:04:46, 2014...",
      "text/html": "<div>\n<style scoped>\n    .dataframe tbody tr th:only-of-type {\n        vertical-align: middle;\n    }\n\n    .dataframe tbody tr th {\n        vertical-align: top;\n    }\n\n    .dataframe thead th {\n        text-align: right;\n    }\n</style>\n<table border=\"1\" class=\"dataframe\">\n  <thead>\n    <tr style=\"text-align: right;\">\n      <th></th>\n      <th>business_id</th>\n      <th>date</th>\n    </tr>\n  </thead>\n  <tbody>\n    <tr>\n      <th>0</th>\n      <td>---kPU91CF4Lq2-WlRu9Lw</td>\n      <td>2020-03-13 21:10:56, 2020-06-02 22:18:06, 2020...</td>\n    </tr>\n    <tr>\n      <th>1</th>\n      <td>--0iUa4sNDFiZFrAdIWhZQ</td>\n      <td>2010-09-13 21:43:09, 2011-05-04 23:08:15, 2011...</td>\n    </tr>\n    <tr>\n      <th>2</th>\n      <td>--30_8IhuyMHbSOcNWd6DQ</td>\n      <td>2013-06-14 23:29:17, 2014-08-13 23:20:22</td>\n    </tr>\n    <tr>\n      <th>3</th>\n      <td>--7PUidqRWpRSpXebiyxTg</td>\n      <td>2011-02-15 17:12:00, 2011-07-28 02:46:10, 2012...</td>\n    </tr>\n    <tr>\n      <th>4</th>\n      <td>--7jw19RH9JKXgFohspgQw</td>\n      <td>2014-04-21 20:42:11, 2014-04-28 21:04:46, 2014...</td>\n    </tr>\n  </tbody>\n</table>\n</div>"
     },
     "execution_count": 25,
     "metadata": {},
     "output_type": "execute_result"
    }
   ],
   "source": [
    "print(len(df_checkin))\n",
    "df_checkin.head(5)"
   ],
   "metadata": {
    "collapsed": false,
    "pycharm": {
     "name": "#%%\n"
    }
   }
  },
  {
   "cell_type": "code",
   "execution_count": 26,
   "outputs": [
    {
     "name": "stdout",
     "output_type": "stream",
     "text": [
      "908915\n"
     ]
    },
    {
     "data": {
      "text/plain": "                  user_id             business_id  \\\n0  AGNUgVwnZUey3gcPCJ76iw  3uLgwr0qeCNMjKenHJwPGQ   \n1  NBN4MgHP9D3cw--SnauTkA  QoezRbYQncpRqyrLH6Iqjg   \n2  -copOvldyKh1qr-vzkDEvw  MYoRNLb5chwjQe3c_k37Gg   \n3  FjMQVZjSqY8syIO-53KFKw  hV-bABTK-glh5wj31ps_Jw   \n4  ld0AperBXk1h6UbqmM80zw  _uN0OudeJ3Zl_tf6nxg5ww   \n\n                                                text                 date  \\\n0                     Avengers time with the ladies.  2012-05-18 02:17:21   \n1  They have lots of good deserts and tasty cuban...  2013-02-05 18:35:10   \n2             It's open even when you think it isn't  2013-08-18 00:56:08   \n3                          Very decent fried chicken  2017-06-27 23:05:38   \n4             Appetizers.. platter special for lunch  2012-10-06 19:43:09   \n\n   compliment_count  \n0                 0  \n1                 0  \n2                 0  \n3                 0  \n4                 0  ",
      "text/html": "<div>\n<style scoped>\n    .dataframe tbody tr th:only-of-type {\n        vertical-align: middle;\n    }\n\n    .dataframe tbody tr th {\n        vertical-align: top;\n    }\n\n    .dataframe thead th {\n        text-align: right;\n    }\n</style>\n<table border=\"1\" class=\"dataframe\">\n  <thead>\n    <tr style=\"text-align: right;\">\n      <th></th>\n      <th>user_id</th>\n      <th>business_id</th>\n      <th>text</th>\n      <th>date</th>\n      <th>compliment_count</th>\n    </tr>\n  </thead>\n  <tbody>\n    <tr>\n      <th>0</th>\n      <td>AGNUgVwnZUey3gcPCJ76iw</td>\n      <td>3uLgwr0qeCNMjKenHJwPGQ</td>\n      <td>Avengers time with the ladies.</td>\n      <td>2012-05-18 02:17:21</td>\n      <td>0</td>\n    </tr>\n    <tr>\n      <th>1</th>\n      <td>NBN4MgHP9D3cw--SnauTkA</td>\n      <td>QoezRbYQncpRqyrLH6Iqjg</td>\n      <td>They have lots of good deserts and tasty cuban...</td>\n      <td>2013-02-05 18:35:10</td>\n      <td>0</td>\n    </tr>\n    <tr>\n      <th>2</th>\n      <td>-copOvldyKh1qr-vzkDEvw</td>\n      <td>MYoRNLb5chwjQe3c_k37Gg</td>\n      <td>It's open even when you think it isn't</td>\n      <td>2013-08-18 00:56:08</td>\n      <td>0</td>\n    </tr>\n    <tr>\n      <th>3</th>\n      <td>FjMQVZjSqY8syIO-53KFKw</td>\n      <td>hV-bABTK-glh5wj31ps_Jw</td>\n      <td>Very decent fried chicken</td>\n      <td>2017-06-27 23:05:38</td>\n      <td>0</td>\n    </tr>\n    <tr>\n      <th>4</th>\n      <td>ld0AperBXk1h6UbqmM80zw</td>\n      <td>_uN0OudeJ3Zl_tf6nxg5ww</td>\n      <td>Appetizers.. platter special for lunch</td>\n      <td>2012-10-06 19:43:09</td>\n      <td>0</td>\n    </tr>\n  </tbody>\n</table>\n</div>"
     },
     "execution_count": 26,
     "metadata": {},
     "output_type": "execute_result"
    }
   ],
   "source": [
    "print(len(df_tip))\n",
    "df_tip.head(5)"
   ],
   "metadata": {
    "collapsed": false,
    "pycharm": {
     "name": "#%%\n"
    }
   }
  },
  {
   "cell_type": "code",
   "execution_count": 27,
   "outputs": [],
   "source": [
    "df_business_merged = pd.merge(df_business, df_checkin, on='business_id')"
   ],
   "metadata": {
    "collapsed": false,
    "pycharm": {
     "name": "#%%\n"
    }
   }
  },
  {
   "cell_type": "code",
   "execution_count": 28,
   "outputs": [
    {
     "name": "stdout",
     "output_type": "stream",
     "text": [
      "131930\n"
     ]
    },
    {
     "data": {
      "text/plain": "  AcceptsInsurance AgesAllowed  Alcohol Ambience BYOB BYOBCorkage BestNights  \\\n0              NaN         NaN      NaN      NaN  NaN         NaN        NaN   \n1              NaN         NaN      NaN      NaN  NaN         NaN        NaN   \n2              NaN         NaN      NaN      NaN  NaN         NaN        NaN   \n3              NaN         NaN  u'none'      NaN  NaN         NaN        NaN   \n4              NaN         NaN      NaN      NaN  NaN         NaN        NaN   \n\n  BikeParking BusinessAcceptsBitcoin BusinessAcceptsCreditCards  ...    lot  \\\n0         NaN                    NaN                        NaN  ...    NaN   \n1         NaN                    NaN                       True  ...    NaN   \n2        True                    NaN                       True  ...   True   \n3        True                    NaN                      False  ...  False   \n4        True                    NaN                       True  ...   True   \n\n                       name postal_code review_count stars state street  \\\n0  Abby Rappoport, LAC, CMQ       93101            7   5.0    CA    NaN   \n1             The UPS Store       63123           15   3.0    MO    NaN   \n2                    Target       85711           22   3.5    AZ  False   \n3        St Honore Pastries       19107           80   4.0    PA   True   \n4  Perkiomen Valley Brewery       18054           13   4.5    PA    NaN   \n\n   valet validated                                               date  \n0    NaN       NaN                                2018-09-21 20:51:31  \n1    NaN       NaN  2011-12-12 23:30:26, 2014-05-23 20:31:34, 2014...  \n2  False     False  2010-07-25 04:30:06, 2010-08-31 04:07:22, 2010...  \n3  False     False  2010-08-18 17:05:36, 2010-11-25 17:45:31, 2011...  \n4  False       NaN  2019-06-28 21:35:09, 2019-09-12 21:07:48, 2019...  \n\n[5 rows x 63 columns]",
      "text/html": "<div>\n<style scoped>\n    .dataframe tbody tr th:only-of-type {\n        vertical-align: middle;\n    }\n\n    .dataframe tbody tr th {\n        vertical-align: top;\n    }\n\n    .dataframe thead th {\n        text-align: right;\n    }\n</style>\n<table border=\"1\" class=\"dataframe\">\n  <thead>\n    <tr style=\"text-align: right;\">\n      <th></th>\n      <th>AcceptsInsurance</th>\n      <th>AgesAllowed</th>\n      <th>Alcohol</th>\n      <th>Ambience</th>\n      <th>BYOB</th>\n      <th>BYOBCorkage</th>\n      <th>BestNights</th>\n      <th>BikeParking</th>\n      <th>BusinessAcceptsBitcoin</th>\n      <th>BusinessAcceptsCreditCards</th>\n      <th>...</th>\n      <th>lot</th>\n      <th>name</th>\n      <th>postal_code</th>\n      <th>review_count</th>\n      <th>stars</th>\n      <th>state</th>\n      <th>street</th>\n      <th>valet</th>\n      <th>validated</th>\n      <th>date</th>\n    </tr>\n  </thead>\n  <tbody>\n    <tr>\n      <th>0</th>\n      <td>NaN</td>\n      <td>NaN</td>\n      <td>NaN</td>\n      <td>NaN</td>\n      <td>NaN</td>\n      <td>NaN</td>\n      <td>NaN</td>\n      <td>NaN</td>\n      <td>NaN</td>\n      <td>NaN</td>\n      <td>...</td>\n      <td>NaN</td>\n      <td>Abby Rappoport, LAC, CMQ</td>\n      <td>93101</td>\n      <td>7</td>\n      <td>5.0</td>\n      <td>CA</td>\n      <td>NaN</td>\n      <td>NaN</td>\n      <td>NaN</td>\n      <td>2018-09-21 20:51:31</td>\n    </tr>\n    <tr>\n      <th>1</th>\n      <td>NaN</td>\n      <td>NaN</td>\n      <td>NaN</td>\n      <td>NaN</td>\n      <td>NaN</td>\n      <td>NaN</td>\n      <td>NaN</td>\n      <td>NaN</td>\n      <td>NaN</td>\n      <td>True</td>\n      <td>...</td>\n      <td>NaN</td>\n      <td>The UPS Store</td>\n      <td>63123</td>\n      <td>15</td>\n      <td>3.0</td>\n      <td>MO</td>\n      <td>NaN</td>\n      <td>NaN</td>\n      <td>NaN</td>\n      <td>2011-12-12 23:30:26, 2014-05-23 20:31:34, 2014...</td>\n    </tr>\n    <tr>\n      <th>2</th>\n      <td>NaN</td>\n      <td>NaN</td>\n      <td>NaN</td>\n      <td>NaN</td>\n      <td>NaN</td>\n      <td>NaN</td>\n      <td>NaN</td>\n      <td>True</td>\n      <td>NaN</td>\n      <td>True</td>\n      <td>...</td>\n      <td>True</td>\n      <td>Target</td>\n      <td>85711</td>\n      <td>22</td>\n      <td>3.5</td>\n      <td>AZ</td>\n      <td>False</td>\n      <td>False</td>\n      <td>False</td>\n      <td>2010-07-25 04:30:06, 2010-08-31 04:07:22, 2010...</td>\n    </tr>\n    <tr>\n      <th>3</th>\n      <td>NaN</td>\n      <td>NaN</td>\n      <td>u'none'</td>\n      <td>NaN</td>\n      <td>NaN</td>\n      <td>NaN</td>\n      <td>NaN</td>\n      <td>True</td>\n      <td>NaN</td>\n      <td>False</td>\n      <td>...</td>\n      <td>False</td>\n      <td>St Honore Pastries</td>\n      <td>19107</td>\n      <td>80</td>\n      <td>4.0</td>\n      <td>PA</td>\n      <td>True</td>\n      <td>False</td>\n      <td>False</td>\n      <td>2010-08-18 17:05:36, 2010-11-25 17:45:31, 2011...</td>\n    </tr>\n    <tr>\n      <th>4</th>\n      <td>NaN</td>\n      <td>NaN</td>\n      <td>NaN</td>\n      <td>NaN</td>\n      <td>NaN</td>\n      <td>NaN</td>\n      <td>NaN</td>\n      <td>True</td>\n      <td>NaN</td>\n      <td>True</td>\n      <td>...</td>\n      <td>True</td>\n      <td>Perkiomen Valley Brewery</td>\n      <td>18054</td>\n      <td>13</td>\n      <td>4.5</td>\n      <td>PA</td>\n      <td>NaN</td>\n      <td>False</td>\n      <td>NaN</td>\n      <td>2019-06-28 21:35:09, 2019-09-12 21:07:48, 2019...</td>\n    </tr>\n  </tbody>\n</table>\n<p>5 rows × 63 columns</p>\n</div>"
     },
     "execution_count": 28,
     "metadata": {},
     "output_type": "execute_result"
    }
   ],
   "source": [
    "print(len(df_business_merged))\n",
    "df_business_merged.head(5)"
   ],
   "metadata": {
    "collapsed": false,
    "pycharm": {
     "name": "#%%\n"
    }
   }
  },
  {
   "cell_type": "code",
   "execution_count": 29,
   "outputs": [
    {
     "data": {
      "text/plain": "              business_id  compliment_count\n0  3uLgwr0qeCNMjKenHJwPGQ                 0\n1  QoezRbYQncpRqyrLH6Iqjg                 0\n2  MYoRNLb5chwjQe3c_k37Gg                 0\n3  hV-bABTK-glh5wj31ps_Jw                 0\n4  _uN0OudeJ3Zl_tf6nxg5ww                 0",
      "text/html": "<div>\n<style scoped>\n    .dataframe tbody tr th:only-of-type {\n        vertical-align: middle;\n    }\n\n    .dataframe tbody tr th {\n        vertical-align: top;\n    }\n\n    .dataframe thead th {\n        text-align: right;\n    }\n</style>\n<table border=\"1\" class=\"dataframe\">\n  <thead>\n    <tr style=\"text-align: right;\">\n      <th></th>\n      <th>business_id</th>\n      <th>compliment_count</th>\n    </tr>\n  </thead>\n  <tbody>\n    <tr>\n      <th>0</th>\n      <td>3uLgwr0qeCNMjKenHJwPGQ</td>\n      <td>0</td>\n    </tr>\n    <tr>\n      <th>1</th>\n      <td>QoezRbYQncpRqyrLH6Iqjg</td>\n      <td>0</td>\n    </tr>\n    <tr>\n      <th>2</th>\n      <td>MYoRNLb5chwjQe3c_k37Gg</td>\n      <td>0</td>\n    </tr>\n    <tr>\n      <th>3</th>\n      <td>hV-bABTK-glh5wj31ps_Jw</td>\n      <td>0</td>\n    </tr>\n    <tr>\n      <th>4</th>\n      <td>_uN0OudeJ3Zl_tf6nxg5ww</td>\n      <td>0</td>\n    </tr>\n  </tbody>\n</table>\n</div>"
     },
     "execution_count": 29,
     "metadata": {},
     "output_type": "execute_result"
    }
   ],
   "source": [
    "df_tip = df_tip[['business_id', 'compliment_count']]\n",
    "df_tip.head(5)"
   ],
   "metadata": {
    "collapsed": false,
    "pycharm": {
     "name": "#%%\n"
    }
   }
  },
  {
   "cell_type": "code",
   "execution_count": 30,
   "outputs": [],
   "source": [
    "df_business_merged = pd.merge(df_business_merged, df_tip, on='business_id')"
   ],
   "metadata": {
    "collapsed": false,
    "pycharm": {
     "name": "#%%\n"
    }
   }
  },
  {
   "cell_type": "code",
   "execution_count": 31,
   "outputs": [
    {
     "name": "stdout",
     "output_type": "stream",
     "text": [
      "903105\n"
     ]
    },
    {
     "data": {
      "text/plain": "  AcceptsInsurance AgesAllowed Alcohol Ambience BYOB BYOBCorkage BestNights  \\\n0              NaN         NaN     NaN      NaN  NaN         NaN        NaN   \n1              NaN         NaN     NaN      NaN  NaN         NaN        NaN   \n2              NaN         NaN     NaN      NaN  NaN         NaN        NaN   \n3              NaN         NaN     NaN      NaN  NaN         NaN        NaN   \n4              NaN         NaN     NaN      NaN  NaN         NaN        NaN   \n\n  BikeParking BusinessAcceptsBitcoin BusinessAcceptsCreditCards  ...  \\\n0         NaN                    NaN                       True  ...   \n1        True                    NaN                       True  ...   \n2        True                    NaN                       True  ...   \n3        True                    NaN                       True  ...   \n4        True                    NaN                       True  ...   \n\n            name postal_code review_count stars state street  valet validated  \\\n0  The UPS Store       63123           15   3.0    MO    NaN    NaN       NaN   \n1         Target       85711           22   3.5    AZ  False  False     False   \n2         Target       85711           22   3.5    AZ  False  False     False   \n3         Target       85711           22   3.5    AZ  False  False     False   \n4         Target       85711           22   3.5    AZ  False  False     False   \n\n                                                date compliment_count  \n0  2011-12-12 23:30:26, 2014-05-23 20:31:34, 2014...                0  \n1  2010-07-25 04:30:06, 2010-08-31 04:07:22, 2010...                0  \n2  2010-07-25 04:30:06, 2010-08-31 04:07:22, 2010...                0  \n3  2010-07-25 04:30:06, 2010-08-31 04:07:22, 2010...                0  \n4  2010-07-25 04:30:06, 2010-08-31 04:07:22, 2010...                0  \n\n[5 rows x 64 columns]",
      "text/html": "<div>\n<style scoped>\n    .dataframe tbody tr th:only-of-type {\n        vertical-align: middle;\n    }\n\n    .dataframe tbody tr th {\n        vertical-align: top;\n    }\n\n    .dataframe thead th {\n        text-align: right;\n    }\n</style>\n<table border=\"1\" class=\"dataframe\">\n  <thead>\n    <tr style=\"text-align: right;\">\n      <th></th>\n      <th>AcceptsInsurance</th>\n      <th>AgesAllowed</th>\n      <th>Alcohol</th>\n      <th>Ambience</th>\n      <th>BYOB</th>\n      <th>BYOBCorkage</th>\n      <th>BestNights</th>\n      <th>BikeParking</th>\n      <th>BusinessAcceptsBitcoin</th>\n      <th>BusinessAcceptsCreditCards</th>\n      <th>...</th>\n      <th>name</th>\n      <th>postal_code</th>\n      <th>review_count</th>\n      <th>stars</th>\n      <th>state</th>\n      <th>street</th>\n      <th>valet</th>\n      <th>validated</th>\n      <th>date</th>\n      <th>compliment_count</th>\n    </tr>\n  </thead>\n  <tbody>\n    <tr>\n      <th>0</th>\n      <td>NaN</td>\n      <td>NaN</td>\n      <td>NaN</td>\n      <td>NaN</td>\n      <td>NaN</td>\n      <td>NaN</td>\n      <td>NaN</td>\n      <td>NaN</td>\n      <td>NaN</td>\n      <td>True</td>\n      <td>...</td>\n      <td>The UPS Store</td>\n      <td>63123</td>\n      <td>15</td>\n      <td>3.0</td>\n      <td>MO</td>\n      <td>NaN</td>\n      <td>NaN</td>\n      <td>NaN</td>\n      <td>2011-12-12 23:30:26, 2014-05-23 20:31:34, 2014...</td>\n      <td>0</td>\n    </tr>\n    <tr>\n      <th>1</th>\n      <td>NaN</td>\n      <td>NaN</td>\n      <td>NaN</td>\n      <td>NaN</td>\n      <td>NaN</td>\n      <td>NaN</td>\n      <td>NaN</td>\n      <td>True</td>\n      <td>NaN</td>\n      <td>True</td>\n      <td>...</td>\n      <td>Target</td>\n      <td>85711</td>\n      <td>22</td>\n      <td>3.5</td>\n      <td>AZ</td>\n      <td>False</td>\n      <td>False</td>\n      <td>False</td>\n      <td>2010-07-25 04:30:06, 2010-08-31 04:07:22, 2010...</td>\n      <td>0</td>\n    </tr>\n    <tr>\n      <th>2</th>\n      <td>NaN</td>\n      <td>NaN</td>\n      <td>NaN</td>\n      <td>NaN</td>\n      <td>NaN</td>\n      <td>NaN</td>\n      <td>NaN</td>\n      <td>True</td>\n      <td>NaN</td>\n      <td>True</td>\n      <td>...</td>\n      <td>Target</td>\n      <td>85711</td>\n      <td>22</td>\n      <td>3.5</td>\n      <td>AZ</td>\n      <td>False</td>\n      <td>False</td>\n      <td>False</td>\n      <td>2010-07-25 04:30:06, 2010-08-31 04:07:22, 2010...</td>\n      <td>0</td>\n    </tr>\n    <tr>\n      <th>3</th>\n      <td>NaN</td>\n      <td>NaN</td>\n      <td>NaN</td>\n      <td>NaN</td>\n      <td>NaN</td>\n      <td>NaN</td>\n      <td>NaN</td>\n      <td>True</td>\n      <td>NaN</td>\n      <td>True</td>\n      <td>...</td>\n      <td>Target</td>\n      <td>85711</td>\n      <td>22</td>\n      <td>3.5</td>\n      <td>AZ</td>\n      <td>False</td>\n      <td>False</td>\n      <td>False</td>\n      <td>2010-07-25 04:30:06, 2010-08-31 04:07:22, 2010...</td>\n      <td>0</td>\n    </tr>\n    <tr>\n      <th>4</th>\n      <td>NaN</td>\n      <td>NaN</td>\n      <td>NaN</td>\n      <td>NaN</td>\n      <td>NaN</td>\n      <td>NaN</td>\n      <td>NaN</td>\n      <td>True</td>\n      <td>NaN</td>\n      <td>True</td>\n      <td>...</td>\n      <td>Target</td>\n      <td>85711</td>\n      <td>22</td>\n      <td>3.5</td>\n      <td>AZ</td>\n      <td>False</td>\n      <td>False</td>\n      <td>False</td>\n      <td>2010-07-25 04:30:06, 2010-08-31 04:07:22, 2010...</td>\n      <td>0</td>\n    </tr>\n  </tbody>\n</table>\n<p>5 rows × 64 columns</p>\n</div>"
     },
     "execution_count": 31,
     "metadata": {},
     "output_type": "execute_result"
    }
   ],
   "source": [
    "print(len(df_business_merged))\n",
    "df_business_merged.head(5)"
   ],
   "metadata": {
    "collapsed": false,
    "pycharm": {
     "name": "#%%\n"
    }
   }
  },
  {
   "cell_type": "code",
   "execution_count": 32,
   "outputs": [
    {
     "data": {
      "text/plain": "0"
     },
     "execution_count": 32,
     "metadata": {},
     "output_type": "execute_result"
    }
   ],
   "source": [
    "df_business_merged = df_business_merged.dropna() # remove NaN rows\n",
    "# df_business_merged.head(5)\n",
    "len(df_business_merged)"
   ],
   "metadata": {
    "collapsed": false,
    "pycharm": {
     "name": "#%%\n"
    }
   }
  },
  {
   "cell_type": "code",
   "execution_count": 32,
   "outputs": [],
   "source": [],
   "metadata": {
    "collapsed": false,
    "pycharm": {
     "name": "#%%\n"
    }
   }
  }
 ],
 "metadata": {
  "kernelspec": {
   "display_name": "Python 3",
   "language": "python",
   "name": "python3"
  },
  "language_info": {
   "codemirror_mode": {
    "name": "ipython",
    "version": 2
   },
   "file_extension": ".py",
   "mimetype": "text/x-python",
   "name": "python",
   "nbconvert_exporter": "python",
   "pygments_lexer": "ipython2",
   "version": "2.7.6"
  }
 },
 "nbformat": 4,
 "nbformat_minor": 0
}