{
 "cells": [
  {
   "cell_type": "code",
   "execution_count": 186,
   "metadata": {
    "collapsed": true,
    "pycharm": {
     "name": "#%%\n"
    }
   },
   "outputs": [],
   "source": [
    "import pandas as pd\n",
    "import numpy as np\n",
    "from matplotlib import pyplot as plt\n",
    "import json\n",
    "import re\n",
    "import expand_dataset"
   ]
  },
  {
   "cell_type": "code",
   "execution_count": 162,
   "outputs": [],
   "source": [
    "# df_business = pd.read_csv('./dataset/df_business.csv')\n",
    "df_business = pd.read_csv('./dataset/df_business_hours.csv')\n",
    "df_checkin = pd.read_csv('./dataset/df_checkin.csv')\n",
    "df_tip = pd.read_csv('./dataset/df_tip.csv')"
   ],
   "metadata": {
    "collapsed": false,
    "pycharm": {
     "name": "#%%\n"
    }
   }
  },
  {
   "cell_type": "code",
   "execution_count": 163,
   "outputs": [
    {
     "name": "stdout",
     "output_type": "stream",
     "text": [
      "114120\n"
     ]
    },
    {
     "data": {
      "text/plain": "      Friday    Monday   Saturday     Sunday   Thursday    Tuesday  Wednesday  \\\n0  8:0-18:30   0:0-0:0   8:0-14:0        NaN  8:0-18:30  8:0-18:30  8:0-18:30   \n1   8:0-23:0  8:0-22:0   8:0-23:0   8:0-22:0   8:0-22:0   8:0-22:0   8:0-22:0   \n2   7:0-21:0  7:0-20:0   7:0-21:0   7:0-21:0   7:0-20:0   7:0-20:0   7:0-20:0   \n3  12:0-22:0       NaN  12:0-22:0  12:0-18:0  16:0-22:0        NaN  14:0-22:0   \n4    9:0-0:0   0:0-0:0   9:0-22:0   8:0-22:0   6:0-22:0   6:0-22:0   6:0-22:0   \n\n                           address  \\\n0  87 Grasso Plaza Shopping Center   \n1             5255 E Broadway Blvd   \n2                      935 Race St   \n3                    101 Walnut St   \n4                    615 S Main St   \n\n                                          attributes             business_id  \\\n0             {'BusinessAcceptsCreditCards': 'True'}  mpf3x-BjTdTEA3yCZrAYPw   \n1  {'BikeParking': 'True', 'BusinessAcceptsCredit...  tUFrWirKiKi_TAnsVWINQQ   \n2  {'RestaurantsDelivery': 'False', 'OutdoorSeati...  MTSW4McQd7CbVtyjqoe9mw   \n3  {'BusinessAcceptsCreditCards': 'True', 'Wheelc...  mWMc6_wTdE0EUBKIGXDVfA   \n4  {'BusinessParking': 'None', 'BusinessAcceptsCr...  CF33F8-E6oudUQ46HnavjQ   \n\n   ...          city                                              hours  \\\n0  ...        Affton  {'Monday': '0:0-0:0', 'Tuesday': '8:0-18:30', ...   \n1  ...        Tucson  {'Monday': '8:0-22:0', 'Tuesday': '8:0-22:0', ...   \n2  ...  Philadelphia  {'Monday': '7:0-20:0', 'Tuesday': '7:0-20:0', ...   \n3  ...    Green Lane  {'Wednesday': '14:0-22:0', 'Thursday': '16:0-2...   \n4  ...  Ashland City  {'Monday': '0:0-0:0', 'Tuesday': '6:0-22:0', '...   \n\n  is_open   latitude   longitude                      name postal_code  \\\n0       1  38.551126  -90.335695             The UPS Store       63123   \n1       0  32.223236 -110.880452                    Target       85711   \n2       1  39.955505  -75.155564        St Honore Pastries       19107   \n3       1  40.338183  -75.471659  Perkiomen Valley Brewery       18054   \n4       1  36.269593  -87.058943            Sonic Drive-In       37015   \n\n  review_count  stars  state  \n0           15    3.0     MO  \n1           22    3.5     AZ  \n2           80    4.0     PA  \n3           13    4.5     PA  \n4            6    2.0     TN  \n\n[5 rows x 21 columns]",
      "text/html": "<div>\n<style scoped>\n    .dataframe tbody tr th:only-of-type {\n        vertical-align: middle;\n    }\n\n    .dataframe tbody tr th {\n        vertical-align: top;\n    }\n\n    .dataframe thead th {\n        text-align: right;\n    }\n</style>\n<table border=\"1\" class=\"dataframe\">\n  <thead>\n    <tr style=\"text-align: right;\">\n      <th></th>\n      <th>Friday</th>\n      <th>Monday</th>\n      <th>Saturday</th>\n      <th>Sunday</th>\n      <th>Thursday</th>\n      <th>Tuesday</th>\n      <th>Wednesday</th>\n      <th>address</th>\n      <th>attributes</th>\n      <th>business_id</th>\n      <th>...</th>\n      <th>city</th>\n      <th>hours</th>\n      <th>is_open</th>\n      <th>latitude</th>\n      <th>longitude</th>\n      <th>name</th>\n      <th>postal_code</th>\n      <th>review_count</th>\n      <th>stars</th>\n      <th>state</th>\n    </tr>\n  </thead>\n  <tbody>\n    <tr>\n      <th>0</th>\n      <td>8:0-18:30</td>\n      <td>0:0-0:0</td>\n      <td>8:0-14:0</td>\n      <td>NaN</td>\n      <td>8:0-18:30</td>\n      <td>8:0-18:30</td>\n      <td>8:0-18:30</td>\n      <td>87 Grasso Plaza Shopping Center</td>\n      <td>{'BusinessAcceptsCreditCards': 'True'}</td>\n      <td>mpf3x-BjTdTEA3yCZrAYPw</td>\n      <td>...</td>\n      <td>Affton</td>\n      <td>{'Monday': '0:0-0:0', 'Tuesday': '8:0-18:30', ...</td>\n      <td>1</td>\n      <td>38.551126</td>\n      <td>-90.335695</td>\n      <td>The UPS Store</td>\n      <td>63123</td>\n      <td>15</td>\n      <td>3.0</td>\n      <td>MO</td>\n    </tr>\n    <tr>\n      <th>1</th>\n      <td>8:0-23:0</td>\n      <td>8:0-22:0</td>\n      <td>8:0-23:0</td>\n      <td>8:0-22:0</td>\n      <td>8:0-22:0</td>\n      <td>8:0-22:0</td>\n      <td>8:0-22:0</td>\n      <td>5255 E Broadway Blvd</td>\n      <td>{'BikeParking': 'True', 'BusinessAcceptsCredit...</td>\n      <td>tUFrWirKiKi_TAnsVWINQQ</td>\n      <td>...</td>\n      <td>Tucson</td>\n      <td>{'Monday': '8:0-22:0', 'Tuesday': '8:0-22:0', ...</td>\n      <td>0</td>\n      <td>32.223236</td>\n      <td>-110.880452</td>\n      <td>Target</td>\n      <td>85711</td>\n      <td>22</td>\n      <td>3.5</td>\n      <td>AZ</td>\n    </tr>\n    <tr>\n      <th>2</th>\n      <td>7:0-21:0</td>\n      <td>7:0-20:0</td>\n      <td>7:0-21:0</td>\n      <td>7:0-21:0</td>\n      <td>7:0-20:0</td>\n      <td>7:0-20:0</td>\n      <td>7:0-20:0</td>\n      <td>935 Race St</td>\n      <td>{'RestaurantsDelivery': 'False', 'OutdoorSeati...</td>\n      <td>MTSW4McQd7CbVtyjqoe9mw</td>\n      <td>...</td>\n      <td>Philadelphia</td>\n      <td>{'Monday': '7:0-20:0', 'Tuesday': '7:0-20:0', ...</td>\n      <td>1</td>\n      <td>39.955505</td>\n      <td>-75.155564</td>\n      <td>St Honore Pastries</td>\n      <td>19107</td>\n      <td>80</td>\n      <td>4.0</td>\n      <td>PA</td>\n    </tr>\n    <tr>\n      <th>3</th>\n      <td>12:0-22:0</td>\n      <td>NaN</td>\n      <td>12:0-22:0</td>\n      <td>12:0-18:0</td>\n      <td>16:0-22:0</td>\n      <td>NaN</td>\n      <td>14:0-22:0</td>\n      <td>101 Walnut St</td>\n      <td>{'BusinessAcceptsCreditCards': 'True', 'Wheelc...</td>\n      <td>mWMc6_wTdE0EUBKIGXDVfA</td>\n      <td>...</td>\n      <td>Green Lane</td>\n      <td>{'Wednesday': '14:0-22:0', 'Thursday': '16:0-2...</td>\n      <td>1</td>\n      <td>40.338183</td>\n      <td>-75.471659</td>\n      <td>Perkiomen Valley Brewery</td>\n      <td>18054</td>\n      <td>13</td>\n      <td>4.5</td>\n      <td>PA</td>\n    </tr>\n    <tr>\n      <th>4</th>\n      <td>9:0-0:0</td>\n      <td>0:0-0:0</td>\n      <td>9:0-22:0</td>\n      <td>8:0-22:0</td>\n      <td>6:0-22:0</td>\n      <td>6:0-22:0</td>\n      <td>6:0-22:0</td>\n      <td>615 S Main St</td>\n      <td>{'BusinessParking': 'None', 'BusinessAcceptsCr...</td>\n      <td>CF33F8-E6oudUQ46HnavjQ</td>\n      <td>...</td>\n      <td>Ashland City</td>\n      <td>{'Monday': '0:0-0:0', 'Tuesday': '6:0-22:0', '...</td>\n      <td>1</td>\n      <td>36.269593</td>\n      <td>-87.058943</td>\n      <td>Sonic Drive-In</td>\n      <td>37015</td>\n      <td>6</td>\n      <td>2.0</td>\n      <td>TN</td>\n    </tr>\n  </tbody>\n</table>\n<p>5 rows × 21 columns</p>\n</div>"
     },
     "execution_count": 163,
     "metadata": {},
     "output_type": "execute_result"
    }
   ],
   "source": [
    "print(len(df_business))\n",
    "df_business.head(5)"
   ],
   "metadata": {
    "collapsed": false,
    "pycharm": {
     "name": "#%%\n"
    }
   }
  },
  {
   "cell_type": "code",
   "execution_count": 164,
   "outputs": [],
   "source": [
    "df_business = df_business.dropna()"
   ],
   "metadata": {
    "collapsed": false,
    "pycharm": {
     "name": "#%%\n"
    }
   }
  },
  {
   "cell_type": "code",
   "execution_count": 165,
   "outputs": [],
   "source": [
    "# df_business = df_business.apply(expand_dataset.expand_hours_feature, axis=1)\n",
    "#\n",
    "# df_business.head(5)"
   ],
   "metadata": {
    "collapsed": false,
    "pycharm": {
     "name": "#%%\n"
    }
   }
  },
  {
   "cell_type": "code",
   "execution_count": 166,
   "outputs": [],
   "source": [
    "# df_business.to_csv(r'C:\\Users\\giuli\\Desktop\\df_business_hours.csv', index=False)"
   ],
   "metadata": {
    "collapsed": false,
    "pycharm": {
     "name": "#%%\n"
    }
   }
  },
  {
   "cell_type": "code",
   "execution_count": 167,
   "outputs": [
    {
     "data": {
      "text/plain": "      Friday    Monday   Saturday     Sunday   Thursday    Tuesday  Wednesday  \\\n1   8:0-23:0  8:0-22:0   8:0-23:0   8:0-22:0   8:0-22:0   8:0-22:0   8:0-22:0   \n2   7:0-21:0  7:0-20:0   7:0-21:0   7:0-21:0   7:0-20:0   7:0-20:0   7:0-20:0   \n4    9:0-0:0   0:0-0:0   9:0-22:0   8:0-22:0   6:0-22:0   6:0-22:0   6:0-22:0   \n5  10:0-18:0   0:0-0:0  10:0-18:0  12:0-18:0  10:0-18:0  10:0-18:0  10:0-18:0   \n6   6:0-16:0   0:0-0:0   6:0-17:0   6:0-21:0   6:0-16:0   6:0-21:0   6:0-21:0   \n\n                                      address  \\\n1                        5255 E Broadway Blvd   \n2                                 935 Race St   \n4                               615 S Main St   \n5  8522 Eager Road, Dierbergs Brentwood Point   \n6                         2312 Dickerson Pike   \n\n                                          attributes             business_id  \\\n1  {'BikeParking': 'True', 'BusinessAcceptsCredit...  tUFrWirKiKi_TAnsVWINQQ   \n2  {'RestaurantsDelivery': 'False', 'OutdoorSeati...  MTSW4McQd7CbVtyjqoe9mw   \n4  {'BusinessParking': 'None', 'BusinessAcceptsCr...  CF33F8-E6oudUQ46HnavjQ   \n5  {'BusinessAcceptsCreditCards': 'True', 'Restau...  n_0UpQx1hsNbnPUSlodU8w   \n6  {'RestaurantsAttire': \"'casual'\", 'Restaurants...  bBDDEgkFA1Otx9Lfe7BZUQ   \n\n                                          categories          city  is_open  \\\n1  Department Stores, Shopping, Fashion, Home & G...        Tucson        0   \n2  Restaurants, Food, Bubble Tea, Coffee & Tea, B...  Philadelphia        1   \n4  Burgers, Fast Food, Sandwiches, Food, Ice Crea...  Ashland City        1   \n5  Sporting Goods, Fashion, Shoe Stores, Shopping...     Brentwood        1   \n6  Ice Cream & Frozen Yogurt, Fast Food, Burgers,...     Nashville        1   \n\n    latitude   longitude                name postal_code  review_count  stars  \\\n1  32.223236 -110.880452              Target       85711            22    3.5   \n2  39.955505  -75.155564  St Honore Pastries       19107            80    4.0   \n4  36.269593  -87.058943      Sonic Drive-In       37015             6    2.0   \n5  38.627695  -90.340465     Famous Footwear       63144            13    2.5   \n6  36.208102  -86.768170      Sonic Drive-In       37207            10    1.5   \n\n  state  \n1    AZ  \n2    PA  \n4    TN  \n5    MO  \n6    TN  ",
      "text/html": "<div>\n<style scoped>\n    .dataframe tbody tr th:only-of-type {\n        vertical-align: middle;\n    }\n\n    .dataframe tbody tr th {\n        vertical-align: top;\n    }\n\n    .dataframe thead th {\n        text-align: right;\n    }\n</style>\n<table border=\"1\" class=\"dataframe\">\n  <thead>\n    <tr style=\"text-align: right;\">\n      <th></th>\n      <th>Friday</th>\n      <th>Monday</th>\n      <th>Saturday</th>\n      <th>Sunday</th>\n      <th>Thursday</th>\n      <th>Tuesday</th>\n      <th>Wednesday</th>\n      <th>address</th>\n      <th>attributes</th>\n      <th>business_id</th>\n      <th>categories</th>\n      <th>city</th>\n      <th>is_open</th>\n      <th>latitude</th>\n      <th>longitude</th>\n      <th>name</th>\n      <th>postal_code</th>\n      <th>review_count</th>\n      <th>stars</th>\n      <th>state</th>\n    </tr>\n  </thead>\n  <tbody>\n    <tr>\n      <th>1</th>\n      <td>8:0-23:0</td>\n      <td>8:0-22:0</td>\n      <td>8:0-23:0</td>\n      <td>8:0-22:0</td>\n      <td>8:0-22:0</td>\n      <td>8:0-22:0</td>\n      <td>8:0-22:0</td>\n      <td>5255 E Broadway Blvd</td>\n      <td>{'BikeParking': 'True', 'BusinessAcceptsCredit...</td>\n      <td>tUFrWirKiKi_TAnsVWINQQ</td>\n      <td>Department Stores, Shopping, Fashion, Home &amp; G...</td>\n      <td>Tucson</td>\n      <td>0</td>\n      <td>32.223236</td>\n      <td>-110.880452</td>\n      <td>Target</td>\n      <td>85711</td>\n      <td>22</td>\n      <td>3.5</td>\n      <td>AZ</td>\n    </tr>\n    <tr>\n      <th>2</th>\n      <td>7:0-21:0</td>\n      <td>7:0-20:0</td>\n      <td>7:0-21:0</td>\n      <td>7:0-21:0</td>\n      <td>7:0-20:0</td>\n      <td>7:0-20:0</td>\n      <td>7:0-20:0</td>\n      <td>935 Race St</td>\n      <td>{'RestaurantsDelivery': 'False', 'OutdoorSeati...</td>\n      <td>MTSW4McQd7CbVtyjqoe9mw</td>\n      <td>Restaurants, Food, Bubble Tea, Coffee &amp; Tea, B...</td>\n      <td>Philadelphia</td>\n      <td>1</td>\n      <td>39.955505</td>\n      <td>-75.155564</td>\n      <td>St Honore Pastries</td>\n      <td>19107</td>\n      <td>80</td>\n      <td>4.0</td>\n      <td>PA</td>\n    </tr>\n    <tr>\n      <th>4</th>\n      <td>9:0-0:0</td>\n      <td>0:0-0:0</td>\n      <td>9:0-22:0</td>\n      <td>8:0-22:0</td>\n      <td>6:0-22:0</td>\n      <td>6:0-22:0</td>\n      <td>6:0-22:0</td>\n      <td>615 S Main St</td>\n      <td>{'BusinessParking': 'None', 'BusinessAcceptsCr...</td>\n      <td>CF33F8-E6oudUQ46HnavjQ</td>\n      <td>Burgers, Fast Food, Sandwiches, Food, Ice Crea...</td>\n      <td>Ashland City</td>\n      <td>1</td>\n      <td>36.269593</td>\n      <td>-87.058943</td>\n      <td>Sonic Drive-In</td>\n      <td>37015</td>\n      <td>6</td>\n      <td>2.0</td>\n      <td>TN</td>\n    </tr>\n    <tr>\n      <th>5</th>\n      <td>10:0-18:0</td>\n      <td>0:0-0:0</td>\n      <td>10:0-18:0</td>\n      <td>12:0-18:0</td>\n      <td>10:0-18:0</td>\n      <td>10:0-18:0</td>\n      <td>10:0-18:0</td>\n      <td>8522 Eager Road, Dierbergs Brentwood Point</td>\n      <td>{'BusinessAcceptsCreditCards': 'True', 'Restau...</td>\n      <td>n_0UpQx1hsNbnPUSlodU8w</td>\n      <td>Sporting Goods, Fashion, Shoe Stores, Shopping...</td>\n      <td>Brentwood</td>\n      <td>1</td>\n      <td>38.627695</td>\n      <td>-90.340465</td>\n      <td>Famous Footwear</td>\n      <td>63144</td>\n      <td>13</td>\n      <td>2.5</td>\n      <td>MO</td>\n    </tr>\n    <tr>\n      <th>6</th>\n      <td>6:0-16:0</td>\n      <td>0:0-0:0</td>\n      <td>6:0-17:0</td>\n      <td>6:0-21:0</td>\n      <td>6:0-16:0</td>\n      <td>6:0-21:0</td>\n      <td>6:0-21:0</td>\n      <td>2312 Dickerson Pike</td>\n      <td>{'RestaurantsAttire': \"'casual'\", 'Restaurants...</td>\n      <td>bBDDEgkFA1Otx9Lfe7BZUQ</td>\n      <td>Ice Cream &amp; Frozen Yogurt, Fast Food, Burgers,...</td>\n      <td>Nashville</td>\n      <td>1</td>\n      <td>36.208102</td>\n      <td>-86.768170</td>\n      <td>Sonic Drive-In</td>\n      <td>37207</td>\n      <td>10</td>\n      <td>1.5</td>\n      <td>TN</td>\n    </tr>\n  </tbody>\n</table>\n</div>"
     },
     "execution_count": 167,
     "metadata": {},
     "output_type": "execute_result"
    }
   ],
   "source": [
    "df_business = df_business.drop(columns='hours')\n",
    "df_business.head(5)"
   ],
   "metadata": {
    "collapsed": false,
    "pycharm": {
     "name": "#%%\n"
    }
   }
  },
  {
   "cell_type": "code",
   "execution_count": 188,
   "outputs": [],
   "source": [
    "def expand(row, dict):\n",
    "    for key, values in dict.items():\n",
    "        row[key] = values\n",
    "    return row\n",
    "\n",
    "def expand_attributes_feature(row):\n",
    "    print(row[\"attributes\"])\n",
    "    string_replaced = row[\"attributes\"].replace(\"'\", '\"')\n",
    "    string_replaced = re.sub('u\"no\"',\"u-no\", string_replaced) # Risolvere anche BusinessParking (dict dentro dict)\n",
    "    print(string_replaced)\n",
    "    return expand(row, json.loads(string_replaced))\n",
    "\n",
    "def my_replace(m):\n",
    "    print(m)"
   ],
   "metadata": {
    "collapsed": false,
    "pycharm": {
     "name": "#%%\n"
    }
   }
  },
  {
   "cell_type": "code",
   "execution_count": 189,
   "outputs": [
    {
     "name": "stdout",
     "output_type": "stream",
     "text": [
      "{'BikeParking': 'True', 'BusinessAcceptsCreditCards': 'True', 'RestaurantsPriceRange2': '2', 'CoatCheck': 'False', 'RestaurantsTakeOut': 'False', 'RestaurantsDelivery': 'False', 'Caters': 'False', 'WiFi': \"u'no'\", 'BusinessParking': \"{'garage': False, 'street': False, 'validated': False, 'lot': True, 'valet': False}\", 'WheelchairAccessible': 'True', 'HappyHour': 'False', 'OutdoorSeating': 'False', 'HasTV': 'False', 'RestaurantsReservations': 'False', 'DogsAllowed': 'False', 'ByAppointmentOnly': 'False'}\n",
      "{\"BikeParking\": \"True\", \"BusinessAcceptsCreditCards\": \"True\", \"RestaurantsPriceRange2\": \"2\", \"CoatCheck\": \"False\", \"RestaurantsTakeOut\": \"False\", \"RestaurantsDelivery\": \"False\", \"Caters\": \"False\", \"WiFi\": \"u-no\", \"BusinessParking\": \"{\"garage\": False, \"street\": False, \"validated\": False, \"lot\": True, \"valet\": False}\", \"WheelchairAccessible\": \"True\", \"HappyHour\": \"False\", \"OutdoorSeating\": \"False\", \"HasTV\": \"False\", \"RestaurantsReservations\": \"False\", \"DogsAllowed\": \"False\", \"ByAppointmentOnly\": \"False\"}\n"
     ]
    },
    {
     "ename": "JSONDecodeError",
     "evalue": "Expecting ',' delimiter: line 1 column 236 (char 235)",
     "output_type": "error",
     "traceback": [
      "\u001B[1;31m---------------------------------------------------------------------------\u001B[0m",
      "\u001B[1;31mJSONDecodeError\u001B[0m                           Traceback (most recent call last)",
      "\u001B[1;32m~\\AppData\\Local\\Temp/ipykernel_7212/3742955470.py\u001B[0m in \u001B[0;36m<module>\u001B[1;34m\u001B[0m\n\u001B[1;32m----> 1\u001B[1;33m \u001B[0mtest\u001B[0m \u001B[1;33m=\u001B[0m \u001B[0mdf_business\u001B[0m\u001B[1;33m.\u001B[0m\u001B[0mapply\u001B[0m\u001B[1;33m(\u001B[0m\u001B[0mexpand_attributes_feature\u001B[0m\u001B[1;33m,\u001B[0m \u001B[0maxis\u001B[0m\u001B[1;33m=\u001B[0m\u001B[1;36m1\u001B[0m\u001B[1;33m)\u001B[0m\u001B[1;33m\u001B[0m\u001B[1;33m\u001B[0m\u001B[0m\n\u001B[0m\u001B[0;32m      2\u001B[0m \u001B[1;33m\u001B[0m\u001B[0m\n\u001B[0;32m      3\u001B[0m \u001B[0mtest\u001B[0m\u001B[1;33m.\u001B[0m\u001B[0mhead\u001B[0m\u001B[1;33m(\u001B[0m\u001B[1;36m5\u001B[0m\u001B[1;33m)\u001B[0m\u001B[1;33m\u001B[0m\u001B[1;33m\u001B[0m\u001B[0m\n\u001B[0;32m      4\u001B[0m \u001B[1;33m\u001B[0m\u001B[0m\n\u001B[0;32m      5\u001B[0m \u001B[1;31m# Problema feature \"WIfi\"\u001B[0m\u001B[1;33m\u001B[0m\u001B[1;33m\u001B[0m\u001B[1;33m\u001B[0m\u001B[0m\n",
      "\u001B[1;32mc:\\users\\giuli\\appdata\\local\\programs\\python\\python39\\lib\\site-packages\\pandas\\core\\frame.py\u001B[0m in \u001B[0;36mapply\u001B[1;34m(self, func, axis, raw, result_type, args, **kwargs)\u001B[0m\n\u001B[0;32m   8837\u001B[0m             \u001B[0mkwargs\u001B[0m\u001B[1;33m=\u001B[0m\u001B[0mkwargs\u001B[0m\u001B[1;33m,\u001B[0m\u001B[1;33m\u001B[0m\u001B[1;33m\u001B[0m\u001B[0m\n\u001B[0;32m   8838\u001B[0m         )\n\u001B[1;32m-> 8839\u001B[1;33m         \u001B[1;32mreturn\u001B[0m \u001B[0mop\u001B[0m\u001B[1;33m.\u001B[0m\u001B[0mapply\u001B[0m\u001B[1;33m(\u001B[0m\u001B[1;33m)\u001B[0m\u001B[1;33m.\u001B[0m\u001B[0m__finalize__\u001B[0m\u001B[1;33m(\u001B[0m\u001B[0mself\u001B[0m\u001B[1;33m,\u001B[0m \u001B[0mmethod\u001B[0m\u001B[1;33m=\u001B[0m\u001B[1;34m\"apply\"\u001B[0m\u001B[1;33m)\u001B[0m\u001B[1;33m\u001B[0m\u001B[1;33m\u001B[0m\u001B[0m\n\u001B[0m\u001B[0;32m   8840\u001B[0m \u001B[1;33m\u001B[0m\u001B[0m\n\u001B[0;32m   8841\u001B[0m     def applymap(\n",
      "\u001B[1;32mc:\\users\\giuli\\appdata\\local\\programs\\python\\python39\\lib\\site-packages\\pandas\\core\\apply.py\u001B[0m in \u001B[0;36mapply\u001B[1;34m(self)\u001B[0m\n\u001B[0;32m    725\u001B[0m             \u001B[1;32mreturn\u001B[0m \u001B[0mself\u001B[0m\u001B[1;33m.\u001B[0m\u001B[0mapply_raw\u001B[0m\u001B[1;33m(\u001B[0m\u001B[1;33m)\u001B[0m\u001B[1;33m\u001B[0m\u001B[1;33m\u001B[0m\u001B[0m\n\u001B[0;32m    726\u001B[0m \u001B[1;33m\u001B[0m\u001B[0m\n\u001B[1;32m--> 727\u001B[1;33m         \u001B[1;32mreturn\u001B[0m \u001B[0mself\u001B[0m\u001B[1;33m.\u001B[0m\u001B[0mapply_standard\u001B[0m\u001B[1;33m(\u001B[0m\u001B[1;33m)\u001B[0m\u001B[1;33m\u001B[0m\u001B[1;33m\u001B[0m\u001B[0m\n\u001B[0m\u001B[0;32m    728\u001B[0m \u001B[1;33m\u001B[0m\u001B[0m\n\u001B[0;32m    729\u001B[0m     \u001B[1;32mdef\u001B[0m \u001B[0magg\u001B[0m\u001B[1;33m(\u001B[0m\u001B[0mself\u001B[0m\u001B[1;33m)\u001B[0m\u001B[1;33m:\u001B[0m\u001B[1;33m\u001B[0m\u001B[1;33m\u001B[0m\u001B[0m\n",
      "\u001B[1;32mc:\\users\\giuli\\appdata\\local\\programs\\python\\python39\\lib\\site-packages\\pandas\\core\\apply.py\u001B[0m in \u001B[0;36mapply_standard\u001B[1;34m(self)\u001B[0m\n\u001B[0;32m    849\u001B[0m \u001B[1;33m\u001B[0m\u001B[0m\n\u001B[0;32m    850\u001B[0m     \u001B[1;32mdef\u001B[0m \u001B[0mapply_standard\u001B[0m\u001B[1;33m(\u001B[0m\u001B[0mself\u001B[0m\u001B[1;33m)\u001B[0m\u001B[1;33m:\u001B[0m\u001B[1;33m\u001B[0m\u001B[1;33m\u001B[0m\u001B[0m\n\u001B[1;32m--> 851\u001B[1;33m         \u001B[0mresults\u001B[0m\u001B[1;33m,\u001B[0m \u001B[0mres_index\u001B[0m \u001B[1;33m=\u001B[0m \u001B[0mself\u001B[0m\u001B[1;33m.\u001B[0m\u001B[0mapply_series_generator\u001B[0m\u001B[1;33m(\u001B[0m\u001B[1;33m)\u001B[0m\u001B[1;33m\u001B[0m\u001B[1;33m\u001B[0m\u001B[0m\n\u001B[0m\u001B[0;32m    852\u001B[0m \u001B[1;33m\u001B[0m\u001B[0m\n\u001B[0;32m    853\u001B[0m         \u001B[1;31m# wrap results\u001B[0m\u001B[1;33m\u001B[0m\u001B[1;33m\u001B[0m\u001B[1;33m\u001B[0m\u001B[0m\n",
      "\u001B[1;32mc:\\users\\giuli\\appdata\\local\\programs\\python\\python39\\lib\\site-packages\\pandas\\core\\apply.py\u001B[0m in \u001B[0;36mapply_series_generator\u001B[1;34m(self)\u001B[0m\n\u001B[0;32m    865\u001B[0m             \u001B[1;32mfor\u001B[0m \u001B[0mi\u001B[0m\u001B[1;33m,\u001B[0m \u001B[0mv\u001B[0m \u001B[1;32min\u001B[0m \u001B[0menumerate\u001B[0m\u001B[1;33m(\u001B[0m\u001B[0mseries_gen\u001B[0m\u001B[1;33m)\u001B[0m\u001B[1;33m:\u001B[0m\u001B[1;33m\u001B[0m\u001B[1;33m\u001B[0m\u001B[0m\n\u001B[0;32m    866\u001B[0m                 \u001B[1;31m# ignore SettingWithCopy here in case the user mutates\u001B[0m\u001B[1;33m\u001B[0m\u001B[1;33m\u001B[0m\u001B[1;33m\u001B[0m\u001B[0m\n\u001B[1;32m--> 867\u001B[1;33m                 \u001B[0mresults\u001B[0m\u001B[1;33m[\u001B[0m\u001B[0mi\u001B[0m\u001B[1;33m]\u001B[0m \u001B[1;33m=\u001B[0m \u001B[0mself\u001B[0m\u001B[1;33m.\u001B[0m\u001B[0mf\u001B[0m\u001B[1;33m(\u001B[0m\u001B[0mv\u001B[0m\u001B[1;33m)\u001B[0m\u001B[1;33m\u001B[0m\u001B[1;33m\u001B[0m\u001B[0m\n\u001B[0m\u001B[0;32m    868\u001B[0m                 \u001B[1;32mif\u001B[0m \u001B[0misinstance\u001B[0m\u001B[1;33m(\u001B[0m\u001B[0mresults\u001B[0m\u001B[1;33m[\u001B[0m\u001B[0mi\u001B[0m\u001B[1;33m]\u001B[0m\u001B[1;33m,\u001B[0m \u001B[0mABCSeries\u001B[0m\u001B[1;33m)\u001B[0m\u001B[1;33m:\u001B[0m\u001B[1;33m\u001B[0m\u001B[1;33m\u001B[0m\u001B[0m\n\u001B[0;32m    869\u001B[0m                     \u001B[1;31m# If we have a view on v, we need to make a copy because\u001B[0m\u001B[1;33m\u001B[0m\u001B[1;33m\u001B[0m\u001B[1;33m\u001B[0m\u001B[0m\n",
      "\u001B[1;32m~\\AppData\\Local\\Temp/ipykernel_7212/464856035.py\u001B[0m in \u001B[0;36mexpand_attributes_feature\u001B[1;34m(row)\u001B[0m\n\u001B[0;32m      9\u001B[0m     \u001B[0mstring_replaced\u001B[0m \u001B[1;33m=\u001B[0m \u001B[0mre\u001B[0m\u001B[1;33m.\u001B[0m\u001B[0msub\u001B[0m\u001B[1;33m(\u001B[0m\u001B[1;34m'u\"no\"'\u001B[0m\u001B[1;33m,\u001B[0m\u001B[1;34m\"u-no\"\u001B[0m\u001B[1;33m,\u001B[0m \u001B[0mstring_replaced\u001B[0m\u001B[1;33m)\u001B[0m\u001B[1;33m\u001B[0m\u001B[1;33m\u001B[0m\u001B[0m\n\u001B[0;32m     10\u001B[0m     \u001B[0mprint\u001B[0m\u001B[1;33m(\u001B[0m\u001B[0mstring_replaced\u001B[0m\u001B[1;33m)\u001B[0m\u001B[1;33m\u001B[0m\u001B[1;33m\u001B[0m\u001B[0m\n\u001B[1;32m---> 11\u001B[1;33m     \u001B[1;32mreturn\u001B[0m \u001B[0mexpand\u001B[0m\u001B[1;33m(\u001B[0m\u001B[0mrow\u001B[0m\u001B[1;33m,\u001B[0m \u001B[0mjson\u001B[0m\u001B[1;33m.\u001B[0m\u001B[0mloads\u001B[0m\u001B[1;33m(\u001B[0m\u001B[0mstring_replaced\u001B[0m\u001B[1;33m)\u001B[0m\u001B[1;33m)\u001B[0m\u001B[1;33m\u001B[0m\u001B[1;33m\u001B[0m\u001B[0m\n\u001B[0m",
      "\u001B[1;32mc:\\users\\giuli\\appdata\\local\\programs\\python\\python39\\lib\\json\\__init__.py\u001B[0m in \u001B[0;36mloads\u001B[1;34m(s, cls, object_hook, parse_float, parse_int, parse_constant, object_pairs_hook, **kw)\u001B[0m\n\u001B[0;32m    344\u001B[0m             \u001B[0mparse_int\u001B[0m \u001B[1;32mis\u001B[0m \u001B[1;32mNone\u001B[0m \u001B[1;32mand\u001B[0m \u001B[0mparse_float\u001B[0m \u001B[1;32mis\u001B[0m \u001B[1;32mNone\u001B[0m \u001B[1;32mand\u001B[0m\u001B[1;33m\u001B[0m\u001B[1;33m\u001B[0m\u001B[0m\n\u001B[0;32m    345\u001B[0m             parse_constant is None and object_pairs_hook is None and not kw):\n\u001B[1;32m--> 346\u001B[1;33m         \u001B[1;32mreturn\u001B[0m \u001B[0m_default_decoder\u001B[0m\u001B[1;33m.\u001B[0m\u001B[0mdecode\u001B[0m\u001B[1;33m(\u001B[0m\u001B[0ms\u001B[0m\u001B[1;33m)\u001B[0m\u001B[1;33m\u001B[0m\u001B[1;33m\u001B[0m\u001B[0m\n\u001B[0m\u001B[0;32m    347\u001B[0m     \u001B[1;32mif\u001B[0m \u001B[0mcls\u001B[0m \u001B[1;32mis\u001B[0m \u001B[1;32mNone\u001B[0m\u001B[1;33m:\u001B[0m\u001B[1;33m\u001B[0m\u001B[1;33m\u001B[0m\u001B[0m\n\u001B[0;32m    348\u001B[0m         \u001B[0mcls\u001B[0m \u001B[1;33m=\u001B[0m \u001B[0mJSONDecoder\u001B[0m\u001B[1;33m\u001B[0m\u001B[1;33m\u001B[0m\u001B[0m\n",
      "\u001B[1;32mc:\\users\\giuli\\appdata\\local\\programs\\python\\python39\\lib\\json\\decoder.py\u001B[0m in \u001B[0;36mdecode\u001B[1;34m(self, s, _w)\u001B[0m\n\u001B[0;32m    335\u001B[0m \u001B[1;33m\u001B[0m\u001B[0m\n\u001B[0;32m    336\u001B[0m         \"\"\"\n\u001B[1;32m--> 337\u001B[1;33m         \u001B[0mobj\u001B[0m\u001B[1;33m,\u001B[0m \u001B[0mend\u001B[0m \u001B[1;33m=\u001B[0m \u001B[0mself\u001B[0m\u001B[1;33m.\u001B[0m\u001B[0mraw_decode\u001B[0m\u001B[1;33m(\u001B[0m\u001B[0ms\u001B[0m\u001B[1;33m,\u001B[0m \u001B[0midx\u001B[0m\u001B[1;33m=\u001B[0m\u001B[0m_w\u001B[0m\u001B[1;33m(\u001B[0m\u001B[0ms\u001B[0m\u001B[1;33m,\u001B[0m \u001B[1;36m0\u001B[0m\u001B[1;33m)\u001B[0m\u001B[1;33m.\u001B[0m\u001B[0mend\u001B[0m\u001B[1;33m(\u001B[0m\u001B[1;33m)\u001B[0m\u001B[1;33m)\u001B[0m\u001B[1;33m\u001B[0m\u001B[1;33m\u001B[0m\u001B[0m\n\u001B[0m\u001B[0;32m    338\u001B[0m         \u001B[0mend\u001B[0m \u001B[1;33m=\u001B[0m \u001B[0m_w\u001B[0m\u001B[1;33m(\u001B[0m\u001B[0ms\u001B[0m\u001B[1;33m,\u001B[0m \u001B[0mend\u001B[0m\u001B[1;33m)\u001B[0m\u001B[1;33m.\u001B[0m\u001B[0mend\u001B[0m\u001B[1;33m(\u001B[0m\u001B[1;33m)\u001B[0m\u001B[1;33m\u001B[0m\u001B[1;33m\u001B[0m\u001B[0m\n\u001B[0;32m    339\u001B[0m         \u001B[1;32mif\u001B[0m \u001B[0mend\u001B[0m \u001B[1;33m!=\u001B[0m \u001B[0mlen\u001B[0m\u001B[1;33m(\u001B[0m\u001B[0ms\u001B[0m\u001B[1;33m)\u001B[0m\u001B[1;33m:\u001B[0m\u001B[1;33m\u001B[0m\u001B[1;33m\u001B[0m\u001B[0m\n",
      "\u001B[1;32mc:\\users\\giuli\\appdata\\local\\programs\\python\\python39\\lib\\json\\decoder.py\u001B[0m in \u001B[0;36mraw_decode\u001B[1;34m(self, s, idx)\u001B[0m\n\u001B[0;32m    351\u001B[0m         \"\"\"\n\u001B[0;32m    352\u001B[0m         \u001B[1;32mtry\u001B[0m\u001B[1;33m:\u001B[0m\u001B[1;33m\u001B[0m\u001B[1;33m\u001B[0m\u001B[0m\n\u001B[1;32m--> 353\u001B[1;33m             \u001B[0mobj\u001B[0m\u001B[1;33m,\u001B[0m \u001B[0mend\u001B[0m \u001B[1;33m=\u001B[0m \u001B[0mself\u001B[0m\u001B[1;33m.\u001B[0m\u001B[0mscan_once\u001B[0m\u001B[1;33m(\u001B[0m\u001B[0ms\u001B[0m\u001B[1;33m,\u001B[0m \u001B[0midx\u001B[0m\u001B[1;33m)\u001B[0m\u001B[1;33m\u001B[0m\u001B[1;33m\u001B[0m\u001B[0m\n\u001B[0m\u001B[0;32m    354\u001B[0m         \u001B[1;32mexcept\u001B[0m \u001B[0mStopIteration\u001B[0m \u001B[1;32mas\u001B[0m \u001B[0merr\u001B[0m\u001B[1;33m:\u001B[0m\u001B[1;33m\u001B[0m\u001B[1;33m\u001B[0m\u001B[0m\n\u001B[0;32m    355\u001B[0m             \u001B[1;32mraise\u001B[0m \u001B[0mJSONDecodeError\u001B[0m\u001B[1;33m(\u001B[0m\u001B[1;34m\"Expecting value\"\u001B[0m\u001B[1;33m,\u001B[0m \u001B[0ms\u001B[0m\u001B[1;33m,\u001B[0m \u001B[0merr\u001B[0m\u001B[1;33m.\u001B[0m\u001B[0mvalue\u001B[0m\u001B[1;33m)\u001B[0m \u001B[1;32mfrom\u001B[0m \u001B[1;32mNone\u001B[0m\u001B[1;33m\u001B[0m\u001B[1;33m\u001B[0m\u001B[0m\n",
      "\u001B[1;31mJSONDecodeError\u001B[0m: Expecting ',' delimiter: line 1 column 236 (char 235)"
     ]
    }
   ],
   "source": [
    "test = df_business.apply(expand_attributes_feature, axis=1)\n",
    "\n",
    "test.head(5)\n",
    "\n",
    "# Problema feature \"WIfi\""
   ],
   "metadata": {
    "collapsed": false,
    "pycharm": {
     "name": "#%%\n"
    }
   }
  },
  {
   "cell_type": "code",
   "execution_count": 150,
   "outputs": [
    {
     "name": "stdout",
     "output_type": "stream",
     "text": [
      "131930\n"
     ]
    },
    {
     "data": {
      "text/plain": "              business_id                                               date\n0  ---kPU91CF4Lq2-WlRu9Lw  2020-03-13 21:10:56, 2020-06-02 22:18:06, 2020...\n1  --0iUa4sNDFiZFrAdIWhZQ  2010-09-13 21:43:09, 2011-05-04 23:08:15, 2011...\n2  --30_8IhuyMHbSOcNWd6DQ           2013-06-14 23:29:17, 2014-08-13 23:20:22\n3  --7PUidqRWpRSpXebiyxTg  2011-02-15 17:12:00, 2011-07-28 02:46:10, 2012...\n4  --7jw19RH9JKXgFohspgQw  2014-04-21 20:42:11, 2014-04-28 21:04:46, 2014...",
      "text/html": "<div>\n<style scoped>\n    .dataframe tbody tr th:only-of-type {\n        vertical-align: middle;\n    }\n\n    .dataframe tbody tr th {\n        vertical-align: top;\n    }\n\n    .dataframe thead th {\n        text-align: right;\n    }\n</style>\n<table border=\"1\" class=\"dataframe\">\n  <thead>\n    <tr style=\"text-align: right;\">\n      <th></th>\n      <th>business_id</th>\n      <th>date</th>\n    </tr>\n  </thead>\n  <tbody>\n    <tr>\n      <th>0</th>\n      <td>---kPU91CF4Lq2-WlRu9Lw</td>\n      <td>2020-03-13 21:10:56, 2020-06-02 22:18:06, 2020...</td>\n    </tr>\n    <tr>\n      <th>1</th>\n      <td>--0iUa4sNDFiZFrAdIWhZQ</td>\n      <td>2010-09-13 21:43:09, 2011-05-04 23:08:15, 2011...</td>\n    </tr>\n    <tr>\n      <th>2</th>\n      <td>--30_8IhuyMHbSOcNWd6DQ</td>\n      <td>2013-06-14 23:29:17, 2014-08-13 23:20:22</td>\n    </tr>\n    <tr>\n      <th>3</th>\n      <td>--7PUidqRWpRSpXebiyxTg</td>\n      <td>2011-02-15 17:12:00, 2011-07-28 02:46:10, 2012...</td>\n    </tr>\n    <tr>\n      <th>4</th>\n      <td>--7jw19RH9JKXgFohspgQw</td>\n      <td>2014-04-21 20:42:11, 2014-04-28 21:04:46, 2014...</td>\n    </tr>\n  </tbody>\n</table>\n</div>"
     },
     "execution_count": 150,
     "metadata": {},
     "output_type": "execute_result"
    }
   ],
   "source": [
    "print(len(df_checkin))\n",
    "df_checkin.head(5)"
   ],
   "metadata": {
    "collapsed": false,
    "pycharm": {
     "name": "#%%\n"
    }
   }
  },
  {
   "cell_type": "code",
   "execution_count": 134,
   "outputs": [
    {
     "name": "stdout",
     "output_type": "stream",
     "text": [
      "908915\n"
     ]
    },
    {
     "data": {
      "text/plain": "                  user_id             business_id  \\\n0  AGNUgVwnZUey3gcPCJ76iw  3uLgwr0qeCNMjKenHJwPGQ   \n1  NBN4MgHP9D3cw--SnauTkA  QoezRbYQncpRqyrLH6Iqjg   \n2  -copOvldyKh1qr-vzkDEvw  MYoRNLb5chwjQe3c_k37Gg   \n3  FjMQVZjSqY8syIO-53KFKw  hV-bABTK-glh5wj31ps_Jw   \n4  ld0AperBXk1h6UbqmM80zw  _uN0OudeJ3Zl_tf6nxg5ww   \n\n                                                text                 date  \\\n0                     Avengers time with the ladies.  2012-05-18 02:17:21   \n1  They have lots of good deserts and tasty cuban...  2013-02-05 18:35:10   \n2             It's open even when you think it isn't  2013-08-18 00:56:08   \n3                          Very decent fried chicken  2017-06-27 23:05:38   \n4             Appetizers.. platter special for lunch  2012-10-06 19:43:09   \n\n   compliment_count  \n0                 0  \n1                 0  \n2                 0  \n3                 0  \n4                 0  ",
      "text/html": "<div>\n<style scoped>\n    .dataframe tbody tr th:only-of-type {\n        vertical-align: middle;\n    }\n\n    .dataframe tbody tr th {\n        vertical-align: top;\n    }\n\n    .dataframe thead th {\n        text-align: right;\n    }\n</style>\n<table border=\"1\" class=\"dataframe\">\n  <thead>\n    <tr style=\"text-align: right;\">\n      <th></th>\n      <th>user_id</th>\n      <th>business_id</th>\n      <th>text</th>\n      <th>date</th>\n      <th>compliment_count</th>\n    </tr>\n  </thead>\n  <tbody>\n    <tr>\n      <th>0</th>\n      <td>AGNUgVwnZUey3gcPCJ76iw</td>\n      <td>3uLgwr0qeCNMjKenHJwPGQ</td>\n      <td>Avengers time with the ladies.</td>\n      <td>2012-05-18 02:17:21</td>\n      <td>0</td>\n    </tr>\n    <tr>\n      <th>1</th>\n      <td>NBN4MgHP9D3cw--SnauTkA</td>\n      <td>QoezRbYQncpRqyrLH6Iqjg</td>\n      <td>They have lots of good deserts and tasty cuban...</td>\n      <td>2013-02-05 18:35:10</td>\n      <td>0</td>\n    </tr>\n    <tr>\n      <th>2</th>\n      <td>-copOvldyKh1qr-vzkDEvw</td>\n      <td>MYoRNLb5chwjQe3c_k37Gg</td>\n      <td>It's open even when you think it isn't</td>\n      <td>2013-08-18 00:56:08</td>\n      <td>0</td>\n    </tr>\n    <tr>\n      <th>3</th>\n      <td>FjMQVZjSqY8syIO-53KFKw</td>\n      <td>hV-bABTK-glh5wj31ps_Jw</td>\n      <td>Very decent fried chicken</td>\n      <td>2017-06-27 23:05:38</td>\n      <td>0</td>\n    </tr>\n    <tr>\n      <th>4</th>\n      <td>ld0AperBXk1h6UbqmM80zw</td>\n      <td>_uN0OudeJ3Zl_tf6nxg5ww</td>\n      <td>Appetizers.. platter special for lunch</td>\n      <td>2012-10-06 19:43:09</td>\n      <td>0</td>\n    </tr>\n  </tbody>\n</table>\n</div>"
     },
     "execution_count": 134,
     "metadata": {},
     "output_type": "execute_result"
    }
   ],
   "source": [
    "print(len(df_tip))\n",
    "df_tip.head(5)"
   ],
   "metadata": {
    "collapsed": false,
    "pycharm": {
     "name": "#%%\n"
    }
   }
  },
  {
   "cell_type": "code",
   "execution_count": 135,
   "outputs": [],
   "source": [
    "df_business_merged = pd.merge(df_business, df_checkin, on='business_id')"
   ],
   "metadata": {
    "collapsed": false,
    "pycharm": {
     "name": "#%%\n"
    }
   }
  },
  {
   "cell_type": "code",
   "execution_count": 136,
   "outputs": [
    {
     "name": "stdout",
     "output_type": "stream",
     "text": [
      "62755\n"
     ]
    },
    {
     "data": {
      "text/plain": "      Friday    Monday   Saturday     Sunday   Thursday    Tuesday  Wednesday  \\\n0   8:0-23:0  8:0-22:0   8:0-23:0   8:0-22:0   8:0-22:0   8:0-22:0   8:0-22:0   \n1   7:0-21:0  7:0-20:0   7:0-21:0   7:0-21:0   7:0-20:0   7:0-20:0   7:0-20:0   \n2    9:0-0:0   0:0-0:0   9:0-22:0   8:0-22:0   6:0-22:0   6:0-22:0   6:0-22:0   \n3  10:0-18:0   0:0-0:0  10:0-18:0  12:0-18:0  10:0-18:0  10:0-18:0  10:0-18:0   \n4   6:0-16:0   0:0-0:0   6:0-17:0   6:0-21:0   6:0-16:0   6:0-21:0   6:0-21:0   \n\n                                      address  \\\n0                        5255 E Broadway Blvd   \n1                                 935 Race St   \n2                               615 S Main St   \n3  8522 Eager Road, Dierbergs Brentwood Point   \n4                         2312 Dickerson Pike   \n\n                                          attributes             business_id  \\\n0  {'BikeParking': 'True', 'BusinessAcceptsCredit...  tUFrWirKiKi_TAnsVWINQQ   \n1  {'RestaurantsDelivery': 'False', 'OutdoorSeati...  MTSW4McQd7CbVtyjqoe9mw   \n2  {'BusinessParking': 'None', 'BusinessAcceptsCr...  CF33F8-E6oudUQ46HnavjQ   \n3  {'BusinessAcceptsCreditCards': 'True', 'Restau...  n_0UpQx1hsNbnPUSlodU8w   \n4  {'RestaurantsAttire': \"'casual'\", 'Restaurants...  bBDDEgkFA1Otx9Lfe7BZUQ   \n\n   ...          city is_open   latitude   longitude                name  \\\n0  ...        Tucson       0  32.223236 -110.880452              Target   \n1  ...  Philadelphia       1  39.955505  -75.155564  St Honore Pastries   \n2  ...  Ashland City       1  36.269593  -87.058943      Sonic Drive-In   \n3  ...     Brentwood       1  38.627695  -90.340465     Famous Footwear   \n4  ...     Nashville       1  36.208102  -86.768170      Sonic Drive-In   \n\n  postal_code review_count  stars  state  \\\n0       85711           22    3.5     AZ   \n1       19107           80    4.0     PA   \n2       37015            6    2.0     TN   \n3       63144           13    2.5     MO   \n4       37207           10    1.5     TN   \n\n                                                date  \n0  2010-07-25 04:30:06, 2010-08-31 04:07:22, 2010...  \n1  2010-08-18 17:05:36, 2010-11-25 17:45:31, 2011...  \n2  2012-12-16 05:27:33, 2013-02-15 04:00:46, 2013...  \n3  2010-08-30 23:57:24, 2010-09-12 19:06:35, 2010...  \n4  2011-01-17 15:31:21, 2011-02-23 21:28:08, 2011...  \n\n[5 rows x 21 columns]",
      "text/html": "<div>\n<style scoped>\n    .dataframe tbody tr th:only-of-type {\n        vertical-align: middle;\n    }\n\n    .dataframe tbody tr th {\n        vertical-align: top;\n    }\n\n    .dataframe thead th {\n        text-align: right;\n    }\n</style>\n<table border=\"1\" class=\"dataframe\">\n  <thead>\n    <tr style=\"text-align: right;\">\n      <th></th>\n      <th>Friday</th>\n      <th>Monday</th>\n      <th>Saturday</th>\n      <th>Sunday</th>\n      <th>Thursday</th>\n      <th>Tuesday</th>\n      <th>Wednesday</th>\n      <th>address</th>\n      <th>attributes</th>\n      <th>business_id</th>\n      <th>...</th>\n      <th>city</th>\n      <th>is_open</th>\n      <th>latitude</th>\n      <th>longitude</th>\n      <th>name</th>\n      <th>postal_code</th>\n      <th>review_count</th>\n      <th>stars</th>\n      <th>state</th>\n      <th>date</th>\n    </tr>\n  </thead>\n  <tbody>\n    <tr>\n      <th>0</th>\n      <td>8:0-23:0</td>\n      <td>8:0-22:0</td>\n      <td>8:0-23:0</td>\n      <td>8:0-22:0</td>\n      <td>8:0-22:0</td>\n      <td>8:0-22:0</td>\n      <td>8:0-22:0</td>\n      <td>5255 E Broadway Blvd</td>\n      <td>{'BikeParking': 'True', 'BusinessAcceptsCredit...</td>\n      <td>tUFrWirKiKi_TAnsVWINQQ</td>\n      <td>...</td>\n      <td>Tucson</td>\n      <td>0</td>\n      <td>32.223236</td>\n      <td>-110.880452</td>\n      <td>Target</td>\n      <td>85711</td>\n      <td>22</td>\n      <td>3.5</td>\n      <td>AZ</td>\n      <td>2010-07-25 04:30:06, 2010-08-31 04:07:22, 2010...</td>\n    </tr>\n    <tr>\n      <th>1</th>\n      <td>7:0-21:0</td>\n      <td>7:0-20:0</td>\n      <td>7:0-21:0</td>\n      <td>7:0-21:0</td>\n      <td>7:0-20:0</td>\n      <td>7:0-20:0</td>\n      <td>7:0-20:0</td>\n      <td>935 Race St</td>\n      <td>{'RestaurantsDelivery': 'False', 'OutdoorSeati...</td>\n      <td>MTSW4McQd7CbVtyjqoe9mw</td>\n      <td>...</td>\n      <td>Philadelphia</td>\n      <td>1</td>\n      <td>39.955505</td>\n      <td>-75.155564</td>\n      <td>St Honore Pastries</td>\n      <td>19107</td>\n      <td>80</td>\n      <td>4.0</td>\n      <td>PA</td>\n      <td>2010-08-18 17:05:36, 2010-11-25 17:45:31, 2011...</td>\n    </tr>\n    <tr>\n      <th>2</th>\n      <td>9:0-0:0</td>\n      <td>0:0-0:0</td>\n      <td>9:0-22:0</td>\n      <td>8:0-22:0</td>\n      <td>6:0-22:0</td>\n      <td>6:0-22:0</td>\n      <td>6:0-22:0</td>\n      <td>615 S Main St</td>\n      <td>{'BusinessParking': 'None', 'BusinessAcceptsCr...</td>\n      <td>CF33F8-E6oudUQ46HnavjQ</td>\n      <td>...</td>\n      <td>Ashland City</td>\n      <td>1</td>\n      <td>36.269593</td>\n      <td>-87.058943</td>\n      <td>Sonic Drive-In</td>\n      <td>37015</td>\n      <td>6</td>\n      <td>2.0</td>\n      <td>TN</td>\n      <td>2012-12-16 05:27:33, 2013-02-15 04:00:46, 2013...</td>\n    </tr>\n    <tr>\n      <th>3</th>\n      <td>10:0-18:0</td>\n      <td>0:0-0:0</td>\n      <td>10:0-18:0</td>\n      <td>12:0-18:0</td>\n      <td>10:0-18:0</td>\n      <td>10:0-18:0</td>\n      <td>10:0-18:0</td>\n      <td>8522 Eager Road, Dierbergs Brentwood Point</td>\n      <td>{'BusinessAcceptsCreditCards': 'True', 'Restau...</td>\n      <td>n_0UpQx1hsNbnPUSlodU8w</td>\n      <td>...</td>\n      <td>Brentwood</td>\n      <td>1</td>\n      <td>38.627695</td>\n      <td>-90.340465</td>\n      <td>Famous Footwear</td>\n      <td>63144</td>\n      <td>13</td>\n      <td>2.5</td>\n      <td>MO</td>\n      <td>2010-08-30 23:57:24, 2010-09-12 19:06:35, 2010...</td>\n    </tr>\n    <tr>\n      <th>4</th>\n      <td>6:0-16:0</td>\n      <td>0:0-0:0</td>\n      <td>6:0-17:0</td>\n      <td>6:0-21:0</td>\n      <td>6:0-16:0</td>\n      <td>6:0-21:0</td>\n      <td>6:0-21:0</td>\n      <td>2312 Dickerson Pike</td>\n      <td>{'RestaurantsAttire': \"'casual'\", 'Restaurants...</td>\n      <td>bBDDEgkFA1Otx9Lfe7BZUQ</td>\n      <td>...</td>\n      <td>Nashville</td>\n      <td>1</td>\n      <td>36.208102</td>\n      <td>-86.768170</td>\n      <td>Sonic Drive-In</td>\n      <td>37207</td>\n      <td>10</td>\n      <td>1.5</td>\n      <td>TN</td>\n      <td>2011-01-17 15:31:21, 2011-02-23 21:28:08, 2011...</td>\n    </tr>\n  </tbody>\n</table>\n<p>5 rows × 21 columns</p>\n</div>"
     },
     "execution_count": 136,
     "metadata": {},
     "output_type": "execute_result"
    }
   ],
   "source": [
    "print(len(df_business_merged))\n",
    "df_business_merged.head(5)"
   ],
   "metadata": {
    "collapsed": false,
    "pycharm": {
     "name": "#%%\n"
    }
   }
  },
  {
   "cell_type": "code",
   "execution_count": 137,
   "outputs": [
    {
     "data": {
      "text/plain": "              business_id  compliment_count\n0  3uLgwr0qeCNMjKenHJwPGQ                 0\n1  QoezRbYQncpRqyrLH6Iqjg                 0\n2  MYoRNLb5chwjQe3c_k37Gg                 0\n3  hV-bABTK-glh5wj31ps_Jw                 0\n4  _uN0OudeJ3Zl_tf6nxg5ww                 0",
      "text/html": "<div>\n<style scoped>\n    .dataframe tbody tr th:only-of-type {\n        vertical-align: middle;\n    }\n\n    .dataframe tbody tr th {\n        vertical-align: top;\n    }\n\n    .dataframe thead th {\n        text-align: right;\n    }\n</style>\n<table border=\"1\" class=\"dataframe\">\n  <thead>\n    <tr style=\"text-align: right;\">\n      <th></th>\n      <th>business_id</th>\n      <th>compliment_count</th>\n    </tr>\n  </thead>\n  <tbody>\n    <tr>\n      <th>0</th>\n      <td>3uLgwr0qeCNMjKenHJwPGQ</td>\n      <td>0</td>\n    </tr>\n    <tr>\n      <th>1</th>\n      <td>QoezRbYQncpRqyrLH6Iqjg</td>\n      <td>0</td>\n    </tr>\n    <tr>\n      <th>2</th>\n      <td>MYoRNLb5chwjQe3c_k37Gg</td>\n      <td>0</td>\n    </tr>\n    <tr>\n      <th>3</th>\n      <td>hV-bABTK-glh5wj31ps_Jw</td>\n      <td>0</td>\n    </tr>\n    <tr>\n      <th>4</th>\n      <td>_uN0OudeJ3Zl_tf6nxg5ww</td>\n      <td>0</td>\n    </tr>\n  </tbody>\n</table>\n</div>"
     },
     "execution_count": 137,
     "metadata": {},
     "output_type": "execute_result"
    }
   ],
   "source": [
    "df_tip = df_tip[['business_id', 'compliment_count']]\n",
    "df_tip.head(5)"
   ],
   "metadata": {
    "collapsed": false,
    "pycharm": {
     "name": "#%%\n"
    }
   }
  },
  {
   "cell_type": "code",
   "execution_count": 138,
   "outputs": [],
   "source": [
    "df_business_merged = pd.merge(df_business_merged, df_tip, on='business_id')"
   ],
   "metadata": {
    "collapsed": false,
    "pycharm": {
     "name": "#%%\n"
    }
   }
  },
  {
   "cell_type": "code",
   "execution_count": 139,
   "outputs": [
    {
     "name": "stdout",
     "output_type": "stream",
     "text": [
      "595930\n"
     ]
    },
    {
     "data": {
      "text/plain": "     Friday    Monday  Saturday    Sunday  Thursday   Tuesday Wednesday  \\\n0  8:0-23:0  8:0-22:0  8:0-23:0  8:0-22:0  8:0-22:0  8:0-22:0  8:0-22:0   \n1  8:0-23:0  8:0-22:0  8:0-23:0  8:0-22:0  8:0-22:0  8:0-22:0  8:0-22:0   \n2  8:0-23:0  8:0-22:0  8:0-23:0  8:0-22:0  8:0-22:0  8:0-22:0  8:0-22:0   \n3  8:0-23:0  8:0-22:0  8:0-23:0  8:0-22:0  8:0-22:0  8:0-22:0  8:0-22:0   \n4  8:0-23:0  8:0-22:0  8:0-23:0  8:0-22:0  8:0-22:0  8:0-22:0  8:0-22:0   \n\n                address                                         attributes  \\\n0  5255 E Broadway Blvd  {'BikeParking': 'True', 'BusinessAcceptsCredit...   \n1  5255 E Broadway Blvd  {'BikeParking': 'True', 'BusinessAcceptsCredit...   \n2  5255 E Broadway Blvd  {'BikeParking': 'True', 'BusinessAcceptsCredit...   \n3  5255 E Broadway Blvd  {'BikeParking': 'True', 'BusinessAcceptsCredit...   \n4  5255 E Broadway Blvd  {'BikeParking': 'True', 'BusinessAcceptsCredit...   \n\n              business_id  ... is_open   latitude   longitude    name  \\\n0  tUFrWirKiKi_TAnsVWINQQ  ...       0  32.223236 -110.880452  Target   \n1  tUFrWirKiKi_TAnsVWINQQ  ...       0  32.223236 -110.880452  Target   \n2  tUFrWirKiKi_TAnsVWINQQ  ...       0  32.223236 -110.880452  Target   \n3  tUFrWirKiKi_TAnsVWINQQ  ...       0  32.223236 -110.880452  Target   \n4  tUFrWirKiKi_TAnsVWINQQ  ...       0  32.223236 -110.880452  Target   \n\n   postal_code review_count stars  state  \\\n0        85711           22   3.5     AZ   \n1        85711           22   3.5     AZ   \n2        85711           22   3.5     AZ   \n3        85711           22   3.5     AZ   \n4        85711           22   3.5     AZ   \n\n                                                date compliment_count  \n0  2010-07-25 04:30:06, 2010-08-31 04:07:22, 2010...                0  \n1  2010-07-25 04:30:06, 2010-08-31 04:07:22, 2010...                0  \n2  2010-07-25 04:30:06, 2010-08-31 04:07:22, 2010...                0  \n3  2010-07-25 04:30:06, 2010-08-31 04:07:22, 2010...                0  \n4  2010-07-25 04:30:06, 2010-08-31 04:07:22, 2010...                0  \n\n[5 rows x 22 columns]",
      "text/html": "<div>\n<style scoped>\n    .dataframe tbody tr th:only-of-type {\n        vertical-align: middle;\n    }\n\n    .dataframe tbody tr th {\n        vertical-align: top;\n    }\n\n    .dataframe thead th {\n        text-align: right;\n    }\n</style>\n<table border=\"1\" class=\"dataframe\">\n  <thead>\n    <tr style=\"text-align: right;\">\n      <th></th>\n      <th>Friday</th>\n      <th>Monday</th>\n      <th>Saturday</th>\n      <th>Sunday</th>\n      <th>Thursday</th>\n      <th>Tuesday</th>\n      <th>Wednesday</th>\n      <th>address</th>\n      <th>attributes</th>\n      <th>business_id</th>\n      <th>...</th>\n      <th>is_open</th>\n      <th>latitude</th>\n      <th>longitude</th>\n      <th>name</th>\n      <th>postal_code</th>\n      <th>review_count</th>\n      <th>stars</th>\n      <th>state</th>\n      <th>date</th>\n      <th>compliment_count</th>\n    </tr>\n  </thead>\n  <tbody>\n    <tr>\n      <th>0</th>\n      <td>8:0-23:0</td>\n      <td>8:0-22:0</td>\n      <td>8:0-23:0</td>\n      <td>8:0-22:0</td>\n      <td>8:0-22:0</td>\n      <td>8:0-22:0</td>\n      <td>8:0-22:0</td>\n      <td>5255 E Broadway Blvd</td>\n      <td>{'BikeParking': 'True', 'BusinessAcceptsCredit...</td>\n      <td>tUFrWirKiKi_TAnsVWINQQ</td>\n      <td>...</td>\n      <td>0</td>\n      <td>32.223236</td>\n      <td>-110.880452</td>\n      <td>Target</td>\n      <td>85711</td>\n      <td>22</td>\n      <td>3.5</td>\n      <td>AZ</td>\n      <td>2010-07-25 04:30:06, 2010-08-31 04:07:22, 2010...</td>\n      <td>0</td>\n    </tr>\n    <tr>\n      <th>1</th>\n      <td>8:0-23:0</td>\n      <td>8:0-22:0</td>\n      <td>8:0-23:0</td>\n      <td>8:0-22:0</td>\n      <td>8:0-22:0</td>\n      <td>8:0-22:0</td>\n      <td>8:0-22:0</td>\n      <td>5255 E Broadway Blvd</td>\n      <td>{'BikeParking': 'True', 'BusinessAcceptsCredit...</td>\n      <td>tUFrWirKiKi_TAnsVWINQQ</td>\n      <td>...</td>\n      <td>0</td>\n      <td>32.223236</td>\n      <td>-110.880452</td>\n      <td>Target</td>\n      <td>85711</td>\n      <td>22</td>\n      <td>3.5</td>\n      <td>AZ</td>\n      <td>2010-07-25 04:30:06, 2010-08-31 04:07:22, 2010...</td>\n      <td>0</td>\n    </tr>\n    <tr>\n      <th>2</th>\n      <td>8:0-23:0</td>\n      <td>8:0-22:0</td>\n      <td>8:0-23:0</td>\n      <td>8:0-22:0</td>\n      <td>8:0-22:0</td>\n      <td>8:0-22:0</td>\n      <td>8:0-22:0</td>\n      <td>5255 E Broadway Blvd</td>\n      <td>{'BikeParking': 'True', 'BusinessAcceptsCredit...</td>\n      <td>tUFrWirKiKi_TAnsVWINQQ</td>\n      <td>...</td>\n      <td>0</td>\n      <td>32.223236</td>\n      <td>-110.880452</td>\n      <td>Target</td>\n      <td>85711</td>\n      <td>22</td>\n      <td>3.5</td>\n      <td>AZ</td>\n      <td>2010-07-25 04:30:06, 2010-08-31 04:07:22, 2010...</td>\n      <td>0</td>\n    </tr>\n    <tr>\n      <th>3</th>\n      <td>8:0-23:0</td>\n      <td>8:0-22:0</td>\n      <td>8:0-23:0</td>\n      <td>8:0-22:0</td>\n      <td>8:0-22:0</td>\n      <td>8:0-22:0</td>\n      <td>8:0-22:0</td>\n      <td>5255 E Broadway Blvd</td>\n      <td>{'BikeParking': 'True', 'BusinessAcceptsCredit...</td>\n      <td>tUFrWirKiKi_TAnsVWINQQ</td>\n      <td>...</td>\n      <td>0</td>\n      <td>32.223236</td>\n      <td>-110.880452</td>\n      <td>Target</td>\n      <td>85711</td>\n      <td>22</td>\n      <td>3.5</td>\n      <td>AZ</td>\n      <td>2010-07-25 04:30:06, 2010-08-31 04:07:22, 2010...</td>\n      <td>0</td>\n    </tr>\n    <tr>\n      <th>4</th>\n      <td>8:0-23:0</td>\n      <td>8:0-22:0</td>\n      <td>8:0-23:0</td>\n      <td>8:0-22:0</td>\n      <td>8:0-22:0</td>\n      <td>8:0-22:0</td>\n      <td>8:0-22:0</td>\n      <td>5255 E Broadway Blvd</td>\n      <td>{'BikeParking': 'True', 'BusinessAcceptsCredit...</td>\n      <td>tUFrWirKiKi_TAnsVWINQQ</td>\n      <td>...</td>\n      <td>0</td>\n      <td>32.223236</td>\n      <td>-110.880452</td>\n      <td>Target</td>\n      <td>85711</td>\n      <td>22</td>\n      <td>3.5</td>\n      <td>AZ</td>\n      <td>2010-07-25 04:30:06, 2010-08-31 04:07:22, 2010...</td>\n      <td>0</td>\n    </tr>\n  </tbody>\n</table>\n<p>5 rows × 22 columns</p>\n</div>"
     },
     "execution_count": 139,
     "metadata": {},
     "output_type": "execute_result"
    }
   ],
   "source": [
    "print(len(df_business_merged))\n",
    "df_business_merged.head(5)"
   ],
   "metadata": {
    "collapsed": false,
    "pycharm": {
     "name": "#%%\n"
    }
   }
  },
  {
   "cell_type": "code",
   "execution_count": 140,
   "outputs": [
    {
     "data": {
      "text/plain": "595930"
     },
     "execution_count": 140,
     "metadata": {},
     "output_type": "execute_result"
    }
   ],
   "source": [
    "df_business_merged = df_business_merged.dropna() # remove NaN rows\n",
    "# df_business_merged.head(5)\n",
    "len(df_business_merged)"
   ],
   "metadata": {
    "collapsed": false,
    "pycharm": {
     "name": "#%%\n"
    }
   }
  },
  {
   "cell_type": "code",
   "execution_count": 140,
   "outputs": [],
   "source": [],
   "metadata": {
    "collapsed": false,
    "pycharm": {
     "name": "#%%\n"
    }
   }
  }
 ],
 "metadata": {
  "kernelspec": {
   "display_name": "Python 3",
   "language": "python",
   "name": "python3"
  },
  "language_info": {
   "codemirror_mode": {
    "name": "ipython",
    "version": 2
   },
   "file_extension": ".py",
   "mimetype": "text/x-python",
   "name": "python",
   "nbconvert_exporter": "python",
   "pygments_lexer": "ipython2",
   "version": "2.7.6"
  }
 },
 "nbformat": 4,
 "nbformat_minor": 0
}