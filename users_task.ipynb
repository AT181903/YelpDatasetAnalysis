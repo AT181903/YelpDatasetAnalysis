{
 "cells": [
  {
   "cell_type": "markdown",
   "source": [
    "# Task: Raggruppamento degli utenti in base alle loro preferenze o comportamento sulla piattaforma;"
   ],
   "metadata": {
    "collapsed": false
   }
  },
  {
   "cell_type": "code",
   "execution_count": 3,
   "metadata": {
    "collapsed": true
   },
   "outputs": [
    {
     "name": "stderr",
     "output_type": "stream",
     "text": [
      "/var/folders/03/smk9v43n5dz1mcwcgdj4fzz40000gn/T/ipykernel_7516/714551233.py:3: DtypeWarning: Columns (9) have mixed types. Specify dtype option on import or set low_memory=False.\n",
      "  df_user = pd.read_csv('./dataset/user_dropped.csv')\n"
     ]
    }
   ],
   "source": [
    "import pandas as pd"
   ]
  },
  {
   "cell_type": "code",
   "execution_count": null,
   "outputs": [],
   "source": [
    "df_user = pd.read_csv('./dataset/user_dropped.csv')"
   ],
   "metadata": {
    "collapsed": false,
    "pycharm": {
     "name": "#%%\n"
    }
   }
  },
  {
   "cell_type": "code",
   "execution_count": null,
   "outputs": [],
   "source": [
    "# user_id // string, 22 character unique user id, maps to the user in user.json\n",
    "# name // string, the user's first name\n",
    "# review_count // integer, the number of reviews they've written\n",
    "# yelping_since // string, when the user joined Yelp, formatted like YYYY-MM-DD\n",
    "# friends // array of strings, an array of the user's friend as user_ids\n",
    "# useful // array of strings, an array of the user's friend as user_ids\n",
    "# funny // integer, number of useful votes sent by the user\n",
    "# cool // integer, number of funny votes sent by the user\n",
    "# fans // integer, number of cool votes sent by the user\n",
    "# elite // array of integers, the years the user was elite\n",
    "# average_stars 31 // integer, number of fans the user has\n",
    "# compliment_hot // float, average rating of all reviews\n",
    "# compliment_more // integer, number of hot compliments received by the user\n",
    "# compliment_profile // integer, number of more compliments received by the user\n",
    "# compliment_cute // integer, number of profile compliments received by the user\n",
    "# compliment_list // integer, number of cute compliments received by the user\n",
    "# compliment_note // integer, number of list compliments received by the user\n",
    "# compliment_plain // integer, number of note compliments received by the user\n",
    "# compliment_cool // integer, number of plain compliments received by the user\n",
    "# compliment_funny // integer, number of cool compliments received by the user\n",
    "# compliment_writer // integer, number of funny compliments received by the user\n",
    "# compliment_photos // integer, number of writer compliments received by the user"
   ],
   "metadata": {
    "collapsed": false,
    "pycharm": {
     "name": "#%%\n"
    }
   }
  },
  {
   "cell_type": "code",
   "execution_count": 6,
   "outputs": [
    {
     "data": {
      "text/plain": "   Unnamed: 0    index                 user_id       name  review_count  \\\n0           0  1887897  qTMpKPwjtSDJMD-0sdd_Ag       Russ             2   \n1           1  1887898  yy_AsCP84HLEa4f69QcEMg   Ashleigh             1   \n2           2  1887899  -sjaSX7O8Xq6FV_djSWtag      Joana            18   \n3           3  1887900  BR6WprijmGNbAI6CAaGgYQ      diane             3   \n4           4  1887901  SNhQvkBwMHJKSIjzV8-73w    Vanessa             1   \n5           5  1887902  HiPUJrclH4PibcIqwoakww  Gabrielle            16   \n6           6  1887903  2vDN6H1BHXWZIo6aJCSETA        Ann             2   \n7           7  1887904  n88a8mWrSpVS55pTSjNT-A     Sharie             1   \n8           8  1887905  UKiJxDwci6UctxjSPr9gDA      Sarah             1   \n9           9  1887906  kyMIAJ9_DOjJhUUUqW2o-g    Suzanne             2   \n\n         yelping_since  useful  funny  cool elite  ... compliment_more  \\\n0  2013-01-31 00:30:02       0      0     0   NaN  ...               0   \n1  2019-01-07 02:39:12       0      0     0   NaN  ...               0   \n2  2013-11-25 14:27:36      11      6     7   NaN  ...               0   \n3  2011-09-26 03:14:14       0      0     0   NaN  ...               0   \n4  2017-11-15 15:35:36       2      0     0   NaN  ...               0   \n5  2016-06-12 00:08:20       5      1     2   NaN  ...               0   \n6  2011-11-16 23:06:47       0      0     0   NaN  ...               0   \n7  2018-08-19 13:31:18       1      0     0   NaN  ...               0   \n8  2017-01-30 03:16:49       0      0     0   NaN  ...               0   \n9  2011-09-19 14:57:04       1      0     0   NaN  ...               0   \n\n   compliment_profile  compliment_cute  compliment_list  compliment_note  \\\n0                   0                0                0                0   \n1                   0                0                0                0   \n2                   0                0                0                0   \n3                   0                0                0                0   \n4                   0                0                0                0   \n5                   0                0                0                0   \n6                   0                0                0                1   \n7                   0                0                0                0   \n8                   0                0                0                0   \n9                   0                0                0                0   \n\n   compliment_plain  compliment_cool  compliment_funny  compliment_writer  \\\n0                 0                0                 0                  0   \n1                 0                0                 0                  0   \n2                 0                0                 0                  0   \n3                 0                0                 0                  0   \n4                 0                0                 0                  0   \n5                 1                0                 0                  0   \n6                 0                0                 0                  0   \n7                 0                0                 0                  0   \n8                 0                0                 0                  0   \n9                 0                0                 0                  0   \n\n   compliment_photos  \n0                  0  \n1                  0  \n2                  0  \n3                  0  \n4                  0  \n5                  0  \n6                  0  \n7                  0  \n8                  0  \n9                  0  \n\n[10 rows x 24 columns]",
      "text/html": "<div>\n<style scoped>\n    .dataframe tbody tr th:only-of-type {\n        vertical-align: middle;\n    }\n\n    .dataframe tbody tr th {\n        vertical-align: top;\n    }\n\n    .dataframe thead th {\n        text-align: right;\n    }\n</style>\n<table border=\"1\" class=\"dataframe\">\n  <thead>\n    <tr style=\"text-align: right;\">\n      <th></th>\n      <th>Unnamed: 0</th>\n      <th>index</th>\n      <th>user_id</th>\n      <th>name</th>\n      <th>review_count</th>\n      <th>yelping_since</th>\n      <th>useful</th>\n      <th>funny</th>\n      <th>cool</th>\n      <th>elite</th>\n      <th>...</th>\n      <th>compliment_more</th>\n      <th>compliment_profile</th>\n      <th>compliment_cute</th>\n      <th>compliment_list</th>\n      <th>compliment_note</th>\n      <th>compliment_plain</th>\n      <th>compliment_cool</th>\n      <th>compliment_funny</th>\n      <th>compliment_writer</th>\n      <th>compliment_photos</th>\n    </tr>\n  </thead>\n  <tbody>\n    <tr>\n      <th>0</th>\n      <td>0</td>\n      <td>1887897</td>\n      <td>qTMpKPwjtSDJMD-0sdd_Ag</td>\n      <td>Russ</td>\n      <td>2</td>\n      <td>2013-01-31 00:30:02</td>\n      <td>0</td>\n      <td>0</td>\n      <td>0</td>\n      <td>NaN</td>\n      <td>...</td>\n      <td>0</td>\n      <td>0</td>\n      <td>0</td>\n      <td>0</td>\n      <td>0</td>\n      <td>0</td>\n      <td>0</td>\n      <td>0</td>\n      <td>0</td>\n      <td>0</td>\n    </tr>\n    <tr>\n      <th>1</th>\n      <td>1</td>\n      <td>1887898</td>\n      <td>yy_AsCP84HLEa4f69QcEMg</td>\n      <td>Ashleigh</td>\n      <td>1</td>\n      <td>2019-01-07 02:39:12</td>\n      <td>0</td>\n      <td>0</td>\n      <td>0</td>\n      <td>NaN</td>\n      <td>...</td>\n      <td>0</td>\n      <td>0</td>\n      <td>0</td>\n      <td>0</td>\n      <td>0</td>\n      <td>0</td>\n      <td>0</td>\n      <td>0</td>\n      <td>0</td>\n      <td>0</td>\n    </tr>\n    <tr>\n      <th>2</th>\n      <td>2</td>\n      <td>1887899</td>\n      <td>-sjaSX7O8Xq6FV_djSWtag</td>\n      <td>Joana</td>\n      <td>18</td>\n      <td>2013-11-25 14:27:36</td>\n      <td>11</td>\n      <td>6</td>\n      <td>7</td>\n      <td>NaN</td>\n      <td>...</td>\n      <td>0</td>\n      <td>0</td>\n      <td>0</td>\n      <td>0</td>\n      <td>0</td>\n      <td>0</td>\n      <td>0</td>\n      <td>0</td>\n      <td>0</td>\n      <td>0</td>\n    </tr>\n    <tr>\n      <th>3</th>\n      <td>3</td>\n      <td>1887900</td>\n      <td>BR6WprijmGNbAI6CAaGgYQ</td>\n      <td>diane</td>\n      <td>3</td>\n      <td>2011-09-26 03:14:14</td>\n      <td>0</td>\n      <td>0</td>\n      <td>0</td>\n      <td>NaN</td>\n      <td>...</td>\n      <td>0</td>\n      <td>0</td>\n      <td>0</td>\n      <td>0</td>\n      <td>0</td>\n      <td>0</td>\n      <td>0</td>\n      <td>0</td>\n      <td>0</td>\n      <td>0</td>\n    </tr>\n    <tr>\n      <th>4</th>\n      <td>4</td>\n      <td>1887901</td>\n      <td>SNhQvkBwMHJKSIjzV8-73w</td>\n      <td>Vanessa</td>\n      <td>1</td>\n      <td>2017-11-15 15:35:36</td>\n      <td>2</td>\n      <td>0</td>\n      <td>0</td>\n      <td>NaN</td>\n      <td>...</td>\n      <td>0</td>\n      <td>0</td>\n      <td>0</td>\n      <td>0</td>\n      <td>0</td>\n      <td>0</td>\n      <td>0</td>\n      <td>0</td>\n      <td>0</td>\n      <td>0</td>\n    </tr>\n    <tr>\n      <th>5</th>\n      <td>5</td>\n      <td>1887902</td>\n      <td>HiPUJrclH4PibcIqwoakww</td>\n      <td>Gabrielle</td>\n      <td>16</td>\n      <td>2016-06-12 00:08:20</td>\n      <td>5</td>\n      <td>1</td>\n      <td>2</td>\n      <td>NaN</td>\n      <td>...</td>\n      <td>0</td>\n      <td>0</td>\n      <td>0</td>\n      <td>0</td>\n      <td>0</td>\n      <td>1</td>\n      <td>0</td>\n      <td>0</td>\n      <td>0</td>\n      <td>0</td>\n    </tr>\n    <tr>\n      <th>6</th>\n      <td>6</td>\n      <td>1887903</td>\n      <td>2vDN6H1BHXWZIo6aJCSETA</td>\n      <td>Ann</td>\n      <td>2</td>\n      <td>2011-11-16 23:06:47</td>\n      <td>0</td>\n      <td>0</td>\n      <td>0</td>\n      <td>NaN</td>\n      <td>...</td>\n      <td>0</td>\n      <td>0</td>\n      <td>0</td>\n      <td>0</td>\n      <td>1</td>\n      <td>0</td>\n      <td>0</td>\n      <td>0</td>\n      <td>0</td>\n      <td>0</td>\n    </tr>\n    <tr>\n      <th>7</th>\n      <td>7</td>\n      <td>1887904</td>\n      <td>n88a8mWrSpVS55pTSjNT-A</td>\n      <td>Sharie</td>\n      <td>1</td>\n      <td>2018-08-19 13:31:18</td>\n      <td>1</td>\n      <td>0</td>\n      <td>0</td>\n      <td>NaN</td>\n      <td>...</td>\n      <td>0</td>\n      <td>0</td>\n      <td>0</td>\n      <td>0</td>\n      <td>0</td>\n      <td>0</td>\n      <td>0</td>\n      <td>0</td>\n      <td>0</td>\n      <td>0</td>\n    </tr>\n    <tr>\n      <th>8</th>\n      <td>8</td>\n      <td>1887905</td>\n      <td>UKiJxDwci6UctxjSPr9gDA</td>\n      <td>Sarah</td>\n      <td>1</td>\n      <td>2017-01-30 03:16:49</td>\n      <td>0</td>\n      <td>0</td>\n      <td>0</td>\n      <td>NaN</td>\n      <td>...</td>\n      <td>0</td>\n      <td>0</td>\n      <td>0</td>\n      <td>0</td>\n      <td>0</td>\n      <td>0</td>\n      <td>0</td>\n      <td>0</td>\n      <td>0</td>\n      <td>0</td>\n    </tr>\n    <tr>\n      <th>9</th>\n      <td>9</td>\n      <td>1887906</td>\n      <td>kyMIAJ9_DOjJhUUUqW2o-g</td>\n      <td>Suzanne</td>\n      <td>2</td>\n      <td>2011-09-19 14:57:04</td>\n      <td>1</td>\n      <td>0</td>\n      <td>0</td>\n      <td>NaN</td>\n      <td>...</td>\n      <td>0</td>\n      <td>0</td>\n      <td>0</td>\n      <td>0</td>\n      <td>0</td>\n      <td>0</td>\n      <td>0</td>\n      <td>0</td>\n      <td>0</td>\n      <td>0</td>\n    </tr>\n  </tbody>\n</table>\n<p>10 rows × 24 columns</p>\n</div>"
     },
     "execution_count": 6,
     "metadata": {},
     "output_type": "execute_result"
    }
   ],
   "source": [
    "df_user.head(10)"
   ],
   "metadata": {
    "collapsed": false,
    "pycharm": {
     "name": "#%%\n"
    }
   }
  },
  {
   "cell_type": "markdown",
   "source": [],
   "metadata": {
    "collapsed": false
   }
  },
  {
   "cell_type": "code",
   "execution_count": null,
   "outputs": [],
   "source": [],
   "metadata": {
    "collapsed": false,
    "pycharm": {
     "name": "#%%\n"
    }
   }
  }
 ],
 "metadata": {
  "kernelspec": {
   "display_name": "Python 3",
   "language": "python",
   "name": "python3"
  },
  "language_info": {
   "codemirror_mode": {
    "name": "ipython",
    "version": 2
   },
   "file_extension": ".py",
   "mimetype": "text/x-python",
   "name": "python",
   "nbconvert_exporter": "python",
   "pygments_lexer": "ipython2",
   "version": "2.7.6"
  }
 },
 "nbformat": 4,
 "nbformat_minor": 0
}